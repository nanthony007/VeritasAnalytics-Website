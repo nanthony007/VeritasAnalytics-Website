{
 "cells": [
  {
   "cell_type": "code",
   "execution_count": 142,
   "metadata": {},
   "outputs": [],
   "source": [
    "import numpy as np\n",
    "import pandas as pd\n",
    "import matplotlib.pyplot as plt\n",
    "import os\n",
    "import django\n",
    "os.environ.setdefault(\"DJANGO_SETTINGS_MODULE\", \"mysite.settings\")\n",
    "django.setup()\n",
    "from django.db.models import Avg, Func\n",
    "from vws_main.models import FS_Wrestler, FS_Match\n",
    "\n",
    "class Round(Func):\n",
    "  function = 'ROUND'\n",
    "  arity = 2"
   ]
  },
  {
   "cell_type": "code",
   "execution_count": 78,
   "metadata": {},
   "outputs": [
    {
     "data": {
      "text/plain": [
       "<QuerySet [<FS_Match: FS_Match object (ff66)>, <FS_Match: FS_Match object (4477)>, <FS_Match: FS_Match object (HOMP)>, <FS_Match: FS_Match object (JG36)>, <FS_Match: FS_Match object (MC32*)>]>"
      ]
     },
     "execution_count": 78,
     "metadata": {},
     "output_type": "execute_result"
    }
   ],
   "source": [
    "yianni = FS_Wrestler.objects.get(name__startswith='Yianni')\n",
    "yianni_matches = yianni.focus_wrestler2.all()\n",
    "yianni_matches"
   ]
  },
  {
   "cell_type": "code",
   "execution_count": 95,
   "metadata": {},
   "outputs": [
    {
     "name": "stdout",
     "output_type": "stream",
     "text": [
      "['WinD', 'WinTF', 'WinTF']\n",
      "[2, 1, 0]\n"
     ]
    },
    {
     "ename": "TypeError",
     "evalue": "cannot perform reduce with flexible type",
     "output_type": "error",
     "traceback": [
      "\u001b[1;31m---------------------------------------------------------------------------\u001b[0m",
      "\u001b[1;31mTypeError\u001b[0m                                 Traceback (most recent call last)",
      "\u001b[1;32m<ipython-input-95-aa707b12c8db>\u001b[0m in \u001b[0;36m<module>\u001b[1;34m\u001b[0m\n\u001b[0;32m      8\u001b[0m \u001b[0mprint\u001b[0m\u001b[1;33m(\u001b[0m\u001b[0my_results\u001b[0m\u001b[1;33m)\u001b[0m\u001b[1;33m\u001b[0m\u001b[0m\n\u001b[0;32m      9\u001b[0m \u001b[0mprint\u001b[0m\u001b[1;33m(\u001b[0m\u001b[0my_hic2\u001b[0m\u001b[1;33m)\u001b[0m\u001b[1;33m\u001b[0m\u001b[0m\n\u001b[1;32m---> 10\u001b[1;33m \u001b[0mprint\u001b[0m\u001b[1;33m(\u001b[0m\u001b[0mnp\u001b[0m\u001b[1;33m.\u001b[0m\u001b[0mcorrcoef\u001b[0m\u001b[1;33m(\u001b[0m\u001b[0my_results\u001b[0m\u001b[1;33m,\u001b[0m \u001b[0my_hic2\u001b[0m\u001b[1;33m)\u001b[0m\u001b[1;33m)\u001b[0m\u001b[1;33m\u001b[0m\u001b[0m\n\u001b[0m",
      "\u001b[1;32mc:\\users\\hotrod\\appdata\\local\\programs\\python\\python37-32\\lib\\site-packages\\numpy\\lib\\function_base.py\u001b[0m in \u001b[0;36mcorrcoef\u001b[1;34m(x, y, rowvar, bias, ddof)\u001b[0m\n\u001b[0;32m   2390\u001b[0m         warnings.warn('bias and ddof have no effect and are deprecated',\n\u001b[0;32m   2391\u001b[0m                       DeprecationWarning, stacklevel=2)\n\u001b[1;32m-> 2392\u001b[1;33m     \u001b[0mc\u001b[0m \u001b[1;33m=\u001b[0m \u001b[0mcov\u001b[0m\u001b[1;33m(\u001b[0m\u001b[0mx\u001b[0m\u001b[1;33m,\u001b[0m \u001b[0my\u001b[0m\u001b[1;33m,\u001b[0m \u001b[0mrowvar\u001b[0m\u001b[1;33m)\u001b[0m\u001b[1;33m\u001b[0m\u001b[0m\n\u001b[0m\u001b[0;32m   2393\u001b[0m     \u001b[1;32mtry\u001b[0m\u001b[1;33m:\u001b[0m\u001b[1;33m\u001b[0m\u001b[0m\n\u001b[0;32m   2394\u001b[0m         \u001b[0md\u001b[0m \u001b[1;33m=\u001b[0m \u001b[0mdiag\u001b[0m\u001b[1;33m(\u001b[0m\u001b[0mc\u001b[0m\u001b[1;33m)\u001b[0m\u001b[1;33m\u001b[0m\u001b[0m\n",
      "\u001b[1;32mc:\\users\\hotrod\\appdata\\local\\programs\\python\\python37-32\\lib\\site-packages\\numpy\\lib\\function_base.py\u001b[0m in \u001b[0;36mcov\u001b[1;34m(m, y, rowvar, bias, ddof, fweights, aweights)\u001b[0m\n\u001b[0;32m   2300\u001b[0m             \u001b[0mw\u001b[0m \u001b[1;33m*=\u001b[0m \u001b[0maweights\u001b[0m\u001b[1;33m\u001b[0m\u001b[0m\n\u001b[0;32m   2301\u001b[0m \u001b[1;33m\u001b[0m\u001b[0m\n\u001b[1;32m-> 2302\u001b[1;33m     \u001b[0mavg\u001b[0m\u001b[1;33m,\u001b[0m \u001b[0mw_sum\u001b[0m \u001b[1;33m=\u001b[0m \u001b[0maverage\u001b[0m\u001b[1;33m(\u001b[0m\u001b[0mX\u001b[0m\u001b[1;33m,\u001b[0m \u001b[0maxis\u001b[0m\u001b[1;33m=\u001b[0m\u001b[1;36m1\u001b[0m\u001b[1;33m,\u001b[0m \u001b[0mweights\u001b[0m\u001b[1;33m=\u001b[0m\u001b[0mw\u001b[0m\u001b[1;33m,\u001b[0m \u001b[0mreturned\u001b[0m\u001b[1;33m=\u001b[0m\u001b[1;32mTrue\u001b[0m\u001b[1;33m)\u001b[0m\u001b[1;33m\u001b[0m\u001b[0m\n\u001b[0m\u001b[0;32m   2303\u001b[0m     \u001b[0mw_sum\u001b[0m \u001b[1;33m=\u001b[0m \u001b[0mw_sum\u001b[0m\u001b[1;33m[\u001b[0m\u001b[1;36m0\u001b[0m\u001b[1;33m]\u001b[0m\u001b[1;33m\u001b[0m\u001b[0m\n\u001b[0;32m   2304\u001b[0m \u001b[1;33m\u001b[0m\u001b[0m\n",
      "\u001b[1;32mc:\\users\\hotrod\\appdata\\local\\programs\\python\\python37-32\\lib\\site-packages\\numpy\\lib\\function_base.py\u001b[0m in \u001b[0;36maverage\u001b[1;34m(a, axis, weights, returned)\u001b[0m\n\u001b[0;32m    354\u001b[0m \u001b[1;33m\u001b[0m\u001b[0m\n\u001b[0;32m    355\u001b[0m     \u001b[1;32mif\u001b[0m \u001b[0mweights\u001b[0m \u001b[1;32mis\u001b[0m \u001b[1;32mNone\u001b[0m\u001b[1;33m:\u001b[0m\u001b[1;33m\u001b[0m\u001b[0m\n\u001b[1;32m--> 356\u001b[1;33m         \u001b[0mavg\u001b[0m \u001b[1;33m=\u001b[0m \u001b[0ma\u001b[0m\u001b[1;33m.\u001b[0m\u001b[0mmean\u001b[0m\u001b[1;33m(\u001b[0m\u001b[0maxis\u001b[0m\u001b[1;33m)\u001b[0m\u001b[1;33m\u001b[0m\u001b[0m\n\u001b[0m\u001b[0;32m    357\u001b[0m         \u001b[0mscl\u001b[0m \u001b[1;33m=\u001b[0m \u001b[0mavg\u001b[0m\u001b[1;33m.\u001b[0m\u001b[0mdtype\u001b[0m\u001b[1;33m.\u001b[0m\u001b[0mtype\u001b[0m\u001b[1;33m(\u001b[0m\u001b[0ma\u001b[0m\u001b[1;33m.\u001b[0m\u001b[0msize\u001b[0m\u001b[1;33m/\u001b[0m\u001b[0mavg\u001b[0m\u001b[1;33m.\u001b[0m\u001b[0msize\u001b[0m\u001b[1;33m)\u001b[0m\u001b[1;33m\u001b[0m\u001b[0m\n\u001b[0;32m    358\u001b[0m     \u001b[1;32melse\u001b[0m\u001b[1;33m:\u001b[0m\u001b[1;33m\u001b[0m\u001b[0m\n",
      "\u001b[1;32mc:\\users\\hotrod\\appdata\\local\\programs\\python\\python37-32\\lib\\site-packages\\numpy\\core\\_methods.py\u001b[0m in \u001b[0;36m_mean\u001b[1;34m(a, axis, dtype, out, keepdims)\u001b[0m\n\u001b[0;32m     73\u001b[0m             \u001b[0mis_float16_result\u001b[0m \u001b[1;33m=\u001b[0m \u001b[1;32mTrue\u001b[0m\u001b[1;33m\u001b[0m\u001b[0m\n\u001b[0;32m     74\u001b[0m \u001b[1;33m\u001b[0m\u001b[0m\n\u001b[1;32m---> 75\u001b[1;33m     \u001b[0mret\u001b[0m \u001b[1;33m=\u001b[0m \u001b[0mumr_sum\u001b[0m\u001b[1;33m(\u001b[0m\u001b[0marr\u001b[0m\u001b[1;33m,\u001b[0m \u001b[0maxis\u001b[0m\u001b[1;33m,\u001b[0m \u001b[0mdtype\u001b[0m\u001b[1;33m,\u001b[0m \u001b[0mout\u001b[0m\u001b[1;33m,\u001b[0m \u001b[0mkeepdims\u001b[0m\u001b[1;33m)\u001b[0m\u001b[1;33m\u001b[0m\u001b[0m\n\u001b[0m\u001b[0;32m     76\u001b[0m     \u001b[1;32mif\u001b[0m \u001b[0misinstance\u001b[0m\u001b[1;33m(\u001b[0m\u001b[0mret\u001b[0m\u001b[1;33m,\u001b[0m \u001b[0mmu\u001b[0m\u001b[1;33m.\u001b[0m\u001b[0mndarray\u001b[0m\u001b[1;33m)\u001b[0m\u001b[1;33m:\u001b[0m\u001b[1;33m\u001b[0m\u001b[0m\n\u001b[0;32m     77\u001b[0m         ret = um.true_divide(\n",
      "\u001b[1;31mTypeError\u001b[0m: cannot perform reduce with flexible type"
     ]
    }
   ],
   "source": [
    "matches = FS_Match.objects.filter(focus__name__contains='Yianni')\n",
    "y_results = list(FS_Match.objects.filter(focus__name__contains='Yianni').values_list('result', flat=True))\n",
    "y_hic2 = list(FS_Match.objects.filter(focus__name__contains='Yianni').values_list('hic2', flat=True))\n",
    "y_results.pop(2)\n",
    "y_results.pop(2)\n",
    "y_hic2.pop(2)\n",
    "y_hic2.pop(2)\n",
    "print(y_results)\n",
    "print(y_hic2)\n",
    "print(np.corrcoef(y_results, y_hic2))"
   ]
  },
  {
   "cell_type": "code",
   "execution_count": 63,
   "metadata": {},
   "outputs": [
    {
     "name": "stdout",
     "output_type": "stream",
     "text": [
      "WinD\n",
      "WinTF\n",
      "None\n",
      "None\n",
      "WinTF\n"
     ]
    }
   ],
   "source": [
    "for match in matches:\n",
    "    print(match.result)"
   ]
  },
  {
   "cell_type": "code",
   "execution_count": 62,
   "metadata": {},
   "outputs": [
    {
     "name": "stdout",
     "output_type": "stream",
     "text": [
      "{'avg_hia': 2.67}\n",
      "{'hia__avg': 2.6666666666666665}\n"
     ]
    }
   ],
   "source": [
    "zz = matches.aggregate(avg_hia=Round(Avg('hia'), 2))\n",
    "yy = matches.aggregate(Avg('hia'))\n",
    "print(zz)\n",
    "print(yy)"
   ]
  },
  {
   "cell_type": "code",
   "execution_count": 107,
   "metadata": {},
   "outputs": [],
   "source": [
    "# numeric result calculator, provides string version of result for display in tables\n",
    "result_numeric = pd.Series()\n",
    "def num_result(series):\n",
    "    for i in series:\n",
    "        if i == 'WinF':\n",
    "            result_numeric.append(pd.Series(1.75), ignore_index=True)\n",
    "        elif i == 'WinTF':\n",
    "            result_numeric.append(pd.Series(1.50), ignore_index=True)\n",
    "        elif i == 'WinD':\n",
    "            result_numeric.append(pd.Series(1.25), ignore_index=True)\n",
    "        elif i == 'LossD':\n",
    "            result_numeric.append(pd.Series(0.75), ignore_index=True)\n",
    "        elif i == 'LossTF':\n",
    "            result_numeric.append(pd.Series(0.50), ignore_index=True)\n",
    "        elif i == 'LossF':\n",
    "            result_numeric.append(pd.Series(0.25), ignore_index=True)\n",
    "    return result_numeric"
   ]
  },
  {
   "cell_type": "code",
   "execution_count": 154,
   "metadata": {},
   "outputs": [
    {
     "name": "stdout",
     "output_type": "stream",
     "text": [
      "Top Absolute Correlations\n",
      "oGBc  oGBrate    1.0\n",
      "oGBa  oGBrate    1.0\n",
      "GBa   GBrate     1.0\n",
      "dtype: float64\n",
      "\n",
      "Low Absolute Correlations\n",
      "Weight  Result       0.0\n",
      "Result  oRecovery    0.0\n",
      "        oTurn        0.0\n",
      "dtype: float64\n",
      "\n",
      "\n",
      "VS         0.273343\n",
      "Gut        0.265606\n",
      "oHIrate    0.261069\n",
      "oHIc2      0.195615\n",
      "GBrate     0.167365\n",
      "Name: Result, dtype: float64\n",
      "oVS       -0.273343\n",
      "oGut      -0.265606\n",
      "HIrate    -0.261069\n",
      "HIc2      -0.195615\n",
      "oGBrate   -0.167365\n",
      "Name: Result, dtype: float64\n"
     ]
    },
    {
     "data": {
      "text/plain": [
       "[<matplotlib.lines.Line2D at 0x60c8830>]"
      ]
     },
     "execution_count": 154,
     "metadata": {},
     "output_type": "execute_result"
    },
    {
     "data": {
      "image/png": "[encoded data removed]",
      "text/plain": [
       "<Figure size 432x288 with 1 Axes>"
      ]
     },
     "metadata": {
      "needs_background": "light"
     },
     "output_type": "display_data"
    }
   ],
   "source": [
    "df = pd.read_csv('collection\\stats\\matchdata.csv')\n",
    "df.Result = df.Result.replace(to_replace='WinF', value=1.75)\n",
    "df.Result = df.Result.replace(to_replace='WinTF', value=1.50)\n",
    "df.Result = df.Result.replace(to_replace='WinD', value=1.25)\n",
    "df.Result = df.Result.replace(to_replace='LossD', value=0.75)\n",
    "df.Result = df.Result.replace(to_replace='LossTF', value=0.50)\n",
    "df.Result = df.Result.replace(to_replace='LossF', value=0.25)\n",
    "\n",
    "df = df.drop(columns=['Date', 'Focus', 'Opponent', 'FocusTeam', 'OppTeam',\n",
    "                    'Time','MatchID', 'MoV'])\n",
    "def get_redundant_pairs(df):\n",
    "    '''Get diagonal and lower triangular pairs of correlation matrix'''\n",
    "    pairs_to_drop = set()\n",
    "    cols = df.columns\n",
    "    for i in range(0, df.shape[1]):\n",
    "        for j in range(0, i+1):\n",
    "            pairs_to_drop.add((cols[i], cols[j]))\n",
    "    return pairs_to_drop\n",
    "\n",
    "def get_top_abs_correlations(df, n=3):\n",
    "    au_corr = df.corr().abs().unstack()\n",
    "    labels_to_drop = get_redundant_pairs(df)\n",
    "    au_corr = au_corr.drop(labels=labels_to_drop).sort_values(ascending=False)\n",
    "    return au_corr[0:n]\n",
    "\n",
    "def get_low_abs_correlations(df, n=3):\n",
    "    au_corr = df.corr().abs().unstack()\n",
    "    labels_to_drop = get_redundant_pairs(df)\n",
    "    au_corr = au_corr.drop(labels=labels_to_drop).sort_values(ascending=True)\n",
    "    return au_corr[0:n]\n",
    "\n",
    "print(\"Top Absolute Correlations\")\n",
    "print(get_top_abs_correlations(df))\n",
    "print()\n",
    "print(\"Low Absolute Correlations\")\n",
    "print(get_low_abs_correlations(df))\n",
    "\n",
    "print()\n",
    "print()\n",
    "correlations = df.corr()['Result']\n",
    "correlations.pop('Result')\n",
    "sorted_corrs_top = correlations.sort_values(ascending=False)[:5]\n",
    "sorted_corrs_bottom = correlations.sort_values(ascending=True)[:5]\n",
    "print(sorted_corrs_top)\n",
    "print(sorted_corrs_bottom)\n",
    "top=1\n",
    "bottom=-1\n",
    "plt.ylim((bottom, top))\n",
    "plt.plot(sorted_corrs_top)\n",
    "plt.plot(sorted_corrs_bottom)"
   ]
  },
  {
   "cell_type": "code",
   "execution_count": null,
   "metadata": {},
   "outputs": [],
   "source": []
  }
 ],
 "metadata": {
  "kernelspec": {
   "display_name": "venv",
   "language": "python",
   "name": "venv"
  },
  "language_info": {
   "codemirror_mode": {
    "name": "ipython",
    "version": 3
   },
   "file_extension": ".py",
   "mimetype": "text/x-python",
   "name": "python",
   "nbconvert_exporter": "python",
   "pygments_lexer": "ipython3",
   "version": "3.7.0"
  }
 },
 "nbformat": 4,
 "nbformat_minor": 2
}
