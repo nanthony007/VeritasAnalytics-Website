{
 "cells": [
  {
   "cell_type": "raw",
   "metadata": {},
   "source": [
    "<link rel=\"stylesheet\" href=\"https://cdn.jupyter.org/notebook/5.1.0/style/style.min.css\">"
   ]
  },
  {
   "cell_type": "markdown",
   "metadata": {
    "hide_input": false
   },
   "source": [
    "!!! NEED LINKS TO WEBSITE AND SEABORN THEME/PALLATTE !!!"
   ]
  },
  {
   "cell_type": "markdown",
   "metadata": {},
   "source": [
    "# US Open 2019 Analysis\n",
    "May 17, 2019 "
   ]
  },
  {
   "cell_type": "markdown",
   "metadata": {},
   "source": [
    "This analysis aims to generate as comprehensive as possible summary of the event.  Feel free to skip around and only view parts of the report that are interesting to you.  Visualizations are presented in addtion to tables and narrations.  "
   ]
  },
  {
   "cell_type": "markdown",
   "metadata": {
    "toc": true
   },
   "source": [
    "<h1>Table of Contents<span class=\"tocSkip\"></span></h1>\n",
    "<div class=\"toc\"><ul class=\"toc-item\"><li><span><a href=\"#Individual-Analysis\" data-toc-modified-id=\"Individual-Analysis-1\">Individual Analysis</a></span><ul class=\"toc-item\"><li><span><a href=\"#Top-Perfomers\" data-toc-modified-id=\"Top-Perfomers-1.1\">Top Perfomers</a></span></li><li><span><a href=\"#Bottom-Performers\" data-toc-modified-id=\"Bottom-Performers-1.2\">Bottom Performers</a></span></li><li><span><a href=\"#Top-Individual-Match-Performance\" data-toc-modified-id=\"Top-Individual-Match-Performance-1.3\">Top Individual Match Performance</a></span></li></ul></li><li><span><a href=\"#Weight-Class-Analysis\" data-toc-modified-id=\"Weight-Class-Analysis-2\">Weight Class Analysis</a></span><ul class=\"toc-item\"><li><span><a href=\"#57-kilos-69-matches\" data-toc-modified-id=\"57-kilos-69-matches-2.1\">57 kilos <sup>69 matches</sup></a></span><ul class=\"toc-item\"><li><span><a href=\"#Placements\" data-toc-modified-id=\"Placements-2.1.1\">Placements</a></span></li><li><span><a href=\"#Distributions\" data-toc-modified-id=\"Distributions-2.1.2\">Distributions</a></span></li><li><span><a href=\"#Trends\" data-toc-modified-id=\"Trends-2.1.3\">Trends</a></span></li></ul></li><li><span><a href=\"#61-kilos-61-matches\" data-toc-modified-id=\"61-kilos-61-matches-2.2\">61 kilos <sup>61 matches</sup></a></span><ul class=\"toc-item\"><li><span><a href=\"#Placements\" data-toc-modified-id=\"Placements-2.2.1\">Placements</a></span></li><li><span><a href=\"#Distributions\" data-toc-modified-id=\"Distributions-2.2.2\">Distributions</a></span></li><li><span><a href=\"#Trends\" data-toc-modified-id=\"Trends-2.2.3\">Trends</a></span></li></ul></li><li><span><a href=\"#65-kilos-92-matches\" data-toc-modified-id=\"65-kilos-92-matches-2.3\">65 kilos <sup>92 matches</sup></a></span><ul class=\"toc-item\"><li><span><a href=\"#Placements\" data-toc-modified-id=\"Placements-2.3.1\">Placements</a></span></li><li><span><a href=\"#Distributions\" data-toc-modified-id=\"Distributions-2.3.2\">Distributions</a></span></li><li><span><a href=\"#Trends\" data-toc-modified-id=\"Trends-2.3.3\">Trends</a></span></li></ul></li><li><span><a href=\"#70-kilos-96-matches\" data-toc-modified-id=\"70-kilos-96-matches-2.4\">70 kilos <sup>96 matches</sup></a></span><ul class=\"toc-item\"><li><span><a href=\"#Placements\" data-toc-modified-id=\"Placements-2.4.1\">Placements</a></span></li><li><span><a href=\"#Distributions\" data-toc-modified-id=\"Distributions-2.4.2\">Distributions</a></span></li><li><span><a href=\"#Trends\" data-toc-modified-id=\"Trends-2.4.3\">Trends</a></span></li></ul></li><li><span><a href=\"#74-kilos-69-matches\" data-toc-modified-id=\"74-kilos-69-matches-2.5\">74 kilos <sup>69 matches</sup></a></span><ul class=\"toc-item\"><li><span><a href=\"#Placements\" data-toc-modified-id=\"Placements-2.5.1\">Placements</a></span></li><li><span><a href=\"#Distributions\" data-toc-modified-id=\"Distributions-2.5.2\">Distributions</a></span></li><li><span><a href=\"#Trends\" data-toc-modified-id=\"Trends-2.5.3\">Trends</a></span></li></ul></li><li><span><a href=\"#79-kilos-69-matches\" data-toc-modified-id=\"79-kilos-69-matches-2.6\">79 kilos <sup>69 matches</sup></a></span><ul class=\"toc-item\"><li><span><a href=\"#Placements\" data-toc-modified-id=\"Placements-2.6.1\">Placements</a></span></li><li><span><a href=\"#Distributions\" data-toc-modified-id=\"Distributions-2.6.2\">Distributions</a></span></li><li><span><a href=\"#Trends\" data-toc-modified-id=\"Trends-2.6.3\">Trends</a></span></li></ul></li><li><span><a href=\"#86-kilos-69-matches\" data-toc-modified-id=\"86-kilos-69-matches-2.7\">86 kilos <sup>69 matches</sup></a></span><ul class=\"toc-item\"><li><span><a href=\"#Placements\" data-toc-modified-id=\"Placements-2.7.1\">Placements</a></span></li><li><span><a href=\"#Distributions\" data-toc-modified-id=\"Distributions-2.7.2\">Distributions</a></span></li><li><span><a href=\"#Trends\" data-toc-modified-id=\"Trends-2.7.3\">Trends</a></span></li></ul></li><li><span><a href=\"#92-kilos-69-matches\" data-toc-modified-id=\"92-kilos-69-matches-2.8\">92 kilos <sup>69 matches</sup></a></span><ul class=\"toc-item\"><li><span><a href=\"#Placements\" data-toc-modified-id=\"Placements-2.8.1\">Placements</a></span></li><li><span><a href=\"#Distributions\" data-toc-modified-id=\"Distributions-2.8.2\">Distributions</a></span></li><li><span><a href=\"#Trends\" data-toc-modified-id=\"Trends-2.8.3\">Trends</a></span></li></ul></li><li><span><a href=\"#97-kilos-69-matches\" data-toc-modified-id=\"97-kilos-69-matches-2.9\">97 kilos <sup>69 matches</sup></a></span><ul class=\"toc-item\"><li><span><a href=\"#Placements\" data-toc-modified-id=\"Placements-2.9.1\">Placements</a></span></li><li><span><a href=\"#Distributions\" data-toc-modified-id=\"Distributions-2.9.2\">Distributions</a></span></li><li><span><a href=\"#Trends\" data-toc-modified-id=\"Trends-2.9.3\">Trends</a></span></li></ul></li><li><span><a href=\"#125-kilos-69-matches\" data-toc-modified-id=\"125-kilos-69-matches-2.10\">125 kilos <sup>69 matches</sup></a></span><ul class=\"toc-item\"><li><span><a href=\"#Placements\" data-toc-modified-id=\"Placements-2.10.1\">Placements</a></span></li><li><span><a href=\"#Distributions\" data-toc-modified-id=\"Distributions-2.10.2\">Distributions</a></span></li><li><span><a href=\"#Trends\" data-toc-modified-id=\"Trends-2.10.3\">Trends</a></span></li></ul></li><li><span><a href=\"#Comparison\" data-toc-modified-id=\"Comparison-2.11\">Comparison</a></span></li></ul></li><li><span><a href=\"#Madness-Matches\" data-toc-modified-id=\"Madness-Matches-3\">Madness Matches</a></span><ul class=\"toc-item\"><li><span><a href=\"#Match-OEJV-(Jesse-Vasquez-vs-Brandon-Wright)\" data-toc-modified-id=\"Match-OEJV-(Jesse-Vasquez-vs-Brandon-Wright)-3.1\">Match OEJV (Jesse Vasquez vs Brandon Wright)</a></span></li><li><span><a href=\"#Match-QCY3-(Renaldo-Rodriguez-Spencer-vs-James-Steerman)\" data-toc-modified-id=\"Match-QCY3-(Renaldo-Rodriguez-Spencer-vs-James-Steerman)-3.2\">Match QCY3 (Renaldo Rodriguez Spencer vs James Steerman)</a></span></li><li><span><a href=\"#Match-WYEF-(AJ-Jaffe-vs-Drew-Mandell)\" data-toc-modified-id=\"Match-WYEF-(AJ-Jaffe-vs-Drew-Mandell)-3.3\">Match WYEF (AJ Jaffe vs Drew Mandell)</a></span></li></ul></li><li><span><a href=\"#Veritas-Bites\" data-toc-modified-id=\"Veritas-Bites-4\">Veritas Bites</a></span><ul class=\"toc-item\"><li><span><a href=\"#Overall-Event\" data-toc-modified-id=\"Overall-Event-4.1\">Overall Event</a></span></li><li><span><a href=\"#High-Value\" data-toc-modified-id=\"High-Value-4.2\">High Value</a></span></li><li><span><a href=\"#Low-Value\" data-toc-modified-id=\"Low-Value-4.3\">Low Value</a></span></li></ul></li></ul></div>"
   ]
  },
  {
   "cell_type": "code",
   "execution_count": 1,
   "metadata": {
    "ExecuteTime": {
     "end_time": "2020-01-31T05:13:08.212326Z",
     "start_time": "2020-01-31T05:13:07.808460Z"
    },
    "hide_input": true
   },
   "outputs": [],
   "source": [
    "%matplotlib inline\n",
    "import pandas as pd\n",
    "import numpy as np\n",
    "import matplotlib.pyplot as plt\n",
    "import seaborn as sns\n",
    "import os\n",
    "import django"
   ]
  },
  {
   "cell_type": "code",
   "execution_count": 2,
   "metadata": {
    "ExecuteTime": {
     "end_time": "2020-01-31T05:13:08.243645Z",
     "start_time": "2020-01-31T05:13:08.220811Z"
    },
    "hide_input": true
   },
   "outputs": [],
   "source": [
    "# read df\n",
    "df = pd.read_csv('../stats/matchdata.csv')\n",
    "df = df[df.Duration != 0.0]\n",
    "\n",
    "# grouped by wrestler\n",
    "name_grouped = df.groupby('Focus')\n",
    "\n",
    "# grouped by weight\n",
    "weight_grouped = df.groupby('Weight')\n",
    "\n",
    "# filtered grouped by name (3 or more matches)\n",
    "filt_name_grouped = df[df.Focus.isin(df['Focus']\\\n",
    "                                     .value_counts()[df['Focus'].value_counts() >= 3].index)].groupby('Focus')"
   ]
  },
  {
   "cell_type": "markdown",
   "metadata": {},
   "source": [
    "## Individual Analysis"
   ]
  },
  {
   "cell_type": "markdown",
   "metadata": {},
   "source": [
    "Top/bottom performances are mostly ranked on Action per Minute (APM), Neutral Pace Factor(NPF), and Results.  Emphasis is placed on these metrics because APM and NPF have been shown to be highly correlated with long-term success (*r=0.92, r=0.88* respectively).  The following section focuses on wrestlers' performances across the entire tournament and requires three or more matches to be included.  Top performances for individual matches can be found further below. "
   ]
  },
  {
   "cell_type": "markdown",
   "metadata": {},
   "source": [
    "### Top Perfomers\n",
    "\n",
    "Top performers for this event are (in order): \n",
    "1. Justin Deangelis -- 70kgs\n",
    "2. Lavion Mayes -- 70kgs\n",
    "3. Yianni Diakomihalis -- 65kgs\n",
    "\n",
    "These wrestlers more than doubled the average APM for the event and competed for roughly 5 minutes (299 seconds) on average between them. They scored an average of 10.2 points and held their opponents to 5.8 for a 4.35 MoV.  Interestingly, Justin and Yianni both had negative Passive differentials, but maintained a 4.2 and 6.6 MoV compared to Lavion's 2.3 MoV average."
   ]
  },
  {
   "cell_type": "code",
   "execution_count": 3,
   "metadata": {
    "ExecuteTime": {
     "end_time": "2020-01-31T05:13:08.764084Z",
     "start_time": "2020-01-31T05:13:08.727769Z"
    },
    "scrolled": false
   },
   "outputs": [
    {
     "name": "stdout",
     "output_type": "stream",
     "text": [
      "Key perfomance metrics between all wrestlers and the top performers:\n"
     ]
    },
    {
     "data": {
      "text/html": [
       "<div>\n",
       "<style scoped>\n",
       "    .dataframe tbody tr th:only-of-type {\n",
       "        vertical-align: middle;\n",
       "    }\n",
       "\n",
       "    .dataframe tbody tr th {\n",
       "        vertical-align: top;\n",
       "    }\n",
       "\n",
       "    .dataframe thead th {\n",
       "        text-align: right;\n",
       "    }\n",
       "</style>\n",
       "<table border=\"1\" class=\"dataframe\">\n",
       "  <thead>\n",
       "    <tr style=\"text-align: right;\">\n",
       "      <th></th>\n",
       "      <th>All</th>\n",
       "      <th>Top</th>\n",
       "    </tr>\n",
       "  </thead>\n",
       "  <tbody>\n",
       "    <tr>\n",
       "      <th>APM</th>\n",
       "      <td>11.552341</td>\n",
       "      <td>22.200000</td>\n",
       "    </tr>\n",
       "    <tr>\n",
       "      <th>NPF</th>\n",
       "      <td>1.002481</td>\n",
       "      <td>1.212667</td>\n",
       "    </tr>\n",
       "    <tr>\n",
       "      <th>NumResult</th>\n",
       "      <td>0.911035</td>\n",
       "      <td>1.066667</td>\n",
       "    </tr>\n",
       "  </tbody>\n",
       "</table>\n",
       "</div>"
      ],
      "text/plain": [
       "                 All        Top\n",
       "APM        11.552341  22.200000\n",
       "NPF         1.002481   1.212667\n",
       "NumResult   0.911035   1.066667"
      ]
     },
     "metadata": {},
     "output_type": "display_data"
    },
    {
     "name": "stdout",
     "output_type": "stream",
     "text": [
      "Additional metrics for Top Performers:\n"
     ]
    },
    {
     "data": {
      "text/html": [
       "<div>\n",
       "<style scoped>\n",
       "    .dataframe tbody tr th:only-of-type {\n",
       "        vertical-align: middle;\n",
       "    }\n",
       "\n",
       "    .dataframe tbody tr th {\n",
       "        vertical-align: top;\n",
       "    }\n",
       "\n",
       "    .dataframe thead th {\n",
       "        text-align: right;\n",
       "    }\n",
       "</style>\n",
       "<table border=\"1\" class=\"dataframe\">\n",
       "  <thead>\n",
       "    <tr style=\"text-align: right;\">\n",
       "      <th></th>\n",
       "      <th>APM</th>\n",
       "      <th>NPF</th>\n",
       "      <th>NumResult</th>\n",
       "      <th>Duration</th>\n",
       "      <th>PassiveDiff</th>\n",
       "      <th>FocusPoints</th>\n",
       "      <th>OppPoints</th>\n",
       "      <th>MoV</th>\n",
       "    </tr>\n",
       "    <tr>\n",
       "      <th>Focus</th>\n",
       "      <th></th>\n",
       "      <th></th>\n",
       "      <th></th>\n",
       "      <th></th>\n",
       "      <th></th>\n",
       "      <th></th>\n",
       "      <th></th>\n",
       "      <th></th>\n",
       "    </tr>\n",
       "  </thead>\n",
       "  <tbody>\n",
       "    <tr>\n",
       "      <th>Justin Deangelis</th>\n",
       "      <td>23.0</td>\n",
       "      <td>1.296</td>\n",
       "      <td>1.18</td>\n",
       "      <td>269.0460</td>\n",
       "      <td>-0.60</td>\n",
       "      <td>10.00</td>\n",
       "      <td>5.8</td>\n",
       "      <td>4.20</td>\n",
       "    </tr>\n",
       "    <tr>\n",
       "      <th>Lavion Mayes</th>\n",
       "      <td>23.0</td>\n",
       "      <td>1.130</td>\n",
       "      <td>1.10</td>\n",
       "      <td>290.5375</td>\n",
       "      <td>0.25</td>\n",
       "      <td>10.75</td>\n",
       "      <td>8.5</td>\n",
       "      <td>2.25</td>\n",
       "    </tr>\n",
       "    <tr>\n",
       "      <th>Jesse Delgado</th>\n",
       "      <td>20.6</td>\n",
       "      <td>1.212</td>\n",
       "      <td>0.92</td>\n",
       "      <td>291.3860</td>\n",
       "      <td>0.00</td>\n",
       "      <td>11.20</td>\n",
       "      <td>11.0</td>\n",
       "      <td>0.20</td>\n",
       "    </tr>\n",
       "  </tbody>\n",
       "</table>\n",
       "</div>"
      ],
      "text/plain": [
       "                   APM    NPF  NumResult  Duration  PassiveDiff  FocusPoints  \\\n",
       "Focus                                                                          \n",
       "Justin Deangelis  23.0  1.296       1.18  269.0460        -0.60        10.00   \n",
       "Lavion Mayes      23.0  1.130       1.10  290.5375         0.25        10.75   \n",
       "Jesse Delgado     20.6  1.212       0.92  291.3860         0.00        11.20   \n",
       "\n",
       "                  OppPoints   MoV  \n",
       "Focus                              \n",
       "Justin Deangelis        5.8  4.20  \n",
       "Lavion Mayes            8.5  2.25  \n",
       "Jesse Delgado          11.0  0.20  "
      ]
     },
     "metadata": {},
     "output_type": "display_data"
    }
   ],
   "source": [
    "print('Key perfomance metrics between all wrestlers and the top performers:')\n",
    "top_perfs = filt_name_grouped.mean().sort_values(['APM', 'NPF', 'NumResult'], ascending=False).head(3)\n",
    "\n",
    "display(pd.concat([\n",
    "    filt_name_grouped.mean()[['APM', 'NPF', 'NumResult']].mean().rename('All'), \n",
    "    top_perfs.mean()[['APM', 'NPF', 'NumResult']].rename('Top')\n",
    "    ], axis=1))\n",
    "\n",
    "print('Additional metrics for Top Performers:')\n",
    "display(top_perfs[['APM', 'NPF', 'NumResult', 'Duration', 'PassiveDiff', \n",
    "                   'FocusPoints', 'OppPoints', 'MoV']])"
   ]
  },
  {
   "cell_type": "markdown",
   "metadata": {},
   "source": [
    "### Bottom Performers\n",
    "In this section it is important to remember that these wrestlers still competed three times, meaning they won at least one match and thus are **not** the *absolute* worst performers in the event.    \n",
    "Bottom performers for this event are (in order): \n",
    "1. Chance Goodman -- 79kgs\n",
    "2. Blake McNall -- 65kgs\n",
    "3. Fernando Serje -- 92kgs\n",
    "\n",
    "These wrestlers all averaged an APM of only 0.89 and a NPF score of 0.089.  They were never turned and limited their opponents' NPF scores to only 1.02.  All three of these wrestlers went 1-2 on the weekend with one Decision win and two Losses by Technical Superiority."
   ]
  },
  {
   "cell_type": "code",
   "execution_count": 4,
   "metadata": {
    "ExecuteTime": {
     "end_time": "2020-01-31T05:13:09.237922Z",
     "start_time": "2020-01-31T05:13:09.210347Z"
    }
   },
   "outputs": [
    {
     "name": "stdout",
     "output_type": "stream",
     "text": [
      "Key perfomance metrics between ALL wrestlers and the Bottom Performers:\n"
     ]
    },
    {
     "data": {
      "text/html": [
       "<div>\n",
       "<style scoped>\n",
       "    .dataframe tbody tr th:only-of-type {\n",
       "        vertical-align: middle;\n",
       "    }\n",
       "\n",
       "    .dataframe tbody tr th {\n",
       "        vertical-align: top;\n",
       "    }\n",
       "\n",
       "    .dataframe thead th {\n",
       "        text-align: right;\n",
       "    }\n",
       "</style>\n",
       "<table border=\"1\" class=\"dataframe\">\n",
       "  <thead>\n",
       "    <tr style=\"text-align: right;\">\n",
       "      <th></th>\n",
       "      <th>All</th>\n",
       "      <th>Bottom</th>\n",
       "    </tr>\n",
       "  </thead>\n",
       "  <tbody>\n",
       "    <tr>\n",
       "      <th>APM</th>\n",
       "      <td>11.552341</td>\n",
       "      <td>3.666667</td>\n",
       "    </tr>\n",
       "    <tr>\n",
       "      <th>NPF</th>\n",
       "      <td>1.002481</td>\n",
       "      <td>0.794444</td>\n",
       "    </tr>\n",
       "    <tr>\n",
       "      <th>NumResult</th>\n",
       "      <td>0.911035</td>\n",
       "      <td>0.633333</td>\n",
       "    </tr>\n",
       "  </tbody>\n",
       "</table>\n",
       "</div>"
      ],
      "text/plain": [
       "                 All    Bottom\n",
       "APM        11.552341  3.666667\n",
       "NPF         1.002481  0.794444\n",
       "NumResult   0.911035  0.633333"
      ]
     },
     "metadata": {},
     "output_type": "display_data"
    },
    {
     "name": "stdout",
     "output_type": "stream",
     "text": [
      "Additional metrics for Bottom Performers:\n"
     ]
    },
    {
     "data": {
      "text/html": [
       "<div>\n",
       "<style scoped>\n",
       "    .dataframe tbody tr th:only-of-type {\n",
       "        vertical-align: middle;\n",
       "    }\n",
       "\n",
       "    .dataframe tbody tr th {\n",
       "        vertical-align: top;\n",
       "    }\n",
       "\n",
       "    .dataframe thead th {\n",
       "        text-align: right;\n",
       "    }\n",
       "</style>\n",
       "<table border=\"1\" class=\"dataframe\">\n",
       "  <thead>\n",
       "    <tr style=\"text-align: right;\">\n",
       "      <th></th>\n",
       "      <th>APM</th>\n",
       "      <th>NPF</th>\n",
       "      <th>NumResult</th>\n",
       "      <th>Duration</th>\n",
       "      <th>PassiveDiff</th>\n",
       "      <th>FocusPoints</th>\n",
       "      <th>OppPoints</th>\n",
       "      <th>MoV</th>\n",
       "    </tr>\n",
       "    <tr>\n",
       "      <th>Focus</th>\n",
       "      <th></th>\n",
       "      <th></th>\n",
       "      <th></th>\n",
       "      <th></th>\n",
       "      <th></th>\n",
       "      <th></th>\n",
       "      <th></th>\n",
       "      <th></th>\n",
       "    </tr>\n",
       "  </thead>\n",
       "  <tbody>\n",
       "    <tr>\n",
       "      <th>Patrick Romero</th>\n",
       "      <td>3.333333</td>\n",
       "      <td>0.916667</td>\n",
       "      <td>0.583333</td>\n",
       "      <td>113.080000</td>\n",
       "      <td>-0.666667</td>\n",
       "      <td>1.0</td>\n",
       "      <td>7.666667</td>\n",
       "      <td>-6.666667</td>\n",
       "    </tr>\n",
       "    <tr>\n",
       "      <th>Anthony Ashnault</th>\n",
       "      <td>3.666667</td>\n",
       "      <td>0.966667</td>\n",
       "      <td>0.733333</td>\n",
       "      <td>250.943333</td>\n",
       "      <td>0.666667</td>\n",
       "      <td>2.0</td>\n",
       "      <td>5.000000</td>\n",
       "      <td>-3.000000</td>\n",
       "    </tr>\n",
       "    <tr>\n",
       "      <th>Kyle Kintz</th>\n",
       "      <td>4.000000</td>\n",
       "      <td>0.500000</td>\n",
       "      <td>0.583333</td>\n",
       "      <td>84.226667</td>\n",
       "      <td>0.000000</td>\n",
       "      <td>2.0</td>\n",
       "      <td>7.333333</td>\n",
       "      <td>-5.333333</td>\n",
       "    </tr>\n",
       "  </tbody>\n",
       "</table>\n",
       "</div>"
      ],
      "text/plain": [
       "                       APM       NPF  NumResult    Duration  PassiveDiff  \\\n",
       "Focus                                                                      \n",
       "Patrick Romero    3.333333  0.916667   0.583333  113.080000    -0.666667   \n",
       "Anthony Ashnault  3.666667  0.966667   0.733333  250.943333     0.666667   \n",
       "Kyle Kintz        4.000000  0.500000   0.583333   84.226667     0.000000   \n",
       "\n",
       "                  FocusPoints  OppPoints       MoV  \n",
       "Focus                                               \n",
       "Patrick Romero            1.0   7.666667 -6.666667  \n",
       "Anthony Ashnault          2.0   5.000000 -3.000000  \n",
       "Kyle Kintz                2.0   7.333333 -5.333333  "
      ]
     },
     "metadata": {},
     "output_type": "display_data"
    }
   ],
   "source": [
    "print('Key perfomance metrics between ALL wrestlers and the Bottom Performers:')\n",
    "bottom_perfs = filt_name_grouped.mean().sort_values(['APM', 'NPF', 'NumResult']).head(3)\n",
    "\n",
    "display(pd.concat([\n",
    "    filt_name_grouped.mean()[['APM', 'NPF', 'NumResult']].mean().rename('All'), \n",
    "    bottom_perfs.mean()[['APM', 'NPF', 'NumResult']].rename('Bottom')\n",
    "    ], axis=1))\n",
    "\n",
    "print('Additional metrics for Bottom Performers:')\n",
    "display(bottom_perfs[['APM', 'NPF', 'NumResult', 'Duration', 'PassiveDiff', \n",
    "                   'FocusPoints', 'OppPoints', 'MoV']])"
   ]
  },
  {
   "cell_type": "markdown",
   "metadata": {},
   "source": [
    "### Top Individual Match Performance\n",
    "\n",
    "These sections focus on individual matches for all wrestlers who competed in the event.   \n",
    "Analysis will still favor the KPMs (Key Performance Metrics: APM and NPF).   \n",
    "\n",
    "There were 100 matches that resulted in a Win by Fall.   \n",
    "There were 88 matches with the maximum NPF of 2.0.   \n",
    "Of these, 11 matches resulted in an NPF of 2.0 **and** a Win by Fall.   \n",
    "There were 2 matches with an APM greater than 3 standard deviations from the event mean of 10.32.  "
   ]
  },
  {
   "cell_type": "code",
   "execution_count": 5,
   "metadata": {
    "ExecuteTime": {
     "end_time": "2020-01-31T05:13:09.645212Z",
     "start_time": "2020-01-31T05:13:09.631167Z"
    },
    "scrolled": false
   },
   "outputs": [
    {
     "name": "stdout",
     "output_type": "stream",
     "text": [
      "None of the 2 matches with an APM > 31 resulted in a Fall...\n"
     ]
    },
    {
     "data": {
      "text/html": [
       "<div>\n",
       "<style scoped>\n",
       "    .dataframe tbody tr th:only-of-type {\n",
       "        vertical-align: middle;\n",
       "    }\n",
       "\n",
       "    .dataframe tbody tr th {\n",
       "        vertical-align: top;\n",
       "    }\n",
       "\n",
       "    .dataframe thead th {\n",
       "        text-align: right;\n",
       "    }\n",
       "</style>\n",
       "<table border=\"1\" class=\"dataframe\">\n",
       "  <thead>\n",
       "    <tr style=\"text-align: right;\">\n",
       "      <th></th>\n",
       "      <th>Result</th>\n",
       "      <th>MatchID</th>\n",
       "      <th>Focus</th>\n",
       "      <th>Opponent</th>\n",
       "      <th>NPF</th>\n",
       "      <th>APM</th>\n",
       "      <th>Duration</th>\n",
       "      <th>FocusPoints</th>\n",
       "      <th>OppPoints</th>\n",
       "    </tr>\n",
       "  </thead>\n",
       "  <tbody>\n",
       "    <tr>\n",
       "      <th>190</th>\n",
       "      <td>WinD</td>\n",
       "      <td>8O20</td>\n",
       "      <td>Tyler Graff</td>\n",
       "      <td>Cody Brewer</td>\n",
       "      <td>1.15</td>\n",
       "      <td>40.0</td>\n",
       "      <td>360.04</td>\n",
       "      <td>22</td>\n",
       "      <td>16</td>\n",
       "    </tr>\n",
       "    <tr>\n",
       "      <th>350</th>\n",
       "      <td>WinTF</td>\n",
       "      <td>IFHT</td>\n",
       "      <td>Riley Lefever</td>\n",
       "      <td>Enock Francois</td>\n",
       "      <td>1.16</td>\n",
       "      <td>35.0</td>\n",
       "      <td>333.23</td>\n",
       "      <td>23</td>\n",
       "      <td>12</td>\n",
       "    </tr>\n",
       "    <tr>\n",
       "      <th>1011</th>\n",
       "      <td>WinD</td>\n",
       "      <td>FJ8O*</td>\n",
       "      <td>Justin Deangelis</td>\n",
       "      <td>Lavion Mayes</td>\n",
       "      <td>1.22</td>\n",
       "      <td>34.0</td>\n",
       "      <td>363.37</td>\n",
       "      <td>16</td>\n",
       "      <td>11</td>\n",
       "    </tr>\n",
       "  </tbody>\n",
       "</table>\n",
       "</div>"
      ],
      "text/plain": [
       "     Result MatchID             Focus        Opponent   NPF   APM  Duration  \\\n",
       "190    WinD    8O20       Tyler Graff     Cody Brewer  1.15  40.0    360.04   \n",
       "350   WinTF    IFHT     Riley Lefever  Enock Francois  1.16  35.0    333.23   \n",
       "1011   WinD   FJ8O*  Justin Deangelis    Lavion Mayes  1.22  34.0    363.37   \n",
       "\n",
       "      FocusPoints  OppPoints  \n",
       "190            22         16  \n",
       "350            23         12  \n",
       "1011           16         11  "
      ]
     },
     "metadata": {},
     "output_type": "display_data"
    }
   ],
   "source": [
    "print('None of the 2 matches with an APM > 31 resulted in a Fall...')\n",
    "display(df[df['APM'] > df['APM'].mean() * 3]\\\n",
    "        [['Result', 'MatchID', 'Focus', 'Opponent', \n",
    "          'NPF', 'APM', 'Duration', 'FocusPoints', 'OppPoints']])"
   ]
  },
  {
   "cell_type": "code",
   "execution_count": 6,
   "metadata": {
    "ExecuteTime": {
     "end_time": "2020-01-31T05:13:09.820425Z",
     "start_time": "2020-01-31T05:13:09.804349Z"
    }
   },
   "outputs": [
    {
     "name": "stdout",
     "output_type": "stream",
     "text": [
      "11 matches with a WinF result and 2.0 NPF.\n"
     ]
    },
    {
     "data": {
      "text/html": [
       "<div>\n",
       "<style scoped>\n",
       "    .dataframe tbody tr th:only-of-type {\n",
       "        vertical-align: middle;\n",
       "    }\n",
       "\n",
       "    .dataframe tbody tr th {\n",
       "        vertical-align: top;\n",
       "    }\n",
       "\n",
       "    .dataframe thead th {\n",
       "        text-align: right;\n",
       "    }\n",
       "</style>\n",
       "<table border=\"1\" class=\"dataframe\">\n",
       "  <thead>\n",
       "    <tr style=\"text-align: right;\">\n",
       "      <th></th>\n",
       "      <th>Result</th>\n",
       "      <th>MatchID</th>\n",
       "      <th>Focus</th>\n",
       "      <th>Opponent</th>\n",
       "      <th>NPF</th>\n",
       "      <th>APM</th>\n",
       "      <th>Duration</th>\n",
       "      <th>FocusPoints</th>\n",
       "      <th>OppPoints</th>\n",
       "    </tr>\n",
       "  </thead>\n",
       "  <tbody>\n",
       "    <tr>\n",
       "      <th>843</th>\n",
       "      <td>WinF</td>\n",
       "      <td>HTMU*</td>\n",
       "      <td>Elroy Perkin</td>\n",
       "      <td>Joshua Kindig</td>\n",
       "      <td>2.0</td>\n",
       "      <td>12.0</td>\n",
       "      <td>95.74</td>\n",
       "      <td>8</td>\n",
       "      <td>0</td>\n",
       "    </tr>\n",
       "    <tr>\n",
       "      <th>669</th>\n",
       "      <td>WinF</td>\n",
       "      <td>DXNJ*</td>\n",
       "      <td>Conrad Cole</td>\n",
       "      <td>Ernesto Garcia</td>\n",
       "      <td>2.0</td>\n",
       "      <td>11.0</td>\n",
       "      <td>54.80</td>\n",
       "      <td>8</td>\n",
       "      <td>0</td>\n",
       "    </tr>\n",
       "    <tr>\n",
       "      <th>1598</th>\n",
       "      <td>WinF</td>\n",
       "      <td>PPH7*</td>\n",
       "      <td>Michael Macchiavello</td>\n",
       "      <td>Timothy Dudley</td>\n",
       "      <td>2.0</td>\n",
       "      <td>10.0</td>\n",
       "      <td>263.87</td>\n",
       "      <td>9</td>\n",
       "      <td>0</td>\n",
       "    </tr>\n",
       "    <tr>\n",
       "      <th>763</th>\n",
       "      <td>WinF</td>\n",
       "      <td>V8TQ</td>\n",
       "      <td>Joshua Asper</td>\n",
       "      <td>David Richardson</td>\n",
       "      <td>2.0</td>\n",
       "      <td>9.0</td>\n",
       "      <td>36.90</td>\n",
       "      <td>8</td>\n",
       "      <td>0</td>\n",
       "    </tr>\n",
       "    <tr>\n",
       "      <th>1400</th>\n",
       "      <td>WinF</td>\n",
       "      <td>SY70</td>\n",
       "      <td>Matthew Malcom</td>\n",
       "      <td>Austin Farbaugh</td>\n",
       "      <td>2.0</td>\n",
       "      <td>8.0</td>\n",
       "      <td>67.43</td>\n",
       "      <td>6</td>\n",
       "      <td>0</td>\n",
       "    </tr>\n",
       "    <tr>\n",
       "      <th>544</th>\n",
       "      <td>WinF</td>\n",
       "      <td>U72K*</td>\n",
       "      <td>Cameron Caffey</td>\n",
       "      <td>Jake Posey</td>\n",
       "      <td>2.0</td>\n",
       "      <td>7.0</td>\n",
       "      <td>88.74</td>\n",
       "      <td>4</td>\n",
       "      <td>0</td>\n",
       "    </tr>\n",
       "    <tr>\n",
       "      <th>955</th>\n",
       "      <td>WinF</td>\n",
       "      <td>QW3W</td>\n",
       "      <td>Geno Morelli</td>\n",
       "      <td>Kyle Matthews</td>\n",
       "      <td>2.0</td>\n",
       "      <td>6.0</td>\n",
       "      <td>17.42</td>\n",
       "      <td>4</td>\n",
       "      <td>0</td>\n",
       "    </tr>\n",
       "    <tr>\n",
       "      <th>524</th>\n",
       "      <td>WinF</td>\n",
       "      <td>DQW8*</td>\n",
       "      <td>Nikko Reyes</td>\n",
       "      <td>Nicholas Nottingham</td>\n",
       "      <td>2.0</td>\n",
       "      <td>5.0</td>\n",
       "      <td>30.53</td>\n",
       "      <td>4</td>\n",
       "      <td>0</td>\n",
       "    </tr>\n",
       "    <tr>\n",
       "      <th>652</th>\n",
       "      <td>WinF</td>\n",
       "      <td>KYO5</td>\n",
       "      <td>Nathan Jackson</td>\n",
       "      <td>Ethan Vistro</td>\n",
       "      <td>2.0</td>\n",
       "      <td>5.0</td>\n",
       "      <td>12.70</td>\n",
       "      <td>4</td>\n",
       "      <td>0</td>\n",
       "    </tr>\n",
       "    <tr>\n",
       "      <th>997</th>\n",
       "      <td>WinF</td>\n",
       "      <td>M8Q4*</td>\n",
       "      <td>Noel Orozco</td>\n",
       "      <td>Kyle La Fritz</td>\n",
       "      <td>2.0</td>\n",
       "      <td>5.0</td>\n",
       "      <td>18.71</td>\n",
       "      <td>4</td>\n",
       "      <td>0</td>\n",
       "    </tr>\n",
       "    <tr>\n",
       "      <th>1165</th>\n",
       "      <td>WinF</td>\n",
       "      <td>5N6D*</td>\n",
       "      <td>Jarrod Hinrichs</td>\n",
       "      <td>Kyle Jennings</td>\n",
       "      <td>2.0</td>\n",
       "      <td>5.0</td>\n",
       "      <td>21.41</td>\n",
       "      <td>4</td>\n",
       "      <td>0</td>\n",
       "    </tr>\n",
       "  </tbody>\n",
       "</table>\n",
       "</div>"
      ],
      "text/plain": [
       "     Result MatchID                 Focus             Opponent  NPF   APM  \\\n",
       "843    WinF   HTMU*          Elroy Perkin        Joshua Kindig  2.0  12.0   \n",
       "669    WinF   DXNJ*           Conrad Cole       Ernesto Garcia  2.0  11.0   \n",
       "1598   WinF   PPH7*  Michael Macchiavello       Timothy Dudley  2.0  10.0   \n",
       "763    WinF    V8TQ          Joshua Asper     David Richardson  2.0   9.0   \n",
       "1400   WinF    SY70        Matthew Malcom      Austin Farbaugh  2.0   8.0   \n",
       "544    WinF   U72K*        Cameron Caffey           Jake Posey  2.0   7.0   \n",
       "955    WinF    QW3W          Geno Morelli        Kyle Matthews  2.0   6.0   \n",
       "524    WinF   DQW8*           Nikko Reyes  Nicholas Nottingham  2.0   5.0   \n",
       "652    WinF    KYO5        Nathan Jackson         Ethan Vistro  2.0   5.0   \n",
       "997    WinF   M8Q4*           Noel Orozco        Kyle La Fritz  2.0   5.0   \n",
       "1165   WinF   5N6D*       Jarrod Hinrichs        Kyle Jennings  2.0   5.0   \n",
       "\n",
       "      Duration  FocusPoints  OppPoints  \n",
       "843      95.74            8          0  \n",
       "669      54.80            8          0  \n",
       "1598    263.87            9          0  \n",
       "763      36.90            8          0  \n",
       "1400     67.43            6          0  \n",
       "544      88.74            4          0  \n",
       "955      17.42            4          0  \n",
       "524      30.53            4          0  \n",
       "652      12.70            4          0  \n",
       "997      18.71            4          0  \n",
       "1165     21.41            4          0  "
      ]
     },
     "metadata": {},
     "output_type": "display_data"
    }
   ],
   "source": [
    "print('11 matches with a WinF result and 2.0 NPF.')\n",
    "display(df[(df['NPF'] == 2.0) & (df['Result'] == 'WinF')]\\\n",
    "        [['Result', 'MatchID', 'Focus', 'Opponent', \n",
    "          'NPF', 'APM', 'Duration', 'FocusPoints', 'OppPoints']].sort_values(['APM'], ascending=False))"
   ]
  },
  {
   "cell_type": "markdown",
   "metadata": {
    "ExecuteTime": {
     "end_time": "2019-11-23T20:33:24.586518Z",
     "start_time": "2019-11-23T20:33:24.582583Z"
    }
   },
   "source": [
    "From these two lists of matches it is clear that there are many great performances to choose from.  The Perkin WinF over Kindig is tempting as it has the highest APM of any match with a 2.0 NPF and WinF result.  However, the Cole WinF over Garcia seems a stronger contender as it has roughly the same APM and was finished in half the time (55 seconds versus 96 seconds).    \n",
    "\n",
    "Ultimately I will drop both of these options in favor of the 40.0 APM Graff WinD over Brewer.  This match was a 38 point storm that resulted in the highest APM of the tournament despite a relateively even NPF (1.15 for Graff).  \n",
    "> Caveat: The second highest APM of 30.0 in the Glynn WinTF over Hessler was tempting as most metrics are the same (another 30 point match) or better (1.24 NPF for Glynn), but you don't get points for second place. "
   ]
  },
  {
   "cell_type": "markdown",
   "metadata": {},
   "source": [
    "## Weight Class Analysis"
   ]
  },
  {
   "cell_type": "code",
   "execution_count": 7,
   "metadata": {
    "ExecuteTime": {
     "end_time": "2020-01-31T05:13:11.941233Z",
     "start_time": "2020-01-31T05:13:11.937029Z"
    }
   },
   "outputs": [],
   "source": [
    "base_cols = ['BinaryResult', \n",
    "             'HIa', 'HIc2', 'HIc4', 'HOa', 'HOc2', 'HOc4', 'Da', 'Dc2', 'Dc4', \n",
    "             'LSa', 'LSc2', 'LSc4', 'GBa', 'GBc2', 'Ta', 'Tc2', 'Tc4',\n",
    "             'Exposure', 'Gut', 'LegLace',  'Turn', 'Pushout', 'Violation', 'Passive',\n",
    "             'oHIa', 'oHIc2', 'oHIc4', 'oHOa', 'oHOc2', 'oHOc4', 'oDa', 'oDc2', 'oDc4', \n",
    "             'oLSa', 'oLSc2', 'oLSc4', 'oGBa', 'oGBc2', 'oTa', 'oTc2', 'oTc4',\n",
    "             'oExposure', 'oGut', 'oLegLace',  'oTurn', 'oPushout', 'oViolation', 'oPassive',\n",
    "            ]"
   ]
  },
  {
   "cell_type": "markdown",
   "metadata": {},
   "source": [
    "### 57 kilos <sup>69 matches</sup>\n",
    "\n",
    "#### Placements\n",
    "1. Daton Fix\n",
    "2. Thomas Gilman\n",
    "3. Zane Richards\n",
    "4. Vitali Arujau\n",
    "5. Darian Cruz\n",
    "6. Nathan Tomasello\n",
    "7. Frank Perrelli\n",
    "8. Zach Sanders"
   ]
  },
  {
   "cell_type": "code",
   "execution_count": 8,
   "metadata": {
    "ExecuteTime": {
     "end_time": "2020-01-31T05:13:14.181855Z",
     "start_time": "2020-01-31T05:13:14.176140Z"
    }
   },
   "outputs": [],
   "source": [
    "kgs57 = df[df['Weight'] == 57]"
   ]
  },
  {
   "cell_type": "markdown",
   "metadata": {},
   "source": [
    "#### Distributions\n",
    "This section focuses on illustrating the distribution of Results and ShotTypes for this event."
   ]
  },
  {
   "cell_type": "markdown",
   "metadata": {},
   "source": [
    "Techs are the most common result followed by Decisions and then Falls as is typical with a Freestyle event."
   ]
  },
  {
   "cell_type": "code",
   "execution_count": 9,
   "metadata": {
    "ExecuteTime": {
     "end_time": "2020-01-31T05:13:15.121432Z",
     "start_time": "2020-01-31T05:13:14.937257Z"
    },
    "scrolled": false
   },
   "outputs": [
    {
     "name": "stdout",
     "output_type": "stream",
     "text": [
      "Distributions of match results.\n"
     ]
    },
    {
     "data": {
      "image/png": "[encoded data removed]",
      "text/plain": [
       "<Figure size 360x360 with 1 Axes>"
      ]
     },
     "metadata": {
      "needs_background": "light"
     },
     "output_type": "display_data"
    }
   ],
   "source": [
    "print('Distributions of match results.')\n",
    "sns.catplot(\"Result\", data=kgs57[kgs57['MatchID'].map(len) == 4], kind=\"count\")\n",
    "plt.show()\n",
    "\n",
    "# somehow order so can use palatte for win/loss"
   ]
  },
  {
   "cell_type": "markdown",
   "metadata": {},
   "source": [
    "GBa will almost exclusively be #1 on this list due to the large variety of conditions under which it is recorded.  More interesting is the high GBrate and even higher HIrate at this weight.  Other ShotTypes follow their corresponding attempts patterns."
   ]
  },
  {
   "cell_type": "code",
   "execution_count": 17,
   "metadata": {
    "ExecuteTime": {
     "end_time": "2020-01-31T05:11:32.573626Z",
     "start_time": "2020-01-31T05:11:32.333180Z"
    }
   },
   "outputs": [
    {
     "data": {
      "image/png": "[encoded data removed]",
      "text/plain": [
       "<Figure size 432x288 with 1 Axes>"
      ]
     },
     "metadata": {
      "needs_background": "light"
     },
     "output_type": "display_data"
    },
    {
     "data": {
      "image/png": "[encoded data removed]",
      "text/plain": [
       "<Figure size 432x288 with 1 Axes>"
      ]
     },
     "metadata": {
      "needs_background": "light"
     },
     "output_type": "display_data"
    }
   ],
   "source": [
    "sns.barplot(x='index', y='Shots', \n",
    "            data=kgs57.sum()[['HIa', 'HOa', 'Da', 'LSa', 'GBa', 'Ta']]\\\n",
    "            .rename('Shots').reset_index())\n",
    "plt.show()\n",
    "sns.barplot(x='index', y='ConversionRate', \n",
    "            data=kgs57.mean()[['HIrate', 'HOrate', 'Drate', 'LSrate', 'GBrate', 'Trate']]\\\n",
    "            .rename('ConversionRate').reset_index())\n",
    "plt.show()"
   ]
  },
  {
   "cell_type": "markdown",
   "metadata": {},
   "source": [
    "#### Trends\n",
    "This section focuses on identifying key metrics for success at this weight (at this event).  \n",
    "The analysis does not take into consideration the value of more powerful results.  In otherwords, correlations are done only on binary win/loss results and **not** on the degree of the result.  So a strong correlation indicates a higher relationship with winning but **not** the degree of winning.\n",
    "\n",
    "Remember correlations range from -1 to +1 the former representating a strong relationship with a negative outcome (in this case losing the match) and the latter representation a strong relationship with a positive outcome (i.e. winning a match).  Correlations closer to 0 represent weak relationships and correlations around 0.5 represent moderate relationships."
   ]
  },
  {
   "cell_type": "code",
   "execution_count": 23,
   "metadata": {
    "ExecuteTime": {
     "end_time": "2020-01-31T04:42:09.297257Z",
     "start_time": "2020-01-31T04:42:09.168694Z"
    },
    "scrolled": false
   },
   "outputs": [
    {
     "name": "stdout",
     "output_type": "stream",
     "text": [
      "Top actions for 57kgs at this event.\n"
     ]
    },
    {
     "data": {
      "image/png": "[encoded data removed]",
      "text/plain": [
       "<Figure size 432x288 with 1 Axes>"
      ]
     },
     "metadata": {
      "needs_background": "light"
     },
     "output_type": "display_data"
    }
   ],
   "source": [
    "print('Top actions for 57kgs at this event.')\n",
    "sns.barplot(x='index', y='BinaryResult',\n",
    "    data=kgs57[base_cols].corr().round(2).sort_values(by=['BinaryResult'], ascending=False)['BinaryResult'][1:6].reset_index())\n",
    "plt.show()"
   ]
  },
  {
   "cell_type": "markdown",
   "metadata": {
    "hide_input": false
   },
   "source": [
    "### 61 kilos <sup>61 matches</sup>\n",
    "\n",
    "#### Placements\n",
    "1. Cody Brewer\n",
    "2. Nico Megaludis\n",
    "3. Joey Palmer\n",
    "4. Tyler Graff\n",
    "5. Cory Clark\n",
    "6. Anthony Ramos\n",
    "7. Earl Hall\n",
    "8. Beau Bartlett"
   ]
  },
  {
   "cell_type": "code",
   "execution_count": 684,
   "metadata": {
    "ExecuteTime": {
     "end_time": "2019-11-24T03:29:29.691490Z",
     "start_time": "2019-11-24T03:29:29.688337Z"
    }
   },
   "outputs": [],
   "source": [
    "kgs61 = df[df['Weight'] == 61]"
   ]
  },
  {
   "cell_type": "markdown",
   "metadata": {},
   "source": [
    "#### Distributions\n",
    "This section focuses on illustrating the distribution of Results and ShotTypes for this event."
   ]
  },
  {
   "cell_type": "markdown",
   "metadata": {},
   "source": [
    "Techs are the most common result followed by Decisions and then Falls as is typical with a Freestyle event."
   ]
  },
  {
   "cell_type": "code",
   "execution_count": 691,
   "metadata": {
    "ExecuteTime": {
     "end_time": "2019-11-24T03:29:39.263044Z",
     "start_time": "2019-11-24T03:29:39.102694Z"
    },
    "scrolled": false
   },
   "outputs": [
    {
     "name": "stdout",
     "output_type": "stream",
     "text": [
      "Distributions of match results.\n"
     ]
    },
    {
     "data": {
      "image/png": "[encoded data removed]",
      "text/plain": [
       "<Figure size 360x360 with 1 Axes>"
      ]
     },
     "metadata": {
      "needs_background": "light"
     },
     "output_type": "display_data"
    }
   ],
   "source": [
    "print('Distributions of match results.')\n",
    "sns.catplot(\"Result\", data=kgs61[kgs61['MatchID'].map(len) == 4], kind=\"count\")\n",
    "plt.show()\n",
    "\n",
    "# somehow order so can use palatte for win/loss"
   ]
  },
  {
   "cell_type": "markdown",
   "metadata": {},
   "source": [
    "GBa will almost exclusively be #1 on this list due to the large variety of conditions under which it is recorded.  More interesting is the high GBrate and even higher HIrate at this weight.  Other ShotTypes follow their corresponding attempts patterns."
   ]
  },
  {
   "cell_type": "code",
   "execution_count": 692,
   "metadata": {
    "ExecuteTime": {
     "end_time": "2019-11-24T03:29:44.309828Z",
     "start_time": "2019-11-24T03:29:44.032152Z"
    }
   },
   "outputs": [
    {
     "data": {
      "image/png": "[encoded data removed]",
      "text/plain": [
       "<Figure size 432x288 with 1 Axes>"
      ]
     },
     "metadata": {
      "needs_background": "light"
     },
     "output_type": "display_data"
    },
    {
     "data": {
      "image/png": "[encoded data removed]",
      "text/plain": [
       "<Figure size 432x288 with 1 Axes>"
      ]
     },
     "metadata": {
      "needs_background": "light"
     },
     "output_type": "display_data"
    }
   ],
   "source": [
    "sns.barplot(x='index', y='Shots', \n",
    "            data=kgs61.sum()[['HIa', 'HOa', 'Da', 'LSa', 'GBa', 'Ta']]\\\n",
    "            .rename('Shots').reset_index())\n",
    "plt.show()\n",
    "sns.barplot(x='index', y='ConversionRate', \n",
    "            data=kgs61.mean()[['HIrate', 'HOrate', 'Drate', 'LSrate', 'GBrate', 'Trate']]\\\n",
    "            .rename('ConversionRate').reset_index())\n",
    "plt.show()"
   ]
  },
  {
   "cell_type": "markdown",
   "metadata": {},
   "source": [
    "#### Trends\n",
    "This section focuses on identifying key metrics for success at this weight (at this event).  \n",
    "The analysis does not take into consideration the value of more powerful results.  In otherwords, correlations are done only on binary win/loss results and **not** on the degree of the result.  So a strong correlation indicates a higher relationship with winning but **not** the degree of winning.\n",
    "\n",
    "Remember correlations range from -1 to +1 the former representating a strong relationship with a negative outcome (in this case losing the match) and the latter representation a strong relationship with a positive outcome (i.e. winning a match).  Correlations closer to 0 represent weak relationships and correlations around 0.5 represent moderate relationships."
   ]
  },
  {
   "cell_type": "code",
   "execution_count": 693,
   "metadata": {
    "ExecuteTime": {
     "end_time": "2019-11-24T03:29:51.284890Z",
     "start_time": "2019-11-24T03:29:51.122359Z"
    },
    "scrolled": false
   },
   "outputs": [
    {
     "name": "stdout",
     "output_type": "stream",
     "text": [
      "Top actions for 61kgs at this event.\n"
     ]
    },
    {
     "data": {
      "image/png": "[encoded data removed]",
      "text/plain": [
       "<Figure size 432x288 with 1 Axes>"
      ]
     },
     "metadata": {
      "needs_background": "light"
     },
     "output_type": "display_data"
    }
   ],
   "source": [
    "print('Top actions for 61kgs at this event.')\n",
    "sns.barplot(x='index', y='BinaryResult',\n",
    "    data=kgs61[base_cols].corr().round(2).sort_values(by=['BinaryResult'], ascending=False)['BinaryResult'][1:6].reset_index())\n",
    "plt.show()"
   ]
  },
  {
   "cell_type": "markdown",
   "metadata": {
    "hide_input": false
   },
   "source": [
    "### 65 kilos <sup>92 matches</sup>\n",
    "\n",
    "#### Placements\n",
    "1. Yianni Diakomihalis\n",
    "2. Zain Retherford\n",
    "3. Jason Ness\n",
    "4. Frank Molinaro\n",
    "5. Jaydin Eirman\n",
    "6. Jordan Oliver\n",
    "7. Kanen Storr\n",
    "8. Bernard Futrell"
   ]
  },
  {
   "cell_type": "code",
   "execution_count": 696,
   "metadata": {
    "ExecuteTime": {
     "end_time": "2019-11-24T03:29:29.691490Z",
     "start_time": "2019-11-24T03:29:29.688337Z"
    }
   },
   "outputs": [],
   "source": [
    "kgs65 = df[df['Weight'] == 65]"
   ]
  },
  {
   "cell_type": "markdown",
   "metadata": {},
   "source": [
    "#### Distributions\n",
    "This section focuses on illustrating the distribution of Results and ShotTypes for this event."
   ]
  },
  {
   "cell_type": "markdown",
   "metadata": {},
   "source": [
    "Techs are the most common result followed by Decisions and then Falls as is typical with a Freestyle event."
   ]
  },
  {
   "cell_type": "code",
   "execution_count": 697,
   "metadata": {
    "ExecuteTime": {
     "end_time": "2019-11-24T03:29:39.263044Z",
     "start_time": "2019-11-24T03:29:39.102694Z"
    },
    "scrolled": false
   },
   "outputs": [
    {
     "name": "stdout",
     "output_type": "stream",
     "text": [
      "Distributions of match results.\n"
     ]
    },
    {
     "data": {
      "image/png": "[encoded data removed]",
      "text/plain": [
       "<Figure size 360x360 with 1 Axes>"
      ]
     },
     "metadata": {
      "needs_background": "light"
     },
     "output_type": "display_data"
    }
   ],
   "source": [
    "print('Distributions of match results.')\n",
    "sns.catplot(\"Result\", data=kgs65[kgs65['MatchID'].map(len) == 4], kind=\"count\")\n",
    "plt.show()\n",
    "\n",
    "# somehow order so can use palatte for win/loss"
   ]
  },
  {
   "cell_type": "markdown",
   "metadata": {},
   "source": [
    "GBa will almost exclusively be #1 on this list due to the large variety of conditions under which it is recorded.  More interesting is the high GBrate and even higher HIrate at this weight.  Other ShotTypes follow their corresponding attempts patterns."
   ]
  },
  {
   "cell_type": "code",
   "execution_count": 698,
   "metadata": {
    "ExecuteTime": {
     "end_time": "2019-11-24T03:29:44.309828Z",
     "start_time": "2019-11-24T03:29:44.032152Z"
    }
   },
   "outputs": [
    {
     "data": {
      "image/png": "[encoded data removed]",
      "text/plain": [
       "<Figure size 432x288 with 1 Axes>"
      ]
     },
     "metadata": {
      "needs_background": "light"
     },
     "output_type": "display_data"
    },
    {
     "data": {
      "image/png": "[encoded data removed]",
      "text/plain": [
       "<Figure size 432x288 with 1 Axes>"
      ]
     },
     "metadata": {
      "needs_background": "light"
     },
     "output_type": "display_data"
    }
   ],
   "source": [
    "sns.barplot(x='index', y='Shots', \n",
    "            data=kgs65.sum()[['HIa', 'HOa', 'Da', 'LSa', 'GBa', 'Ta']]\\\n",
    "            .rename('Shots').reset_index())\n",
    "plt.show()\n",
    "sns.barplot(x='index', y='ConversionRate', \n",
    "            data=kgs65.mean()[['HIrate', 'HOrate', 'Drate', 'LSrate', 'GBrate', 'Trate']]\\\n",
    "            .rename('ConversionRate').reset_index())\n",
    "plt.show()"
   ]
  },
  {
   "cell_type": "markdown",
   "metadata": {},
   "source": [
    "#### Trends\n",
    "This section focuses on identifying key metrics for success at this weight (at this event).  \n",
    "The analysis does not take into consideration the value of more powerful results.  In otherwords, correlations are done only on binary win/loss results and **not** on the degree of the result.  So a strong correlation indicates a higher relationship with winning but **not** the degree of winning.\n",
    "\n",
    "Remember correlations range from -1 to +1 the former representating a strong relationship with a negative outcome (in this case losing the match) and the latter representation a strong relationship with a positive outcome (i.e. winning a match).  Correlations closer to 0 represent weak relationships and correlations around 0.5 represent moderate relationships."
   ]
  },
  {
   "cell_type": "code",
   "execution_count": 699,
   "metadata": {
    "ExecuteTime": {
     "end_time": "2019-11-24T03:29:51.284890Z",
     "start_time": "2019-11-24T03:29:51.122359Z"
    },
    "scrolled": true
   },
   "outputs": [
    {
     "name": "stdout",
     "output_type": "stream",
     "text": [
      "Top actions for 65kgs at this event.\n"
     ]
    },
    {
     "data": {
      "image/png": "[encoded data removed]",
      "text/plain": [
       "<Figure size 432x288 with 1 Axes>"
      ]
     },
     "metadata": {
      "needs_background": "light"
     },
     "output_type": "display_data"
    }
   ],
   "source": [
    "print('Top actions for 65kgs at this event.')\n",
    "sns.barplot(x='index', y='BinaryResult',\n",
    "    data=kgs65[base_cols].corr().round(2).sort_values(by=['BinaryResult'], ascending=False)['BinaryResult'][1:6].reset_index())\n",
    "plt.show()"
   ]
  },
  {
   "cell_type": "markdown",
   "metadata": {
    "hide_input": false
   },
   "source": [
    "### 70 kilos <sup>96 matches</sup>\n",
    "\n",
    "#### Placements\n",
    "1. Ryan Deakin\n",
    "2. James Green\n",
    "3. Jason Nolf \n",
    "4. Alec Pantaleo\n",
    "5. Brandon Sorensen\n",
    "6. Nazar Kulchytskyy  \n",
    "7. Jason Chamberlain\n",
    "8. Anthony Collica"
   ]
  },
  {
   "cell_type": "code",
   "execution_count": 702,
   "metadata": {
    "ExecuteTime": {
     "end_time": "2019-11-24T03:29:29.691490Z",
     "start_time": "2019-11-24T03:29:29.688337Z"
    }
   },
   "outputs": [],
   "source": [
    "kgs70 = df[df['Weight'] == 70]"
   ]
  },
  {
   "cell_type": "markdown",
   "metadata": {},
   "source": [
    "#### Distributions\n",
    "This section focuses on illustrating the distribution of Results and ShotTypes for this event."
   ]
  },
  {
   "cell_type": "markdown",
   "metadata": {},
   "source": [
    "Techs are the most common result followed by Decisions and then Falls as is typical with a Freestyle event."
   ]
  },
  {
   "cell_type": "code",
   "execution_count": 703,
   "metadata": {
    "ExecuteTime": {
     "end_time": "2019-11-24T03:29:39.263044Z",
     "start_time": "2019-11-24T03:29:39.102694Z"
    },
    "scrolled": false
   },
   "outputs": [
    {
     "name": "stdout",
     "output_type": "stream",
     "text": [
      "Distributions of match results.\n"
     ]
    },
    {
     "data": {
      "image/png": "[encoded data removed]",
      "text/plain": [
       "<Figure size 360x360 with 1 Axes>"
      ]
     },
     "metadata": {
      "needs_background": "light"
     },
     "output_type": "display_data"
    }
   ],
   "source": [
    "print('Distributions of match results.')\n",
    "sns.catplot(\"Result\", data=kgs70[kgs70['MatchID'].map(len) == 4], kind=\"count\")\n",
    "plt.show()\n",
    "\n",
    "# somehow order so can use palatte for win/loss"
   ]
  },
  {
   "cell_type": "markdown",
   "metadata": {},
   "source": [
    "GBa will almost exclusively be #1 on this list due to the large variety of conditions under which it is recorded.  More interesting is the high GBrate and even higher HIrate at this weight.  Other ShotTypes follow their corresponding attempts patterns."
   ]
  },
  {
   "cell_type": "code",
   "execution_count": 704,
   "metadata": {
    "ExecuteTime": {
     "end_time": "2019-11-24T03:29:44.309828Z",
     "start_time": "2019-11-24T03:29:44.032152Z"
    }
   },
   "outputs": [
    {
     "data": {
      "image/png": "[encoded data removed]",
      "text/plain": [
       "<Figure size 432x288 with 1 Axes>"
      ]
     },
     "metadata": {
      "needs_background": "light"
     },
     "output_type": "display_data"
    },
    {
     "data": {
      "image/png": "[encoded data removed]",
      "text/plain": [
       "<Figure size 432x288 with 1 Axes>"
      ]
     },
     "metadata": {
      "needs_background": "light"
     },
     "output_type": "display_data"
    }
   ],
   "source": [
    "sns.barplot(x='index', y='Shots', \n",
    "            data=kgs70.sum()[['HIa', 'HOa', 'Da', 'LSa', 'GBa', 'Ta']]\\\n",
    "            .rename('Shots').reset_index())\n",
    "plt.show()\n",
    "sns.barplot(x='index', y='ConversionRate', \n",
    "            data=kgs70.mean()[['HIrate', 'HOrate', 'Drate', 'LSrate', 'GBrate', 'Trate']]\\\n",
    "            .rename('ConversionRate').reset_index())\n",
    "plt.show()"
   ]
  },
  {
   "cell_type": "markdown",
   "metadata": {},
   "source": [
    "#### Trends\n",
    "This section focuses on identifying key metrics for success at this weight (at this event).  \n",
    "The analysis does not take into consideration the value of more powerful results.  In otherwords, correlations are done only on binary win/loss results and **not** on the degree of the result.  So a strong correlation indicates a higher relationship with winning but **not** the degree of winning.\n",
    "\n",
    "Remember correlations range from -1 to +1 the former representating a strong relationship with a negative outcome (in this case losing the match) and the latter representation a strong relationship with a positive outcome (i.e. winning a match).  Correlations closer to 0 represent weak relationships and correlations around 0.5 represent moderate relationships."
   ]
  },
  {
   "cell_type": "code",
   "execution_count": 705,
   "metadata": {
    "ExecuteTime": {
     "end_time": "2019-11-24T03:29:51.284890Z",
     "start_time": "2019-11-24T03:29:51.122359Z"
    },
    "scrolled": true
   },
   "outputs": [
    {
     "name": "stdout",
     "output_type": "stream",
     "text": [
      "Top actions for 70kgs at this event.\n"
     ]
    },
    {
     "data": {
      "image/png": "[encoded data removed]",
      "text/plain": [
       "<Figure size 432x288 with 1 Axes>"
      ]
     },
     "metadata": {
      "needs_background": "light"
     },
     "output_type": "display_data"
    }
   ],
   "source": [
    "print('Top actions for 70kgs at this event.')\n",
    "sns.barplot(x='index', y='BinaryResult',\n",
    "    data=kgs70[base_cols].corr().round(2).sort_values(by=['BinaryResult'], ascending=False)['BinaryResult'][1:6].reset_index())\n",
    "plt.show()"
   ]
  },
  {
   "cell_type": "markdown",
   "metadata": {
    "hide_input": false
   },
   "source": [
    "### 74 kilos <sup>69 matches</sup>\n",
    "\n",
    "#### Placements\n",
    "1. Daton Fix\n",
    "2. Thomas Gilman\n",
    "3. Zane Richards\n",
    "4. Vitali Arujau\n",
    "5. Darian Cruz\n",
    "6. Nathan Tomasello\n",
    "7. Frank Perrelli\n",
    "8. Zach Sanders"
   ]
  },
  {
   "cell_type": "code",
   "execution_count": 321,
   "metadata": {
    "ExecuteTime": {
     "end_time": "2019-11-24T03:29:29.691490Z",
     "start_time": "2019-11-24T03:29:29.688337Z"
    }
   },
   "outputs": [],
   "source": [
    "kgs57 = df[df['Weight'] == 57]"
   ]
  },
  {
   "cell_type": "markdown",
   "metadata": {},
   "source": [
    "#### Distributions\n",
    "This section focuses on illustrating the distribution of Results and ShotTypes for this event."
   ]
  },
  {
   "cell_type": "markdown",
   "metadata": {},
   "source": [
    "Techs are the most common result followed by Decisions and then Falls as is typical with a Freestyle event."
   ]
  },
  {
   "cell_type": "code",
   "execution_count": 499,
   "metadata": {
    "ExecuteTime": {
     "end_time": "2019-11-24T03:29:39.263044Z",
     "start_time": "2019-11-24T03:29:39.102694Z"
    },
    "scrolled": false
   },
   "outputs": [
    {
     "name": "stdout",
     "output_type": "stream",
     "text": [
      "Distributions of match results.\n"
     ]
    },
    {
     "data": {
      "image/png": "[encoded data removed]",
      "text/plain": [
       "<Figure size 360x360 with 1 Axes>"
      ]
     },
     "metadata": {
      "needs_background": "light"
     },
     "output_type": "display_data"
    }
   ],
   "source": [
    "print('Distributions of match results.')\n",
    "sns.catplot(\"Result\", data=kgs57[kgs57['MatchID'].map(len) == 4], kind=\"count\")\n",
    "g.set_xticklabels(rotation=30)\n",
    "plt.show()\n",
    "\n",
    "# somehow order so can use palatte for win/loss"
   ]
  },
  {
   "cell_type": "markdown",
   "metadata": {},
   "source": [
    "GBa will almost exclusively be #1 on this list due to the large variety of conditions under which it is recorded.  More interesting is the high GBrate and even higher HIrate at this weight.  Other ShotTypes follow their corresponding attempts patterns."
   ]
  },
  {
   "cell_type": "code",
   "execution_count": 405,
   "metadata": {
    "ExecuteTime": {
     "end_time": "2019-11-24T03:29:44.309828Z",
     "start_time": "2019-11-24T03:29:44.032152Z"
    }
   },
   "outputs": [
    {
     "data": {
      "image/png": "[encoded data removed]",
      "text/plain": [
       "<Figure size 432x288 with 1 Axes>"
      ]
     },
     "metadata": {
      "needs_background": "light"
     },
     "output_type": "display_data"
    },
    {
     "data": {
      "image/png": "[encoded data removed]",
      "text/plain": [
       "<Figure size 432x288 with 1 Axes>"
      ]
     },
     "metadata": {
      "needs_background": "light"
     },
     "output_type": "display_data"
    }
   ],
   "source": [
    "sns.barplot(x='index', y='Shots', \n",
    "            data=kgs57.sum()[['HIa', 'HOa', 'Da', 'LSa', 'GBa', 'Ta']]\\\n",
    "            .rename('Shots').reset_index())\n",
    "plt.show()\n",
    "sns.barplot(x='index', y='ConversionRate', \n",
    "            data=kgs57.mean()[['HIrate', 'HOrate', 'Drate', 'LSrate', 'GBrate', 'Trate']]\\\n",
    "            .rename('ConversionRate').reset_index())\n",
    "plt.show()"
   ]
  },
  {
   "cell_type": "markdown",
   "metadata": {},
   "source": [
    "#### Trends\n",
    "This section focuses on identifying key metrics for success at this weight (at this event).  \n",
    "The analysis does not take into consideration the value of more powerful results.  In otherwords, correlations are done only on binary win/loss results and **not** on the degree of the result.  So a strong correlation indicates a higher relationship with winning but **not** the degree of winning.\n",
    "\n",
    "Remember correlations range from -1 to +1 the former representating a strong relationship with a negative outcome (in this case losing the match) and the latter representation a strong relationship with a positive outcome (i.e. winning a match).  Correlations closer to 0 represent weak relationships and correlations around 0.5 represent moderate relationships."
   ]
  },
  {
   "cell_type": "code",
   "execution_count": 627,
   "metadata": {
    "ExecuteTime": {
     "end_time": "2019-11-24T03:29:51.284890Z",
     "start_time": "2019-11-24T03:29:51.122359Z"
    },
    "scrolled": true
   },
   "outputs": [
    {
     "name": "stdout",
     "output_type": "stream",
     "text": [
      "Top actions for 57kgs at this event.\n"
     ]
    },
    {
     "data": {
      "image/png": "[encoded data removed]",
      "text/plain": [
       "<Figure size 432x288 with 1 Axes>"
      ]
     },
     "metadata": {
      "needs_background": "light"
     },
     "output_type": "display_data"
    }
   ],
   "source": [
    "print('Top actions for 57kgs at this event.')\n",
    "sns.barplot(x='index', y='BinaryResult',\n",
    "    data=kgs57[base_cols].corr().round(2).sort_values(by=['BinaryResult'], ascending=False)['BinaryResult'][1:6].reset_index())\n",
    "plt.show()"
   ]
  },
  {
   "cell_type": "markdown",
   "metadata": {
    "hide_input": false
   },
   "source": [
    "### 79 kilos <sup>69 matches</sup>\n",
    "\n",
    "#### Placements\n",
    "1. Daton Fix\n",
    "2. Thomas Gilman\n",
    "3. Zane Richards\n",
    "4. Vitali Arujau\n",
    "5. Darian Cruz\n",
    "6. Nathan Tomasello\n",
    "7. Frank Perrelli\n",
    "8. Zach Sanders"
   ]
  },
  {
   "cell_type": "code",
   "execution_count": 321,
   "metadata": {
    "ExecuteTime": {
     "end_time": "2019-11-24T03:29:29.691490Z",
     "start_time": "2019-11-24T03:29:29.688337Z"
    }
   },
   "outputs": [],
   "source": [
    "kgs57 = df[df['Weight'] == 57]"
   ]
  },
  {
   "cell_type": "markdown",
   "metadata": {},
   "source": [
    "#### Distributions\n",
    "This section focuses on illustrating the distribution of Results and ShotTypes for this event."
   ]
  },
  {
   "cell_type": "markdown",
   "metadata": {},
   "source": [
    "Techs are the most common result followed by Decisions and then Falls as is typical with a Freestyle event."
   ]
  },
  {
   "cell_type": "code",
   "execution_count": 499,
   "metadata": {
    "ExecuteTime": {
     "end_time": "2019-11-24T03:29:39.263044Z",
     "start_time": "2019-11-24T03:29:39.102694Z"
    },
    "scrolled": false
   },
   "outputs": [
    {
     "name": "stdout",
     "output_type": "stream",
     "text": [
      "Distributions of match results.\n"
     ]
    },
    {
     "data": {
      "image/png": "[encoded data removed]",
      "text/plain": [
       "<Figure size 360x360 with 1 Axes>"
      ]
     },
     "metadata": {
      "needs_background": "light"
     },
     "output_type": "display_data"
    }
   ],
   "source": [
    "print('Distributions of match results.')\n",
    "sns.catplot(\"Result\", data=kgs57[kgs57['MatchID'].map(len) == 4], kind=\"count\")\n",
    "g.set_xticklabels(rotation=30)\n",
    "plt.show()\n",
    "\n",
    "# somehow order so can use palatte for win/loss"
   ]
  },
  {
   "cell_type": "markdown",
   "metadata": {},
   "source": [
    "GBa will almost exclusively be #1 on this list due to the large variety of conditions under which it is recorded.  More interesting is the high GBrate and even higher HIrate at this weight.  Other ShotTypes follow their corresponding attempts patterns."
   ]
  },
  {
   "cell_type": "code",
   "execution_count": 405,
   "metadata": {
    "ExecuteTime": {
     "end_time": "2019-11-24T03:29:44.309828Z",
     "start_time": "2019-11-24T03:29:44.032152Z"
    }
   },
   "outputs": [
    {
     "data": {
      "image/png": "[encoded data removed]",
      "text/plain": [
       "<Figure size 432x288 with 1 Axes>"
      ]
     },
     "metadata": {
      "needs_background": "light"
     },
     "output_type": "display_data"
    },
    {
     "data": {
      "image/png": "[encoded data removed]",
      "text/plain": [
       "<Figure size 432x288 with 1 Axes>"
      ]
     },
     "metadata": {
      "needs_background": "light"
     },
     "output_type": "display_data"
    }
   ],
   "source": [
    "sns.barplot(x='index', y='Shots', \n",
    "            data=kgs57.sum()[['HIa', 'HOa', 'Da', 'LSa', 'GBa', 'Ta']]\\\n",
    "            .rename('Shots').reset_index())\n",
    "plt.show()\n",
    "sns.barplot(x='index', y='ConversionRate', \n",
    "            data=kgs57.mean()[['HIrate', 'HOrate', 'Drate', 'LSrate', 'GBrate', 'Trate']]\\\n",
    "            .rename('ConversionRate').reset_index())\n",
    "plt.show()"
   ]
  },
  {
   "cell_type": "markdown",
   "metadata": {},
   "source": [
    "#### Trends\n",
    "This section focuses on identifying key metrics for success at this weight (at this event).  \n",
    "The analysis does not take into consideration the value of more powerful results.  In otherwords, correlations are done only on binary win/loss results and **not** on the degree of the result.  So a strong correlation indicates a higher relationship with winning but **not** the degree of winning.\n",
    "\n",
    "Remember correlations range from -1 to +1 the former representating a strong relationship with a negative outcome (in this case losing the match) and the latter representation a strong relationship with a positive outcome (i.e. winning a match).  Correlations closer to 0 represent weak relationships and correlations around 0.5 represent moderate relationships."
   ]
  },
  {
   "cell_type": "code",
   "execution_count": 627,
   "metadata": {
    "ExecuteTime": {
     "end_time": "2019-11-24T03:29:51.284890Z",
     "start_time": "2019-11-24T03:29:51.122359Z"
    },
    "scrolled": true
   },
   "outputs": [
    {
     "name": "stdout",
     "output_type": "stream",
     "text": [
      "Top actions for 57kgs at this event.\n"
     ]
    },
    {
     "data": {
      "image/png": "[encoded data removed]",
      "text/plain": [
       "<Figure size 432x288 with 1 Axes>"
      ]
     },
     "metadata": {
      "needs_background": "light"
     },
     "output_type": "display_data"
    }
   ],
   "source": [
    "print('Top actions for 57kgs at this event.')\n",
    "sns.barplot(x='index', y='BinaryResult',\n",
    "    data=kgs57[base_cols].corr().round(2).sort_values(by=['BinaryResult'], ascending=False)['BinaryResult'][1:6].reset_index())\n",
    "plt.show()"
   ]
  },
  {
   "cell_type": "markdown",
   "metadata": {
    "hide_input": false
   },
   "source": [
    "### 86 kilos <sup>69 matches</sup>\n",
    "\n",
    "#### Placements\n",
    "1. Daton Fix\n",
    "2. Thomas Gilman\n",
    "3. Zane Richards\n",
    "4. Vitali Arujau\n",
    "5. Darian Cruz\n",
    "6. Nathan Tomasello\n",
    "7. Frank Perrelli\n",
    "8. Zach Sanders"
   ]
  },
  {
   "cell_type": "code",
   "execution_count": 321,
   "metadata": {
    "ExecuteTime": {
     "end_time": "2019-11-24T03:29:29.691490Z",
     "start_time": "2019-11-24T03:29:29.688337Z"
    }
   },
   "outputs": [],
   "source": [
    "kgs57 = df[df['Weight'] == 57]"
   ]
  },
  {
   "cell_type": "markdown",
   "metadata": {},
   "source": [
    "#### Distributions\n",
    "This section focuses on illustrating the distribution of Results and ShotTypes for this event."
   ]
  },
  {
   "cell_type": "markdown",
   "metadata": {},
   "source": [
    "Techs are the most common result followed by Decisions and then Falls as is typical with a Freestyle event."
   ]
  },
  {
   "cell_type": "code",
   "execution_count": 499,
   "metadata": {
    "ExecuteTime": {
     "end_time": "2019-11-24T03:29:39.263044Z",
     "start_time": "2019-11-24T03:29:39.102694Z"
    },
    "scrolled": false
   },
   "outputs": [
    {
     "name": "stdout",
     "output_type": "stream",
     "text": [
      "Distributions of match results.\n"
     ]
    },
    {
     "data": {
      "image/png": "[encoded data removed]",
      "text/plain": [
       "<Figure size 360x360 with 1 Axes>"
      ]
     },
     "metadata": {
      "needs_background": "light"
     },
     "output_type": "display_data"
    }
   ],
   "source": [
    "print('Distributions of match results.')\n",
    "sns.catplot(\"Result\", data=kgs57[kgs57['MatchID'].map(len) == 4], kind=\"count\")\n",
    "g.set_xticklabels(rotation=30)\n",
    "plt.show()\n",
    "\n",
    "# somehow order so can use palatte for win/loss"
   ]
  },
  {
   "cell_type": "markdown",
   "metadata": {},
   "source": [
    "GBa will almost exclusively be #1 on this list due to the large variety of conditions under which it is recorded.  More interesting is the high GBrate and even higher HIrate at this weight.  Other ShotTypes follow their corresponding attempts patterns."
   ]
  },
  {
   "cell_type": "code",
   "execution_count": 405,
   "metadata": {
    "ExecuteTime": {
     "end_time": "2019-11-24T03:29:44.309828Z",
     "start_time": "2019-11-24T03:29:44.032152Z"
    }
   },
   "outputs": [
    {
     "data": {
      "image/png": "[encoded data removed]",
      "text/plain": [
       "<Figure size 432x288 with 1 Axes>"
      ]
     },
     "metadata": {
      "needs_background": "light"
     },
     "output_type": "display_data"
    },
    {
     "data": {
      "image/png": "[encoded data removed]",
      "text/plain": [
       "<Figure size 432x288 with 1 Axes>"
      ]
     },
     "metadata": {
      "needs_background": "light"
     },
     "output_type": "display_data"
    }
   ],
   "source": [
    "sns.barplot(x='index', y='Shots', \n",
    "            data=kgs57.sum()[['HIa', 'HOa', 'Da', 'LSa', 'GBa', 'Ta']]\\\n",
    "            .rename('Shots').reset_index())\n",
    "plt.show()\n",
    "sns.barplot(x='index', y='ConversionRate', \n",
    "            data=kgs57.mean()[['HIrate', 'HOrate', 'Drate', 'LSrate', 'GBrate', 'Trate']]\\\n",
    "            .rename('ConversionRate').reset_index())\n",
    "plt.show()"
   ]
  },
  {
   "cell_type": "markdown",
   "metadata": {},
   "source": [
    "#### Trends\n",
    "This section focuses on identifying key metrics for success at this weight (at this event).  \n",
    "The analysis does not take into consideration the value of more powerful results.  In otherwords, correlations are done only on binary win/loss results and **not** on the degree of the result.  So a strong correlation indicates a higher relationship with winning but **not** the degree of winning.\n",
    "\n",
    "Remember correlations range from -1 to +1 the former representating a strong relationship with a negative outcome (in this case losing the match) and the latter representation a strong relationship with a positive outcome (i.e. winning a match).  Correlations closer to 0 represent weak relationships and correlations around 0.5 represent moderate relationships."
   ]
  },
  {
   "cell_type": "code",
   "execution_count": 627,
   "metadata": {
    "ExecuteTime": {
     "end_time": "2019-11-24T03:29:51.284890Z",
     "start_time": "2019-11-24T03:29:51.122359Z"
    },
    "scrolled": true
   },
   "outputs": [
    {
     "name": "stdout",
     "output_type": "stream",
     "text": [
      "Top actions for 57kgs at this event.\n"
     ]
    },
    {
     "data": {
      "image/png": "[encoded data removed]",
      "text/plain": [
       "<Figure size 432x288 with 1 Axes>"
      ]
     },
     "metadata": {
      "needs_background": "light"
     },
     "output_type": "display_data"
    }
   ],
   "source": [
    "print('Top actions for 57kgs at this event.')\n",
    "sns.barplot(x='index', y='BinaryResult',\n",
    "    data=kgs57[base_cols].corr().round(2).sort_values(by=['BinaryResult'], ascending=False)['BinaryResult'][1:6].reset_index())\n",
    "plt.show()"
   ]
  },
  {
   "cell_type": "markdown",
   "metadata": {
    "hide_input": false
   },
   "source": [
    "### 92 kilos <sup>69 matches</sup>\n",
    "\n",
    "#### Placements\n",
    "1. Daton Fix\n",
    "2. Thomas Gilman\n",
    "3. Zane Richards\n",
    "4. Vitali Arujau\n",
    "5. Darian Cruz\n",
    "6. Nathan Tomasello\n",
    "7. Frank Perrelli\n",
    "8. Zach Sanders"
   ]
  },
  {
   "cell_type": "code",
   "execution_count": 321,
   "metadata": {
    "ExecuteTime": {
     "end_time": "2019-11-24T03:29:29.691490Z",
     "start_time": "2019-11-24T03:29:29.688337Z"
    }
   },
   "outputs": [],
   "source": [
    "kgs57 = df[df['Weight'] == 57]"
   ]
  },
  {
   "cell_type": "markdown",
   "metadata": {},
   "source": [
    "#### Distributions\n",
    "This section focuses on illustrating the distribution of Results and ShotTypes for this event."
   ]
  },
  {
   "cell_type": "markdown",
   "metadata": {},
   "source": [
    "Techs are the most common result followed by Decisions and then Falls as is typical with a Freestyle event."
   ]
  },
  {
   "cell_type": "code",
   "execution_count": 499,
   "metadata": {
    "ExecuteTime": {
     "end_time": "2019-11-24T03:29:39.263044Z",
     "start_time": "2019-11-24T03:29:39.102694Z"
    },
    "scrolled": false
   },
   "outputs": [
    {
     "name": "stdout",
     "output_type": "stream",
     "text": [
      "Distributions of match results.\n"
     ]
    },
    {
     "data": {
      "image/png": "[encoded data removed]",
      "text/plain": [
       "<Figure size 360x360 with 1 Axes>"
      ]
     },
     "metadata": {
      "needs_background": "light"
     },
     "output_type": "display_data"
    }
   ],
   "source": [
    "print('Distributions of match results.')\n",
    "sns.catplot(\"Result\", data=kgs57[kgs57['MatchID'].map(len) == 4], kind=\"count\")\n",
    "g.set_xticklabels(rotation=30)\n",
    "plt.show()\n",
    "\n",
    "# somehow order so can use palatte for win/loss"
   ]
  },
  {
   "cell_type": "markdown",
   "metadata": {},
   "source": [
    "GBa will almost exclusively be #1 on this list due to the large variety of conditions under which it is recorded.  More interesting is the high GBrate and even higher HIrate at this weight.  Other ShotTypes follow their corresponding attempts patterns."
   ]
  },
  {
   "cell_type": "code",
   "execution_count": 405,
   "metadata": {
    "ExecuteTime": {
     "end_time": "2019-11-24T03:29:44.309828Z",
     "start_time": "2019-11-24T03:29:44.032152Z"
    }
   },
   "outputs": [
    {
     "data": {
      "image/png": "[encoded data removed]",
      "text/plain": [
       "<Figure size 432x288 with 1 Axes>"
      ]
     },
     "metadata": {
      "needs_background": "light"
     },
     "output_type": "display_data"
    },
    {
     "data": {
      "image/png": "[encoded data removed]",
      "text/plain": [
       "<Figure size 432x288 with 1 Axes>"
      ]
     },
     "metadata": {
      "needs_background": "light"
     },
     "output_type": "display_data"
    }
   ],
   "source": [
    "sns.barplot(x='index', y='Shots', \n",
    "            data=kgs57.sum()[['HIa', 'HOa', 'Da', 'LSa', 'GBa', 'Ta']]\\\n",
    "            .rename('Shots').reset_index())\n",
    "plt.show()\n",
    "sns.barplot(x='index', y='ConversionRate', \n",
    "            data=kgs57.mean()[['HIrate', 'HOrate', 'Drate', 'LSrate', 'GBrate', 'Trate']]\\\n",
    "            .rename('ConversionRate').reset_index())\n",
    "plt.show()"
   ]
  },
  {
   "cell_type": "markdown",
   "metadata": {},
   "source": [
    "#### Trends\n",
    "This section focuses on identifying key metrics for success at this weight (at this event).  \n",
    "The analysis does not take into consideration the value of more powerful results.  In otherwords, correlations are done only on binary win/loss results and **not** on the degree of the result.  So a strong correlation indicates a higher relationship with winning but **not** the degree of winning.\n",
    "\n",
    "Remember correlations range from -1 to +1 the former representating a strong relationship with a negative outcome (in this case losing the match) and the latter representation a strong relationship with a positive outcome (i.e. winning a match).  Correlations closer to 0 represent weak relationships and correlations around 0.5 represent moderate relationships."
   ]
  },
  {
   "cell_type": "code",
   "execution_count": 627,
   "metadata": {
    "ExecuteTime": {
     "end_time": "2019-11-24T03:29:51.284890Z",
     "start_time": "2019-11-24T03:29:51.122359Z"
    },
    "scrolled": true
   },
   "outputs": [
    {
     "name": "stdout",
     "output_type": "stream",
     "text": [
      "Top actions for 57kgs at this event.\n"
     ]
    },
    {
     "data": {
      "image/png": "[encoded data removed]",
      "text/plain": [
       "<Figure size 432x288 with 1 Axes>"
      ]
     },
     "metadata": {
      "needs_background": "light"
     },
     "output_type": "display_data"
    }
   ],
   "source": [
    "print('Top actions for 57kgs at this event.')\n",
    "sns.barplot(x='index', y='BinaryResult',\n",
    "    data=kgs57[base_cols].corr().round(2).sort_values(by=['BinaryResult'], ascending=False)['BinaryResult'][1:6].reset_index())\n",
    "plt.show()"
   ]
  },
  {
   "cell_type": "markdown",
   "metadata": {
    "hide_input": false
   },
   "source": [
    "### 97 kilos <sup>69 matches</sup>\n",
    "\n",
    "#### Placements\n",
    "1. Daton Fix\n",
    "2. Thomas Gilman\n",
    "3. Zane Richards\n",
    "4. Vitali Arujau\n",
    "5. Darian Cruz\n",
    "6. Nathan Tomasello\n",
    "7. Frank Perrelli\n",
    "8. Zach Sanders"
   ]
  },
  {
   "cell_type": "code",
   "execution_count": 321,
   "metadata": {
    "ExecuteTime": {
     "end_time": "2019-11-24T03:29:29.691490Z",
     "start_time": "2019-11-24T03:29:29.688337Z"
    }
   },
   "outputs": [],
   "source": [
    "kgs57 = df[df['Weight'] == 57]"
   ]
  },
  {
   "cell_type": "markdown",
   "metadata": {},
   "source": [
    "#### Distributions\n",
    "This section focuses on illustrating the distribution of Results and ShotTypes for this event."
   ]
  },
  {
   "cell_type": "markdown",
   "metadata": {},
   "source": [
    "Techs are the most common result followed by Decisions and then Falls as is typical with a Freestyle event."
   ]
  },
  {
   "cell_type": "code",
   "execution_count": 499,
   "metadata": {
    "ExecuteTime": {
     "end_time": "2019-11-24T03:29:39.263044Z",
     "start_time": "2019-11-24T03:29:39.102694Z"
    },
    "scrolled": false
   },
   "outputs": [
    {
     "name": "stdout",
     "output_type": "stream",
     "text": [
      "Distributions of match results.\n"
     ]
    },
    {
     "data": {
      "image/png": "[encoded data removed]",
      "text/plain": [
       "<Figure size 360x360 with 1 Axes>"
      ]
     },
     "metadata": {
      "needs_background": "light"
     },
     "output_type": "display_data"
    }
   ],
   "source": [
    "print('Distributions of match results.')\n",
    "sns.catplot(\"Result\", data=kgs57[kgs57['MatchID'].map(len) == 4], kind=\"count\")\n",
    "g.set_xticklabels(rotation=30)\n",
    "plt.show()\n",
    "\n",
    "# somehow order so can use palatte for win/loss"
   ]
  },
  {
   "cell_type": "markdown",
   "metadata": {},
   "source": [
    "GBa will almost exclusively be #1 on this list due to the large variety of conditions under which it is recorded.  More interesting is the high GBrate and even higher HIrate at this weight.  Other ShotTypes follow their corresponding attempts patterns."
   ]
  },
  {
   "cell_type": "code",
   "execution_count": 405,
   "metadata": {
    "ExecuteTime": {
     "end_time": "2019-11-24T03:29:44.309828Z",
     "start_time": "2019-11-24T03:29:44.032152Z"
    }
   },
   "outputs": [
    {
     "data": {
      "image/png": "[encoded data removed]",
      "text/plain": [
       "<Figure size 432x288 with 1 Axes>"
      ]
     },
     "metadata": {
      "needs_background": "light"
     },
     "output_type": "display_data"
    },
    {
     "data": {
      "image/png": "[encoded data removed]",
      "text/plain": [
       "<Figure size 432x288 with 1 Axes>"
      ]
     },
     "metadata": {
      "needs_background": "light"
     },
     "output_type": "display_data"
    }
   ],
   "source": [
    "sns.barplot(x='index', y='Shots', \n",
    "            data=kgs57.sum()[['HIa', 'HOa', 'Da', 'LSa', 'GBa', 'Ta']]\\\n",
    "            .rename('Shots').reset_index())\n",
    "plt.show()\n",
    "sns.barplot(x='index', y='ConversionRate', \n",
    "            data=kgs57.mean()[['HIrate', 'HOrate', 'Drate', 'LSrate', 'GBrate', 'Trate']]\\\n",
    "            .rename('ConversionRate').reset_index())\n",
    "plt.show()"
   ]
  },
  {
   "cell_type": "markdown",
   "metadata": {},
   "source": [
    "#### Trends\n",
    "This section focuses on identifying key metrics for success at this weight (at this event).  \n",
    "The analysis does not take into consideration the value of more powerful results.  In otherwords, correlations are done only on binary win/loss results and **not** on the degree of the result.  So a strong correlation indicates a higher relationship with winning but **not** the degree of winning.\n",
    "\n",
    "Remember correlations range from -1 to +1 the former representating a strong relationship with a negative outcome (in this case losing the match) and the latter representation a strong relationship with a positive outcome (i.e. winning a match).  Correlations closer to 0 represent weak relationships and correlations around 0.5 represent moderate relationships."
   ]
  },
  {
   "cell_type": "code",
   "execution_count": 627,
   "metadata": {
    "ExecuteTime": {
     "end_time": "2019-11-24T03:29:51.284890Z",
     "start_time": "2019-11-24T03:29:51.122359Z"
    },
    "scrolled": true
   },
   "outputs": [
    {
     "name": "stdout",
     "output_type": "stream",
     "text": [
      "Top actions for 57kgs at this event.\n"
     ]
    },
    {
     "data": {
      "image/png": "[encoded data removed]",
      "text/plain": [
       "<Figure size 432x288 with 1 Axes>"
      ]
     },
     "metadata": {
      "needs_background": "light"
     },
     "output_type": "display_data"
    }
   ],
   "source": [
    "print('Top actions for 57kgs at this event.')\n",
    "sns.barplot(x='index', y='BinaryResult',\n",
    "    data=kgs57[base_cols].corr().round(2).sort_values(by=['BinaryResult'], ascending=False)['BinaryResult'][1:6].reset_index())\n",
    "plt.show()"
   ]
  },
  {
   "cell_type": "markdown",
   "metadata": {
    "hide_input": false
   },
   "source": [
    "### 125 kilos <sup>69 matches</sup>\n",
    "\n",
    "#### Placements\n",
    "1. Daton Fix\n",
    "2. Thomas Gilman\n",
    "3. Zane Richards\n",
    "4. Vitali Arujau\n",
    "5. Darian Cruz\n",
    "6. Nathan Tomasello\n",
    "7. Frank Perrelli\n",
    "8. Zach Sanders"
   ]
  },
  {
   "cell_type": "code",
   "execution_count": 321,
   "metadata": {
    "ExecuteTime": {
     "end_time": "2019-11-24T03:29:29.691490Z",
     "start_time": "2019-11-24T03:29:29.688337Z"
    }
   },
   "outputs": [],
   "source": [
    "kgs57 = df[df['Weight'] == 57]"
   ]
  },
  {
   "cell_type": "markdown",
   "metadata": {},
   "source": [
    "#### Distributions\n",
    "This section focuses on illustrating the distribution of Results and ShotTypes for this event."
   ]
  },
  {
   "cell_type": "markdown",
   "metadata": {},
   "source": [
    "Techs are the most common result followed by Decisions and then Falls as is typical with a Freestyle event."
   ]
  },
  {
   "cell_type": "code",
   "execution_count": 499,
   "metadata": {
    "ExecuteTime": {
     "end_time": "2019-11-24T03:29:39.263044Z",
     "start_time": "2019-11-24T03:29:39.102694Z"
    },
    "scrolled": false
   },
   "outputs": [
    {
     "name": "stdout",
     "output_type": "stream",
     "text": [
      "Distributions of match results.\n"
     ]
    },
    {
     "data": {
      "image/png": "[encoded data removed]",
      "text/plain": [
       "<Figure size 360x360 with 1 Axes>"
      ]
     },
     "metadata": {
      "needs_background": "light"
     },
     "output_type": "display_data"
    }
   ],
   "source": [
    "print('Distributions of match results.')\n",
    "sns.catplot(\"Result\", data=kgs57[kgs57['MatchID'].map(len) == 4], kind=\"count\")\n",
    "g.set_xticklabels(rotation=30)\n",
    "plt.show()\n",
    "\n",
    "# somehow order so can use palatte for win/loss"
   ]
  },
  {
   "cell_type": "markdown",
   "metadata": {},
   "source": [
    "GBa will almost exclusively be #1 on this list due to the large variety of conditions under which it is recorded.  More interesting is the high GBrate and even higher HIrate at this weight.  Other ShotTypes follow their corresponding attempts patterns."
   ]
  },
  {
   "cell_type": "code",
   "execution_count": 405,
   "metadata": {
    "ExecuteTime": {
     "end_time": "2019-11-24T03:29:44.309828Z",
     "start_time": "2019-11-24T03:29:44.032152Z"
    }
   },
   "outputs": [
    {
     "data": {
      "image/png": "[encoded data removed]",
      "text/plain": [
       "<Figure size 432x288 with 1 Axes>"
      ]
     },
     "metadata": {
      "needs_background": "light"
     },
     "output_type": "display_data"
    },
    {
     "data": {
      "image/png": "[encoded data removed]",
      "text/plain": [
       "<Figure size 432x288 with 1 Axes>"
      ]
     },
     "metadata": {
      "needs_background": "light"
     },
     "output_type": "display_data"
    }
   ],
   "source": [
    "sns.barplot(x='index', y='Shots', \n",
    "            data=kgs57.sum()[['HIa', 'HOa', 'Da', 'LSa', 'GBa', 'Ta']]\\\n",
    "            .rename('Shots').reset_index())\n",
    "plt.show()\n",
    "sns.barplot(x='index', y='ConversionRate', \n",
    "            data=kgs57.mean()[['HIrate', 'HOrate', 'Drate', 'LSrate', 'GBrate', 'Trate']]\\\n",
    "            .rename('ConversionRate').reset_index())\n",
    "plt.show()"
   ]
  },
  {
   "cell_type": "markdown",
   "metadata": {},
   "source": [
    "#### Trends\n",
    "This section focuses on identifying key metrics for success at this weight (at this event).  \n",
    "The analysis does not take into consideration the value of more powerful results.  In otherwords, correlations are done only on binary win/loss results and **not** on the degree of the result.  So a strong correlation indicates a higher relationship with winning but **not** the degree of winning.\n",
    "\n",
    "Remember correlations range from -1 to +1 the former representating a strong relationship with a negative outcome (in this case losing the match) and the latter representation a strong relationship with a positive outcome (i.e. winning a match).  Correlations closer to 0 represent weak relationships and correlations around 0.5 represent moderate relationships."
   ]
  },
  {
   "cell_type": "code",
   "execution_count": 627,
   "metadata": {
    "ExecuteTime": {
     "end_time": "2019-11-24T03:29:51.284890Z",
     "start_time": "2019-11-24T03:29:51.122359Z"
    },
    "scrolled": true
   },
   "outputs": [
    {
     "name": "stdout",
     "output_type": "stream",
     "text": [
      "Top actions for 57kgs at this event.\n"
     ]
    },
    {
     "data": {
      "image/png": "[encoded data removed]",
      "text/plain": [
       "<Figure size 432x288 with 1 Axes>"
      ]
     },
     "metadata": {
      "needs_background": "light"
     },
     "output_type": "display_data"
    }
   ],
   "source": [
    "print('Top actions for 57kgs at this event.')\n",
    "sns.barplot(x='index', y='BinaryResult',\n",
    "    data=kgs57[base_cols].corr().round(2).sort_values(by=['BinaryResult'], ascending=False)['BinaryResult'][1:6].reset_index())\n",
    "plt.show()"
   ]
  },
  {
   "cell_type": "markdown",
   "metadata": {},
   "source": [
    "### Comparison\n",
    "The comparison between weight classes will focus mostly on Shot Types and Point Distributions as opposed to the result-based distribution above. "
   ]
  },
  {
   "cell_type": "markdown",
   "metadata": {},
   "source": [
    "Below is a table illustrating different Shot Type conversion rates for the various weight classes.  This table can be interpreted multiple ways.  For instance, is a low shot conversion rate due to wrestlers at that weight being incapable/inefficient at finishing, or is it a sign that opponents at that weight are excellent defenders of that shot?  The following discussion attempts to take both of these perspectives into consideration.  \n",
    "\n",
    "Firstly, it is important to state that top scores for a particular column (or shot type) are highlighted in blue, while bottom scores are highlighted in gold.  This table should be read across (left to right), checking the weight class and then identifying its highest/lowest values.  Knowing this, we can clearly identify the best/worst weight class for any given shot type.  We can see, for example, that 74kgs has the highest Throw-rate.  Interestingly, 125kgs has the highest GBrate... perhaps because of their size.\n",
    "\n",
    "What may appear less obvious are some trends.  For example, that 61kgs is the worst in two categories (LS and GB) as is 79kgs (HO and D and the lowest overall average) but **no** weight is the best in two categories.  This showcases the diversity of competing at different weights.   65kgs has the highest overall average, but most scores are in the teens. \n",
    "\n",
    "Further, some athletes or coaches may find this chart interesting to compare the dynamics of different weight classes in the neutral position.  However, these numbers do not represent correlations to success but only raw averages, so bear that in mind. "
   ]
  },
  {
   "cell_type": "code",
   "execution_count": 645,
   "metadata": {
    "ExecuteTime": {
     "end_time": "2019-11-24T02:40:42.391436Z",
     "start_time": "2019-11-24T02:40:42.108528Z"
    },
    "scrolled": false
   },
   "outputs": [
    {
     "data": {
      "text/html": [
       "<style  type=\"text/css\" >\n",
       "    #T_cee4d168_0e63_11ea_a2af_112bae252c4drow0_col0 {\n",
       "            background-color:  lightblue;\n",
       "            : ;\n",
       "        }    #T_cee4d168_0e63_11ea_a2af_112bae252c4drow0_col5 {\n",
       "            : ;\n",
       "            background-color:  gold;\n",
       "        }    #T_cee4d168_0e63_11ea_a2af_112bae252c4drow1_col3 {\n",
       "            : ;\n",
       "            background-color:  gold;\n",
       "        }    #T_cee4d168_0e63_11ea_a2af_112bae252c4drow1_col4 {\n",
       "            : ;\n",
       "            background-color:  gold;\n",
       "        }    #T_cee4d168_0e63_11ea_a2af_112bae252c4drow2_col1 {\n",
       "            background-color:  lightblue;\n",
       "            : ;\n",
       "        }    #T_cee4d168_0e63_11ea_a2af_112bae252c4drow2_col6 {\n",
       "            background-color:  lightblue;\n",
       "            : ;\n",
       "        }    #T_cee4d168_0e63_11ea_a2af_112bae252c4drow4_col5 {\n",
       "            background-color:  lightblue;\n",
       "            : ;\n",
       "        }    #T_cee4d168_0e63_11ea_a2af_112bae252c4drow5_col1 {\n",
       "            : ;\n",
       "            background-color:  gold;\n",
       "        }    #T_cee4d168_0e63_11ea_a2af_112bae252c4drow5_col2 {\n",
       "            : ;\n",
       "            background-color:  gold;\n",
       "        }    #T_cee4d168_0e63_11ea_a2af_112bae252c4drow5_col6 {\n",
       "            : ;\n",
       "            background-color:  gold;\n",
       "        }    #T_cee4d168_0e63_11ea_a2af_112bae252c4drow7_col3 {\n",
       "            background-color:  lightblue;\n",
       "            : ;\n",
       "        }    #T_cee4d168_0e63_11ea_a2af_112bae252c4drow8_col0 {\n",
       "            : ;\n",
       "            background-color:  gold;\n",
       "        }    #T_cee4d168_0e63_11ea_a2af_112bae252c4drow8_col2 {\n",
       "            background-color:  lightblue;\n",
       "            : ;\n",
       "        }    #T_cee4d168_0e63_11ea_a2af_112bae252c4drow9_col4 {\n",
       "            background-color:  lightblue;\n",
       "            : ;\n",
       "        }</style><table id=\"T_cee4d168_0e63_11ea_a2af_112bae252c4d\" ><thead>    <tr>        <th class=\"blank level0\" ></th>        <th class=\"col_heading level0 col0\" >HIrate</th>        <th class=\"col_heading level0 col1\" >HOrate</th>        <th class=\"col_heading level0 col2\" >Drate</th>        <th class=\"col_heading level0 col3\" >LSrate</th>        <th class=\"col_heading level0 col4\" >GBrate</th>        <th class=\"col_heading level0 col5\" >Trate</th>        <th class=\"col_heading level0 col6\" >AverageRate</th>    </tr>    <tr>        <th class=\"index_name level0\" >Weight</th>        <th class=\"blank\" ></th>        <th class=\"blank\" ></th>        <th class=\"blank\" ></th>        <th class=\"blank\" ></th>        <th class=\"blank\" ></th>        <th class=\"blank\" ></th>        <th class=\"blank\" ></th>    </tr></thead><tbody>\n",
       "                <tr>\n",
       "                        <th id=\"T_cee4d168_0e63_11ea_a2af_112bae252c4dlevel0_row0\" class=\"row_heading level0 row0\" >57</th>\n",
       "                        <td id=\"T_cee4d168_0e63_11ea_a2af_112bae252c4drow0_col0\" class=\"data row0 col0\" >21.4009</td>\n",
       "                        <td id=\"T_cee4d168_0e63_11ea_a2af_112bae252c4drow0_col1\" class=\"data row0 col1\" >12.7415</td>\n",
       "                        <td id=\"T_cee4d168_0e63_11ea_a2af_112bae252c4drow0_col2\" class=\"data row0 col2\" >9.2029</td>\n",
       "                        <td id=\"T_cee4d168_0e63_11ea_a2af_112bae252c4drow0_col3\" class=\"data row0 col3\" >11.2923</td>\n",
       "                        <td id=\"T_cee4d168_0e63_11ea_a2af_112bae252c4drow0_col4\" class=\"data row0 col4\" >15.5132</td>\n",
       "                        <td id=\"T_cee4d168_0e63_11ea_a2af_112bae252c4drow0_col5\" class=\"data row0 col5\" >6.15942</td>\n",
       "                        <td id=\"T_cee4d168_0e63_11ea_a2af_112bae252c4drow0_col6\" class=\"data row0 col6\" >12.7184</td>\n",
       "            </tr>\n",
       "            <tr>\n",
       "                        <th id=\"T_cee4d168_0e63_11ea_a2af_112bae252c4dlevel0_row1\" class=\"row_heading level0 row1\" >61</th>\n",
       "                        <td id=\"T_cee4d168_0e63_11ea_a2af_112bae252c4drow1_col0\" class=\"data row1 col0\" >21.0245</td>\n",
       "                        <td id=\"T_cee4d168_0e63_11ea_a2af_112bae252c4drow1_col1\" class=\"data row1 col1\" >11.9809</td>\n",
       "                        <td id=\"T_cee4d168_0e63_11ea_a2af_112bae252c4drow1_col2\" class=\"data row1 col2\" >10.8607</td>\n",
       "                        <td id=\"T_cee4d168_0e63_11ea_a2af_112bae252c4drow1_col3\" class=\"data row1 col3\" >7.37705</td>\n",
       "                        <td id=\"T_cee4d168_0e63_11ea_a2af_112bae252c4drow1_col4\" class=\"data row1 col4\" >10.9027</td>\n",
       "                        <td id=\"T_cee4d168_0e63_11ea_a2af_112bae252c4drow1_col5\" class=\"data row1 col5\" >13.1148</td>\n",
       "                        <td id=\"T_cee4d168_0e63_11ea_a2af_112bae252c4drow1_col6\" class=\"data row1 col6\" >12.5434</td>\n",
       "            </tr>\n",
       "            <tr>\n",
       "                        <th id=\"T_cee4d168_0e63_11ea_a2af_112bae252c4dlevel0_row2\" class=\"row_heading level0 row2\" >65</th>\n",
       "                        <td id=\"T_cee4d168_0e63_11ea_a2af_112bae252c4drow2_col0\" class=\"data row2 col0\" >18.6891</td>\n",
       "                        <td id=\"T_cee4d168_0e63_11ea_a2af_112bae252c4drow2_col1\" class=\"data row2 col1\" >14.0398</td>\n",
       "                        <td id=\"T_cee4d168_0e63_11ea_a2af_112bae252c4drow2_col2\" class=\"data row2 col2\" >17.1376</td>\n",
       "                        <td id=\"T_cee4d168_0e63_11ea_a2af_112bae252c4drow2_col3\" class=\"data row2 col3\" >10.6974</td>\n",
       "                        <td id=\"T_cee4d168_0e63_11ea_a2af_112bae252c4drow2_col4\" class=\"data row2 col4\" >15.7615</td>\n",
       "                        <td id=\"T_cee4d168_0e63_11ea_a2af_112bae252c4drow2_col5\" class=\"data row2 col5\" >13.0978</td>\n",
       "                        <td id=\"T_cee4d168_0e63_11ea_a2af_112bae252c4drow2_col6\" class=\"data row2 col6\" >14.9039</td>\n",
       "            </tr>\n",
       "            <tr>\n",
       "                        <th id=\"T_cee4d168_0e63_11ea_a2af_112bae252c4dlevel0_row3\" class=\"row_heading level0 row3\" >70</th>\n",
       "                        <td id=\"T_cee4d168_0e63_11ea_a2af_112bae252c4drow3_col0\" class=\"data row3 col0\" >17.3436</td>\n",
       "                        <td id=\"T_cee4d168_0e63_11ea_a2af_112bae252c4drow3_col1\" class=\"data row3 col1\" >9.50521</td>\n",
       "                        <td id=\"T_cee4d168_0e63_11ea_a2af_112bae252c4drow3_col2\" class=\"data row3 col2\" >17.2917</td>\n",
       "                        <td id=\"T_cee4d168_0e63_11ea_a2af_112bae252c4drow3_col3\" class=\"data row3 col3\" >11.3678</td>\n",
       "                        <td id=\"T_cee4d168_0e63_11ea_a2af_112bae252c4drow3_col4\" class=\"data row3 col4\" >17.5979</td>\n",
       "                        <td id=\"T_cee4d168_0e63_11ea_a2af_112bae252c4drow3_col5\" class=\"data row3 col5\" >8.33333</td>\n",
       "                        <td id=\"T_cee4d168_0e63_11ea_a2af_112bae252c4drow3_col6\" class=\"data row3 col6\" >13.5733</td>\n",
       "            </tr>\n",
       "            <tr>\n",
       "                        <th id=\"T_cee4d168_0e63_11ea_a2af_112bae252c4dlevel0_row4\" class=\"row_heading level0 row4\" >74</th>\n",
       "                        <td id=\"T_cee4d168_0e63_11ea_a2af_112bae252c4drow4_col0\" class=\"data row4 col0\" >12.4336</td>\n",
       "                        <td id=\"T_cee4d168_0e63_11ea_a2af_112bae252c4drow4_col1\" class=\"data row4 col1\" >5.7971</td>\n",
       "                        <td id=\"T_cee4d168_0e63_11ea_a2af_112bae252c4drow4_col2\" class=\"data row4 col2\" >12.4637</td>\n",
       "                        <td id=\"T_cee4d168_0e63_11ea_a2af_112bae252c4drow4_col3\" class=\"data row4 col3\" >14.5652</td>\n",
       "                        <td id=\"T_cee4d168_0e63_11ea_a2af_112bae252c4drow4_col4\" class=\"data row4 col4\" >14.4469</td>\n",
       "                        <td id=\"T_cee4d168_0e63_11ea_a2af_112bae252c4drow4_col5\" class=\"data row4 col5\" >17.029</td>\n",
       "                        <td id=\"T_cee4d168_0e63_11ea_a2af_112bae252c4drow4_col6\" class=\"data row4 col6\" >12.7892</td>\n",
       "            </tr>\n",
       "            <tr>\n",
       "                        <th id=\"T_cee4d168_0e63_11ea_a2af_112bae252c4dlevel0_row5\" class=\"row_heading level0 row5\" >79</th>\n",
       "                        <td id=\"T_cee4d168_0e63_11ea_a2af_112bae252c4drow5_col0\" class=\"data row5 col0\" >15.7861</td>\n",
       "                        <td id=\"T_cee4d168_0e63_11ea_a2af_112bae252c4drow5_col1\" class=\"data row5 col1\" >1.31406</td>\n",
       "                        <td id=\"T_cee4d168_0e63_11ea_a2af_112bae252c4drow5_col2\" class=\"data row5 col2\" >7.23274</td>\n",
       "                        <td id=\"T_cee4d168_0e63_11ea_a2af_112bae252c4drow5_col3\" class=\"data row5 col3\" >9.86632</td>\n",
       "                        <td id=\"T_cee4d168_0e63_11ea_a2af_112bae252c4drow5_col4\" class=\"data row5 col4\" >14.2193</td>\n",
       "                        <td id=\"T_cee4d168_0e63_11ea_a2af_112bae252c4drow5_col5\" class=\"data row5 col5\" >10.3774</td>\n",
       "                        <td id=\"T_cee4d168_0e63_11ea_a2af_112bae252c4drow5_col6\" class=\"data row5 col6\" >9.79932</td>\n",
       "            </tr>\n",
       "            <tr>\n",
       "                        <th id=\"T_cee4d168_0e63_11ea_a2af_112bae252c4dlevel0_row6\" class=\"row_heading level0 row6\" >86</th>\n",
       "                        <td id=\"T_cee4d168_0e63_11ea_a2af_112bae252c4drow6_col0\" class=\"data row6 col0\" >20.7967</td>\n",
       "                        <td id=\"T_cee4d168_0e63_11ea_a2af_112bae252c4drow6_col1\" class=\"data row6 col1\" >4.89449</td>\n",
       "                        <td id=\"T_cee4d168_0e63_11ea_a2af_112bae252c4drow6_col2\" class=\"data row6 col2\" >9.78899</td>\n",
       "                        <td id=\"T_cee4d168_0e63_11ea_a2af_112bae252c4drow6_col3\" class=\"data row6 col3\" >16.192</td>\n",
       "                        <td id=\"T_cee4d168_0e63_11ea_a2af_112bae252c4drow6_col4\" class=\"data row6 col4\" >15.3613</td>\n",
       "                        <td id=\"T_cee4d168_0e63_11ea_a2af_112bae252c4drow6_col5\" class=\"data row6 col5\" >11.9198</td>\n",
       "                        <td id=\"T_cee4d168_0e63_11ea_a2af_112bae252c4drow6_col6\" class=\"data row6 col6\" >13.1589</td>\n",
       "            </tr>\n",
       "            <tr>\n",
       "                        <th id=\"T_cee4d168_0e63_11ea_a2af_112bae252c4dlevel0_row7\" class=\"row_heading level0 row7\" >92</th>\n",
       "                        <td id=\"T_cee4d168_0e63_11ea_a2af_112bae252c4drow7_col0\" class=\"data row7 col0\" >14.6857</td>\n",
       "                        <td id=\"T_cee4d168_0e63_11ea_a2af_112bae252c4drow7_col1\" class=\"data row7 col1\" >13.2923</td>\n",
       "                        <td id=\"T_cee4d168_0e63_11ea_a2af_112bae252c4drow7_col2\" class=\"data row7 col2\" >8.60656</td>\n",
       "                        <td id=\"T_cee4d168_0e63_11ea_a2af_112bae252c4drow7_col3\" class=\"data row7 col3\" >17.0766</td>\n",
       "                        <td id=\"T_cee4d168_0e63_11ea_a2af_112bae252c4drow7_col4\" class=\"data row7 col4\" >12.7985</td>\n",
       "                        <td id=\"T_cee4d168_0e63_11ea_a2af_112bae252c4drow7_col5\" class=\"data row7 col5\" >7.37705</td>\n",
       "                        <td id=\"T_cee4d168_0e63_11ea_a2af_112bae252c4drow7_col6\" class=\"data row7 col6\" >12.3061</td>\n",
       "            </tr>\n",
       "            <tr>\n",
       "                        <th id=\"T_cee4d168_0e63_11ea_a2af_112bae252c4dlevel0_row8\" class=\"row_heading level0 row8\" >97</th>\n",
       "                        <td id=\"T_cee4d168_0e63_11ea_a2af_112bae252c4drow8_col0\" class=\"data row8 col0\" >11.5105</td>\n",
       "                        <td id=\"T_cee4d168_0e63_11ea_a2af_112bae252c4drow8_col1\" class=\"data row8 col1\" >13.9639</td>\n",
       "                        <td id=\"T_cee4d168_0e63_11ea_a2af_112bae252c4drow8_col2\" class=\"data row8 col2\" >18.018</td>\n",
       "                        <td id=\"T_cee4d168_0e63_11ea_a2af_112bae252c4drow8_col3\" class=\"data row8 col3\" >11.7116</td>\n",
       "                        <td id=\"T_cee4d168_0e63_11ea_a2af_112bae252c4drow8_col4\" class=\"data row8 col4\" >16.065</td>\n",
       "                        <td id=\"T_cee4d168_0e63_11ea_a2af_112bae252c4drow8_col5\" class=\"data row8 col5\" >10.1351</td>\n",
       "                        <td id=\"T_cee4d168_0e63_11ea_a2af_112bae252c4drow8_col6\" class=\"data row8 col6\" >13.5674</td>\n",
       "            </tr>\n",
       "            <tr>\n",
       "                        <th id=\"T_cee4d168_0e63_11ea_a2af_112bae252c4dlevel0_row9\" class=\"row_heading level0 row9\" >125</th>\n",
       "                        <td id=\"T_cee4d168_0e63_11ea_a2af_112bae252c4drow9_col0\" class=\"data row9 col0\" >19.2444</td>\n",
       "                        <td id=\"T_cee4d168_0e63_11ea_a2af_112bae252c4drow9_col1\" class=\"data row9 col1\" >3.0222</td>\n",
       "                        <td id=\"T_cee4d168_0e63_11ea_a2af_112bae252c4drow9_col2\" class=\"data row9 col2\" >7.7778</td>\n",
       "                        <td id=\"T_cee4d168_0e63_11ea_a2af_112bae252c4drow9_col3\" class=\"data row9 col3\" >9.35553</td>\n",
       "                        <td id=\"T_cee4d168_0e63_11ea_a2af_112bae252c4drow9_col4\" class=\"data row9 col4\" >19.2365</td>\n",
       "                        <td id=\"T_cee4d168_0e63_11ea_a2af_112bae252c4drow9_col5\" class=\"data row9 col5\" >11.6667</td>\n",
       "                        <td id=\"T_cee4d168_0e63_11ea_a2af_112bae252c4drow9_col6\" class=\"data row9 col6\" >11.7172</td>\n",
       "            </tr>\n",
       "    </tbody></table>"
      ],
      "text/plain": [
       "<pandas.io.formats.style.Styler at 0x7f39704a57d0>"
      ]
     },
     "metadata": {},
     "output_type": "display_data"
    }
   ],
   "source": [
    "def highlight_max(s):\n",
    "    '''\n",
    "    highlight the maximum in a Series blue.\n",
    "    '''\n",
    "    is_max = s == s.max()\n",
    "    return ['background-color: lightblue' if v else '' for v in is_max]\n",
    "\n",
    "\n",
    "def highlight_min(s):\n",
    "    '''\n",
    "    highlight the minimum in a Series gold.\n",
    "    '''\n",
    "    is_max = s == s.min()\n",
    "    return ['background-color: gold' if v else '' for v in is_max]\n",
    "\n",
    "\n",
    "weight_shots = weight_grouped.mean()[['HIrate', 'HOrate', 'Drate', 'LSrate', 'GBrate', 'Trate']]\n",
    "weight_shots['AverageRate'] = weight_shots.mean(axis=1)\n",
    "display(weight_shots.style.apply(highlight_max).apply(highlight_min))"
   ]
  },
  {
   "cell_type": "markdown",
   "metadata": {},
   "source": [
    "The next table illustrates the various ways to earn points in a match (with the exception of opponent violations) and their highest/lowest values.  This table has the same highlighting as the previous one, but should be read vertically (top to bottom) first identifying the weight class of interest then locating its highest/lowest scores.   \n",
    "\n",
    "The scores in this table represent the average points earned per match by each action/technique for each weight class.  Similar to the table above this table has multiple possible interpretations.  For example, does an action/technique have a low value because it is executed poorly, defended well, ***or*** because it is rare and does not occur often?    \n",
    "\n",
    "Guts and GBc2 are clearly popular ways of scoring and account for almost identical (0.83 and 0.82 respectively) points per match.  Tc2 is obviously rare as you would expect most Throws to go for 4.  The same logic applies to all the leg attacks (HI, HO, D, LS) where it is less common to see a 4-point leg attack finish.    "
   ]
  },
  {
   "cell_type": "code",
   "execution_count": 683,
   "metadata": {
    "ExecuteTime": {
     "end_time": "2019-11-24T02:58:54.988549Z",
     "start_time": "2019-11-24T02:58:54.819178Z"
    },
    "hide_input": true
   },
   "outputs": [
    {
     "data": {
      "text/html": [
       "<style  type=\"text/css\" >\n",
       "    #T_5a218f62_0e66_11ea_a2af_112bae252c4drow1_col8 {\n",
       "            background-color:  gold;\n",
       "            : ;\n",
       "        }    #T_5a218f62_0e66_11ea_a2af_112bae252c4drow3_col2 {\n",
       "            background-color:  gold;\n",
       "            : ;\n",
       "        }    #T_5a218f62_0e66_11ea_a2af_112bae252c4drow3_col4 {\n",
       "            background-color:  gold;\n",
       "            : ;\n",
       "        }    #T_5a218f62_0e66_11ea_a2af_112bae252c4drow3_col5 {\n",
       "            background-color:  gold;\n",
       "            : ;\n",
       "        }    #T_5a218f62_0e66_11ea_a2af_112bae252c4drow3_col6 {\n",
       "            background-color:  gold;\n",
       "            : ;\n",
       "        }    #T_5a218f62_0e66_11ea_a2af_112bae252c4drow3_col9 {\n",
       "            background-color:  gold;\n",
       "            : ;\n",
       "        }    #T_5a218f62_0e66_11ea_a2af_112bae252c4drow5_col5 {\n",
       "            background-color:  gold;\n",
       "            : ;\n",
       "        }    #T_5a218f62_0e66_11ea_a2af_112bae252c4drow7_col0 {\n",
       "            background-color:  gold;\n",
       "            : ;\n",
       "        }    #T_5a218f62_0e66_11ea_a2af_112bae252c4drow7_col1 {\n",
       "            background-color:  gold;\n",
       "            : ;\n",
       "        }    #T_5a218f62_0e66_11ea_a2af_112bae252c4drow7_col4 {\n",
       "            background-color:  gold;\n",
       "            : ;\n",
       "        }    #T_5a218f62_0e66_11ea_a2af_112bae252c4drow7_col9 {\n",
       "            background-color:  gold;\n",
       "            : ;\n",
       "        }    #T_5a218f62_0e66_11ea_a2af_112bae252c4drow7_col10 {\n",
       "            background-color:  gold;\n",
       "            : ;\n",
       "        }    #T_5a218f62_0e66_11ea_a2af_112bae252c4drow8_col2 {\n",
       "            : ;\n",
       "            background-color:  lightblue;\n",
       "        }    #T_5a218f62_0e66_11ea_a2af_112bae252c4drow8_col3 {\n",
       "            : ;\n",
       "            background-color:  lightblue;\n",
       "        }    #T_5a218f62_0e66_11ea_a2af_112bae252c4drow8_col4 {\n",
       "            : ;\n",
       "            background-color:  lightblue;\n",
       "        }    #T_5a218f62_0e66_11ea_a2af_112bae252c4drow8_col5 {\n",
       "            : ;\n",
       "            background-color:  lightblue;\n",
       "        }    #T_5a218f62_0e66_11ea_a2af_112bae252c4drow8_col6 {\n",
       "            : ;\n",
       "            background-color:  lightblue;\n",
       "        }    #T_5a218f62_0e66_11ea_a2af_112bae252c4drow8_col9 {\n",
       "            : ;\n",
       "            background-color:  lightblue;\n",
       "        }    #T_5a218f62_0e66_11ea_a2af_112bae252c4drow8_col10 {\n",
       "            : ;\n",
       "            background-color:  lightblue;\n",
       "        }    #T_5a218f62_0e66_11ea_a2af_112bae252c4drow9_col3 {\n",
       "            background-color:  gold;\n",
       "            : ;\n",
       "        }    #T_5a218f62_0e66_11ea_a2af_112bae252c4drow9_col7 {\n",
       "            background-color:  gold;\n",
       "            : ;\n",
       "        }    #T_5a218f62_0e66_11ea_a2af_112bae252c4drow9_col8 {\n",
       "            background-color:  gold;\n",
       "            : ;\n",
       "        }    #T_5a218f62_0e66_11ea_a2af_112bae252c4drow12_col0 {\n",
       "            : ;\n",
       "            background-color:  lightblue;\n",
       "        }    #T_5a218f62_0e66_11ea_a2af_112bae252c4drow12_col1 {\n",
       "            : ;\n",
       "            background-color:  lightblue;\n",
       "        }    #T_5a218f62_0e66_11ea_a2af_112bae252c4drow12_col7 {\n",
       "            : ;\n",
       "            background-color:  lightblue;\n",
       "        }    #T_5a218f62_0e66_11ea_a2af_112bae252c4drow12_col8 {\n",
       "            : ;\n",
       "            background-color:  lightblue;\n",
       "        }</style><table id=\"T_5a218f62_0e66_11ea_a2af_112bae252c4d\" ><thead>    <tr>        <th class=\"index_name level0\" >Weight</th>        <th class=\"col_heading level0 col0\" >57</th>        <th class=\"col_heading level0 col1\" >61</th>        <th class=\"col_heading level0 col2\" >65</th>        <th class=\"col_heading level0 col3\" >70</th>        <th class=\"col_heading level0 col4\" >74</th>        <th class=\"col_heading level0 col5\" >79</th>        <th class=\"col_heading level0 col6\" >86</th>        <th class=\"col_heading level0 col7\" >92</th>        <th class=\"col_heading level0 col8\" >97</th>        <th class=\"col_heading level0 col9\" >125</th>        <th class=\"col_heading level0 col10\" >AvgPoints</th>    </tr></thead><tbody>\n",
       "                <tr>\n",
       "                        <th id=\"T_5a218f62_0e66_11ea_a2af_112bae252c4dlevel0_row0\" class=\"row_heading level0 row0\" >HIc2</th>\n",
       "                        <td id=\"T_5a218f62_0e66_11ea_a2af_112bae252c4drow0_col0\" class=\"data row0 col0\" >0.78</td>\n",
       "                        <td id=\"T_5a218f62_0e66_11ea_a2af_112bae252c4drow0_col1\" class=\"data row0 col1\" >0.74</td>\n",
       "                        <td id=\"T_5a218f62_0e66_11ea_a2af_112bae252c4drow0_col2\" class=\"data row0 col2\" >0.65</td>\n",
       "                        <td id=\"T_5a218f62_0e66_11ea_a2af_112bae252c4drow0_col3\" class=\"data row0 col3\" >0.75</td>\n",
       "                        <td id=\"T_5a218f62_0e66_11ea_a2af_112bae252c4drow0_col4\" class=\"data row0 col4\" >0.48</td>\n",
       "                        <td id=\"T_5a218f62_0e66_11ea_a2af_112bae252c4drow0_col5\" class=\"data row0 col5\" >0.49</td>\n",
       "                        <td id=\"T_5a218f62_0e66_11ea_a2af_112bae252c4drow0_col6\" class=\"data row0 col6\" >0.7</td>\n",
       "                        <td id=\"T_5a218f62_0e66_11ea_a2af_112bae252c4drow0_col7\" class=\"data row0 col7\" >0.49</td>\n",
       "                        <td id=\"T_5a218f62_0e66_11ea_a2af_112bae252c4drow0_col8\" class=\"data row0 col8\" >0.54</td>\n",
       "                        <td id=\"T_5a218f62_0e66_11ea_a2af_112bae252c4drow0_col9\" class=\"data row0 col9\" >0.52</td>\n",
       "                        <td id=\"T_5a218f62_0e66_11ea_a2af_112bae252c4drow0_col10\" class=\"data row0 col10\" >0.61</td>\n",
       "            </tr>\n",
       "            <tr>\n",
       "                        <th id=\"T_5a218f62_0e66_11ea_a2af_112bae252c4dlevel0_row1\" class=\"row_heading level0 row1\" >HIc4</th>\n",
       "                        <td id=\"T_5a218f62_0e66_11ea_a2af_112bae252c4drow1_col0\" class=\"data row1 col0\" >0.09</td>\n",
       "                        <td id=\"T_5a218f62_0e66_11ea_a2af_112bae252c4drow1_col1\" class=\"data row1 col1\" >0.03</td>\n",
       "                        <td id=\"T_5a218f62_0e66_11ea_a2af_112bae252c4drow1_col2\" class=\"data row1 col2\" >0.11</td>\n",
       "                        <td id=\"T_5a218f62_0e66_11ea_a2af_112bae252c4drow1_col3\" class=\"data row1 col3\" >0.05</td>\n",
       "                        <td id=\"T_5a218f62_0e66_11ea_a2af_112bae252c4drow1_col4\" class=\"data row1 col4\" >0.03</td>\n",
       "                        <td id=\"T_5a218f62_0e66_11ea_a2af_112bae252c4drow1_col5\" class=\"data row1 col5\" >0.06</td>\n",
       "                        <td id=\"T_5a218f62_0e66_11ea_a2af_112bae252c4drow1_col6\" class=\"data row1 col6\" >0.04</td>\n",
       "                        <td id=\"T_5a218f62_0e66_11ea_a2af_112bae252c4drow1_col7\" class=\"data row1 col7\" >0.08</td>\n",
       "                        <td id=\"T_5a218f62_0e66_11ea_a2af_112bae252c4drow1_col8\" class=\"data row1 col8\" >0.03</td>\n",
       "                        <td id=\"T_5a218f62_0e66_11ea_a2af_112bae252c4drow1_col9\" class=\"data row1 col9\" >0.08</td>\n",
       "                        <td id=\"T_5a218f62_0e66_11ea_a2af_112bae252c4drow1_col10\" class=\"data row1 col10\" >0.06</td>\n",
       "            </tr>\n",
       "            <tr>\n",
       "                        <th id=\"T_5a218f62_0e66_11ea_a2af_112bae252c4dlevel0_row2\" class=\"row_heading level0 row2\" >HOc2</th>\n",
       "                        <td id=\"T_5a218f62_0e66_11ea_a2af_112bae252c4drow2_col0\" class=\"data row2 col0\" >0.33</td>\n",
       "                        <td id=\"T_5a218f62_0e66_11ea_a2af_112bae252c4drow2_col1\" class=\"data row2 col1\" >0.34</td>\n",
       "                        <td id=\"T_5a218f62_0e66_11ea_a2af_112bae252c4drow2_col2\" class=\"data row2 col2\" >0.39</td>\n",
       "                        <td id=\"T_5a218f62_0e66_11ea_a2af_112bae252c4drow2_col3\" class=\"data row2 col3\" >0.2</td>\n",
       "                        <td id=\"T_5a218f62_0e66_11ea_a2af_112bae252c4drow2_col4\" class=\"data row2 col4\" >0.16</td>\n",
       "                        <td id=\"T_5a218f62_0e66_11ea_a2af_112bae252c4drow2_col5\" class=\"data row2 col5\" >0.04</td>\n",
       "                        <td id=\"T_5a218f62_0e66_11ea_a2af_112bae252c4drow2_col6\" class=\"data row2 col6\" >0.13</td>\n",
       "                        <td id=\"T_5a218f62_0e66_11ea_a2af_112bae252c4drow2_col7\" class=\"data row2 col7\" >0.41</td>\n",
       "                        <td id=\"T_5a218f62_0e66_11ea_a2af_112bae252c4drow2_col8\" class=\"data row2 col8\" >0.3</td>\n",
       "                        <td id=\"T_5a218f62_0e66_11ea_a2af_112bae252c4drow2_col9\" class=\"data row2 col9\" >0.08</td>\n",
       "                        <td id=\"T_5a218f62_0e66_11ea_a2af_112bae252c4drow2_col10\" class=\"data row2 col10\" >0.24</td>\n",
       "            </tr>\n",
       "            <tr>\n",
       "                        <th id=\"T_5a218f62_0e66_11ea_a2af_112bae252c4dlevel0_row3\" class=\"row_heading level0 row3\" >HOc4</th>\n",
       "                        <td id=\"T_5a218f62_0e66_11ea_a2af_112bae252c4drow3_col0\" class=\"data row3 col0\" >0.1</td>\n",
       "                        <td id=\"T_5a218f62_0e66_11ea_a2af_112bae252c4drow3_col1\" class=\"data row3 col1\" >0.08</td>\n",
       "                        <td id=\"T_5a218f62_0e66_11ea_a2af_112bae252c4drow3_col2\" class=\"data row3 col2\" >0.03</td>\n",
       "                        <td id=\"T_5a218f62_0e66_11ea_a2af_112bae252c4drow3_col3\" class=\"data row3 col3\" >0.05</td>\n",
       "                        <td id=\"T_5a218f62_0e66_11ea_a2af_112bae252c4drow3_col4\" class=\"data row3 col4\" >0</td>\n",
       "                        <td id=\"T_5a218f62_0e66_11ea_a2af_112bae252c4drow3_col5\" class=\"data row3 col5\" >0.02</td>\n",
       "                        <td id=\"T_5a218f62_0e66_11ea_a2af_112bae252c4drow3_col6\" class=\"data row3 col6\" >0.03</td>\n",
       "                        <td id=\"T_5a218f62_0e66_11ea_a2af_112bae252c4drow3_col7\" class=\"data row3 col7\" >0.08</td>\n",
       "                        <td id=\"T_5a218f62_0e66_11ea_a2af_112bae252c4drow3_col8\" class=\"data row3 col8\" >0.08</td>\n",
       "                        <td id=\"T_5a218f62_0e66_11ea_a2af_112bae252c4drow3_col9\" class=\"data row3 col9\" >0.01</td>\n",
       "                        <td id=\"T_5a218f62_0e66_11ea_a2af_112bae252c4drow3_col10\" class=\"data row3 col10\" >0.05</td>\n",
       "            </tr>\n",
       "            <tr>\n",
       "                        <th id=\"T_5a218f62_0e66_11ea_a2af_112bae252c4dlevel0_row4\" class=\"row_heading level0 row4\" >Dc2</th>\n",
       "                        <td id=\"T_5a218f62_0e66_11ea_a2af_112bae252c4drow4_col0\" class=\"data row4 col0\" >0.22</td>\n",
       "                        <td id=\"T_5a218f62_0e66_11ea_a2af_112bae252c4drow4_col1\" class=\"data row4 col1\" >0.33</td>\n",
       "                        <td id=\"T_5a218f62_0e66_11ea_a2af_112bae252c4drow4_col2\" class=\"data row4 col2\" >0.39</td>\n",
       "                        <td id=\"T_5a218f62_0e66_11ea_a2af_112bae252c4drow4_col3\" class=\"data row4 col3\" >0.55</td>\n",
       "                        <td id=\"T_5a218f62_0e66_11ea_a2af_112bae252c4drow4_col4\" class=\"data row4 col4\" >0.45</td>\n",
       "                        <td id=\"T_5a218f62_0e66_11ea_a2af_112bae252c4drow4_col5\" class=\"data row4 col5\" >0.21</td>\n",
       "                        <td id=\"T_5a218f62_0e66_11ea_a2af_112bae252c4drow4_col6\" class=\"data row4 col6\" >0.25</td>\n",
       "                        <td id=\"T_5a218f62_0e66_11ea_a2af_112bae252c4drow4_col7\" class=\"data row4 col7\" >0.26</td>\n",
       "                        <td id=\"T_5a218f62_0e66_11ea_a2af_112bae252c4drow4_col8\" class=\"data row4 col8\" >0.32</td>\n",
       "                        <td id=\"T_5a218f62_0e66_11ea_a2af_112bae252c4drow4_col9\" class=\"data row4 col9\" >0.13</td>\n",
       "                        <td id=\"T_5a218f62_0e66_11ea_a2af_112bae252c4drow4_col10\" class=\"data row4 col10\" >0.31</td>\n",
       "            </tr>\n",
       "            <tr>\n",
       "                        <th id=\"T_5a218f62_0e66_11ea_a2af_112bae252c4dlevel0_row5\" class=\"row_heading level0 row5\" >Dc4</th>\n",
       "                        <td id=\"T_5a218f62_0e66_11ea_a2af_112bae252c4drow5_col0\" class=\"data row5 col0\" >0.07</td>\n",
       "                        <td id=\"T_5a218f62_0e66_11ea_a2af_112bae252c4drow5_col1\" class=\"data row5 col1\" >0.08</td>\n",
       "                        <td id=\"T_5a218f62_0e66_11ea_a2af_112bae252c4drow5_col2\" class=\"data row5 col2\" >0.1</td>\n",
       "                        <td id=\"T_5a218f62_0e66_11ea_a2af_112bae252c4drow5_col3\" class=\"data row5 col3\" >0.11</td>\n",
       "                        <td id=\"T_5a218f62_0e66_11ea_a2af_112bae252c4drow5_col4\" class=\"data row5 col4\" >0.09</td>\n",
       "                        <td id=\"T_5a218f62_0e66_11ea_a2af_112bae252c4drow5_col5\" class=\"data row5 col5\" >0.02</td>\n",
       "                        <td id=\"T_5a218f62_0e66_11ea_a2af_112bae252c4drow5_col6\" class=\"data row5 col6\" >0.05</td>\n",
       "                        <td id=\"T_5a218f62_0e66_11ea_a2af_112bae252c4drow5_col7\" class=\"data row5 col7\" >0.08</td>\n",
       "                        <td id=\"T_5a218f62_0e66_11ea_a2af_112bae252c4drow5_col8\" class=\"data row5 col8\" >0.16</td>\n",
       "                        <td id=\"T_5a218f62_0e66_11ea_a2af_112bae252c4drow5_col9\" class=\"data row5 col9\" >0.05</td>\n",
       "                        <td id=\"T_5a218f62_0e66_11ea_a2af_112bae252c4drow5_col10\" class=\"data row5 col10\" >0.08</td>\n",
       "            </tr>\n",
       "            <tr>\n",
       "                        <th id=\"T_5a218f62_0e66_11ea_a2af_112bae252c4dlevel0_row6\" class=\"row_heading level0 row6\" >LSc2</th>\n",
       "                        <td id=\"T_5a218f62_0e66_11ea_a2af_112bae252c4drow6_col0\" class=\"data row6 col0\" >0.35</td>\n",
       "                        <td id=\"T_5a218f62_0e66_11ea_a2af_112bae252c4drow6_col1\" class=\"data row6 col1\" >0.26</td>\n",
       "                        <td id=\"T_5a218f62_0e66_11ea_a2af_112bae252c4drow6_col2\" class=\"data row6 col2\" >0.37</td>\n",
       "                        <td id=\"T_5a218f62_0e66_11ea_a2af_112bae252c4drow6_col3\" class=\"data row6 col3\" >0.34</td>\n",
       "                        <td id=\"T_5a218f62_0e66_11ea_a2af_112bae252c4drow6_col4\" class=\"data row6 col4\" >0.51</td>\n",
       "                        <td id=\"T_5a218f62_0e66_11ea_a2af_112bae252c4drow6_col5\" class=\"data row6 col5\" >0.49</td>\n",
       "                        <td id=\"T_5a218f62_0e66_11ea_a2af_112bae252c4drow6_col6\" class=\"data row6 col6\" >0.41</td>\n",
       "                        <td id=\"T_5a218f62_0e66_11ea_a2af_112bae252c4drow6_col7\" class=\"data row6 col7\" >0.51</td>\n",
       "                        <td id=\"T_5a218f62_0e66_11ea_a2af_112bae252c4drow6_col8\" class=\"data row6 col8\" >0.24</td>\n",
       "                        <td id=\"T_5a218f62_0e66_11ea_a2af_112bae252c4drow6_col9\" class=\"data row6 col9\" >0.25</td>\n",
       "                        <td id=\"T_5a218f62_0e66_11ea_a2af_112bae252c4drow6_col10\" class=\"data row6 col10\" >0.37</td>\n",
       "            </tr>\n",
       "            <tr>\n",
       "                        <th id=\"T_5a218f62_0e66_11ea_a2af_112bae252c4dlevel0_row7\" class=\"row_heading level0 row7\" >LSc4</th>\n",
       "                        <td id=\"T_5a218f62_0e66_11ea_a2af_112bae252c4drow7_col0\" class=\"data row7 col0\" >0.01</td>\n",
       "                        <td id=\"T_5a218f62_0e66_11ea_a2af_112bae252c4drow7_col1\" class=\"data row7 col1\" >0.02</td>\n",
       "                        <td id=\"T_5a218f62_0e66_11ea_a2af_112bae252c4drow7_col2\" class=\"data row7 col2\" >0.04</td>\n",
       "                        <td id=\"T_5a218f62_0e66_11ea_a2af_112bae252c4drow7_col3\" class=\"data row7 col3\" >0.05</td>\n",
       "                        <td id=\"T_5a218f62_0e66_11ea_a2af_112bae252c4drow7_col4\" class=\"data row7 col4\" >0</td>\n",
       "                        <td id=\"T_5a218f62_0e66_11ea_a2af_112bae252c4drow7_col5\" class=\"data row7 col5\" >0.04</td>\n",
       "                        <td id=\"T_5a218f62_0e66_11ea_a2af_112bae252c4drow7_col6\" class=\"data row7 col6\" >0.08</td>\n",
       "                        <td id=\"T_5a218f62_0e66_11ea_a2af_112bae252c4drow7_col7\" class=\"data row7 col7\" >0.07</td>\n",
       "                        <td id=\"T_5a218f62_0e66_11ea_a2af_112bae252c4drow7_col8\" class=\"data row7 col8\" >0.05</td>\n",
       "                        <td id=\"T_5a218f62_0e66_11ea_a2af_112bae252c4drow7_col9\" class=\"data row7 col9\" >0.01</td>\n",
       "                        <td id=\"T_5a218f62_0e66_11ea_a2af_112bae252c4drow7_col10\" class=\"data row7 col10\" >0.04</td>\n",
       "            </tr>\n",
       "            <tr>\n",
       "                        <th id=\"T_5a218f62_0e66_11ea_a2af_112bae252c4dlevel0_row8\" class=\"row_heading level0 row8\" >GBc2</th>\n",
       "                        <td id=\"T_5a218f62_0e66_11ea_a2af_112bae252c4drow8_col0\" class=\"data row8 col0\" >0.86</td>\n",
       "                        <td id=\"T_5a218f62_0e66_11ea_a2af_112bae252c4drow8_col1\" class=\"data row8 col1\" >0.66</td>\n",
       "                        <td id=\"T_5a218f62_0e66_11ea_a2af_112bae252c4drow8_col2\" class=\"data row8 col2\" >0.79</td>\n",
       "                        <td id=\"T_5a218f62_0e66_11ea_a2af_112bae252c4drow8_col3\" class=\"data row8 col3\" >0.93</td>\n",
       "                        <td id=\"T_5a218f62_0e66_11ea_a2af_112bae252c4drow8_col4\" class=\"data row8 col4\" >0.8</td>\n",
       "                        <td id=\"T_5a218f62_0e66_11ea_a2af_112bae252c4drow8_col5\" class=\"data row8 col5\" >0.91</td>\n",
       "                        <td id=\"T_5a218f62_0e66_11ea_a2af_112bae252c4drow8_col6\" class=\"data row8 col6\" >0.96</td>\n",
       "                        <td id=\"T_5a218f62_0e66_11ea_a2af_112bae252c4drow8_col7\" class=\"data row8 col7\" >0.69</td>\n",
       "                        <td id=\"T_5a218f62_0e66_11ea_a2af_112bae252c4drow8_col8\" class=\"data row8 col8\" >0.84</td>\n",
       "                        <td id=\"T_5a218f62_0e66_11ea_a2af_112bae252c4drow8_col9\" class=\"data row8 col9\" >0.89</td>\n",
       "                        <td id=\"T_5a218f62_0e66_11ea_a2af_112bae252c4drow8_col10\" class=\"data row8 col10\" >0.83</td>\n",
       "            </tr>\n",
       "            <tr>\n",
       "                        <th id=\"T_5a218f62_0e66_11ea_a2af_112bae252c4dlevel0_row9\" class=\"row_heading level0 row9\" >Tc2</th>\n",
       "                        <td id=\"T_5a218f62_0e66_11ea_a2af_112bae252c4drow9_col0\" class=\"data row9 col0\" >0.09</td>\n",
       "                        <td id=\"T_5a218f62_0e66_11ea_a2af_112bae252c4drow9_col1\" class=\"data row9 col1\" >0.1</td>\n",
       "                        <td id=\"T_5a218f62_0e66_11ea_a2af_112bae252c4drow9_col2\" class=\"data row9 col2\" >0.07</td>\n",
       "                        <td id=\"T_5a218f62_0e66_11ea_a2af_112bae252c4drow9_col3\" class=\"data row9 col3\" >0.02</td>\n",
       "                        <td id=\"T_5a218f62_0e66_11ea_a2af_112bae252c4drow9_col4\" class=\"data row9 col4\" >0.13</td>\n",
       "                        <td id=\"T_5a218f62_0e66_11ea_a2af_112bae252c4drow9_col5\" class=\"data row9 col5\" >0.06</td>\n",
       "                        <td id=\"T_5a218f62_0e66_11ea_a2af_112bae252c4drow9_col6\" class=\"data row9 col6\" >0.1</td>\n",
       "                        <td id=\"T_5a218f62_0e66_11ea_a2af_112bae252c4drow9_col7\" class=\"data row9 col7\" >0.03</td>\n",
       "                        <td id=\"T_5a218f62_0e66_11ea_a2af_112bae252c4drow9_col8\" class=\"data row9 col8\" >0.03</td>\n",
       "                        <td id=\"T_5a218f62_0e66_11ea_a2af_112bae252c4drow9_col9\" class=\"data row9 col9\" >0.04</td>\n",
       "                        <td id=\"T_5a218f62_0e66_11ea_a2af_112bae252c4drow9_col10\" class=\"data row9 col10\" >0.07</td>\n",
       "            </tr>\n",
       "            <tr>\n",
       "                        <th id=\"T_5a218f62_0e66_11ea_a2af_112bae252c4dlevel0_row10\" class=\"row_heading level0 row10\" >Tc4</th>\n",
       "                        <td id=\"T_5a218f62_0e66_11ea_a2af_112bae252c4drow10_col0\" class=\"data row10 col0\" >0.1</td>\n",
       "                        <td id=\"T_5a218f62_0e66_11ea_a2af_112bae252c4drow10_col1\" class=\"data row10 col1\" >0.2</td>\n",
       "                        <td id=\"T_5a218f62_0e66_11ea_a2af_112bae252c4drow10_col2\" class=\"data row10 col2\" >0.32</td>\n",
       "                        <td id=\"T_5a218f62_0e66_11ea_a2af_112bae252c4drow10_col3\" class=\"data row10 col3\" >0.16</td>\n",
       "                        <td id=\"T_5a218f62_0e66_11ea_a2af_112bae252c4drow10_col4\" class=\"data row10 col4\" >0.28</td>\n",
       "                        <td id=\"T_5a218f62_0e66_11ea_a2af_112bae252c4drow10_col5\" class=\"data row10 col5\" >0.17</td>\n",
       "                        <td id=\"T_5a218f62_0e66_11ea_a2af_112bae252c4drow10_col6\" class=\"data row10 col6\" >0.23</td>\n",
       "                        <td id=\"T_5a218f62_0e66_11ea_a2af_112bae252c4drow10_col7\" class=\"data row10 col7\" >0.13</td>\n",
       "                        <td id=\"T_5a218f62_0e66_11ea_a2af_112bae252c4drow10_col8\" class=\"data row10 col8\" >0.22</td>\n",
       "                        <td id=\"T_5a218f62_0e66_11ea_a2af_112bae252c4drow10_col9\" class=\"data row10 col9\" >0.2</td>\n",
       "                        <td id=\"T_5a218f62_0e66_11ea_a2af_112bae252c4drow10_col10\" class=\"data row10 col10\" >0.2</td>\n",
       "            </tr>\n",
       "            <tr>\n",
       "                        <th id=\"T_5a218f62_0e66_11ea_a2af_112bae252c4dlevel0_row11\" class=\"row_heading level0 row11\" >Exposure</th>\n",
       "                        <td id=\"T_5a218f62_0e66_11ea_a2af_112bae252c4drow11_col0\" class=\"data row11 col0\" >0.58</td>\n",
       "                        <td id=\"T_5a218f62_0e66_11ea_a2af_112bae252c4drow11_col1\" class=\"data row11 col1\" >0.8</td>\n",
       "                        <td id=\"T_5a218f62_0e66_11ea_a2af_112bae252c4drow11_col2\" class=\"data row11 col2\" >0.73</td>\n",
       "                        <td id=\"T_5a218f62_0e66_11ea_a2af_112bae252c4drow11_col3\" class=\"data row11 col3\" >0.39</td>\n",
       "                        <td id=\"T_5a218f62_0e66_11ea_a2af_112bae252c4drow11_col4\" class=\"data row11 col4\" >0.55</td>\n",
       "                        <td id=\"T_5a218f62_0e66_11ea_a2af_112bae252c4drow11_col5\" class=\"data row11 col5\" >0.85</td>\n",
       "                        <td id=\"T_5a218f62_0e66_11ea_a2af_112bae252c4drow11_col6\" class=\"data row11 col6\" >0.53</td>\n",
       "                        <td id=\"T_5a218f62_0e66_11ea_a2af_112bae252c4drow11_col7\" class=\"data row11 col7\" >0.41</td>\n",
       "                        <td id=\"T_5a218f62_0e66_11ea_a2af_112bae252c4drow11_col8\" class=\"data row11 col8\" >0.27</td>\n",
       "                        <td id=\"T_5a218f62_0e66_11ea_a2af_112bae252c4drow11_col9\" class=\"data row11 col9\" >0.17</td>\n",
       "                        <td id=\"T_5a218f62_0e66_11ea_a2af_112bae252c4drow11_col10\" class=\"data row11 col10\" >0.53</td>\n",
       "            </tr>\n",
       "            <tr>\n",
       "                        <th id=\"T_5a218f62_0e66_11ea_a2af_112bae252c4dlevel0_row12\" class=\"row_heading level0 row12\" >Gut</th>\n",
       "                        <td id=\"T_5a218f62_0e66_11ea_a2af_112bae252c4drow12_col0\" class=\"data row12 col0\" >0.93</td>\n",
       "                        <td id=\"T_5a218f62_0e66_11ea_a2af_112bae252c4drow12_col1\" class=\"data row12 col1\" >0.98</td>\n",
       "                        <td id=\"T_5a218f62_0e66_11ea_a2af_112bae252c4drow12_col2\" class=\"data row12 col2\" >0.49</td>\n",
       "                        <td id=\"T_5a218f62_0e66_11ea_a2af_112bae252c4drow12_col3\" class=\"data row12 col3\" >0.57</td>\n",
       "                        <td id=\"T_5a218f62_0e66_11ea_a2af_112bae252c4drow12_col4\" class=\"data row12 col4\" >0.51</td>\n",
       "                        <td id=\"T_5a218f62_0e66_11ea_a2af_112bae252c4drow12_col5\" class=\"data row12 col5\" >0.81</td>\n",
       "                        <td id=\"T_5a218f62_0e66_11ea_a2af_112bae252c4drow12_col6\" class=\"data row12 col6\" >0.76</td>\n",
       "                        <td id=\"T_5a218f62_0e66_11ea_a2af_112bae252c4drow12_col7\" class=\"data row12 col7\" >0.8</td>\n",
       "                        <td id=\"T_5a218f62_0e66_11ea_a2af_112bae252c4drow12_col8\" class=\"data row12 col8\" >1.51</td>\n",
       "                        <td id=\"T_5a218f62_0e66_11ea_a2af_112bae252c4drow12_col9\" class=\"data row12 col9\" >0.81</td>\n",
       "                        <td id=\"T_5a218f62_0e66_11ea_a2af_112bae252c4drow12_col10\" class=\"data row12 col10\" >0.82</td>\n",
       "            </tr>\n",
       "            <tr>\n",
       "                        <th id=\"T_5a218f62_0e66_11ea_a2af_112bae252c4dlevel0_row13\" class=\"row_heading level0 row13\" >LegLace</th>\n",
       "                        <td id=\"T_5a218f62_0e66_11ea_a2af_112bae252c4drow13_col0\" class=\"data row13 col0\" >0.46</td>\n",
       "                        <td id=\"T_5a218f62_0e66_11ea_a2af_112bae252c4drow13_col1\" class=\"data row13 col1\" >0.82</td>\n",
       "                        <td id=\"T_5a218f62_0e66_11ea_a2af_112bae252c4drow13_col2\" class=\"data row13 col2\" >0.52</td>\n",
       "                        <td id=\"T_5a218f62_0e66_11ea_a2af_112bae252c4drow13_col3\" class=\"data row13 col3\" >0.55</td>\n",
       "                        <td id=\"T_5a218f62_0e66_11ea_a2af_112bae252c4drow13_col4\" class=\"data row13 col4\" >0.55</td>\n",
       "                        <td id=\"T_5a218f62_0e66_11ea_a2af_112bae252c4drow13_col5\" class=\"data row13 col5\" >0.34</td>\n",
       "                        <td id=\"T_5a218f62_0e66_11ea_a2af_112bae252c4drow13_col6\" class=\"data row13 col6\" >0.61</td>\n",
       "                        <td id=\"T_5a218f62_0e66_11ea_a2af_112bae252c4drow13_col7\" class=\"data row13 col7\" >0.41</td>\n",
       "                        <td id=\"T_5a218f62_0e66_11ea_a2af_112bae252c4drow13_col8\" class=\"data row13 col8\" >0.11</td>\n",
       "                        <td id=\"T_5a218f62_0e66_11ea_a2af_112bae252c4drow13_col9\" class=\"data row13 col9\" >0.23</td>\n",
       "                        <td id=\"T_5a218f62_0e66_11ea_a2af_112bae252c4drow13_col10\" class=\"data row13 col10\" >0.46</td>\n",
       "            </tr>\n",
       "            <tr>\n",
       "                        <th id=\"T_5a218f62_0e66_11ea_a2af_112bae252c4dlevel0_row14\" class=\"row_heading level0 row14\" >Turn</th>\n",
       "                        <td id=\"T_5a218f62_0e66_11ea_a2af_112bae252c4drow14_col0\" class=\"data row14 col0\" >0.14</td>\n",
       "                        <td id=\"T_5a218f62_0e66_11ea_a2af_112bae252c4drow14_col1\" class=\"data row14 col1\" >0.08</td>\n",
       "                        <td id=\"T_5a218f62_0e66_11ea_a2af_112bae252c4drow14_col2\" class=\"data row14 col2\" >0.15</td>\n",
       "                        <td id=\"T_5a218f62_0e66_11ea_a2af_112bae252c4drow14_col3\" class=\"data row14 col3\" >0.08</td>\n",
       "                        <td id=\"T_5a218f62_0e66_11ea_a2af_112bae252c4drow14_col4\" class=\"data row14 col4\" >0.17</td>\n",
       "                        <td id=\"T_5a218f62_0e66_11ea_a2af_112bae252c4drow14_col5\" class=\"data row14 col5\" >0.08</td>\n",
       "                        <td id=\"T_5a218f62_0e66_11ea_a2af_112bae252c4drow14_col6\" class=\"data row14 col6\" >0.15</td>\n",
       "                        <td id=\"T_5a218f62_0e66_11ea_a2af_112bae252c4drow14_col7\" class=\"data row14 col7\" >0.11</td>\n",
       "                        <td id=\"T_5a218f62_0e66_11ea_a2af_112bae252c4drow14_col8\" class=\"data row14 col8\" >0.14</td>\n",
       "                        <td id=\"T_5a218f62_0e66_11ea_a2af_112bae252c4drow14_col9\" class=\"data row14 col9\" >0.07</td>\n",
       "                        <td id=\"T_5a218f62_0e66_11ea_a2af_112bae252c4drow14_col10\" class=\"data row14 col10\" >0.12</td>\n",
       "            </tr>\n",
       "            <tr>\n",
       "                        <th id=\"T_5a218f62_0e66_11ea_a2af_112bae252c4dlevel0_row15\" class=\"row_heading level0 row15\" >Pushout</th>\n",
       "                        <td id=\"T_5a218f62_0e66_11ea_a2af_112bae252c4drow15_col0\" class=\"data row15 col0\" >0.41</td>\n",
       "                        <td id=\"T_5a218f62_0e66_11ea_a2af_112bae252c4drow15_col1\" class=\"data row15 col1\" >0.28</td>\n",
       "                        <td id=\"T_5a218f62_0e66_11ea_a2af_112bae252c4drow15_col2\" class=\"data row15 col2\" >0.34</td>\n",
       "                        <td id=\"T_5a218f62_0e66_11ea_a2af_112bae252c4drow15_col3\" class=\"data row15 col3\" >0.35</td>\n",
       "                        <td id=\"T_5a218f62_0e66_11ea_a2af_112bae252c4drow15_col4\" class=\"data row15 col4\" >0.54</td>\n",
       "                        <td id=\"T_5a218f62_0e66_11ea_a2af_112bae252c4drow15_col5\" class=\"data row15 col5\" >0.37</td>\n",
       "                        <td id=\"T_5a218f62_0e66_11ea_a2af_112bae252c4drow15_col6\" class=\"data row15 col6\" >0.46</td>\n",
       "                        <td id=\"T_5a218f62_0e66_11ea_a2af_112bae252c4drow15_col7\" class=\"data row15 col7\" >0.21</td>\n",
       "                        <td id=\"T_5a218f62_0e66_11ea_a2af_112bae252c4drow15_col8\" class=\"data row15 col8\" >0.24</td>\n",
       "                        <td id=\"T_5a218f62_0e66_11ea_a2af_112bae252c4drow15_col9\" class=\"data row15 col9\" >0.52</td>\n",
       "                        <td id=\"T_5a218f62_0e66_11ea_a2af_112bae252c4drow15_col10\" class=\"data row15 col10\" >0.37</td>\n",
       "            </tr>\n",
       "    </tbody></table>"
      ],
      "text/plain": [
       "<pandas.io.formats.style.Styler at 0x7f397150b690>"
      ]
     },
     "metadata": {},
     "output_type": "display_data"
    }
   ],
   "source": [
    "def apply_points(row):\n",
    "    \"\"\"Multiples by 1, 2, or 4 based on the action to change numeric representation to points from action.\"\"\"\n",
    "    row['Pushout'] *= 1\n",
    "    row['HIc2'] *= 2\n",
    "    row['HOc2'] *= 2\n",
    "    row['Dc2'] *= 2\n",
    "    row['LSc2'] *= 2\n",
    "    row['GBc2'] *= 2\n",
    "    row['Tc2'] *= 2\n",
    "    row['Exposure'] *= 2\n",
    "    row['Gut'] *= 2\n",
    "    row['LegLace'] *= 2\n",
    "    row['Turn'] *= 2\n",
    "    row['HIc4'] *= 2\n",
    "    row['HOc4'] *= 2\n",
    "    row['Dc4'] *= 2\n",
    "    row['LSc4'] *= 2\n",
    "    row['Tc4'] *= 2\n",
    "    return row\n",
    "\n",
    "\n",
    "weight_actions = weight_grouped.mean()[[\n",
    "    'HIc2', 'HIc4', 'HOc2', 'HOc4', 'Dc2', 'Dc4', 'LSc2', 'LSc4', 'GBc2',\n",
    "    'Tc2', 'Tc4', 'Exposure', 'Gut', 'LegLace', 'Turn', 'Pushout']].T.apply(lambda row: apply_points(row))\n",
    "weight_actions['AvgPoints'] = weight_actions.mean(axis=1)\n",
    "display(weight_actions.round(2).style.apply(highlight_min).apply(highlight_max))"
   ]
  },
  {
   "cell_type": "markdown",
   "metadata": {},
   "source": [
    "## Madness Matches\n",
    "This section focuses on matches with abnormal outcomes.  This is sometimes statistically determined (i.e. matches with various metric values outside their third standard deviation values, but sometimes can be determined visually using common sense.   \n",
    "inter"
   ]
  },
  {
   "cell_type": "markdown",
   "metadata": {},
   "source": [
    "### Match OEJV (Jesse Vasquez vs Brandon Wright)\n",
    "This match went the distance as Vasquez and Wright put up 35 combined points.   \n",
    "A back and forth battle, the MoV never exceeded +/- 4 for either wrestler.  The deciding factor came when Wright took the lead with a go-behind and 4 succesive leg laces with less than a minute to go.  Vasquez managed a takedown and two gut wrenches to come within 1 point but was unable to take the lead in the last 5 seconds."
   ]
  },
  {
   "cell_type": "code",
   "execution_count": 563,
   "metadata": {
    "ExecuteTime": {
     "end_time": "2019-11-24T01:35:35.452378Z",
     "start_time": "2019-11-24T01:35:35.433046Z"
    },
    "scrolled": true
   },
   "outputs": [
    {
     "data": {
      "text/html": [
       "<div>\n",
       "<style scoped>\n",
       "    .dataframe tbody tr th:only-of-type {\n",
       "        vertical-align: middle;\n",
       "    }\n",
       "\n",
       "    .dataframe tbody tr th {\n",
       "        vertical-align: top;\n",
       "    }\n",
       "\n",
       "    .dataframe thead th {\n",
       "        text-align: right;\n",
       "    }\n",
       "</style>\n",
       "<table border=\"1\" class=\"dataframe\">\n",
       "  <thead>\n",
       "    <tr style=\"text-align: right;\">\n",
       "      <th></th>\n",
       "      <th>APM</th>\n",
       "      <th>Drate</th>\n",
       "      <th>Da</th>\n",
       "      <th>Date</th>\n",
       "      <th>Dc2</th>\n",
       "      <th>Dc4</th>\n",
       "      <th>Duration</th>\n",
       "      <th>Exposure</th>\n",
       "      <th>Focus</th>\n",
       "      <th>FocusPoints</th>\n",
       "      <th>...</th>\n",
       "      <th>Tc4</th>\n",
       "      <th>Turn</th>\n",
       "      <th>Violation</th>\n",
       "      <th>VS</th>\n",
       "      <th>Weight</th>\n",
       "      <th>PassiveDiff</th>\n",
       "      <th>NumResult</th>\n",
       "      <th>BinaryResult</th>\n",
       "      <th>BinaryResultText</th>\n",
       "      <th>ResultType</th>\n",
       "    </tr>\n",
       "  </thead>\n",
       "  <tbody>\n",
       "    <tr>\n",
       "      <th>1215</th>\n",
       "      <td>30.0</td>\n",
       "      <td>100.0</td>\n",
       "      <td>1</td>\n",
       "      <td>2019-04-26</td>\n",
       "      <td>1</td>\n",
       "      <td>0</td>\n",
       "      <td>360.45</td>\n",
       "      <td>2</td>\n",
       "      <td>Jesse Vasquez</td>\n",
       "      <td>17</td>\n",
       "      <td>...</td>\n",
       "      <td>0</td>\n",
       "      <td>0</td>\n",
       "      <td>0</td>\n",
       "      <td>45.9</td>\n",
       "      <td>65</td>\n",
       "      <td>0</td>\n",
       "      <td>0.9</td>\n",
       "      <td>0</td>\n",
       "      <td>Loss</td>\n",
       "      <td>Decision</td>\n",
       "    </tr>\n",
       "  </tbody>\n",
       "</table>\n",
       "<p>1 rows × 85 columns</p>\n",
       "</div>"
      ],
      "text/plain": [
       "       APM  Drate  Da        Date  Dc2  Dc4  Duration  Exposure  \\\n",
       "1215  30.0  100.0   1  2019-04-26    1    0    360.45         2   \n",
       "\n",
       "              Focus  FocusPoints  ... Tc4  Turn  Violation    VS  Weight  \\\n",
       "1215  Jesse Vasquez           17  ...   0     0          0  45.9      65   \n",
       "\n",
       "      PassiveDiff  NumResult  BinaryResult  BinaryResultText  ResultType  \n",
       "1215            0        0.9             0              Loss    Decision  \n",
       "\n",
       "[1 rows x 85 columns]"
      ]
     },
     "metadata": {},
     "output_type": "display_data"
    }
   ],
   "source": [
    "display(df[df['Focus'] == 'Jesse Vasquez'])"
   ]
  },
  {
   "cell_type": "markdown",
   "metadata": {},
   "source": [
    "### Match QCY3 (Renaldo Rodriguez Spencer vs James Steerman)\n",
    "You might've missed this match if you blinked... it lasted only 10.37 seconds.  \n",
    "Spencer came out strong with a 4-point takedown followed by three succesive gut wrenches to put the match away."
   ]
  },
  {
   "cell_type": "code",
   "execution_count": 579,
   "metadata": {
    "ExecuteTime": {
     "end_time": "2019-11-24T01:42:02.224489Z",
     "start_time": "2019-11-24T01:42:02.184256Z"
    },
    "scrolled": true
   },
   "outputs": [
    {
     "data": {
      "text/plain": [
       "'<table border=\"1\" class=\"dataframe\">\\n  <thead>\\n    <tr style=\"text-align: right;\">\\n      <th></th>\\n      <th>APM</th>\\n      <th>Drate</th>\\n      <th>Da</th>\\n      <th>Date</th>\\n      <th>Dc2</th>\\n      <th>Dc4</th>\\n      <th>Duration</th>\\n      <th>Exposure</th>\\n      <th>Focus</th>\\n      <th>FocusPoints</th>\\n      <th>FocusTeam</th>\\n      <th>GBrate</th>\\n      <th>GBa</th>\\n      <th>GBc2</th>\\n      <th>Gut</th>\\n      <th>HIrate</th>\\n      <th>HIa</th>\\n      <th>HIc2</th>\\n      <th>HIc4</th>\\n      <th>HOrate</th>\\n      <th>HOa</th>\\n      <th>HOc2</th>\\n      <th>HOc4</th>\\n      <th>LegLace</th>\\n      <th>LSrate</th>\\n      <th>LSa</th>\\n      <th>LSc2</th>\\n      <th>LSc4</th>\\n      <th>MatchID</th>\\n      <th>MoV</th>\\n      <th>NPF</th>\\n      <th>oAPM</th>\\n      <th>oDrate</th>\\n      <th>oDa</th>\\n      <th>oDc2</th>\\n      <th>oDc4</th>\\n      <th>oExposure</th>\\n      <th>oGBrate</th>\\n      <th>oGBa</th>\\n      <th>oGBc2</th>\\n      <th>oGut</th>\\n      <th>oHIrate</th>\\n      <th>oHIa</th>\\n      <th>oHIc2</th>\\n      <th>oHIc4</th>\\n      <th>oHOrate</th>\\n      <th>oHOa</th>\\n      <th>oHOc2</th>\\n      <th>oHOc4</th>\\n      <th>oLegLace</th>\\n      <th>oLSrate</th>\\n      <th>oLSa</th>\\n      <th>oLSc2</th>\\n      <th>oLSc4</th>\\n      <th>oNPF</th>\\n      <th>oPassive</th>\\n      <th>oPushout</th>\\n      <th>oRecovery</th>\\n      <th>OppPoints</th>\\n      <th>oTrate</th>\\n      <th>oTa</th>\\n      <th>oTc2</th>\\n      <th>oTc4</th>\\n      <th>OppTeam</th>\\n      <th>oTurn</th>\\n      <th>oViolation</th>\\n      <th>oVS</th>\\n      <th>Opponent</th>\\n      <th>Passive</th>\\n      <th>Pushout</th>\\n      <th>Recovery</th>\\n      <th>Result</th>\\n      <th>Trate</th>\\n      <th>Ta</th>\\n      <th>Tc2</th>\\n      <th>Tc4</th>\\n      <th>Turn</th>\\n      <th>Violation</th>\\n      <th>VS</th>\\n      <th>Weight</th>\\n      <th>PassiveDiff</th>\\n      <th>NumResult</th>\\n      <th>BinaryResult</th>\\n      <th>BinaryResultText</th>\\n      <th>ResultType</th>\\n    </tr>\\n  </thead>\\n  <tbody>\\n    <tr>\\n      <th>373</th>\\n      <td>11.0</td>\\n      <td>0.0</td>\\n      <td>0</td>\\n      <td>2019-04-26</td>\\n      <td>0</td>\\n      <td>0</td>\\n      <td>10.37</td>\\n      <td>0</td>\\n      <td>Renaldo Rodriguez Spencer</td>\\n      <td>10</td>\\n      <td>USA</td>\\n      <td>0.0</td>\\n      <td>0</td>\\n      <td>0</td>\\n      <td>3</td>\\n      <td>0.0</td>\\n      <td>0</td>\\n      <td>0</td>\\n      <td>0</td>\\n      <td>0.0</td>\\n      <td>0</td>\\n      <td>0</td>\\n      <td>0</td>\\n      <td>0</td>\\n      <td>100.0</td>\\n      <td>1</td>\\n      <td>0</td>\\n      <td>1</td>\\n      <td>QCY3</td>\\n      <td>10</td>\\n      <td>2.0</td>\\n      <td>0.0</td>\\n      <td>0.0</td>\\n      <td>0</td>\\n      <td>0</td>\\n      <td>0</td>\\n      <td>0</td>\\n      <td>0.0</td>\\n      <td>0</td>\\n      <td>0</td>\\n      <td>0</td>\\n      <td>0.0</td>\\n      <td>0</td>\\n      <td>0</td>\\n      <td>0</td>\\n      <td>0.0</td>\\n      <td>0</td>\\n      <td>0</td>\\n      <td>0</td>\\n      <td>0</td>\\n      <td>0.0</td>\\n      <td>0</td>\\n      <td>0</td>\\n      <td>0</td>\\n      <td>0.0</td>\\n      <td>0</td>\\n      <td>0</td>\\n      <td>0</td>\\n      <td>0</td>\\n      <td>0.0</td>\\n      <td>0</td>\\n      <td>0</td>\\n      <td>0</td>\\n      <td>USA</td>\\n      <td>0</td>\\n      <td>0</td>\\n      <td>5.0</td>\\n      <td>James Steerman</td>\\n      <td>0</td>\\n      <td>0</td>\\n      <td>0</td>\\n      <td>WinTF</td>\\n      <td>0.0</td>\\n      <td>0</td>\\n      <td>0</td>\\n      <td>0</td>\\n      <td>0</td>\\n      <td>0</td>\\n      <td>34.5</td>\\n      <td>70</td>\\n      <td>0</td>\\n      <td>1.5</td>\\n      <td>1</td>\\n      <td>Win</td>\\n      <td>Tech</td>\\n    </tr>\\n  </tbody>\\n</table>'"
      ]
     },
     "metadata": {},
     "output_type": "display_data"
    }
   ],
   "source": [
    "display(df[df['FocusPoints'] > 0].sort_values('Duration').head(1).to_html())"
   ]
  },
  {
   "cell_type": "markdown",
   "metadata": {},
   "source": [
    "### Match WYEF (AJ Jaffe vs Drew Mandell)\n",
    "Mandell came out strong with an exposure early in the match.  However Jaffe stayed calm and slowly gained an increasing lead despite trading points throughout the bout.  Eventually he ended it around the 5:30 mark with a WinTF at a whooping 24-13!    \n",
    "\n",
    "All of those points lead to a high APM score of 31 and 46.65 VS for Jaffe after the win.  Interestingly this was an even bout on their feet as Jaffe registered only a 1.11 NPF score.  "
   ]
  },
  {
   "cell_type": "code",
   "execution_count": 580,
   "metadata": {
    "ExecuteTime": {
     "end_time": "2019-11-24T01:42:05.988973Z",
     "start_time": "2019-11-24T01:42:05.954631Z"
    }
   },
   "outputs": [
    {
     "data": {
      "text/html": [
       "<div>\n",
       "<style scoped>\n",
       "    .dataframe tbody tr th:only-of-type {\n",
       "        vertical-align: middle;\n",
       "    }\n",
       "\n",
       "    .dataframe tbody tr th {\n",
       "        vertical-align: top;\n",
       "    }\n",
       "\n",
       "    .dataframe thead th {\n",
       "        text-align: right;\n",
       "    }\n",
       "</style>\n",
       "<table border=\"1\" class=\"dataframe\">\n",
       "  <thead>\n",
       "    <tr style=\"text-align: right;\">\n",
       "      <th></th>\n",
       "      <th>APM</th>\n",
       "      <th>Drate</th>\n",
       "      <th>Da</th>\n",
       "      <th>Date</th>\n",
       "      <th>Dc2</th>\n",
       "      <th>Dc4</th>\n",
       "      <th>Duration</th>\n",
       "      <th>Exposure</th>\n",
       "      <th>Focus</th>\n",
       "      <th>FocusPoints</th>\n",
       "      <th>...</th>\n",
       "      <th>Tc4</th>\n",
       "      <th>Turn</th>\n",
       "      <th>Violation</th>\n",
       "      <th>VS</th>\n",
       "      <th>Weight</th>\n",
       "      <th>PassiveDiff</th>\n",
       "      <th>NumResult</th>\n",
       "      <th>BinaryResult</th>\n",
       "      <th>BinaryResultText</th>\n",
       "      <th>ResultType</th>\n",
       "    </tr>\n",
       "  </thead>\n",
       "  <tbody>\n",
       "    <tr>\n",
       "      <th>448</th>\n",
       "      <td>31.0</td>\n",
       "      <td>100.0</td>\n",
       "      <td>2</td>\n",
       "      <td>2019-04-26</td>\n",
       "      <td>1</td>\n",
       "      <td>1</td>\n",
       "      <td>320.96</td>\n",
       "      <td>2</td>\n",
       "      <td>AJ Jaffe</td>\n",
       "      <td>24</td>\n",
       "      <td>...</td>\n",
       "      <td>1</td>\n",
       "      <td>2</td>\n",
       "      <td>0</td>\n",
       "      <td>46.65</td>\n",
       "      <td>70</td>\n",
       "      <td>0</td>\n",
       "      <td>1.5</td>\n",
       "      <td>1</td>\n",
       "      <td>Win</td>\n",
       "      <td>Tech</td>\n",
       "    </tr>\n",
       "  </tbody>\n",
       "</table>\n",
       "<p>1 rows × 85 columns</p>\n",
       "</div>"
      ],
      "text/plain": [
       "      APM  Drate  Da        Date  Dc2  Dc4  Duration  Exposure     Focus  \\\n",
       "448  31.0  100.0   2  2019-04-26    1    1    320.96         2  AJ Jaffe   \n",
       "\n",
       "     FocusPoints  ... Tc4  Turn  Violation     VS  Weight  PassiveDiff  \\\n",
       "448           24  ...   1     2          0  46.65      70            0   \n",
       "\n",
       "     NumResult  BinaryResult  BinaryResultText  ResultType  \n",
       "448        1.5             1               Win        Tech  \n",
       "\n",
       "[1 rows x 85 columns]"
      ]
     },
     "execution_count": 580,
     "metadata": {},
     "output_type": "execute_result"
    }
   ],
   "source": [
    "df[df['FocusPoints'] == df['FocusPoints'].max()]"
   ]
  },
  {
   "cell_type": "markdown",
   "metadata": {},
   "source": [
    "## Veritas Bites\n",
    "This section emphasizes Veritas Score which accounts for the match result, NPF, and APM and puts all of these KPMs plus over 70 other data points from each match to into a formula that outputs a numeric representation of overall match performance. Veritas Score scales based on the degree of victory. "
   ]
  },
  {
   "cell_type": "markdown",
   "metadata": {},
   "source": [
    "### Overall Event \n",
    "\n",
    "The event average a VS of 18.3 with a standard deviation of 14.6.    \n",
    "Most matches fell between 5.5 - 31.1 VS."
   ]
  },
  {
   "cell_type": "code",
   "execution_count": 582,
   "metadata": {
    "ExecuteTime": {
     "end_time": "2019-11-24T01:42:54.986655Z",
     "start_time": "2019-11-24T01:42:54.862282Z"
    },
    "scrolled": false
   },
   "outputs": [
    {
     "data": {
      "text/plain": [
       "'<table border=\"1\" class=\"dataframe\">\\n  <thead>\\n    <tr style=\"text-align: right;\">\\n      <th></th>\\n      <th>VS</th>\\n    </tr>\\n  </thead>\\n  <tbody>\\n    <tr>\\n      <th>count</th>\\n      <td>1384.000000</td>\\n    </tr>\\n    <tr>\\n      <th>mean</th>\\n      <td>18.272637</td>\\n    </tr>\\n    <tr>\\n      <th>std</th>\\n      <td>14.567400</td>\\n    </tr>\\n    <tr>\\n      <th>min</th>\\n      <td>-13.000000</td>\\n    </tr>\\n    <tr>\\n      <th>25%</th>\\n      <td>5.527500</td>\\n    </tr>\\n    <tr>\\n      <th>50%</th>\\n      <td>15.945000</td>\\n    </tr>\\n    <tr>\\n      <th>75%</th>\\n      <td>31.120000</td>\\n    </tr>\\n    <tr>\\n      <th>max</th>\\n      <td>63.500000</td>\\n    </tr>\\n  </tbody>\\n</table>'"
      ]
     },
     "metadata": {},
     "output_type": "display_data"
    },
    {
     "data": {
      "image/png": "[encoded data removed]",
      "text/plain": [
       "<Figure size 360x360 with 1 Axes>"
      ]
     },
     "metadata": {
      "needs_background": "light"
     },
     "output_type": "display_data"
    }
   ],
   "source": [
    "display(df['VS'].describe().to_frame().to_html())\n",
    "\n",
    "sns.catplot(x='VS', kind='violin', orient='v', data=df)\n",
    "plt.show()"
   ]
  },
  {
   "cell_type": "markdown",
   "metadata": {},
   "source": [
    "### High Value\n",
    "\n",
    "X4HH had the highest VS (63.5) in a Jason Ness WinTF over Dom Demas."
   ]
  },
  {
   "cell_type": "code",
   "execution_count": 524,
   "metadata": {
    "ExecuteTime": {
     "end_time": "2019-11-24T01:16:59.208904Z",
     "start_time": "2019-11-24T01:16:59.190869Z"
    },
    "scrolled": true
   },
   "outputs": [
    {
     "data": {
      "text/plain": [
       "'<table border=\"1\" class=\"dataframe\">\\n  <thead>\\n    <tr style=\"text-align: right;\">\\n      <th></th>\\n      <th>APM</th>\\n      <th>Drate</th>\\n      <th>Da</th>\\n      <th>Date</th>\\n      <th>Dc2</th>\\n      <th>Dc4</th>\\n      <th>Duration</th>\\n      <th>Exposure</th>\\n      <th>Focus</th>\\n      <th>FocusPoints</th>\\n      <th>FocusTeam</th>\\n      <th>GBrate</th>\\n      <th>GBa</th>\\n      <th>GBc2</th>\\n      <th>Gut</th>\\n      <th>HIrate</th>\\n      <th>HIa</th>\\n      <th>HIc2</th>\\n      <th>HIc4</th>\\n      <th>HOrate</th>\\n      <th>HOa</th>\\n      <th>HOc2</th>\\n      <th>HOc4</th>\\n      <th>LegLace</th>\\n      <th>LSrate</th>\\n      <th>LSa</th>\\n      <th>LSc2</th>\\n      <th>LSc4</th>\\n      <th>MatchID</th>\\n      <th>MoV</th>\\n      <th>NPF</th>\\n      <th>oAPM</th>\\n      <th>oDrate</th>\\n      <th>oDa</th>\\n      <th>oDc2</th>\\n      <th>oDc4</th>\\n      <th>oExposure</th>\\n      <th>oGBrate</th>\\n      <th>oGBa</th>\\n      <th>oGBc2</th>\\n      <th>oGut</th>\\n      <th>oHIrate</th>\\n      <th>oHIa</th>\\n      <th>oHIc2</th>\\n      <th>oHIc4</th>\\n      <th>oHOrate</th>\\n      <th>oHOa</th>\\n      <th>oHOc2</th>\\n      <th>oHOc4</th>\\n      <th>oLegLace</th>\\n      <th>oLSrate</th>\\n      <th>oLSa</th>\\n      <th>oLSc2</th>\\n      <th>oLSc4</th>\\n      <th>oNPF</th>\\n      <th>oPassive</th>\\n      <th>oPushout</th>\\n      <th>oRecovery</th>\\n      <th>OppPoints</th>\\n      <th>oTrate</th>\\n      <th>oTa</th>\\n      <th>oTc2</th>\\n      <th>oTc4</th>\\n      <th>OppTeam</th>\\n      <th>oTurn</th>\\n      <th>oViolation</th>\\n      <th>oVS</th>\\n      <th>Opponent</th>\\n      <th>Passive</th>\\n      <th>Pushout</th>\\n      <th>Recovery</th>\\n      <th>Result</th>\\n      <th>Trate</th>\\n      <th>Ta</th>\\n      <th>Tc2</th>\\n      <th>Tc4</th>\\n      <th>Turn</th>\\n      <th>Violation</th>\\n      <th>VS</th>\\n      <th>Weight</th>\\n      <th>PassiveDiff</th>\\n      <th>NumResult</th>\\n      <th>BinaryResult</th>\\n      <th>BinaryResultText</th>\\n      <th>ResultType</th>\\n    </tr>\\n  </thead>\\n  <tbody>\\n    <tr>\\n      <th>1321</th>\\n      <td>28.0</td>\\n      <td>0.0</td>\\n      <td>1</td>\\n      <td>2019-04-26</td>\\n      <td>0</td>\\n      <td>0</td>\\n      <td>264.58</td>\\n      <td>0</td>\\n      <td>Jason Ness</td>\\n      <td>15</td>\\n      <td>USA</td>\\n      <td>50.0</td>\\n      <td>2</td>\\n      <td>1</td>\\n      <td>0</td>\\n      <td>0.0</td>\\n      <td>3</td>\\n      <td>0</td>\\n      <td>0</td>\\n      <td>0.0</td>\\n      <td>0</td>\\n      <td>0</td>\\n      <td>0</td>\\n      <td>0</td>\\n      <td>40.0</td>\\n      <td>5</td>\\n      <td>2</td>\\n      <td>0</td>\\n      <td>X4HH</td>\\n      <td>12</td>\\n      <td>1.79</td>\\n      <td>9.0</td>\\n      <td>0.0</td>\\n      <td>1</td>\\n      <td>0</td>\\n      <td>0</td>\\n      <td>0</td>\\n      <td>0.0</td>\\n      <td>3</td>\\n      <td>0</td>\\n      <td>0</td>\\n      <td>0.0</td>\\n      <td>0</td>\\n      <td>0</td>\\n      <td>0</td>\\n      <td>0.0</td>\\n      <td>1</td>\\n      <td>0</td>\\n      <td>0</td>\\n      <td>0</td>\\n      <td>0.0</td>\\n      <td>0</td>\\n      <td>0</td>\\n      <td>0</td>\\n      <td>0.21</td>\\n      <td>0</td>\\n      <td>2</td>\\n      <td>1</td>\\n      <td>3</td>\\n      <td>0.0</td>\\n      <td>1</td>\\n      <td>0</td>\\n      <td>0</td>\\n      <td>USA</td>\\n      <td>0</td>\\n      <td>0</td>\\n      <td>1.22</td>\\n      <td>Domonick Demas</td>\\n      <td>0</td>\\n      <td>0</td>\\n      <td>1</td>\\n      <td>WinTF</td>\\n      <td>100.0</td>\\n      <td>2</td>\\n      <td>0</td>\\n      <td>2</td>\\n      <td>0</td>\\n      <td>0</td>\\n      <td>63.5</td>\\n      <td>65</td>\\n      <td>0</td>\\n      <td>1.5</td>\\n      <td>1</td>\\n      <td>Win</td>\\n      <td>Tech</td>\\n    </tr>\\n  </tbody>\\n</table>'"
      ]
     },
     "metadata": {},
     "output_type": "display_data"
    }
   ],
   "source": [
    "display(df[df['VS'] == df['VS'].max()].to_html())"
   ]
  },
  {
   "cell_type": "markdown",
   "metadata": {},
   "source": [
    "### Low Value \n",
    "\n",
    "Match 9AOY* had the lowest VS (-13) in a LossTF Donald Mcneil fell to Wynn Michalak."
   ]
  },
  {
   "cell_type": "code",
   "execution_count": 528,
   "metadata": {
    "ExecuteTime": {
     "end_time": "2019-11-24T01:18:35.887028Z",
     "start_time": "2019-11-24T01:18:35.867435Z"
    },
    "scrolled": true
   },
   "outputs": [
    {
     "data": {
      "text/plain": [
       "'<table border=\"1\" class=\"dataframe\">\\n  <thead>\\n    <tr style=\"text-align: right;\">\\n      <th></th>\\n      <th>APM</th>\\n      <th>Drate</th>\\n      <th>Da</th>\\n      <th>Date</th>\\n      <th>Dc2</th>\\n      <th>Dc4</th>\\n      <th>Duration</th>\\n      <th>Exposure</th>\\n      <th>Focus</th>\\n      <th>FocusPoints</th>\\n      <th>FocusTeam</th>\\n      <th>GBrate</th>\\n      <th>GBa</th>\\n      <th>GBc2</th>\\n      <th>Gut</th>\\n      <th>HIrate</th>\\n      <th>HIa</th>\\n      <th>HIc2</th>\\n      <th>HIc4</th>\\n      <th>HOrate</th>\\n      <th>HOa</th>\\n      <th>HOc2</th>\\n      <th>HOc4</th>\\n      <th>LegLace</th>\\n      <th>LSrate</th>\\n      <th>LSa</th>\\n      <th>LSc2</th>\\n      <th>LSc4</th>\\n      <th>MatchID</th>\\n      <th>MoV</th>\\n      <th>NPF</th>\\n      <th>oAPM</th>\\n      <th>oDrate</th>\\n      <th>oDa</th>\\n      <th>oDc2</th>\\n      <th>oDc4</th>\\n      <th>oExposure</th>\\n      <th>oGBrate</th>\\n      <th>oGBa</th>\\n      <th>oGBc2</th>\\n      <th>oGut</th>\\n      <th>oHIrate</th>\\n      <th>oHIa</th>\\n      <th>oHIc2</th>\\n      <th>oHIc4</th>\\n      <th>oHOrate</th>\\n      <th>oHOa</th>\\n      <th>oHOc2</th>\\n      <th>oHOc4</th>\\n      <th>oLegLace</th>\\n      <th>oLSrate</th>\\n      <th>oLSa</th>\\n      <th>oLSc2</th>\\n      <th>oLSc4</th>\\n      <th>oNPF</th>\\n      <th>oPassive</th>\\n      <th>oPushout</th>\\n      <th>oRecovery</th>\\n      <th>OppPoints</th>\\n      <th>oTrate</th>\\n      <th>oTa</th>\\n      <th>oTc2</th>\\n      <th>oTc4</th>\\n      <th>OppTeam</th>\\n      <th>oTurn</th>\\n      <th>oViolation</th>\\n      <th>oVS</th>\\n      <th>Opponent</th>\\n      <th>Passive</th>\\n      <th>Pushout</th>\\n      <th>Recovery</th>\\n      <th>Result</th>\\n      <th>Trate</th>\\n      <th>Ta</th>\\n      <th>Tc2</th>\\n      <th>Tc4</th>\\n      <th>Turn</th>\\n      <th>Violation</th>\\n      <th>VS</th>\\n      <th>Weight</th>\\n      <th>PassiveDiff</th>\\n      <th>NumResult</th>\\n      <th>BinaryResult</th>\\n      <th>BinaryResultText</th>\\n      <th>ResultType</th>\\n    </tr>\\n  </thead>\\n  <tbody>\\n    <tr>\\n      <th>524</th>\\n      <td>6.0</td>\\n      <td>0.0</td>\\n      <td>0</td>\\n      <td>2019-04-26</td>\\n      <td>0</td>\\n      <td>0</td>\\n      <td>89.02</td>\\n      <td>0</td>\\n      <td>Donald Mcneil</td>\\n      <td>4</td>\\n      <td>USA</td>\\n      <td>0.0</td>\\n      <td>0</td>\\n      <td>0</td>\\n      <td>1</td>\\n      <td>100.0</td>\\n      <td>1</td>\\n      <td>1</td>\\n      <td>0</td>\\n      <td>0.0</td>\\n      <td>1</td>\\n      <td>0</td>\\n      <td>0</td>\\n      <td>0</td>\\n      <td>0.0</td>\\n      <td>0</td>\\n      <td>0</td>\\n      <td>0</td>\\n      <td>9AOY*</td>\\n      <td>-11</td>\\n      <td>2.0</td>\\n      <td>15.0</td>\\n      <td>0.0</td>\\n      <td>0</td>\\n      <td>0</td>\\n      <td>0</td>\\n      <td>0</td>\\n      <td>0.0</td>\\n      <td>0</td>\\n      <td>0</td>\\n      <td>7</td>\\n      <td>0.0</td>\\n      <td>0</td>\\n      <td>0</td>\\n      <td>0</td>\\n      <td>0.0</td>\\n      <td>0</td>\\n      <td>0</td>\\n      <td>0</td>\\n      <td>0</td>\\n      <td>0.0</td>\\n      <td>0</td>\\n      <td>0</td>\\n      <td>0</td>\\n      <td>0.0</td>\\n      <td>0</td>\\n      <td>0</td>\\n      <td>1</td>\\n      <td>15</td>\\n      <td>0.0</td>\\n      <td>0</td>\\n      <td>0</td>\\n      <td>0</td>\\n      <td>USA</td>\\n      <td>0</td>\\n      <td>0</td>\\n      <td>12.5</td>\\n      <td>Wynn Michalak</td>\\n      <td>0</td>\\n      <td>0</td>\\n      <td>0</td>\\n      <td>LossTF</td>\\n      <td>0.0</td>\\n      <td>0</td>\\n      <td>0</td>\\n      <td>0</td>\\n      <td>0</td>\\n      <td>0</td>\\n      <td>-13.0</td>\\n      <td>97</td>\\n      <td>0</td>\\n      <td>0.0</td>\\n      <td>0</td>\\n      <td>Loss</td>\\n      <td>Tech</td>\\n    </tr>\\n  </tbody>\\n</table>'"
      ]
     },
     "metadata": {},
     "output_type": "display_data"
    }
   ],
   "source": [
    "display(df[df['VS'] == df['VS'].min()].to_html())"
   ]
  },
  {
   "cell_type": "code",
   "execution_count": null,
   "metadata": {},
   "outputs": [],
   "source": []
  },
  {
   "cell_type": "code",
   "execution_count": null,
   "metadata": {},
   "outputs": [],
   "source": []
  }
 ],
 "metadata": {
  "hide_input": false,
  "kernelspec": {
   "display_name": "Python 3",
   "language": "python",
   "name": "python3"
  },
  "language_info": {
   "codemirror_mode": {
    "name": "ipython",
    "version": 3
   },
   "file_extension": ".py",
   "mimetype": "text/x-python",
   "name": "python",
   "nbconvert_exporter": "python",
   "pygments_lexer": "ipython3",
   "version": "3.7.5"
  },
  "toc": {
   "base_numbering": 1,
   "nav_menu": {},
   "number_sections": false,
   "sideBar": true,
   "skip_h1_title": true,
   "title_cell": "Table of Contents",
   "title_sidebar": "Contents",
   "toc_cell": true,
   "toc_position": {
    "height": "756px",
    "left": "24px",
    "top": "148px",
    "width": "308.719px"
   },
   "toc_section_display": true,
   "toc_window_display": true
  },
  "varInspector": {
   "cols": {
    "lenName": 16,
    "lenType": 16,
    "lenVar": 40
   },
   "kernels_config": {
    "python": {
     "delete_cmd_postfix": "",
     "delete_cmd_prefix": "del ",
     "library": "var_list.py",
     "varRefreshCmd": "print(var_dic_list())"
    },
    "r": {
     "delete_cmd_postfix": ") ",
     "delete_cmd_prefix": "rm(",
     "library": "var_list.r",
     "varRefreshCmd": "cat(var_dic_list()) "
    }
   },
   "types_to_exclude": [
    "module",
    "function",
    "builtin_function_or_method",
    "instance",
    "_Feature"
   ],
   "window_display": false
  }
 },
 "nbformat": 4,
 "nbformat_minor": 2
}
