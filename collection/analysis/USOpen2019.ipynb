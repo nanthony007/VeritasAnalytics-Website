{
 "cells": [
  {
   "cell_type": "markdown",
   "metadata": {},
   "source": [
    "<a id='top'></a>"
   ]
  },
  {
   "cell_type": "markdown",
   "metadata": {},
   "source": [
    "# US Open 2019 Analysis\n",
    "May 17, 2019 "
   ]
  },
  {
   "cell_type": "markdown",
   "metadata": {},
   "source": [
    "This analysis aims to generate as comprehensive as possible summary of the event.  Feel free to skip around and only view parts of the report that are interesting to you.  Visualizations are presented in addtion to tables and narrations.  \n",
    "\n",
    "Please follow links to interesting matches or search for a wrestler by copying their name into our search database <a href=\"http://www.veritaswrestlingsystems.com/ratings/\">here!</a>"
   ]
  },
  {
   "cell_type": "markdown",
   "metadata": {
    "toc": true
   },
   "source": [
    "<h1>Table of Contents<span class=\"tocSkip\"></span></h1>\n",
    "<div class=\"toc\"><ul class=\"toc-item\"><li><span><a href=\"#Individual-Analysis\" data-toc-modified-id=\"Individual-Analysis-1\">Individual Analysis</a></span><ul class=\"toc-item\"><li><span><a href=\"#Top-Perfomers\" data-toc-modified-id=\"Top-Perfomers-1.1\">Top Perfomers</a></span></li><li><span><a href=\"#Bottom-Performers\" data-toc-modified-id=\"Bottom-Performers-1.2\">Bottom Performers</a></span></li><li><span><a href=\"#Top-Individual-Match-Performance\" data-toc-modified-id=\"Top-Individual-Match-Performance-1.3\">Top Individual Match Performance</a></span></li></ul></li><li><span><a href=\"#Weight-Class-Analysis\" data-toc-modified-id=\"Weight-Class-Analysis-2\">Weight Class Analysis</a></span><ul class=\"toc-item\"><li><span><a href=\"#57-kilos\" data-toc-modified-id=\"57-kilos-2.1\">57 kilos</a></span><ul class=\"toc-item\"><li><span><a href=\"#Placements\" data-toc-modified-id=\"Placements-2.1.1\">Placements</a></span></li><li><span><a href=\"#Distributions\" data-toc-modified-id=\"Distributions-2.1.2\">Distributions</a></span></li><li><span><a href=\"#Trends\" data-toc-modified-id=\"Trends-2.1.3\">Trends</a></span></li></ul></li><li><span><a href=\"#61-kilos\" data-toc-modified-id=\"61-kilos-2.2\">61 kilos</a></span><ul class=\"toc-item\"><li><span><a href=\"#Placements\" data-toc-modified-id=\"Placements-2.2.1\">Placements</a></span></li><li><span><a href=\"#Distributions\" data-toc-modified-id=\"Distributions-2.2.2\">Distributions</a></span></li><li><span><a href=\"#Trends\" data-toc-modified-id=\"Trends-2.2.3\">Trends</a></span></li></ul></li><li><span><a href=\"#65-kilos\" data-toc-modified-id=\"65-kilos-2.3\">65 kilos</a></span><ul class=\"toc-item\"><li><span><a href=\"#Placements\" data-toc-modified-id=\"Placements-2.3.1\">Placements</a></span></li><li><span><a href=\"#Distributions\" data-toc-modified-id=\"Distributions-2.3.2\">Distributions</a></span></li><li><span><a href=\"#Trends\" data-toc-modified-id=\"Trends-2.3.3\">Trends</a></span></li></ul></li><li><span><a href=\"#70-kilos\" data-toc-modified-id=\"70-kilos-2.4\">70 kilos</a></span><ul class=\"toc-item\"><li><span><a href=\"#Placements\" data-toc-modified-id=\"Placements-2.4.1\">Placements</a></span></li><li><span><a href=\"#Distributions\" data-toc-modified-id=\"Distributions-2.4.2\">Distributions</a></span></li><li><span><a href=\"#Trends\" data-toc-modified-id=\"Trends-2.4.3\">Trends</a></span></li></ul></li><li><span><a href=\"#74-kilos\" data-toc-modified-id=\"74-kilos-2.5\">74 kilos</a></span><ul class=\"toc-item\"><li><span><a href=\"#Placements\" data-toc-modified-id=\"Placements-2.5.1\">Placements</a></span></li><li><span><a href=\"#Distributions\" data-toc-modified-id=\"Distributions-2.5.2\">Distributions</a></span></li><li><span><a href=\"#Trends\" data-toc-modified-id=\"Trends-2.5.3\">Trends</a></span></li></ul></li><li><span><a href=\"#79-kilos\" data-toc-modified-id=\"79-kilos-2.6\">79 kilos</a></span><ul class=\"toc-item\"><li><span><a href=\"#Placements\" data-toc-modified-id=\"Placements-2.6.1\">Placements</a></span></li><li><span><a href=\"#Distributions\" data-toc-modified-id=\"Distributions-2.6.2\">Distributions</a></span></li><li><span><a href=\"#Trends\" data-toc-modified-id=\"Trends-2.6.3\">Trends</a></span></li></ul></li><li><span><a href=\"#86-kilos\" data-toc-modified-id=\"86-kilos-2.7\">86 kilos</a></span><ul class=\"toc-item\"><li><span><a href=\"#Placements\" data-toc-modified-id=\"Placements-2.7.1\">Placements</a></span></li><li><span><a href=\"#Distributions\" data-toc-modified-id=\"Distributions-2.7.2\">Distributions</a></span></li><li><span><a href=\"#Trends\" data-toc-modified-id=\"Trends-2.7.3\">Trends</a></span></li></ul></li><li><span><a href=\"#92-kilos\" data-toc-modified-id=\"92-kilos-2.8\">92 kilos</a></span><ul class=\"toc-item\"><li><span><a href=\"#Placements\" data-toc-modified-id=\"Placements-2.8.1\">Placements</a></span></li><li><span><a href=\"#Distributions\" data-toc-modified-id=\"Distributions-2.8.2\">Distributions</a></span></li><li><span><a href=\"#Trends\" data-toc-modified-id=\"Trends-2.8.3\">Trends</a></span></li></ul></li><li><span><a href=\"#97-kilos\" data-toc-modified-id=\"97-kilos-2.9\">97 kilos</a></span><ul class=\"toc-item\"><li><span><a href=\"#Placements\" data-toc-modified-id=\"Placements-2.9.1\">Placements</a></span></li><li><span><a href=\"#Distributions\" data-toc-modified-id=\"Distributions-2.9.2\">Distributions</a></span></li><li><span><a href=\"#Trends\" data-toc-modified-id=\"Trends-2.9.3\">Trends</a></span></li></ul></li><li><span><a href=\"#125-kilos\" data-toc-modified-id=\"125-kilos-2.10\">125 kilos</a></span><ul class=\"toc-item\"><li><span><a href=\"#Placements\" data-toc-modified-id=\"Placements-2.10.1\">Placements</a></span></li><li><span><a href=\"#Distributions\" data-toc-modified-id=\"Distributions-2.10.2\">Distributions</a></span></li><li><span><a href=\"#Trends\" data-toc-modified-id=\"Trends-2.10.3\">Trends</a></span></li></ul></li><li><span><a href=\"#Comparison\" data-toc-modified-id=\"Comparison-2.11\">Comparison</a></span></li></ul></li><li><span><a href=\"#Madness-Matches\" data-toc-modified-id=\"Madness-Matches-3\">Madness Matches</a></span><ul class=\"toc-item\"><li><span><a href=\"#Match-OEJV-(Jesse-Vasquez-vs-Brandon-Wright)\" data-toc-modified-id=\"Match-OEJV-(Jesse-Vasquez-vs-Brandon-Wright)-3.1\">Match OEJV (Jesse Vasquez vs Brandon Wright)</a></span></li></ul></li><li><span><a href=\"#Veritas-Bites\" data-toc-modified-id=\"Veritas-Bites-4\">Veritas Bites</a></span><ul class=\"toc-item\"><li><span><a href=\"#Overall-Event\" data-toc-modified-id=\"Overall-Event-4.1\">Overall Event</a></span></li><li><span><a href=\"#High-Value\" data-toc-modified-id=\"High-Value-4.2\">High Value</a></span></li><li><span><a href=\"#Low-Value\" data-toc-modified-id=\"Low-Value-4.3\">Low Value</a></span></li></ul></li></ul></div>"
   ]
  },
  {
   "cell_type": "code",
   "execution_count": 1,
   "metadata": {
    "ExecuteTime": {
     "end_time": "2020-02-02T03:37:16.701430Z",
     "start_time": "2020-02-02T03:37:16.177752Z"
    },
    "hide_input": true
   },
   "outputs": [],
   "source": [
    "import pandas as pd\n",
    "import numpy as np\n",
    "import matplotlib.pyplot as plt\n",
    "import seaborn as sns\n",
    "import os\n",
    "%matplotlib inline\n",
    "os.chdir('../..')"
   ]
  },
  {
   "cell_type": "code",
   "execution_count": 2,
   "metadata": {
    "ExecuteTime": {
     "end_time": "2020-02-02T03:37:17.075340Z",
     "start_time": "2020-02-02T03:37:16.703733Z"
    }
   },
   "outputs": [],
   "source": [
    "import django\n",
    "os.environ.setdefault(\"DJANGO_SETTINGS_MODULE\", \"mysite.settings\")\n",
    "django.setup()\n",
    "sns.set_style(\"white\")\n",
    "sns.set_palette('Blues_r')"
   ]
  },
  {
   "cell_type": "code",
   "execution_count": 3,
   "metadata": {
    "ExecuteTime": {
     "end_time": "2020-02-02T03:37:17.347952Z",
     "start_time": "2020-02-02T03:37:17.076629Z"
    },
    "scrolled": false
   },
   "outputs": [],
   "source": [
    "from vws_main.models import FS_Event\n",
    "\n",
    "# Filters django queryset\n",
    "django_event = FS_Event.objects.get(name='US Open')\n",
    "django_match_list = list(django_event.matches.values_list('matchID', flat=True))\n",
    "\n",
    "# Reads csv\n",
    "df_base = pd.read_csv('collection/stats/matchdata.csv')\n",
    "df = df_base[df_base['MatchID'].isin(django_match_list)]\n",
    "\n",
    "#print(len(django_match_list))  # Prints len django match list\n",
    "#print(len(df))  # Confirms same length\n",
    "\n",
    "df = df[df['Duration'] != 0.0]  # drops matches with no time\n",
    "\n",
    "name_grouped = df.groupby('Focus')  # Groups df by wrestler\n",
    "\n",
    "weight_grouped = df.groupby('Weight')  # Groups df by weight\n",
    "\n",
    "# Filters 3 or more matches, then groups by name\n",
    "filt_name_grouped = df[df.Focus.isin(df['Focus']\\\n",
    "                                     .value_counts()[df['Focus'].value_counts() >= 3].index)].groupby('Focus')"
   ]
  },
  {
   "cell_type": "markdown",
   "metadata": {},
   "source": [
    "## Individual Analysis  \n",
    "<a href='#top'>Top</a>"
   ]
  },
  {
   "cell_type": "markdown",
   "metadata": {},
   "source": [
    "Top/bottom performances are mostly ranked on Action per Minute (APM), Neutral Pace Factor(NPF), and Results.  Emphasis is placed on these metrics because APM and NPF have been shown to be highly correlated with long-term success (*r=0.92, r=0.88* respectively).  The following section focuses on wrestlers' performances across the entire tournament and requires three or more matches to be included.  Top performances for individual matches can be found further below. "
   ]
  },
  {
   "cell_type": "markdown",
   "metadata": {},
   "source": [
    "### Top Perfomers\n",
    "\n",
    "Top performers for this event are (in order): \n",
    "1. Justin Deangelis -- 70kgs\n",
    "2. Lavion Mayes -- 70kgs\n",
    "3. Yianni Diakomihalis -- 65kgs\n",
    "\n",
    "These wrestlers more than doubled the average APM for the event and competed for roughly 5 minutes (299 seconds) on average between them. They scored an average of 10.2 points and held their opponents to 5.8 for a 4.35 MoV.  Interestingly, Justin and Yianni both had negative Passive differentials, but maintained a 4.2 and 6.6 MoV compared to Lavion's 2.3 MoV average."
   ]
  },
  {
   "cell_type": "code",
   "execution_count": 4,
   "metadata": {
    "ExecuteTime": {
     "end_time": "2020-02-02T03:37:17.375947Z",
     "start_time": "2020-02-02T03:37:17.349273Z"
    },
    "scrolled": false
   },
   "outputs": [
    {
     "name": "stdout",
     "output_type": "stream",
     "text": [
      "Key perfomance metrics between all wrestlers and the top performers:\n"
     ]
    },
    {
     "data": {
      "text/html": [
       "<div>\n",
       "<style scoped>\n",
       "    .dataframe tbody tr th:only-of-type {\n",
       "        vertical-align: middle;\n",
       "    }\n",
       "\n",
       "    .dataframe tbody tr th {\n",
       "        vertical-align: top;\n",
       "    }\n",
       "\n",
       "    .dataframe thead th {\n",
       "        text-align: right;\n",
       "    }\n",
       "</style>\n",
       "<table border=\"1\" class=\"dataframe\">\n",
       "  <thead>\n",
       "    <tr style=\"text-align: right;\">\n",
       "      <th></th>\n",
       "      <th>All</th>\n",
       "      <th>Top</th>\n",
       "    </tr>\n",
       "  </thead>\n",
       "  <tbody>\n",
       "    <tr>\n",
       "      <th>APM</th>\n",
       "      <td>11.857747</td>\n",
       "      <td>22.266667</td>\n",
       "    </tr>\n",
       "    <tr>\n",
       "      <th>NPF</th>\n",
       "      <td>1.039626</td>\n",
       "      <td>1.295333</td>\n",
       "    </tr>\n",
       "    <tr>\n",
       "      <th>NumResult</th>\n",
       "      <td>0.952853</td>\n",
       "      <td>1.180000</td>\n",
       "    </tr>\n",
       "  </tbody>\n",
       "</table>\n",
       "</div>"
      ],
      "text/plain": [
       "                 All        Top\n",
       "APM        11.857747  22.266667\n",
       "NPF         1.039626   1.295333\n",
       "NumResult   0.952853   1.180000"
      ]
     },
     "metadata": {},
     "output_type": "display_data"
    },
    {
     "name": "stdout",
     "output_type": "stream",
     "text": [
      "Additional metrics for Top Performers:\n"
     ]
    },
    {
     "data": {
      "text/html": [
       "<div>\n",
       "<style scoped>\n",
       "    .dataframe tbody tr th:only-of-type {\n",
       "        vertical-align: middle;\n",
       "    }\n",
       "\n",
       "    .dataframe tbody tr th {\n",
       "        vertical-align: top;\n",
       "    }\n",
       "\n",
       "    .dataframe thead th {\n",
       "        text-align: right;\n",
       "    }\n",
       "</style>\n",
       "<table border=\"1\" class=\"dataframe\">\n",
       "  <thead>\n",
       "    <tr style=\"text-align: right;\">\n",
       "      <th></th>\n",
       "      <th>APM</th>\n",
       "      <th>NPF</th>\n",
       "      <th>NumResult</th>\n",
       "      <th>Duration</th>\n",
       "      <th>PassiveDiff</th>\n",
       "      <th>FocusPoints</th>\n",
       "      <th>OppPoints</th>\n",
       "      <th>MoV</th>\n",
       "    </tr>\n",
       "    <tr>\n",
       "      <th>Focus</th>\n",
       "      <th></th>\n",
       "      <th></th>\n",
       "      <th></th>\n",
       "      <th></th>\n",
       "      <th></th>\n",
       "      <th></th>\n",
       "      <th></th>\n",
       "      <th></th>\n",
       "    </tr>\n",
       "  </thead>\n",
       "  <tbody>\n",
       "    <tr>\n",
       "      <th>Justin Deangelis</th>\n",
       "      <td>23.0</td>\n",
       "      <td>1.296</td>\n",
       "      <td>1.18</td>\n",
       "      <td>269.0460</td>\n",
       "      <td>-0.60</td>\n",
       "      <td>10.00</td>\n",
       "      <td>5.8</td>\n",
       "      <td>4.20</td>\n",
       "    </tr>\n",
       "    <tr>\n",
       "      <th>Lavion Mayes</th>\n",
       "      <td>23.0</td>\n",
       "      <td>1.130</td>\n",
       "      <td>1.10</td>\n",
       "      <td>290.5375</td>\n",
       "      <td>0.25</td>\n",
       "      <td>10.75</td>\n",
       "      <td>8.5</td>\n",
       "      <td>2.25</td>\n",
       "    </tr>\n",
       "    <tr>\n",
       "      <th>Yianni Diakomihalis</th>\n",
       "      <td>20.8</td>\n",
       "      <td>1.460</td>\n",
       "      <td>1.26</td>\n",
       "      <td>337.1820</td>\n",
       "      <td>-0.60</td>\n",
       "      <td>9.80</td>\n",
       "      <td>3.2</td>\n",
       "      <td>6.60</td>\n",
       "    </tr>\n",
       "  </tbody>\n",
       "</table>\n",
       "</div>"
      ],
      "text/plain": [
       "                      APM    NPF  NumResult  Duration  PassiveDiff  \\\n",
       "Focus                                                                \n",
       "Justin Deangelis     23.0  1.296       1.18  269.0460        -0.60   \n",
       "Lavion Mayes         23.0  1.130       1.10  290.5375         0.25   \n",
       "Yianni Diakomihalis  20.8  1.460       1.26  337.1820        -0.60   \n",
       "\n",
       "                     FocusPoints  OppPoints   MoV  \n",
       "Focus                                              \n",
       "Justin Deangelis           10.00        5.8  4.20  \n",
       "Lavion Mayes               10.75        8.5  2.25  \n",
       "Yianni Diakomihalis         9.80        3.2  6.60  "
      ]
     },
     "metadata": {},
     "output_type": "display_data"
    }
   ],
   "source": [
    "print('Key perfomance metrics between all wrestlers and the top performers:')\n",
    "top_perfs = filt_name_grouped.mean().sort_values(['APM', 'NPF', 'NumResult'], ascending=False).head(3)\n",
    "\n",
    "display(pd.concat([\n",
    "    filt_name_grouped.mean()[['APM', 'NPF', 'NumResult']].mean().rename('All'), \n",
    "    top_perfs.mean()[['APM', 'NPF', 'NumResult']].rename('Top')\n",
    "    ], axis=1))\n",
    "\n",
    "print('Additional metrics for Top Performers:')\n",
    "display(top_perfs[['APM', 'NPF', 'NumResult', 'Duration', 'PassiveDiff', \n",
    "                   'FocusPoints', 'OppPoints', 'MoV']])"
   ]
  },
  {
   "cell_type": "markdown",
   "metadata": {},
   "source": [
    "### Bottom Performers\n",
    "In this section it is important to remember that these wrestlers still competed three times, meaning they won at least one match and thus are **not** the *absolute* worst performers in the event.    \n",
    "Bottom performers for this event are (in order): \n",
    "1. Chance Goodman -- 79kgs\n",
    "2. Blake McNall -- 65kgs\n",
    "3. Fernando Serje -- 92kgs\n",
    "\n",
    "These wrestlers all averaged an APM of only 0.89 and a NPF score of 0.089.  They were never turned and limited their opponents' NPF scores to only 1.02.  All three of these wrestlers went 1-2 on the weekend with one Decision win and two Losses by Technical Superiority."
   ]
  },
  {
   "cell_type": "code",
   "execution_count": 5,
   "metadata": {
    "ExecuteTime": {
     "end_time": "2020-02-02T03:37:17.399082Z",
     "start_time": "2020-02-02T03:37:17.377259Z"
    }
   },
   "outputs": [
    {
     "name": "stdout",
     "output_type": "stream",
     "text": [
      "Key perfomance metrics between ALL wrestlers and the Bottom Performers:\n"
     ]
    },
    {
     "data": {
      "text/html": [
       "<div>\n",
       "<style scoped>\n",
       "    .dataframe tbody tr th:only-of-type {\n",
       "        vertical-align: middle;\n",
       "    }\n",
       "\n",
       "    .dataframe tbody tr th {\n",
       "        vertical-align: top;\n",
       "    }\n",
       "\n",
       "    .dataframe thead th {\n",
       "        text-align: right;\n",
       "    }\n",
       "</style>\n",
       "<table border=\"1\" class=\"dataframe\">\n",
       "  <thead>\n",
       "    <tr style=\"text-align: right;\">\n",
       "      <th></th>\n",
       "      <th>All</th>\n",
       "      <th>Bottom</th>\n",
       "    </tr>\n",
       "  </thead>\n",
       "  <tbody>\n",
       "    <tr>\n",
       "      <th>APM</th>\n",
       "      <td>11.857747</td>\n",
       "      <td>4.000000</td>\n",
       "    </tr>\n",
       "    <tr>\n",
       "      <th>NPF</th>\n",
       "      <td>1.039626</td>\n",
       "      <td>0.750000</td>\n",
       "    </tr>\n",
       "    <tr>\n",
       "      <th>NumResult</th>\n",
       "      <td>0.952853</td>\n",
       "      <td>0.555556</td>\n",
       "    </tr>\n",
       "  </tbody>\n",
       "</table>\n",
       "</div>"
      ],
      "text/plain": [
       "                 All    Bottom\n",
       "APM        11.857747  4.000000\n",
       "NPF         1.039626  0.750000\n",
       "NumResult   0.952853  0.555556"
      ]
     },
     "metadata": {},
     "output_type": "display_data"
    },
    {
     "name": "stdout",
     "output_type": "stream",
     "text": [
      "Additional metrics for Bottom Performers:\n"
     ]
    },
    {
     "data": {
      "text/html": [
       "<div>\n",
       "<style scoped>\n",
       "    .dataframe tbody tr th:only-of-type {\n",
       "        vertical-align: middle;\n",
       "    }\n",
       "\n",
       "    .dataframe tbody tr th {\n",
       "        vertical-align: top;\n",
       "    }\n",
       "\n",
       "    .dataframe thead th {\n",
       "        text-align: right;\n",
       "    }\n",
       "</style>\n",
       "<table border=\"1\" class=\"dataframe\">\n",
       "  <thead>\n",
       "    <tr style=\"text-align: right;\">\n",
       "      <th></th>\n",
       "      <th>APM</th>\n",
       "      <th>NPF</th>\n",
       "      <th>NumResult</th>\n",
       "      <th>Duration</th>\n",
       "      <th>PassiveDiff</th>\n",
       "      <th>FocusPoints</th>\n",
       "      <th>OppPoints</th>\n",
       "      <th>MoV</th>\n",
       "    </tr>\n",
       "    <tr>\n",
       "      <th>Focus</th>\n",
       "      <th></th>\n",
       "      <th></th>\n",
       "      <th></th>\n",
       "      <th></th>\n",
       "      <th></th>\n",
       "      <th></th>\n",
       "      <th></th>\n",
       "      <th></th>\n",
       "    </tr>\n",
       "  </thead>\n",
       "  <tbody>\n",
       "    <tr>\n",
       "      <th>Patrick Romero</th>\n",
       "      <td>3.333333</td>\n",
       "      <td>0.916667</td>\n",
       "      <td>0.583333</td>\n",
       "      <td>113.080000</td>\n",
       "      <td>-0.666667</td>\n",
       "      <td>1.000000</td>\n",
       "      <td>7.666667</td>\n",
       "      <td>-6.666667</td>\n",
       "    </tr>\n",
       "    <tr>\n",
       "      <th>Kyle Kintz</th>\n",
       "      <td>4.000000</td>\n",
       "      <td>0.500000</td>\n",
       "      <td>0.583333</td>\n",
       "      <td>84.226667</td>\n",
       "      <td>0.000000</td>\n",
       "      <td>2.000000</td>\n",
       "      <td>7.333333</td>\n",
       "      <td>-5.333333</td>\n",
       "    </tr>\n",
       "    <tr>\n",
       "      <th>Phil Rasmussen</th>\n",
       "      <td>4.666667</td>\n",
       "      <td>0.833333</td>\n",
       "      <td>0.500000</td>\n",
       "      <td>80.566667</td>\n",
       "      <td>-0.666667</td>\n",
       "      <td>3.333333</td>\n",
       "      <td>6.666667</td>\n",
       "      <td>-3.333333</td>\n",
       "    </tr>\n",
       "  </tbody>\n",
       "</table>\n",
       "</div>"
      ],
      "text/plain": [
       "                     APM       NPF  NumResult    Duration  PassiveDiff  \\\n",
       "Focus                                                                    \n",
       "Patrick Romero  3.333333  0.916667   0.583333  113.080000    -0.666667   \n",
       "Kyle Kintz      4.000000  0.500000   0.583333   84.226667     0.000000   \n",
       "Phil Rasmussen  4.666667  0.833333   0.500000   80.566667    -0.666667   \n",
       "\n",
       "                FocusPoints  OppPoints       MoV  \n",
       "Focus                                             \n",
       "Patrick Romero     1.000000   7.666667 -6.666667  \n",
       "Kyle Kintz         2.000000   7.333333 -5.333333  \n",
       "Phil Rasmussen     3.333333   6.666667 -3.333333  "
      ]
     },
     "metadata": {},
     "output_type": "display_data"
    }
   ],
   "source": [
    "print('Key perfomance metrics between ALL wrestlers and the Bottom Performers:')\n",
    "bottom_perfs = filt_name_grouped.mean().sort_values(['APM', 'NPF', 'NumResult']).head(3)\n",
    "\n",
    "display(pd.concat([\n",
    "    filt_name_grouped.mean()[['APM', 'NPF', 'NumResult']].mean().rename('All'), \n",
    "    bottom_perfs.mean()[['APM', 'NPF', 'NumResult']].rename('Bottom')\n",
    "    ], axis=1))\n",
    "\n",
    "print('Additional metrics for Bottom Performers:')\n",
    "display(bottom_perfs[['APM', 'NPF', 'NumResult', 'Duration', 'PassiveDiff', \n",
    "                   'FocusPoints', 'OppPoints', 'MoV']])"
   ]
  },
  {
   "cell_type": "markdown",
   "metadata": {},
   "source": [
    "### Top Individual Match Performance\n",
    "\n",
    "This section focuses on individual matches for all wrestlers who competed in the event.   \n",
    "Analysis will still favor the KPMs (Key Performance Metrics: APM and NPF).   \n",
    "\n",
    "There were 100 matches that resulted in a Win by Fall.   \n",
    "There were 88 matches with the maximum NPF of 2.0.   \n",
    "Of these, 11 matches resulted in an NPF of 2.0 **and** a Win by Fall.   \n",
    "There were 2 matches with an APM greater than 3 standard deviations from the event mean of 10.32.  "
   ]
  },
  {
   "cell_type": "markdown",
   "metadata": {},
   "source": [
    "11 matches with a WinF result and 2.0 NPF."
   ]
  },
  {
   "cell_type": "code",
   "execution_count": 6,
   "metadata": {
    "ExecuteTime": {
     "end_time": "2020-02-02T03:37:17.439364Z",
     "start_time": "2020-02-02T03:37:17.401344Z"
    }
   },
   "outputs": [
    {
     "data": {
      "text/html": [
       "<div>\n",
       "<style scoped>\n",
       "    .dataframe tbody tr th:only-of-type {\n",
       "        vertical-align: middle;\n",
       "    }\n",
       "\n",
       "    .dataframe tbody tr th {\n",
       "        vertical-align: top;\n",
       "    }\n",
       "\n",
       "    .dataframe thead th {\n",
       "        text-align: right;\n",
       "    }\n",
       "</style>\n",
       "<table border=\"1\" class=\"dataframe\">\n",
       "  <thead>\n",
       "    <tr style=\"text-align: right;\">\n",
       "      <th></th>\n",
       "      <th>Result</th>\n",
       "      <th>MatchID</th>\n",
       "      <th>Focus</th>\n",
       "      <th>Opponent</th>\n",
       "      <th>NPF</th>\n",
       "      <th>APM</th>\n",
       "      <th>Duration</th>\n",
       "      <th>FocusPoints</th>\n",
       "      <th>OppPoints</th>\n",
       "    </tr>\n",
       "  </thead>\n",
       "  <tbody>\n",
       "    <tr>\n",
       "      <th>843</th>\n",
       "      <td>WinF</td>\n",
       "      <td>HTMU*</td>\n",
       "      <td>Elroy Perkin</td>\n",
       "      <td>Joshua Kindig</td>\n",
       "      <td>2.0</td>\n",
       "      <td>12.0</td>\n",
       "      <td>95.74</td>\n",
       "      <td>8</td>\n",
       "      <td>0</td>\n",
       "    </tr>\n",
       "    <tr>\n",
       "      <th>669</th>\n",
       "      <td>WinF</td>\n",
       "      <td>DXNJ*</td>\n",
       "      <td>Conrad Cole</td>\n",
       "      <td>Ernesto Garcia</td>\n",
       "      <td>2.0</td>\n",
       "      <td>11.0</td>\n",
       "      <td>54.80</td>\n",
       "      <td>8</td>\n",
       "      <td>0</td>\n",
       "    </tr>\n",
       "    <tr>\n",
       "      <th>1598</th>\n",
       "      <td>WinF</td>\n",
       "      <td>PPH7*</td>\n",
       "      <td>Michael Macchiavello</td>\n",
       "      <td>Timothy Dudley</td>\n",
       "      <td>2.0</td>\n",
       "      <td>10.0</td>\n",
       "      <td>263.87</td>\n",
       "      <td>9</td>\n",
       "      <td>0</td>\n",
       "    </tr>\n",
       "    <tr>\n",
       "      <th>763</th>\n",
       "      <td>WinF</td>\n",
       "      <td>V8TQ</td>\n",
       "      <td>Joshua Asper</td>\n",
       "      <td>David Richardson</td>\n",
       "      <td>2.0</td>\n",
       "      <td>9.0</td>\n",
       "      <td>36.90</td>\n",
       "      <td>8</td>\n",
       "      <td>0</td>\n",
       "    </tr>\n",
       "    <tr>\n",
       "      <th>1400</th>\n",
       "      <td>WinF</td>\n",
       "      <td>SY70</td>\n",
       "      <td>Matthew Malcom</td>\n",
       "      <td>Austin Farbaugh</td>\n",
       "      <td>2.0</td>\n",
       "      <td>8.0</td>\n",
       "      <td>67.43</td>\n",
       "      <td>6</td>\n",
       "      <td>0</td>\n",
       "    </tr>\n",
       "    <tr>\n",
       "      <th>544</th>\n",
       "      <td>WinF</td>\n",
       "      <td>U72K*</td>\n",
       "      <td>Cameron Caffey</td>\n",
       "      <td>Jake Posey</td>\n",
       "      <td>2.0</td>\n",
       "      <td>7.0</td>\n",
       "      <td>88.74</td>\n",
       "      <td>4</td>\n",
       "      <td>0</td>\n",
       "    </tr>\n",
       "    <tr>\n",
       "      <th>955</th>\n",
       "      <td>WinF</td>\n",
       "      <td>QW3W</td>\n",
       "      <td>Geno Morelli</td>\n",
       "      <td>Kyle Matthews</td>\n",
       "      <td>2.0</td>\n",
       "      <td>6.0</td>\n",
       "      <td>17.42</td>\n",
       "      <td>4</td>\n",
       "      <td>0</td>\n",
       "    </tr>\n",
       "    <tr>\n",
       "      <th>524</th>\n",
       "      <td>WinF</td>\n",
       "      <td>DQW8*</td>\n",
       "      <td>Nikko Reyes</td>\n",
       "      <td>Nicholas Nottingham</td>\n",
       "      <td>2.0</td>\n",
       "      <td>5.0</td>\n",
       "      <td>30.53</td>\n",
       "      <td>4</td>\n",
       "      <td>0</td>\n",
       "    </tr>\n",
       "    <tr>\n",
       "      <th>652</th>\n",
       "      <td>WinF</td>\n",
       "      <td>KYO5</td>\n",
       "      <td>Nathan Jackson</td>\n",
       "      <td>Ethan Vistro</td>\n",
       "      <td>2.0</td>\n",
       "      <td>5.0</td>\n",
       "      <td>12.70</td>\n",
       "      <td>4</td>\n",
       "      <td>0</td>\n",
       "    </tr>\n",
       "    <tr>\n",
       "      <th>997</th>\n",
       "      <td>WinF</td>\n",
       "      <td>M8Q4*</td>\n",
       "      <td>Noel Orozco</td>\n",
       "      <td>Kyle La Fritz</td>\n",
       "      <td>2.0</td>\n",
       "      <td>5.0</td>\n",
       "      <td>18.71</td>\n",
       "      <td>4</td>\n",
       "      <td>0</td>\n",
       "    </tr>\n",
       "    <tr>\n",
       "      <th>1165</th>\n",
       "      <td>WinF</td>\n",
       "      <td>5N6D*</td>\n",
       "      <td>Jarrod Hinrichs</td>\n",
       "      <td>Kyle Jennings</td>\n",
       "      <td>2.0</td>\n",
       "      <td>5.0</td>\n",
       "      <td>21.41</td>\n",
       "      <td>4</td>\n",
       "      <td>0</td>\n",
       "    </tr>\n",
       "  </tbody>\n",
       "</table>\n",
       "</div>"
      ],
      "text/plain": [
       "     Result MatchID                 Focus             Opponent  NPF   APM  \\\n",
       "843    WinF   HTMU*          Elroy Perkin        Joshua Kindig  2.0  12.0   \n",
       "669    WinF   DXNJ*           Conrad Cole       Ernesto Garcia  2.0  11.0   \n",
       "1598   WinF   PPH7*  Michael Macchiavello       Timothy Dudley  2.0  10.0   \n",
       "763    WinF    V8TQ          Joshua Asper     David Richardson  2.0   9.0   \n",
       "1400   WinF    SY70        Matthew Malcom      Austin Farbaugh  2.0   8.0   \n",
       "544    WinF   U72K*        Cameron Caffey           Jake Posey  2.0   7.0   \n",
       "955    WinF    QW3W          Geno Morelli        Kyle Matthews  2.0   6.0   \n",
       "524    WinF   DQW8*           Nikko Reyes  Nicholas Nottingham  2.0   5.0   \n",
       "652    WinF    KYO5        Nathan Jackson         Ethan Vistro  2.0   5.0   \n",
       "997    WinF   M8Q4*           Noel Orozco        Kyle La Fritz  2.0   5.0   \n",
       "1165   WinF   5N6D*       Jarrod Hinrichs        Kyle Jennings  2.0   5.0   \n",
       "\n",
       "      Duration  FocusPoints  OppPoints  \n",
       "843      95.74            8          0  \n",
       "669      54.80            8          0  \n",
       "1598    263.87            9          0  \n",
       "763      36.90            8          0  \n",
       "1400     67.43            6          0  \n",
       "544      88.74            4          0  \n",
       "955      17.42            4          0  \n",
       "524      30.53            4          0  \n",
       "652      12.70            4          0  \n",
       "997      18.71            4          0  \n",
       "1165     21.41            4          0  "
      ]
     },
     "metadata": {},
     "output_type": "display_data"
    }
   ],
   "source": [
    "display(df[(df['NPF'] == 2.0) & (df['Result'] == 'WinF')]\\\n",
    "        [['Result', 'MatchID', 'Focus', 'Opponent', \n",
    "          'NPF', 'APM', 'Duration', 'FocusPoints', 'OppPoints']].sort_values(['APM'], ascending=False))"
   ]
  },
  {
   "cell_type": "markdown",
   "metadata": {
    "ExecuteTime": {
     "end_time": "2019-11-23T20:33:24.586518Z",
     "start_time": "2019-11-23T20:33:24.582583Z"
    }
   },
   "source": [
    "From this list of matches it is clear that there are many great performances to choose from.  The Perkin WinF over Kindig is tempting as it has the highest APM of any match with a 2.0 NPF and WinF result.  However, the Cole WinF over Garcia seems a stronger contender as it has roughly the same APM and was finished in half the time (55 seconds versus 96 seconds).    \n",
    " \n",
    "> Ultimately I will drop both of these options in favor of the 40.0 APM Graff WinD over Brewer.  This match was a 38 point storm that resulted in the highest APM of the tournament despite a relateively even NPF (1.15 for Graff). "
   ]
  },
  {
   "cell_type": "markdown",
   "metadata": {},
   "source": [
    "## Weight Class Analysis"
   ]
  },
  {
   "cell_type": "code",
   "execution_count": 7,
   "metadata": {
    "ExecuteTime": {
     "end_time": "2020-02-02T03:37:17.443570Z",
     "start_time": "2020-02-02T03:37:17.440481Z"
    }
   },
   "outputs": [],
   "source": [
    "# List for filtering columns later for corr tests\n",
    "base_cols = ['BinaryResult', \n",
    "             'HIa', 'HIc2', 'HIc4', 'HOa', 'HOc2', 'HOc4', 'Da', 'Dc2', 'Dc4', \n",
    "             'LSa', 'LSc2', 'LSc4', 'GBa', 'GBc2', 'Ta', 'Tc2', 'Tc4',\n",
    "             'Exposure', 'Gut', 'LegLace',  'Turn', 'Pushout', 'Violation', 'Passive',\n",
    "             'oHIa', 'oHIc2', 'oHIc4', 'oHOa', 'oHOc2', 'oHOc4', 'oDa', 'oDc2', 'oDc4', \n",
    "             'oLSa', 'oLSc2', 'oLSc4', 'oGBa', 'oGBc2', 'oTa', 'oTc2', 'oTc4',\n",
    "             'oExposure', 'oGut', 'oLegLace',  'oTurn', 'oPushout', 'oViolation', 'oPassive',\n",
    "            ]"
   ]
  },
  {
   "cell_type": "markdown",
   "metadata": {},
   "source": [
    "### 57 kilos \n",
    "<a href='#top'>Top</a>\n",
    "#### Placements\n",
    "1. <a href=\"http://www.veritaswrestlingsystems.com/wrestlers/daton-fix/\" target=\"_blank\">Daton Fix</a>\n",
    "2. <a href=\"http://www.veritaswrestlingsystems.com/wrestlers/thomas-gilman/\" target=\"_blank\">Thomas Gilman</a>\n",
    "3. <a href=\"http://www.veritaswrestlingsystems.com/wrestlers/zane-richards/\" target=\"_blank\">Zane Richards</a>\n",
    "4. <a href=\"http://www.veritaswrestlingsystems.com/wrestlers/vitali-arujau/\" target=\"_blank\">Vitali Arujau</a>"
   ]
  },
  {
   "cell_type": "code",
   "execution_count": 8,
   "metadata": {
    "ExecuteTime": {
     "end_time": "2020-02-02T03:37:17.449544Z",
     "start_time": "2020-02-02T03:37:17.444802Z"
    }
   },
   "outputs": [],
   "source": [
    "kgs57 = df[df['Weight'] == 57]"
   ]
  },
  {
   "cell_type": "markdown",
   "metadata": {},
   "source": [
    "#### Distributions\n",
    "This section focuses on illustrating the distribution of Results and ShotTypes for this event.1"
   ]
  },
  {
   "cell_type": "code",
   "execution_count": 9,
   "metadata": {
    "ExecuteTime": {
     "end_time": "2020-02-02T03:37:17.463508Z",
     "start_time": "2020-02-02T03:37:17.450747Z"
    },
    "scrolled": false
   },
   "outputs": [],
   "source": [
    "# This cell preps data for graphing\n",
    "\n",
    "# Gets series of results and counts \n",
    "res_df = kgs57[kgs57['MatchID'].map(len) == 4].groupby('Result')['Result'].count() \n",
    "\n",
    "# Uses series in dataframe with columns ordered for graphing\n",
    "result_df = pd.DataFrame(data={\n",
    "    'results': ['LossF', 'LossTF', 'LossD', 'WinD', 'WinTF', 'WinF'],\n",
    "    'counts': [\n",
    "        res_df['LossF'], res_df['LossTF'], res_df['LossD'], res_df['WinD'], res_df['WinTF'], res_df['WinF']\n",
    "    ]\n",
    "})\n",
    "\n",
    "# Creates array of conversion counts (sums c2 + c4)\n",
    "conv_df = kgs57.sum()[['HIc2', 'HOc2', 'Dc2', 'LSc2', 'GBc2', 'Tc2', 'HIc4', 'HOc4', 'Dc4', 'LSc4', 'Tc4']]\n",
    "\n",
    "# Creates dataframe for shot distribution graph\n",
    "shot_df = pd.DataFrame(data={\n",
    "    'rates': np.append(\n",
    "        kgs57.sum()[['HIa', 'HOa', 'Da', 'LSa', 'GBa', 'Ta']].values,\n",
    "        [conv_df['HIc2'] + conv_df['HIc4'],\n",
    "         conv_df['HOc2'] + conv_df['HOc4'],\n",
    "         conv_df['Dc2'] + conv_df['Dc4'],\n",
    "         conv_df['LSc2'] + conv_df['LSc4'],\n",
    "         conv_df['GBc2'],\n",
    "         conv_df['Tc2'] + conv_df['Tc4']]),\n",
    "    'shot_name': ['Head Inside', 'Head Outside', 'Double', 'Lowshot', 'GoBehind', 'Throw'] * 2,\n",
    "    'shot_type': np.append(['Attempt'] * 6, ['Conversion'] * 6)\n",
    "})"
   ]
  },
  {
   "cell_type": "markdown",
   "metadata": {
    "ExecuteTime": {
     "end_time": "2020-02-02T01:42:49.908976Z",
     "start_time": "2020-02-02T01:42:49.896257Z"
    }
   },
   "source": [
    "Tech-falls are the more common as is typical with a Freestyle event."
   ]
  },
  {
   "cell_type": "code",
   "execution_count": 10,
   "metadata": {
    "ExecuteTime": {
     "end_time": "2020-02-02T03:37:17.636606Z",
     "start_time": "2020-02-02T03:37:17.464788Z"
    },
    "scrolled": true
   },
   "outputs": [
    {
     "data": {
      "image/png": "[encoded data removed]",
      "text/plain": [
       "<Figure size 432x288 with 1 Axes>"
      ]
     },
     "metadata": {},
     "output_type": "display_data"
    }
   ],
   "source": [
    "# Result bar chart\n",
    "r = sns.barplot(x=\"results\", y='counts', data=result_df, \n",
    "            palette=\"coolwarm_r\")\n",
    "r.set_title('Results Distribution Chart')\n",
    "r.set(xlabel='Result Type', ylabel='Count')\n",
    "sns.despine()"
   ]
  },
  {
   "cell_type": "markdown",
   "metadata": {},
   "source": [
    "GBa will almost exclusively be #1 on this list due to the large variety of conditions under which it is recorded. "
   ]
  },
  {
   "cell_type": "code",
   "execution_count": 11,
   "metadata": {
    "ExecuteTime": {
     "end_time": "2020-02-02T03:37:17.786059Z",
     "start_time": "2020-02-02T03:37:17.637764Z"
    },
    "scrolled": false
   },
   "outputs": [
    {
     "data": {
      "image/png": "[encoded data removed]",
      "text/plain": [
       "<Figure size 432x288 with 1 Axes>"
      ]
     },
     "metadata": {},
     "output_type": "display_data"
    }
   ],
   "source": [
    "# Shot distribution chart\n",
    "s = sns.barplot(y='shot_name', x='rates', data=shot_df, hue='shot_type',\n",
    "            palette=sns.xkcd_palette([\"windows blue\", \"amber\"]))\n",
    "s.set_title('Shot Distribution Chart')\n",
    "s.set(xlabel='Count', ylabel='Shot Technique')\n",
    "s.legend(title='Shot Type')\n",
    "sns.despine()"
   ]
  },
  {
   "cell_type": "markdown",
   "metadata": {},
   "source": [
    "#### Trends\n",
    "This section focuses on identifying key metrics for success at this weight (at this event).\n",
    "\n",
    "The analysis does not take into consideration the value of more powerful results.  In otherwords, correlations are done only on win/loss results and **not** on the degree of the result (i.e. tech-fall versus pin).  So a strong correlation indicates a higher relationship with winning but **not** the degree of winning.\n",
    "\n",
    "Remember correlations range from -1 to +1 the former representating a strong relationship with a negative outcome (in this case losing the match) and the latter representation a strong relationship with a positive outcome (i.e. winning a match).  Correlations closer to 0 represent weak relationships and correlations around 0.5 represent moderate relationships."
   ]
  },
  {
   "cell_type": "code",
   "execution_count": 12,
   "metadata": {
    "ExecuteTime": {
     "end_time": "2020-02-02T03:37:17.890497Z",
     "start_time": "2020-02-02T03:37:17.787400Z"
    },
    "scrolled": false
   },
   "outputs": [
    {
     "data": {
      "image/png": "[encoded data removed]",
      "text/plain": [
       "<Figure size 432x288 with 1 Axes>"
      ]
     },
     "metadata": {},
     "output_type": "display_data"
    }
   ],
   "source": [
    "# Correlation chart plotting\n",
    "c = sns.barplot(x='index', y='BinaryResult',\n",
    "    data=kgs57[base_cols].corr().sort_values(\n",
    "        by=['BinaryResult'], ascending=False)['BinaryResult'][1:6].reset_index())\n",
    "c.set_title('Top Actions Chart')\n",
    "c.set(xlabel='Action', ylabel='Correlation', ylim=(0,1))\n",
    "sns.despine()"
   ]
  },
  {
   "cell_type": "markdown",
   "metadata": {
    "hide_input": false
   },
   "source": [
    "### 61 kilos \n",
    "<a href='#top'>Top</a>\n",
    "#### Placements\n",
    "1. <a href=\"http://www.veritaswrestlingsystems.com/wrestlers/cody-brewer/\" target=\"_blank\">Cody Brewer</a>\n",
    "2. <a href=\"http://www.veritaswrestlingsystems.com/wrestlers/nico-megaludis/\" target=\"_blank\">Nico Megaludis</a>\n",
    "3. <a href=\"http://www.veritaswrestlingsystems.com/wrestlers/joey-palmer/\" target=\"_blank\">Joey Palmer</a>\n",
    "4. <a href=\"http://www.veritaswrestlingsystems.com/wrestlers/tyler-graff/\" target=\"_blank\">Tyler Graff</a>"
   ]
  },
  {
   "cell_type": "code",
   "execution_count": 13,
   "metadata": {
    "ExecuteTime": {
     "end_time": "2020-02-02T03:37:17.895308Z",
     "start_time": "2020-02-02T03:37:17.891749Z"
    }
   },
   "outputs": [],
   "source": [
    "kgs61 = df[df['Weight'] == 61]"
   ]
  },
  {
   "cell_type": "markdown",
   "metadata": {},
   "source": [
    "#### Distributions\n",
    "This section focuses on illustrating the distribution of Results and ShotTypes for this event."
   ]
  },
  {
   "cell_type": "code",
   "execution_count": 14,
   "metadata": {
    "ExecuteTime": {
     "end_time": "2020-02-02T03:37:17.909162Z",
     "start_time": "2020-02-02T03:37:17.896608Z"
    }
   },
   "outputs": [],
   "source": [
    "# This cell preps data for graphing\n",
    "\n",
    "# Gets series of results and counts \n",
    "res_df = kgs61[kgs61['MatchID'].map(len) == 4].groupby('Result')['Result'].count() \n",
    "\n",
    "# Uses series in dataframe with columns ordered for graphing\n",
    "result_df = pd.DataFrame(data={\n",
    "    'results': ['LossF', 'LossTF', 'LossD', 'WinD', 'WinTF', 'WinF'],\n",
    "    'counts': [\n",
    "        res_df['LossF'], res_df['LossTF'], res_df['LossD'], res_df['WinD'], res_df['WinTF'], res_df['WinF']\n",
    "    ]\n",
    "})\n",
    "\n",
    "# Creates array of conversion counts (sums c2 + c4)\n",
    "conv_df = kgs61.sum()[['HIc2', 'HOc2', 'Dc2', 'LSc2', 'GBc2', 'Tc2', 'HIc4', 'HOc4', 'Dc4', 'LSc4', 'Tc4']]\n",
    "\n",
    "# Creates dataframe for shot distribution graph\n",
    "shot_df = pd.DataFrame(data={\n",
    "    'rates': np.append(\n",
    "        kgs57.sum()[['HIa', 'HOa', 'Da', 'LSa', 'GBa', 'Ta']].values,\n",
    "        [conv_df['HIc2'] + conv_df['HIc4'],\n",
    "         conv_df['HOc2'] + conv_df['HOc4'],\n",
    "         conv_df['Dc2'] + conv_df['Dc4'],\n",
    "         conv_df['LSc2'] + conv_df['LSc4'],\n",
    "         conv_df['GBc2'],\n",
    "         conv_df['Tc2'] + conv_df['Tc4']]),\n",
    "    'shot_name': ['Head Inside', 'Head Outside', 'Double', 'Lowshot', 'GoBehind', 'Throw'] * 2,\n",
    "    'shot_type': np.append(['Attempt'] * 6, ['Conversion'] * 6)\n",
    "})"
   ]
  },
  {
   "cell_type": "markdown",
   "metadata": {},
   "source": [
    "Tech-falls are the more common as is typical with a Freestyle event."
   ]
  },
  {
   "cell_type": "code",
   "execution_count": 15,
   "metadata": {
    "ExecuteTime": {
     "end_time": "2020-02-02T03:37:18.020051Z",
     "start_time": "2020-02-02T03:37:17.910401Z"
    },
    "scrolled": false
   },
   "outputs": [
    {
     "data": {
      "image/png": "[encoded data removed]",
      "text/plain": [
       "<Figure size 432x288 with 1 Axes>"
      ]
     },
     "metadata": {},
     "output_type": "display_data"
    }
   ],
   "source": [
    "# Result bar chart\n",
    "r = sns.barplot(x=\"results\", y='counts', data=result_df, \n",
    "            palette=\"coolwarm_r\")\n",
    "r.set_title('Results Distribution Chart')\n",
    "r.set(xlabel='Result Type', ylabel='Count')\n",
    "sns.despine()"
   ]
  },
  {
   "cell_type": "markdown",
   "metadata": {},
   "source": [
    "GBa will almost exclusively be #1 on this list due to the large variety of conditions under which it is recorded. "
   ]
  },
  {
   "cell_type": "code",
   "execution_count": 16,
   "metadata": {
    "ExecuteTime": {
     "end_time": "2020-02-02T03:37:18.226421Z",
     "start_time": "2020-02-02T03:37:18.021826Z"
    }
   },
   "outputs": [
    {
     "data": {
      "image/png": "[encoded data removed]",
      "text/plain": [
       "<Figure size 432x288 with 1 Axes>"
      ]
     },
     "metadata": {},
     "output_type": "display_data"
    }
   ],
   "source": [
    "# Shot distribution chart\n",
    "s = sns.barplot(y='shot_name', x='rates', data=shot_df, hue='shot_type',\n",
    "            palette=sns.xkcd_palette([\"windows blue\", \"amber\"]))\n",
    "s.set_title('Shot Distribution Chart')\n",
    "s.set(xlabel='Count', ylabel='Shot Technique')\n",
    "s.legend(title='Shot Type')\n",
    "sns.despine()"
   ]
  },
  {
   "cell_type": "markdown",
   "metadata": {},
   "source": [
    "#### Trends\n",
    "This section focuses on identifying key metrics for success at this weight (at this event).\n",
    "\n",
    "The analysis does not take into consideration the value of more powerful results. In otherwords, correlations are done only on win/loss results and not on the degree of the result (i.e. tech-fall versus pin). So a strong correlation indicates a higher relationship with winning but not the degree of winning.\n",
    "\n",
    "Remember correlations range from -1 to +1 the former representating a strong relationship with a negative outcome (in this case losing the match) and the latter representation a strong relationship with a positive outcome (i.e. winning a match). Correlations closer to 0 represent weak relationships and correlations around 0.5 represent moderate relationships."
   ]
  },
  {
   "cell_type": "code",
   "execution_count": 17,
   "metadata": {
    "ExecuteTime": {
     "end_time": "2020-02-02T03:37:18.345962Z",
     "start_time": "2020-02-02T03:37:18.228011Z"
    },
    "scrolled": true
   },
   "outputs": [
    {
     "data": {
      "image/png": "[encoded data removed]",
      "text/plain": [
       "<Figure size 432x288 with 1 Axes>"
      ]
     },
     "metadata": {},
     "output_type": "display_data"
    }
   ],
   "source": [
    "# Correlation chart plotting\n",
    "c = sns.barplot(x='index', y='BinaryResult',\n",
    "    data=kgs61[base_cols].corr().sort_values(\n",
    "        by=['BinaryResult'], ascending=False)['BinaryResult'][1:6].reset_index())\n",
    "c.set_title('Top Actions Chart')\n",
    "c.set(xlabel='Action', ylabel='Correlation', ylim=(0,1))\n",
    "sns.despine()"
   ]
  },
  {
   "cell_type": "markdown",
   "metadata": {
    "hide_input": false
   },
   "source": [
    "### 65 kilos \n",
    "<a href='#top'>Top</a>\n",
    "#### Placements\n",
    "1. <a href=\"http://www.veritaswrestlingsystems.com/wrestlers/yianni-diakomihalis/\" target=\"_blank\">Yianni Diakomihalis</a>\n",
    "2. <a href=\"http://www.veritaswrestlingsystems.com/wrestlers/zain-retherford/\" target=\"_blank\">Zain Retherford</a>\n",
    "3. <a href=\"http://www.veritaswrestlingsystems.com/wrestlers/jason-ness/\" target=\"_blank\">Jason Ness</a>\n",
    "4. <a href=\"http://www.veritaswrestlingsystems.com/wrestlers/frank-molinaro/\" target=\"_blank\">Frank Molinaro</a>"
   ]
  },
  {
   "cell_type": "code",
   "execution_count": 18,
   "metadata": {
    "ExecuteTime": {
     "end_time": "2020-02-02T03:37:18.354858Z",
     "start_time": "2020-02-02T03:37:18.350713Z"
    }
   },
   "outputs": [],
   "source": [
    "kgs65 = df[df['Weight'] == 65]"
   ]
  },
  {
   "cell_type": "markdown",
   "metadata": {},
   "source": [
    "#### Distributions\n",
    "This section focuses on illustrating the distribution of Results and ShotTypes for this event."
   ]
  },
  {
   "cell_type": "code",
   "execution_count": 19,
   "metadata": {
    "ExecuteTime": {
     "end_time": "2020-02-02T03:37:18.381228Z",
     "start_time": "2020-02-02T03:37:18.357542Z"
    }
   },
   "outputs": [],
   "source": [
    "# This cell preps data for graphing\n",
    "\n",
    "# Gets series of results and counts \n",
    "res_df = kgs65[kgs65['MatchID'].map(len) == 4].groupby('Result')['Result'].count() \n",
    "\n",
    "# Uses series in dataframe with columns ordered for graphing\n",
    "result_df = pd.DataFrame(data={\n",
    "    'results': ['LossF', 'LossTF', 'LossD', 'WinD', 'WinTF', 'WinF'],\n",
    "    'counts': [\n",
    "        res_df['LossF'], res_df['LossTF'], res_df['LossD'], res_df['WinD'], res_df['WinTF'], res_df['WinF']\n",
    "    ]\n",
    "})\n",
    "\n",
    "# Creates array of conversion counts (sums c2 + c4)\n",
    "conv_df = kgs65.sum()[['HIc2', 'HOc2', 'Dc2', 'LSc2', 'GBc2', 'Tc2', 'HIc4', 'HOc4', 'Dc4', 'LSc4', 'Tc4']]\n",
    "\n",
    "# Creates dataframe for shot distribution graph\n",
    "shot_df = pd.DataFrame(data={\n",
    "    'rates': np.append(\n",
    "        kgs57.sum()[['HIa', 'HOa', 'Da', 'LSa', 'GBa', 'Ta']].values,\n",
    "        [conv_df['HIc2'] + conv_df['HIc4'],\n",
    "         conv_df['HOc2'] + conv_df['HOc4'],\n",
    "         conv_df['Dc2'] + conv_df['Dc4'],\n",
    "         conv_df['LSc2'] + conv_df['LSc4'],\n",
    "         conv_df['GBc2'],\n",
    "         conv_df['Tc2'] + conv_df['Tc4']]),\n",
    "    'shot_name': ['Head Inside', 'Head Outside', 'Double', 'Lowshot', 'GoBehind', 'Throw'] * 2,\n",
    "    'shot_type': np.append(['Attempt'] * 6, ['Conversion'] * 6)\n",
    "})"
   ]
  },
  {
   "cell_type": "markdown",
   "metadata": {},
   "source": [
    "Tech-falls are the more common as is typical with a Freestyle event."
   ]
  },
  {
   "cell_type": "code",
   "execution_count": 20,
   "metadata": {
    "ExecuteTime": {
     "end_time": "2020-02-02T03:37:18.559853Z",
     "start_time": "2020-02-02T03:37:18.382864Z"
    },
    "scrolled": false
   },
   "outputs": [
    {
     "data": {
      "image/png": "[encoded data removed]",
      "text/plain": [
       "<Figure size 432x288 with 1 Axes>"
      ]
     },
     "metadata": {},
     "output_type": "display_data"
    }
   ],
   "source": [
    "# Result bar chart\n",
    "r = sns.barplot(x=\"results\", y='counts', data=result_df, \n",
    "            palette=\"coolwarm_r\")\n",
    "r.set_title('Results Distribution Chart')\n",
    "r.set(xlabel='Result Type', ylabel='Count')\n",
    "sns.despine()"
   ]
  },
  {
   "cell_type": "markdown",
   "metadata": {},
   "source": [
    "GBa will almost exclusively be #1 on this list due to the large variety of conditions under which it is recorded. "
   ]
  },
  {
   "cell_type": "code",
   "execution_count": 21,
   "metadata": {
    "ExecuteTime": {
     "end_time": "2020-02-02T03:37:18.736011Z",
     "start_time": "2020-02-02T03:37:18.561774Z"
    }
   },
   "outputs": [
    {
     "data": {
      "image/png": "[encoded data removed]",
      "text/plain": [
       "<Figure size 432x288 with 1 Axes>"
      ]
     },
     "metadata": {},
     "output_type": "display_data"
    }
   ],
   "source": [
    "# Shot distribution chart\n",
    "s = sns.barplot(y='shot_name', x='rates', data=shot_df, hue='shot_type',\n",
    "            palette=sns.xkcd_palette([\"windows blue\", \"amber\"]))\n",
    "s.set_title('Shot Distribution Chart')\n",
    "s.set(xlabel='Count', ylabel='Shot Technique')\n",
    "s.legend(title='Shot Type')\n",
    "sns.despine()"
   ]
  },
  {
   "cell_type": "markdown",
   "metadata": {},
   "source": [
    "#### Trends\n",
    "This section focuses on identifying key metrics for success at this weight (at this event).\n",
    "\n",
    "The analysis does not take into consideration the value of more powerful results. In otherwords, correlations are done only on win/loss results and not on the degree of the result (i.e. tech-fall versus pin). So a strong correlation indicates a higher relationship with winning but not the degree of winning.\n",
    "\n",
    "Remember correlations range from -1 to +1 the former representating a strong relationship with a negative outcome (in this case losing the match) and the latter representation a strong relationship with a positive outcome (i.e. winning a match). Correlations closer to 0 represent weak relationships and correlations around 0.5 represent moderate relationships."
   ]
  },
  {
   "cell_type": "code",
   "execution_count": 22,
   "metadata": {
    "ExecuteTime": {
     "end_time": "2020-02-02T03:37:18.837918Z",
     "start_time": "2020-02-02T03:37:18.737375Z"
    },
    "scrolled": false
   },
   "outputs": [
    {
     "data": {
      "image/png": "[encoded data removed]",
      "text/plain": [
       "<Figure size 432x288 with 1 Axes>"
      ]
     },
     "metadata": {},
     "output_type": "display_data"
    }
   ],
   "source": [
    "# Correlation chart plotting\n",
    "c = sns.barplot(x='index', y='BinaryResult',\n",
    "    data=kgs65[base_cols].corr().sort_values(\n",
    "        by=['BinaryResult'], ascending=False)['BinaryResult'][1:6].reset_index())\n",
    "c.set_title('Top Actions Chart')\n",
    "c.set(xlabel='Action', ylabel='Correlation', ylim=(0,1))\n",
    "sns.despine()"
   ]
  },
  {
   "cell_type": "markdown",
   "metadata": {
    "hide_input": false
   },
   "source": [
    "### 70 kilos \n",
    "<a href='#top'>Top</a>\n",
    "#### Placements\n",
    "1. <a href=\"http://www.veritaswrestlingsystems.com/wrestlers/ryan-deakin/\" target=\"_blank\">Ryan Deakin</a>\n",
    "2. <a href=\"http://www.veritaswrestlingsystems.com/wrestlers/james-green/\" target=\"_blank\">James Green</a>\n",
    "3. <a href=\"http://www.veritaswrestlingsystems.com/wrestlers/jason-nolf/\" target=\"_blank\">Jason Nolf</a>\n",
    "4. <a href=\"http://www.veritaswrestlingsystems.com/wrestlers/alec-pantaleo/\" target=\"_blank\">Alec Pantaleo</a>"
   ]
  },
  {
   "cell_type": "code",
   "execution_count": 23,
   "metadata": {
    "ExecuteTime": {
     "end_time": "2020-02-02T03:37:18.842709Z",
     "start_time": "2020-02-02T03:37:18.839272Z"
    }
   },
   "outputs": [],
   "source": [
    "kgs70 = df[df['Weight'] == 70]"
   ]
  },
  {
   "cell_type": "markdown",
   "metadata": {},
   "source": [
    "#### Distributions\n",
    "This section focuses on illustrating the distribution of Results and ShotTypes for this event."
   ]
  },
  {
   "cell_type": "code",
   "execution_count": 24,
   "metadata": {
    "ExecuteTime": {
     "end_time": "2020-02-02T03:37:18.868223Z",
     "start_time": "2020-02-02T03:37:18.844274Z"
    }
   },
   "outputs": [],
   "source": [
    "# This cell preps data for graphing\n",
    "\n",
    "# Gets series of results and counts \n",
    "res_df = kgs70[kgs70['MatchID'].map(len) == 4].groupby('Result')['Result'].count() \n",
    "\n",
    "# Uses series in dataframe with columns ordered for graphing\n",
    "result_df = pd.DataFrame(data={\n",
    "    'results': ['LossF', 'LossTF', 'LossD', 'WinD', 'WinTF', 'WinF'],\n",
    "    'counts': [\n",
    "        res_df['LossF'], res_df['LossTF'], res_df['LossD'], res_df['WinD'], res_df['WinTF'], res_df['WinF']\n",
    "    ]\n",
    "})\n",
    "\n",
    "# Creates array of conversion counts (sums c2 + c4)\n",
    "conv_df = kgs70.sum()[['HIc2', 'HOc2', 'Dc2', 'LSc2', 'GBc2', 'Tc2', 'HIc4', 'HOc4', 'Dc4', 'LSc4', 'Tc4']]\n",
    "\n",
    "# Creates dataframe for shot distribution graph\n",
    "shot_df = pd.DataFrame(data={\n",
    "    'rates': np.append(\n",
    "        kgs57.sum()[['HIa', 'HOa', 'Da', 'LSa', 'GBa', 'Ta']].values,\n",
    "        [conv_df['HIc2'] + conv_df['HIc4'],\n",
    "         conv_df['HOc2'] + conv_df['HOc4'],\n",
    "         conv_df['Dc2'] + conv_df['Dc4'],\n",
    "         conv_df['LSc2'] + conv_df['LSc4'],\n",
    "         conv_df['GBc2'],\n",
    "         conv_df['Tc2'] + conv_df['Tc4']]),\n",
    "    'shot_name': ['Head Inside', 'Head Outside', 'Double', 'Lowshot', 'GoBehind', 'Throw'] * 2,\n",
    "    'shot_type': np.append(['Attempt'] * 6, ['Conversion'] * 6)\n",
    "})"
   ]
  },
  {
   "cell_type": "markdown",
   "metadata": {},
   "source": [
    "Tech-falls are the more common as is typical with a Freestyle event."
   ]
  },
  {
   "cell_type": "code",
   "execution_count": 25,
   "metadata": {
    "ExecuteTime": {
     "end_time": "2020-02-02T03:37:18.983508Z",
     "start_time": "2020-02-02T03:37:18.869967Z"
    },
    "scrolled": false
   },
   "outputs": [
    {
     "data": {
      "image/png": "[encoded data removed]",
      "text/plain": [
       "<Figure size 432x288 with 1 Axes>"
      ]
     },
     "metadata": {},
     "output_type": "display_data"
    }
   ],
   "source": [
    "# Result bar chart\n",
    "r = sns.barplot(x=\"results\", y='counts', data=result_df, \n",
    "            palette=\"coolwarm_r\")\n",
    "r.set_title('Results Distribution Chart')\n",
    "r.set(xlabel='Result Type', ylabel='Count')\n",
    "sns.despine()"
   ]
  },
  {
   "cell_type": "markdown",
   "metadata": {},
   "source": [
    "GBa will almost exclusively be #1 on this list due to the large variety of conditions under which it is recorded. "
   ]
  },
  {
   "cell_type": "code",
   "execution_count": 26,
   "metadata": {
    "ExecuteTime": {
     "end_time": "2020-02-02T03:37:19.148276Z",
     "start_time": "2020-02-02T03:37:18.984625Z"
    }
   },
   "outputs": [
    {
     "data": {
      "image/png": "[encoded data removed]",
      "text/plain": [
       "<Figure size 432x288 with 1 Axes>"
      ]
     },
     "metadata": {},
     "output_type": "display_data"
    }
   ],
   "source": [
    "# Shot distribution chart\n",
    "s = sns.barplot(y='shot_name', x='rates', data=shot_df, hue='shot_type',\n",
    "            palette=sns.xkcd_palette([\"windows blue\", \"amber\"]))\n",
    "s.set_title('Shot Distribution Chart')\n",
    "s.set(xlabel='Count', ylabel='Shot Technique')\n",
    "s.legend(title='Shot Type')\n",
    "sns.despine()"
   ]
  },
  {
   "cell_type": "markdown",
   "metadata": {},
   "source": [
    "#### Trends\n",
    "This section focuses on identifying key metrics for success at this weight (at this event).\n",
    "\n",
    "The analysis does not take into consideration the value of more powerful results. In otherwords, correlations are done only on win/loss results and not on the degree of the result (i.e. tech-fall versus pin). So a strong correlation indicates a higher relationship with winning but not the degree of winning.\n",
    "\n",
    "Remember correlations range from -1 to +1 the former representating a strong relationship with a negative outcome (in this case losing the match) and the latter representation a strong relationship with a positive outcome (i.e. winning a match). Correlations closer to 0 represent weak relationships and correlations around 0.5 represent moderate relationships."
   ]
  },
  {
   "cell_type": "code",
   "execution_count": 27,
   "metadata": {
    "ExecuteTime": {
     "end_time": "2020-02-02T03:37:19.261366Z",
     "start_time": "2020-02-02T03:37:19.149938Z"
    },
    "scrolled": false
   },
   "outputs": [
    {
     "data": {
      "image/png": "[encoded data removed]",
      "text/plain": [
       "<Figure size 432x288 with 1 Axes>"
      ]
     },
     "metadata": {},
     "output_type": "display_data"
    }
   ],
   "source": [
    "# Correlation chart plotting\n",
    "c = sns.barplot(x='index', y='BinaryResult',\n",
    "    data=kgs70[base_cols].corr().sort_values(\n",
    "        by=['BinaryResult'], ascending=False)['BinaryResult'][1:6].reset_index())\n",
    "c.set_title('Top Actions Chart')\n",
    "c.set(xlabel='Action', ylabel='Correlation', ylim=(0,1))\n",
    "sns.despine()"
   ]
  },
  {
   "cell_type": "markdown",
   "metadata": {
    "hide_input": false
   },
   "source": [
    "### 74 kilos \n",
    "<a href='#top'>Top</a>\n",
    "#### Placements\n",
    "1. <a href=\"http://www.veritaswrestlingsystems.com/wrestlers/isaiah-martinez/\" target=\"_blank\">Isaiah Martinez</a>\n",
    "2. <a href=\"http://www.veritaswrestlingsystems.com/wrestlers/thomas-gantt/\" target=\"_blank\">Thomas Gantt</a>\n",
    "3. <a href=\"http://www.veritaswrestlingsystems.com/wrestlers/anthony-valencia/\" target=\"_blank\">Anthony Valencia</a>\n",
    "4. <a href=\"http://www.veritaswrestlingsystems.com/wrestlers/dan-vallimont/\" target=\"_blank\">Dan Vallimont</a>"
   ]
  },
  {
   "cell_type": "code",
   "execution_count": 28,
   "metadata": {
    "ExecuteTime": {
     "end_time": "2020-02-02T03:37:19.266461Z",
     "start_time": "2020-02-02T03:37:19.262420Z"
    }
   },
   "outputs": [],
   "source": [
    "kgs74 = df[df['Weight'] == 74]"
   ]
  },
  {
   "cell_type": "markdown",
   "metadata": {},
   "source": [
    "#### Distributions\n",
    "This section focuses on illustrating the distribution of Results and ShotTypes for this event."
   ]
  },
  {
   "cell_type": "code",
   "execution_count": 29,
   "metadata": {
    "ExecuteTime": {
     "end_time": "2020-02-02T03:37:19.290395Z",
     "start_time": "2020-02-02T03:37:19.268260Z"
    }
   },
   "outputs": [],
   "source": [
    "# This cell preps data for graphing\n",
    "\n",
    "# Gets series of results and counts \n",
    "res_df = kgs74[kgs74['MatchID'].map(len) == 4].groupby('Result')['Result'].count() \n",
    "\n",
    "# Uses series in dataframe with columns ordered for graphing\n",
    "result_df = pd.DataFrame(data={\n",
    "    'results': ['LossF', 'LossTF', 'LossD', 'WinD', 'WinTF', 'WinF'],\n",
    "    'counts': [\n",
    "        res_df['LossF'], res_df['LossTF'], res_df['LossD'], res_df['WinD'], res_df['WinTF'], res_df['WinF']\n",
    "    ]\n",
    "})\n",
    "\n",
    "# Creates array of conversion counts (sums c2 + c4)\n",
    "conv_df = kgs74.sum()[['HIc2', 'HOc2', 'Dc2', 'LSc2', 'GBc2', 'Tc2', 'HIc4', 'HOc4', 'Dc4', 'LSc4', 'Tc4']]\n",
    "\n",
    "# Creates dataframe for shot distribution graph\n",
    "shot_df = pd.DataFrame(data={\n",
    "    'rates': np.append(\n",
    "        kgs57.sum()[['HIa', 'HOa', 'Da', 'LSa', 'GBa', 'Ta']].values,\n",
    "        [conv_df['HIc2'] + conv_df['HIc4'],\n",
    "         conv_df['HOc2'] + conv_df['HOc4'],\n",
    "         conv_df['Dc2'] + conv_df['Dc4'],\n",
    "         conv_df['LSc2'] + conv_df['LSc4'],\n",
    "         conv_df['GBc2'],\n",
    "         conv_df['Tc2'] + conv_df['Tc4']]),\n",
    "    'shot_name': ['Head Inside', 'Head Outside', 'Double', 'Lowshot', 'GoBehind', 'Throw'] * 2,\n",
    "    'shot_type': np.append(['Attempt'] * 6, ['Conversion'] * 6)\n",
    "})"
   ]
  },
  {
   "cell_type": "markdown",
   "metadata": {},
   "source": [
    "Tech-falls are the more common as is typical with a Freestyle event."
   ]
  },
  {
   "cell_type": "code",
   "execution_count": 30,
   "metadata": {
    "ExecuteTime": {
     "end_time": "2020-02-02T03:37:19.418515Z",
     "start_time": "2020-02-02T03:37:19.291540Z"
    },
    "scrolled": false
   },
   "outputs": [
    {
     "data": {
      "image/png": "[encoded data removed]",
      "text/plain": [
       "<Figure size 432x288 with 1 Axes>"
      ]
     },
     "metadata": {},
     "output_type": "display_data"
    }
   ],
   "source": [
    "# Result bar chart\n",
    "r = sns.barplot(x=\"results\", y='counts', data=result_df, \n",
    "            palette=\"coolwarm_r\")\n",
    "r.set_title('Results Distribution Chart')\n",
    "r.set(xlabel='Result Type', ylabel='Count')\n",
    "sns.despine()"
   ]
  },
  {
   "cell_type": "markdown",
   "metadata": {},
   "source": [
    "GBa will almost exclusively be #1 on this list due to the large variety of conditions under which it is recorded. "
   ]
  },
  {
   "cell_type": "code",
   "execution_count": 31,
   "metadata": {
    "ExecuteTime": {
     "end_time": "2020-02-02T03:37:19.568343Z",
     "start_time": "2020-02-02T03:37:19.419570Z"
    }
   },
   "outputs": [
    {
     "data": {
      "image/png": "[encoded data removed]",
      "text/plain": [
       "<Figure size 432x288 with 1 Axes>"
      ]
     },
     "metadata": {},
     "output_type": "display_data"
    }
   ],
   "source": [
    "# Shot distribution chart\n",
    "s = sns.barplot(y='shot_name', x='rates', data=shot_df, hue='shot_type',\n",
    "            palette=sns.xkcd_palette([\"windows blue\", \"amber\"]))\n",
    "s.set_title('Shot Distribution Chart')\n",
    "s.set(xlabel='Count', ylabel='Shot Technique')\n",
    "s.legend(title='Shot Type')\n",
    "sns.despine()"
   ]
  },
  {
   "cell_type": "markdown",
   "metadata": {},
   "source": [
    "#### Trends\n",
    "This section focuses on identifying key metrics for success at this weight (at this event).\n",
    "\n",
    "The analysis does not take into consideration the value of more powerful results. In otherwords, correlations are done only on win/loss results and not on the degree of the result (i.e. tech-fall versus pin). So a strong correlation indicates a higher relationship with winning but not the degree of winning.\n",
    "\n",
    "Remember correlations range from -1 to +1 the former representating a strong relationship with a negative outcome (in this case losing the match) and the latter representation a strong relationship with a positive outcome (i.e. winning a match). Correlations closer to 0 represent weak relationships and correlations around 0.5 represent moderate relationships."
   ]
  },
  {
   "cell_type": "code",
   "execution_count": 32,
   "metadata": {
    "ExecuteTime": {
     "end_time": "2020-02-02T03:37:19.761301Z",
     "start_time": "2020-02-02T03:37:19.569571Z"
    },
    "scrolled": false
   },
   "outputs": [
    {
     "data": {
      "image/png": "[encoded data removed]",
      "text/plain": [
       "<Figure size 432x288 with 1 Axes>"
      ]
     },
     "metadata": {},
     "output_type": "display_data"
    }
   ],
   "source": [
    "# Correlation chart plotting\n",
    "c = sns.barplot(x='index', y='BinaryResult',\n",
    "    data=kgs74[base_cols].corr().sort_values(\n",
    "        by=['BinaryResult'], ascending=False)['BinaryResult'][1:6].reset_index())\n",
    "c.set_title('Top Actions Chart')\n",
    "c.set(xlabel='Action', ylabel='Correlation', ylim=(0,1))\n",
    "sns.despine()"
   ]
  },
  {
   "cell_type": "markdown",
   "metadata": {
    "hide_input": false
   },
   "source": [
    "### 79 kilos \n",
    "<a href='#top'>Top</a>\n",
    "#### Placements\n",
    "1. <a href=\"http://www.veritaswrestlingsystems.com/wrestlers/alex-dieringer/\" target=\"_blank\">Alex Dieringer</a>\n",
    "2. <a href=\"http://www.veritaswrestlingsystems.com/wrestlers/chance-marsteller/\" target=\"_blank\">Chance Marsteller</a>\n",
    "3. <a href=\"http://www.veritaswrestlingsystems.com/wrestlers/nick-becker/\" target=\"_blank\">Nick Becker</a>\n",
    "4. <a href=\"http://www.veritaswrestlingsystems.com/wrestlers/matthew-finesilver/\" target=\"_blank\">Matthew Finesilver</a>"
   ]
  },
  {
   "cell_type": "code",
   "execution_count": 33,
   "metadata": {
    "ExecuteTime": {
     "end_time": "2020-02-02T03:37:19.765703Z",
     "start_time": "2020-02-02T03:37:19.762521Z"
    }
   },
   "outputs": [],
   "source": [
    "kgs79 = df[df['Weight'] == 79]"
   ]
  },
  {
   "cell_type": "markdown",
   "metadata": {},
   "source": [
    "#### Distributions\n",
    "This section focuses on illustrating the distribution of Results and ShotTypes for this event."
   ]
  },
  {
   "cell_type": "code",
   "execution_count": 34,
   "metadata": {
    "ExecuteTime": {
     "end_time": "2020-02-02T03:37:19.783352Z",
     "start_time": "2020-02-02T03:37:19.766852Z"
    }
   },
   "outputs": [],
   "source": [
    "# This cell preps data for graphing\n",
    "\n",
    "# Gets series of results and counts \n",
    "res_df = kgs79[kgs79['MatchID'].map(len) == 4].groupby('Result')['Result'].count() \n",
    "\n",
    "# Uses series in dataframe with columns ordered for graphing\n",
    "result_df = pd.DataFrame(data={\n",
    "    'results': ['LossF', 'LossTF', 'LossD', 'WinD', 'WinTF', 'WinF'],\n",
    "    'counts': [\n",
    "        res_df['LossF'], res_df['LossTF'], res_df['LossD'], res_df['WinD'], res_df['WinTF'], res_df['WinF']\n",
    "    ]\n",
    "})\n",
    "\n",
    "# Creates array of conversion counts (sums c2 + c4)\n",
    "conv_df = kgs79.sum()[['HIc2', 'HOc2', 'Dc2', 'LSc2', 'GBc2', 'Tc2', 'HIc4', 'HOc4', 'Dc4', 'LSc4', 'Tc4']]\n",
    "\n",
    "# Creates dataframe for shot distribution graph\n",
    "shot_df = pd.DataFrame(data={\n",
    "    'rates': np.append(\n",
    "        kgs57.sum()[['HIa', 'HOa', 'Da', 'LSa', 'GBa', 'Ta']].values,\n",
    "        [conv_df['HIc2'] + conv_df['HIc4'],\n",
    "         conv_df['HOc2'] + conv_df['HOc4'],\n",
    "         conv_df['Dc2'] + conv_df['Dc4'],\n",
    "         conv_df['LSc2'] + conv_df['LSc4'],\n",
    "         conv_df['GBc2'],\n",
    "         conv_df['Tc2'] + conv_df['Tc4']]),\n",
    "    'shot_name': ['Head Inside', 'Head Outside', 'Double', 'Lowshot', 'GoBehind', 'Throw'] * 2,\n",
    "    'shot_type': np.append(['Attempt'] * 6, ['Conversion'] * 6)\n",
    "})"
   ]
  },
  {
   "cell_type": "markdown",
   "metadata": {},
   "source": [
    "Tech-falls are the more common as is typical with a Freestyle event."
   ]
  },
  {
   "cell_type": "code",
   "execution_count": 35,
   "metadata": {
    "ExecuteTime": {
     "end_time": "2020-02-02T03:37:19.915872Z",
     "start_time": "2020-02-02T03:37:19.785281Z"
    },
    "scrolled": false
   },
   "outputs": [
    {
     "data": {
      "image/png": "[encoded data removed]",
      "text/plain": [
       "<Figure size 432x288 with 1 Axes>"
      ]
     },
     "metadata": {},
     "output_type": "display_data"
    }
   ],
   "source": [
    "# Result bar chart\n",
    "r = sns.barplot(x=\"results\", y='counts', data=result_df, \n",
    "            palette=\"coolwarm_r\")\n",
    "r.set_title('Results Distribution Chart')\n",
    "r.set(xlabel='Result Type', ylabel='Count')\n",
    "sns.despine()"
   ]
  },
  {
   "cell_type": "markdown",
   "metadata": {},
   "source": [
    "GBa will almost exclusively be #1 on this list due to the large variety of conditions under which it is recorded. "
   ]
  },
  {
   "cell_type": "code",
   "execution_count": 36,
   "metadata": {
    "ExecuteTime": {
     "end_time": "2020-02-02T03:37:20.064243Z",
     "start_time": "2020-02-02T03:37:19.917045Z"
    }
   },
   "outputs": [
    {
     "data": {
      "image/png": "[encoded data removed]",
      "text/plain": [
       "<Figure size 432x288 with 1 Axes>"
      ]
     },
     "metadata": {},
     "output_type": "display_data"
    }
   ],
   "source": [
    "# Shot distribution chart\n",
    "s = sns.barplot(y='shot_name', x='rates', data=shot_df, hue='shot_type',\n",
    "            palette=sns.xkcd_palette([\"windows blue\", \"amber\"]))\n",
    "s.set_title('Shot Distribution Chart')\n",
    "s.set(xlabel='Count', ylabel='Shot Technique')\n",
    "s.legend(title='Shot Type')\n",
    "sns.despine()"
   ]
  },
  {
   "cell_type": "markdown",
   "metadata": {},
   "source": [
    "#### Trends\n",
    "This section focuses on identifying key metrics for success at this weight (at this event).\n",
    "\n",
    "The analysis does not take into consideration the value of more powerful results. In otherwords, correlations are done only on win/loss results and not on the degree of the result (i.e. tech-fall versus pin). So a strong correlation indicates a higher relationship with winning but not the degree of winning.\n",
    "\n",
    "Remember correlations range from -1 to +1 the former representating a strong relationship with a negative outcome (in this case losing the match) and the latter representation a strong relationship with a positive outcome (i.e. winning a match). Correlations closer to 0 represent weak relationships and correlations around 0.5 represent moderate relationships."
   ]
  },
  {
   "cell_type": "code",
   "execution_count": 37,
   "metadata": {
    "ExecuteTime": {
     "end_time": "2020-02-02T03:37:20.165195Z",
     "start_time": "2020-02-02T03:37:20.065306Z"
    },
    "scrolled": false
   },
   "outputs": [
    {
     "data": {
      "image/png": "[encoded data removed]",
      "text/plain": [
       "<Figure size 432x288 with 1 Axes>"
      ]
     },
     "metadata": {},
     "output_type": "display_data"
    }
   ],
   "source": [
    "# Correlation chart plotting\n",
    "c = sns.barplot(x='index', y='BinaryResult',\n",
    "    data=kgs79[base_cols].corr().sort_values(\n",
    "        by=['BinaryResult'], ascending=False)['BinaryResult'][1:6].reset_index())\n",
    "c.set_title('Top Actions Chart')\n",
    "c.set(xlabel='Action', ylabel='Correlation', ylim=(0,1))\n",
    "sns.despine()"
   ]
  },
  {
   "cell_type": "markdown",
   "metadata": {
    "hide_input": false
   },
   "source": [
    "### 86 kilos \n",
    "<a href='#top'>Top</a>\n",
    "#### Placements\n",
    "1. <a href=\"http://www.veritaswrestlingsystems.com/wrestlers/pat-downey/\" target=\"_blank\">Pat Downey</a>\n",
    "2. <a href=\"http://www.veritaswrestlingsystems.com/wrestlers/nicholas-heflin/\" target=\"_blank\">Nicholas Heflin</a>\n",
    "3. <a href=\"http://www.veritaswrestlingsystems.com/wrestlers/samuel-brooks/\" target=\"_blank\">Samuel Brooks</a>\n",
    "4. <a href=\"http://www.veritaswrestlingsystems.com/wrestlers/brett-pfarr/\" target=\"_blank\">Brett Pfarr</a>"
   ]
  },
  {
   "cell_type": "code",
   "execution_count": 38,
   "metadata": {
    "ExecuteTime": {
     "end_time": "2020-02-02T03:37:20.169308Z",
     "start_time": "2020-02-02T03:37:20.166285Z"
    }
   },
   "outputs": [],
   "source": [
    "kgs86 = df[df['Weight'] == 86]"
   ]
  },
  {
   "cell_type": "markdown",
   "metadata": {},
   "source": [
    "#### Distributions\n",
    "This section focuses on illustrating the distribution of Results and ShotTypes for this event."
   ]
  },
  {
   "cell_type": "code",
   "execution_count": 39,
   "metadata": {
    "ExecuteTime": {
     "end_time": "2020-02-02T03:37:20.195675Z",
     "start_time": "2020-02-02T03:37:20.171135Z"
    }
   },
   "outputs": [],
   "source": [
    "# This cell preps data for graphing\n",
    "\n",
    "# Gets series of results and counts \n",
    "res_df = kgs86[kgs86['MatchID'].map(len) == 4].groupby('Result')['Result'].count() \n",
    "\n",
    "# Uses series in dataframe with columns ordered for graphing\n",
    "result_df = pd.DataFrame(data={\n",
    "    'results': ['LossF', 'LossTF', 'LossD', 'WinD', 'WinTF', 'WinF'],\n",
    "    'counts': [\n",
    "        res_df['LossF'], res_df['LossTF'], res_df['LossD'], res_df['WinD'], res_df['WinTF'], res_df['WinF']\n",
    "    ]\n",
    "})\n",
    "\n",
    "# Creates array of conversion counts (sums c2 + c4)\n",
    "conv_df = kgs86.sum()[['HIc2', 'HOc2', 'Dc2', 'LSc2', 'GBc2', 'Tc2', 'HIc4', 'HOc4', 'Dc4', 'LSc4', 'Tc4']]\n",
    "\n",
    "# Creates dataframe for shot distribution graph\n",
    "shot_df = pd.DataFrame(data={\n",
    "    'rates': np.append(\n",
    "        kgs57.sum()[['HIa', 'HOa', 'Da', 'LSa', 'GBa', 'Ta']].values,\n",
    "        [conv_df['HIc2'] + conv_df['HIc4'],\n",
    "         conv_df['HOc2'] + conv_df['HOc4'],\n",
    "         conv_df['Dc2'] + conv_df['Dc4'],\n",
    "         conv_df['LSc2'] + conv_df['LSc4'],\n",
    "         conv_df['GBc2'],\n",
    "         conv_df['Tc2'] + conv_df['Tc4']]),\n",
    "    'shot_name': ['Head Inside', 'Head Outside', 'Double', 'Lowshot', 'GoBehind', 'Throw'] * 2,\n",
    "    'shot_type': np.append(['Attempt'] * 6, ['Conversion'] * 6)\n",
    "})"
   ]
  },
  {
   "cell_type": "markdown",
   "metadata": {},
   "source": [
    "Tech-falls are the more common as is typical with a Freestyle event."
   ]
  },
  {
   "cell_type": "code",
   "execution_count": 40,
   "metadata": {
    "ExecuteTime": {
     "end_time": "2020-02-02T03:37:20.340195Z",
     "start_time": "2020-02-02T03:37:20.197444Z"
    },
    "scrolled": false
   },
   "outputs": [
    {
     "data": {
      "image/png": "[encoded data removed]",
      "text/plain": [
       "<Figure size 432x288 with 1 Axes>"
      ]
     },
     "metadata": {},
     "output_type": "display_data"
    }
   ],
   "source": [
    "# Result bar chart\n",
    "r = sns.barplot(x=\"results\", y='counts', data=result_df, \n",
    "            palette=\"coolwarm_r\")\n",
    "r.set_title('Results Distribution Chart')\n",
    "r.set(xlabel='Result Type', ylabel='Count')\n",
    "sns.despine()"
   ]
  },
  {
   "cell_type": "markdown",
   "metadata": {},
   "source": [
    "GBa will almost exclusively be #1 on this list due to the large variety of conditions under which it is recorded. "
   ]
  },
  {
   "cell_type": "code",
   "execution_count": 41,
   "metadata": {
    "ExecuteTime": {
     "end_time": "2020-02-02T03:37:20.486761Z",
     "start_time": "2020-02-02T03:37:20.341290Z"
    }
   },
   "outputs": [
    {
     "data": {
      "image/png": "[encoded data removed]",
      "text/plain": [
       "<Figure size 432x288 with 1 Axes>"
      ]
     },
     "metadata": {},
     "output_type": "display_data"
    }
   ],
   "source": [
    "# Shot distribution chart\n",
    "s = sns.barplot(y='shot_name', x='rates', data=shot_df, hue='shot_type',\n",
    "            palette=sns.xkcd_palette([\"windows blue\", \"amber\"]))\n",
    "s.set_title('Shot Distribution Chart')\n",
    "s.set(xlabel='Count', ylabel='Shot Technique')\n",
    "s.legend(title='Shot Type')\n",
    "sns.despine()"
   ]
  },
  {
   "cell_type": "markdown",
   "metadata": {},
   "source": [
    "#### Trends\n",
    "This section focuses on identifying key metrics for success at this weight (at this event).\n",
    "\n",
    "The analysis does not take into consideration the value of more powerful results. In otherwords, correlations are done only on win/loss results and not on the degree of the result (i.e. tech-fall versus pin). So a strong correlation indicates a higher relationship with winning but not the degree of winning.\n",
    "\n",
    "Remember correlations range from -1 to +1 the former representating a strong relationship with a negative outcome (in this case losing the match) and the latter representation a strong relationship with a positive outcome (i.e. winning a match). Correlations closer to 0 represent weak relationships and correlations around 0.5 represent moderate relationships."
   ]
  },
  {
   "cell_type": "code",
   "execution_count": 42,
   "metadata": {
    "ExecuteTime": {
     "end_time": "2020-02-02T03:37:20.620505Z",
     "start_time": "2020-02-02T03:37:20.488482Z"
    },
    "scrolled": false
   },
   "outputs": [
    {
     "data": {
      "image/png": "[encoded data removed]",
      "text/plain": [
       "<Figure size 432x288 with 1 Axes>"
      ]
     },
     "metadata": {},
     "output_type": "display_data"
    }
   ],
   "source": [
    "# Correlation chart plotting\n",
    "c = sns.barplot(x='index', y='BinaryResult',\n",
    "    data=kgs86[base_cols].corr().sort_values(\n",
    "        by=['BinaryResult'], ascending=False)['BinaryResult'][1:6].reset_index())\n",
    "c.set_title('Top Actions Chart')\n",
    "c.set(xlabel='Action', ylabel='Correlation', ylim=(0,1))\n",
    "sns.despine()"
   ]
  },
  {
   "cell_type": "markdown",
   "metadata": {
    "hide_input": false
   },
   "source": [
    "### 92 kilos \n",
    "<a href='#top'>Top</a>\n",
    "#### Placements\n",
    "1. <a href=\"http://www.veritaswrestlingsystems.com/wrestlers/bo-nickal/\" target=\"_blank\">Bo Nickal</a>\n",
    "2. <a href=\"http://www.veritaswrestlingsystems.com/wrestlers/hayden-zillmer/\" target=\"_blank\">Hayden Zillmer</a>\n",
    "3. <a href=\"http://www.veritaswrestlingsystems.com/wrestlers/michael-macchiavello/\" target=\"_blank\">Michael Macchiavello</a>\n",
    "4. <a href=\"http://www.veritaswrestlingsystems.com/wrestlers/timothy-dudley/\" target=\"_blank\">Timothy Dudley</a>"
   ]
  },
  {
   "cell_type": "code",
   "execution_count": 43,
   "metadata": {
    "ExecuteTime": {
     "end_time": "2020-02-02T03:37:20.624750Z",
     "start_time": "2020-02-02T03:37:20.621567Z"
    }
   },
   "outputs": [],
   "source": [
    "kgs92 = df[df['Weight'] == 92]"
   ]
  },
  {
   "cell_type": "markdown",
   "metadata": {},
   "source": [
    "#### Distributions\n",
    "This section focuses on illustrating the distribution of Results and ShotTypes for this event."
   ]
  },
  {
   "cell_type": "code",
   "execution_count": 44,
   "metadata": {
    "ExecuteTime": {
     "end_time": "2020-02-02T03:37:20.637940Z",
     "start_time": "2020-02-02T03:37:20.626001Z"
    }
   },
   "outputs": [],
   "source": [
    "# This cell preps data for graphing\n",
    "\n",
    "# Gets series of results and counts \n",
    "res_df = kgs92[kgs92['MatchID'].map(len) == 4].groupby('Result')['Result'].count() \n",
    "\n",
    "# Uses series in dataframe with columns ordered for graphing\n",
    "result_df = pd.DataFrame(data={\n",
    "    'results': ['LossF', 'LossTF', 'LossD', 'WinD', 'WinTF', 'WinF'],\n",
    "    'counts': [\n",
    "        res_df['LossF'], res_df['LossTF'], res_df['LossD'], res_df['WinD'], res_df['WinTF'], res_df['WinF']\n",
    "    ]\n",
    "})\n",
    "\n",
    "# Creates array of conversion counts (sums c2 + c4)\n",
    "conv_df = kgs92.sum()[['HIc2', 'HOc2', 'Dc2', 'LSc2', 'GBc2', 'Tc2', 'HIc4', 'HOc4', 'Dc4', 'LSc4', 'Tc4']]\n",
    "\n",
    "# Creates dataframe for shot distribution graph\n",
    "shot_df = pd.DataFrame(data={\n",
    "    'rates': np.append(\n",
    "        kgs57.sum()[['HIa', 'HOa', 'Da', 'LSa', 'GBa', 'Ta']].values,\n",
    "        [conv_df['HIc2'] + conv_df['HIc4'],\n",
    "         conv_df['HOc2'] + conv_df['HOc4'],\n",
    "         conv_df['Dc2'] + conv_df['Dc4'],\n",
    "         conv_df['LSc2'] + conv_df['LSc4'],\n",
    "         conv_df['GBc2'],\n",
    "         conv_df['Tc2'] + conv_df['Tc4']]),\n",
    "    'shot_name': ['Head Inside', 'Head Outside', 'Double', 'Lowshot', 'GoBehind', 'Throw'] * 2,\n",
    "    'shot_type': np.append(['Attempt'] * 6, ['Conversion'] * 6)\n",
    "})"
   ]
  },
  {
   "cell_type": "markdown",
   "metadata": {},
   "source": [
    "Tech-falls are the more common as is typical with a Freestyle event."
   ]
  },
  {
   "cell_type": "code",
   "execution_count": 45,
   "metadata": {
    "ExecuteTime": {
     "end_time": "2020-02-02T03:37:20.756536Z",
     "start_time": "2020-02-02T03:37:20.639169Z"
    },
    "scrolled": false
   },
   "outputs": [
    {
     "data": {
      "image/png": "[encoded data removed]",
      "text/plain": [
       "<Figure size 432x288 with 1 Axes>"
      ]
     },
     "metadata": {},
     "output_type": "display_data"
    }
   ],
   "source": [
    "# Result bar chart\n",
    "r = sns.barplot(x=\"results\", y='counts', data=result_df, \n",
    "            palette=\"coolwarm_r\")\n",
    "r.set_title('Results Distribution Chart')\n",
    "r.set(xlabel='Result Type', ylabel='Count')\n",
    "sns.despine()"
   ]
  },
  {
   "cell_type": "markdown",
   "metadata": {},
   "source": [
    "GBa will almost exclusively be #1 on this list due to the large variety of conditions under which it is recorded. "
   ]
  },
  {
   "cell_type": "code",
   "execution_count": 46,
   "metadata": {
    "ExecuteTime": {
     "end_time": "2020-02-02T03:37:20.908000Z",
     "start_time": "2020-02-02T03:37:20.757666Z"
    }
   },
   "outputs": [
    {
     "data": {
      "image/png": "[encoded data removed]",
      "text/plain": [
       "<Figure size 432x288 with 1 Axes>"
      ]
     },
     "metadata": {},
     "output_type": "display_data"
    }
   ],
   "source": [
    "# Shot distribution chart\n",
    "s = sns.barplot(y='shot_name', x='rates', data=shot_df, hue='shot_type',\n",
    "            palette=sns.xkcd_palette([\"windows blue\", \"amber\"]))\n",
    "s.set_title('Shot Distribution Chart')\n",
    "s.set(xlabel='Count', ylabel='Shot Technique')\n",
    "s.legend(title='Shot Type')\n",
    "sns.despine()"
   ]
  },
  {
   "cell_type": "markdown",
   "metadata": {},
   "source": [
    "#### Trends\n",
    "This section focuses on identifying key metrics for success at this weight (at this event).\n",
    "\n",
    "The analysis does not take into consideration the value of more powerful results. In otherwords, correlations are done only on win/loss results and not on the degree of the result (i.e. tech-fall versus pin). So a strong correlation indicates a higher relationship with winning but not the degree of winning.\n",
    "\n",
    "Remember correlations range from -1 to +1 the former representating a strong relationship with a negative outcome (in this case losing the match) and the latter representation a strong relationship with a positive outcome (i.e. winning a match). Correlations closer to 0 represent weak relationships and correlations around 0.5 represent moderate relationships."
   ]
  },
  {
   "cell_type": "code",
   "execution_count": 47,
   "metadata": {
    "ExecuteTime": {
     "end_time": "2020-02-02T03:37:21.008316Z",
     "start_time": "2020-02-02T03:37:20.909124Z"
    },
    "scrolled": false
   },
   "outputs": [
    {
     "data": {
      "image/png": "[encoded data removed]",
      "text/plain": [
       "<Figure size 432x288 with 1 Axes>"
      ]
     },
     "metadata": {},
     "output_type": "display_data"
    }
   ],
   "source": [
    "# Correlation chart plotting\n",
    "c = sns.barplot(x='index', y='BinaryResult',\n",
    "    data=kgs92[base_cols].corr().sort_values(\n",
    "        by=['BinaryResult'], ascending=False)['BinaryResult'][1:6].reset_index())\n",
    "c.set_title('Top Actions Chart')\n",
    "c.set(xlabel='Action', ylabel='Correlation', ylim=(0,1))\n",
    "sns.despine()"
   ]
  },
  {
   "cell_type": "markdown",
   "metadata": {
    "hide_input": false
   },
   "source": [
    "### 97 kilos \n",
    "<a href='#top'>Top</a>\n",
    "#### Placements\n",
    "1. <a href=\"http://www.veritaswrestlingsystems.com/wrestlers/kyven-gadson/\" target=\"_blank\">Kyven Gadson</a>\n",
    "2. <a href=\"http://www.veritaswrestlingsystems.com/wrestlers/ben-honis/\" target=\"_blank\">Benjamin Honis</a>\n",
    "3. <a href=\"http://www.veritaswrestlingsystems.com/wrestlers/danny-chaid/\" target=\"_blank\">Danny Chaid</a>\n",
    "4. <a href=\"http://www.veritaswrestlingsystems.com/wrestlers/ty-walz/\" target=\"_blank\">Ty Walz</a>"
   ]
  },
  {
   "cell_type": "code",
   "execution_count": 48,
   "metadata": {
    "ExecuteTime": {
     "end_time": "2020-02-02T03:37:21.012937Z",
     "start_time": "2020-02-02T03:37:21.009638Z"
    }
   },
   "outputs": [],
   "source": [
    "kgs97 = df[df['Weight'] == 97]"
   ]
  },
  {
   "cell_type": "markdown",
   "metadata": {},
   "source": [
    "#### Distributions\n",
    "This section focuses on illustrating the distribution of Results and ShotTypes for this event."
   ]
  },
  {
   "cell_type": "code",
   "execution_count": 49,
   "metadata": {
    "ExecuteTime": {
     "end_time": "2020-02-02T03:37:21.029176Z",
     "start_time": "2020-02-02T03:37:21.014377Z"
    }
   },
   "outputs": [],
   "source": [
    "# This cell preps data for graphing\n",
    "\n",
    "# Gets series of results and counts \n",
    "res_df = kgs97[kgs97['MatchID'].map(len) == 4].groupby('Result')['Result'].count() \n",
    "\n",
    "# Uses series in dataframe with columns ordered for graphing\n",
    "result_df = pd.DataFrame(data={\n",
    "    'results': ['LossF', 'LossTF', 'LossD', 'WinD', 'WinTF', 'WinF'],\n",
    "    'counts': [\n",
    "        res_df['LossF'], res_df['LossTF'], res_df['LossD'], res_df['WinD'], res_df['WinTF'], res_df['WinF']\n",
    "    ]\n",
    "})\n",
    "\n",
    "# Creates array of conversion counts (sums c2 + c4)\n",
    "conv_df = kgs97.sum()[['HIc2', 'HOc2', 'Dc2', 'LSc2', 'GBc2', 'Tc2', 'HIc4', 'HOc4', 'Dc4', 'LSc4', 'Tc4']]\n",
    "\n",
    "# Creates dataframe for shot distribution graph\n",
    "shot_df = pd.DataFrame(data={\n",
    "    'rates': np.append(\n",
    "        kgs57.sum()[['HIa', 'HOa', 'Da', 'LSa', 'GBa', 'Ta']].values,\n",
    "        [conv_df['HIc2'] + conv_df['HIc4'],\n",
    "         conv_df['HOc2'] + conv_df['HOc4'],\n",
    "         conv_df['Dc2'] + conv_df['Dc4'],\n",
    "         conv_df['LSc2'] + conv_df['LSc4'],\n",
    "         conv_df['GBc2'],\n",
    "         conv_df['Tc2'] + conv_df['Tc4']]),\n",
    "    'shot_name': ['Head Inside', 'Head Outside', 'Double', 'Lowshot', 'GoBehind', 'Throw'] * 2,\n",
    "    'shot_type': np.append(['Attempt'] * 6, ['Conversion'] * 6)\n",
    "})"
   ]
  },
  {
   "cell_type": "markdown",
   "metadata": {},
   "source": [
    "Tech-falls are the more common as is typical with a Freestyle event."
   ]
  },
  {
   "cell_type": "code",
   "execution_count": 50,
   "metadata": {
    "ExecuteTime": {
     "end_time": "2020-02-02T03:37:21.169435Z",
     "start_time": "2020-02-02T03:37:21.030886Z"
    },
    "scrolled": false
   },
   "outputs": [
    {
     "data": {
      "image/png": "[encoded data removed]",
      "text/plain": [
       "<Figure size 432x288 with 1 Axes>"
      ]
     },
     "metadata": {},
     "output_type": "display_data"
    }
   ],
   "source": [
    "# Result bar chart\n",
    "r = sns.barplot(x=\"results\", y='counts', data=result_df, \n",
    "            palette=\"coolwarm_r\")\n",
    "r.set_title('Results Distribution Chart')\n",
    "r.set(xlabel='Result Type', ylabel='Count')\n",
    "sns.despine()"
   ]
  },
  {
   "cell_type": "markdown",
   "metadata": {},
   "source": [
    "GBa will almost exclusively be #1 on this list due to the large variety of conditions under which it is recorded. "
   ]
  },
  {
   "cell_type": "code",
   "execution_count": 51,
   "metadata": {
    "ExecuteTime": {
     "end_time": "2020-02-02T03:37:21.332180Z",
     "start_time": "2020-02-02T03:37:21.171220Z"
    }
   },
   "outputs": [
    {
     "data": {
      "image/png": "[encoded data removed]",
      "text/plain": [
       "<Figure size 432x288 with 1 Axes>"
      ]
     },
     "metadata": {},
     "output_type": "display_data"
    }
   ],
   "source": [
    "# Shot distribution chart\n",
    "s = sns.barplot(y='shot_name', x='rates', data=shot_df, hue='shot_type',\n",
    "            palette=sns.xkcd_palette([\"windows blue\", \"amber\"]))\n",
    "s.set_title('Shot Distribution Chart')\n",
    "s.set(xlabel='Count', ylabel='Shot Technique')\n",
    "s.legend(title='Shot Type')\n",
    "sns.despine()"
   ]
  },
  {
   "cell_type": "markdown",
   "metadata": {},
   "source": [
    "#### Trends\n",
    "This section focuses on identifying key metrics for success at this weight (at this event).\n",
    "\n",
    "The analysis does not take into consideration the value of more powerful results. In otherwords, correlations are done only on win/loss results and not on the degree of the result (i.e. tech-fall versus pin). So a strong correlation indicates a higher relationship with winning but not the degree of winning.\n",
    "\n",
    "Remember correlations range from -1 to +1 the former representating a strong relationship with a negative outcome (in this case losing the match) and the latter representation a strong relationship with a positive outcome (i.e. winning a match). Correlations closer to 0 represent weak relationships and correlations around 0.5 represent moderate relationships."
   ]
  },
  {
   "cell_type": "code",
   "execution_count": 52,
   "metadata": {
    "ExecuteTime": {
     "end_time": "2020-02-02T03:37:21.429961Z",
     "start_time": "2020-02-02T03:37:21.333268Z"
    },
    "scrolled": true
   },
   "outputs": [
    {
     "data": {
      "image/png": "[encoded data removed]",
      "text/plain": [
       "<Figure size 432x288 with 1 Axes>"
      ]
     },
     "metadata": {},
     "output_type": "display_data"
    }
   ],
   "source": [
    "# Correlation chart plotting\n",
    "c = sns.barplot(x='index', y='BinaryResult',\n",
    "    data=kgs97[base_cols].corr().sort_values(\n",
    "        by=['BinaryResult'], ascending=False)['BinaryResult'][1:6].reset_index())\n",
    "c.set_title('Top Actions Chart')\n",
    "c.set(xlabel='Action', ylabel='Correlation', ylim=(0,1))\n",
    "sns.despine()"
   ]
  },
  {
   "cell_type": "markdown",
   "metadata": {
    "hide_input": false
   },
   "source": [
    "### 125 kilos \n",
    "<a href='#top'>Top</a>\n",
    "#### Placements\n",
    "1. <a href=\"http://www.veritaswrestlingsystems.com/wrestlers/adam-coon/\" target=\"_blank\">Adam Coon</a>\n",
    "2. <a href=\"http://www.veritaswrestlingsystems.com/wrestlers/anthony-nelson/\" target=\"_blank\">Anthony Nelson</a>\n",
    "3. <a href=\"http://www.veritaswrestlingsystems.com/wrestlers/dom-bradley/\" target=\"_blank\">Dom Bradley</a>\n",
    "4. <a href=\"http://www.veritaswrestlingsystems.com/wrestlers/derek-white/\" target=\"_blank\">Derek White</a>"
   ]
  },
  {
   "cell_type": "code",
   "execution_count": 53,
   "metadata": {
    "ExecuteTime": {
     "end_time": "2020-02-02T03:37:21.435262Z",
     "start_time": "2020-02-02T03:37:21.431411Z"
    }
   },
   "outputs": [],
   "source": [
    "kgs125 = df[df['Weight'] == 125]"
   ]
  },
  {
   "cell_type": "markdown",
   "metadata": {},
   "source": [
    "#### Distributions\n",
    "This section focuses on illustrating the distribution of Results and ShotTypes for this event."
   ]
  },
  {
   "cell_type": "code",
   "execution_count": 54,
   "metadata": {
    "ExecuteTime": {
     "end_time": "2020-02-02T03:37:21.466620Z",
     "start_time": "2020-02-02T03:37:21.446198Z"
    }
   },
   "outputs": [],
   "source": [
    "# This cell preps data for graphing\n",
    "\n",
    "# Gets series of results and counts \n",
    "res_df = kgs125[kgs125['MatchID'].map(len) == 4].groupby('Result')['Result'].count() \n",
    "\n",
    "# Uses series in dataframe with columns ordered for graphing\n",
    "result_df = pd.DataFrame(data={\n",
    "    'results': ['LossF', 'LossTF', 'LossD', 'WinD', 'WinTF', 'WinF'],\n",
    "    'counts': [\n",
    "        res_df['LossF'], res_df['LossTF'], res_df['LossD'], res_df['WinD'], res_df['WinTF'], res_df['WinF']\n",
    "    ]\n",
    "})\n",
    "\n",
    "# Creates array of conversion counts (sums c2 + c4)\n",
    "conv_df = kgs125.sum()[['HIc2', 'HOc2', 'Dc2', 'LSc2', 'GBc2', 'Tc2', 'HIc4', 'HOc4', 'Dc4', 'LSc4', 'Tc4']]\n",
    "\n",
    "# Creates dataframe for shot distribution graph\n",
    "shot_df = pd.DataFrame(data={\n",
    "    'rates': np.append(\n",
    "        kgs57.sum()[['HIa', 'HOa', 'Da', 'LSa', 'GBa', 'Ta']].values,\n",
    "        [conv_df['HIc2'] + conv_df['HIc4'],\n",
    "         conv_df['HOc2'] + conv_df['HOc4'],\n",
    "         conv_df['Dc2'] + conv_df['Dc4'],\n",
    "         conv_df['LSc2'] + conv_df['LSc4'],\n",
    "         conv_df['GBc2'],\n",
    "         conv_df['Tc2'] + conv_df['Tc4']]),\n",
    "    'shot_name': ['Head Inside', 'Head Outside', 'Double', 'Lowshot', 'GoBehind', 'Throw'] * 2,\n",
    "    'shot_type': np.append(['Attempt'] * 6, ['Conversion'] * 6)\n",
    "})"
   ]
  },
  {
   "cell_type": "markdown",
   "metadata": {},
   "source": [
    "Tech-falls are the more common as is typical with a Freestyle event."
   ]
  },
  {
   "cell_type": "code",
   "execution_count": 55,
   "metadata": {
    "ExecuteTime": {
     "end_time": "2020-02-02T03:37:21.576852Z",
     "start_time": "2020-02-02T03:37:21.469737Z"
    },
    "scrolled": false
   },
   "outputs": [
    {
     "data": {
      "image/png": "[encoded data removed]",
      "text/plain": [
       "<Figure size 432x288 with 1 Axes>"
      ]
     },
     "metadata": {},
     "output_type": "display_data"
    }
   ],
   "source": [
    "# Result bar chart\n",
    "r = sns.barplot(x=\"results\", y='counts', data=result_df, \n",
    "            palette=\"coolwarm_r\")\n",
    "r.set_title('Results Distribution Chart')\n",
    "r.set(xlabel='Result Type', ylabel='Count')\n",
    "sns.despine()"
   ]
  },
  {
   "cell_type": "markdown",
   "metadata": {},
   "source": [
    "GBa will almost exclusively be #1 on this list due to the large variety of conditions under which it is recorded. "
   ]
  },
  {
   "cell_type": "code",
   "execution_count": 56,
   "metadata": {
    "ExecuteTime": {
     "end_time": "2020-02-02T03:37:21.725063Z",
     "start_time": "2020-02-02T03:37:21.577820Z"
    }
   },
   "outputs": [
    {
     "data": {
      "image/png": "[encoded data removed]",
      "text/plain": [
       "<Figure size 432x288 with 1 Axes>"
      ]
     },
     "metadata": {},
     "output_type": "display_data"
    }
   ],
   "source": [
    "# Shot distribution chart\n",
    "s = sns.barplot(y='shot_name', x='rates', data=shot_df, hue='shot_type',\n",
    "            palette=sns.xkcd_palette([\"windows blue\", \"amber\"]))\n",
    "s.set_title('Shot Distribution Chart')\n",
    "s.set(xlabel='Count', ylabel='Shot Technique')\n",
    "s.legend(title='Shot Type')\n",
    "sns.despine()"
   ]
  },
  {
   "cell_type": "markdown",
   "metadata": {},
   "source": [
    "#### Trends\n",
    "This section focuses on identifying key metrics for success at this weight (at this event).\n",
    "\n",
    "The analysis does not take into consideration the value of more powerful results. In otherwords, correlations are done only on win/loss results and not on the degree of the result (i.e. tech-fall versus pin). So a strong correlation indicates a higher relationship with winning but not the degree of winning.\n",
    "\n",
    "Remember correlations range from -1 to +1 the former representating a strong relationship with a negative outcome (in this case losing the match) and the latter representation a strong relationship with a positive outcome (i.e. winning a match). Correlations closer to 0 represent weak relationships and correlations around 0.5 represent moderate relationships."
   ]
  },
  {
   "cell_type": "code",
   "execution_count": 57,
   "metadata": {
    "ExecuteTime": {
     "end_time": "2020-02-02T03:37:21.823192Z",
     "start_time": "2020-02-02T03:37:21.726195Z"
    },
    "scrolled": true
   },
   "outputs": [
    {
     "data": {
      "image/png": "[encoded data removed]",
      "text/plain": [
       "<Figure size 432x288 with 1 Axes>"
      ]
     },
     "metadata": {},
     "output_type": "display_data"
    }
   ],
   "source": [
    "# Correlation chart plotting\n",
    "c = sns.barplot(x='index', y='BinaryResult',\n",
    "    data=kgs125[base_cols].corr().sort_values(\n",
    "        by=['BinaryResult'], ascending=False)['BinaryResult'][1:6].reset_index())\n",
    "c.set_title('Top Actions Chart')\n",
    "c.set(xlabel='Action', ylabel='Correlation', ylim=(0,1))\n",
    "sns.despine()"
   ]
  },
  {
   "cell_type": "markdown",
   "metadata": {},
   "source": [
    "### Comparison\n",
    "The comparison between weight classes will focus mostly on Shot Types and Point Distributions as opposed to the result-based distribution above. \n",
    "\n",
    "Below is a table illustrating different Shot Type conversion rates for the various weight classes.  This table can be interpreted multiple ways.  For instance, is a low conversion rate due to wrestlers at that weight being incapable/inefficient at finishing, or is it a sign that opponents at that weight are excellent defenders of that shot?  The following discussion attempts to take both of these perspectives into consideration.  \n",
    "\n",
    "Firstly, it is important to state that top scores for a particular column (or shot type) are highlighted in blue, while bottom scores are highlighted in gold.  This table should be read across (left to right), checking the weight class and then identifying its highest/lowest values.  Knowing this, we can clearly identify the best/worst weight class for any given shot type.  We can see, for example, that 74kgs has the highest Throw-rate.  Interestingly, 125kgs has the highest GBrate... perhaps because of their size.\n",
    "\n",
    "What may appear less obvious are some trends.  For example, that 61kgs is the worst in two categories (LS and GB) as is 79kgs (HO and D and the lowest overall average) but **no** weight is the best in two categories.  This showcases the diversity of competing at different weights.   65kgs has the highest overall average, but most scores are in the teens. \n",
    "\n",
    "Further, some athletes or coaches may find this chart interesting to compare the dynamics of different weight classes in the neutral position.  However, these numbers do not represent correlations to success but only raw averages, so bear that in mind. "
   ]
  },
  {
   "cell_type": "code",
   "execution_count": 58,
   "metadata": {
    "ExecuteTime": {
     "end_time": "2020-02-02T03:37:22.025388Z",
     "start_time": "2020-02-02T03:37:21.824723Z"
    },
    "scrolled": false
   },
   "outputs": [
    {
     "data": {
      "text/html": [
       "<style  type=\"text/css\" >\n",
       "    #T_5225f58a_456d_11ea_9fa3_5f387fd5122brow1_col4 {\n",
       "            : ;\n",
       "            background-color:  gold;\n",
       "        }    #T_5225f58a_456d_11ea_9fa3_5f387fd5122brow2_col1 {\n",
       "            background-color:  lightblue;\n",
       "            : ;\n",
       "        }    #T_5225f58a_456d_11ea_9fa3_5f387fd5122brow2_col3 {\n",
       "            : ;\n",
       "            background-color:  gold;\n",
       "        }    #T_5225f58a_456d_11ea_9fa3_5f387fd5122brow2_col6 {\n",
       "            background-color:  lightblue;\n",
       "            : ;\n",
       "        }    #T_5225f58a_456d_11ea_9fa3_5f387fd5122brow3_col2 {\n",
       "            background-color:  lightblue;\n",
       "            : ;\n",
       "        }    #T_5225f58a_456d_11ea_9fa3_5f387fd5122brow4_col5 {\n",
       "            background-color:  lightblue;\n",
       "            : ;\n",
       "        }    #T_5225f58a_456d_11ea_9fa3_5f387fd5122brow5_col1 {\n",
       "            : ;\n",
       "            background-color:  gold;\n",
       "        }    #T_5225f58a_456d_11ea_9fa3_5f387fd5122brow5_col2 {\n",
       "            : ;\n",
       "            background-color:  gold;\n",
       "        }    #T_5225f58a_456d_11ea_9fa3_5f387fd5122brow5_col6 {\n",
       "            : ;\n",
       "            background-color:  gold;\n",
       "        }    #T_5225f58a_456d_11ea_9fa3_5f387fd5122brow6_col0 {\n",
       "            background-color:  lightblue;\n",
       "            : ;\n",
       "        }    #T_5225f58a_456d_11ea_9fa3_5f387fd5122brow7_col3 {\n",
       "            background-color:  lightblue;\n",
       "            : ;\n",
       "        }    #T_5225f58a_456d_11ea_9fa3_5f387fd5122brow7_col5 {\n",
       "            : ;\n",
       "            background-color:  gold;\n",
       "        }    #T_5225f58a_456d_11ea_9fa3_5f387fd5122brow8_col0 {\n",
       "            : ;\n",
       "            background-color:  gold;\n",
       "        }    #T_5225f58a_456d_11ea_9fa3_5f387fd5122brow9_col4 {\n",
       "            background-color:  lightblue;\n",
       "            : ;\n",
       "        }</style><table id=\"T_5225f58a_456d_11ea_9fa3_5f387fd5122b\" ><thead>    <tr>        <th class=\"blank level0\" ></th>        <th class=\"col_heading level0 col0\" >HIrate</th>        <th class=\"col_heading level0 col1\" >HOrate</th>        <th class=\"col_heading level0 col2\" >Drate</th>        <th class=\"col_heading level0 col3\" >LSrate</th>        <th class=\"col_heading level0 col4\" >GBrate</th>        <th class=\"col_heading level0 col5\" >Trate</th>        <th class=\"col_heading level0 col6\" >AverageRate</th>    </tr>    <tr>        <th class=\"index_name level0\" >Weight</th>        <th class=\"blank\" ></th>        <th class=\"blank\" ></th>        <th class=\"blank\" ></th>        <th class=\"blank\" ></th>        <th class=\"blank\" ></th>        <th class=\"blank\" ></th>        <th class=\"blank\" ></th>    </tr></thead><tbody>\n",
       "                <tr>\n",
       "                        <th id=\"T_5225f58a_456d_11ea_9fa3_5f387fd5122blevel0_row0\" class=\"row_heading level0 row0\" >57</th>\n",
       "                        <td id=\"T_5225f58a_456d_11ea_9fa3_5f387fd5122brow0_col0\" class=\"data row0 col0\" >21.5994</td>\n",
       "                        <td id=\"T_5225f58a_456d_11ea_9fa3_5f387fd5122brow0_col1\" class=\"data row0 col1\" >13.7769</td>\n",
       "                        <td id=\"T_5225f58a_456d_11ea_9fa3_5f387fd5122brow0_col2\" class=\"data row0 col2\" >9.83871</td>\n",
       "                        <td id=\"T_5225f58a_456d_11ea_9fa3_5f387fd5122brow0_col3\" class=\"data row0 col3\" >12.164</td>\n",
       "                        <td id=\"T_5225f58a_456d_11ea_9fa3_5f387fd5122brow0_col4\" class=\"data row0 col4\" >15.9542</td>\n",
       "                        <td id=\"T_5225f58a_456d_11ea_9fa3_5f387fd5122brow0_col5\" class=\"data row0 col5\" >6.85484</td>\n",
       "                        <td id=\"T_5225f58a_456d_11ea_9fa3_5f387fd5122brow0_col6\" class=\"data row0 col6\" >13.3647</td>\n",
       "            </tr>\n",
       "            <tr>\n",
       "                        <th id=\"T_5225f58a_456d_11ea_9fa3_5f387fd5122blevel0_row1\" class=\"row_heading level0 row1\" >61</th>\n",
       "                        <td id=\"T_5225f58a_456d_11ea_9fa3_5f387fd5122brow1_col0\" class=\"data row1 col0\" >21.1805</td>\n",
       "                        <td id=\"T_5225f58a_456d_11ea_9fa3_5f387fd5122brow1_col1\" class=\"data row1 col1\" >12.5348</td>\n",
       "                        <td id=\"T_5225f58a_456d_11ea_9fa3_5f387fd5122brow1_col2\" class=\"data row1 col2\" >9.80906</td>\n",
       "                        <td id=\"T_5225f58a_456d_11ea_9fa3_5f387fd5122brow1_col3\" class=\"data row1 col3\" >7.8125</td>\n",
       "                        <td id=\"T_5225f58a_456d_11ea_9fa3_5f387fd5122brow1_col4\" class=\"data row1 col4\" >11.9978</td>\n",
       "                        <td id=\"T_5225f58a_456d_11ea_9fa3_5f387fd5122brow1_col5\" class=\"data row1 col5\" >13.5417</td>\n",
       "                        <td id=\"T_5225f58a_456d_11ea_9fa3_5f387fd5122brow1_col6\" class=\"data row1 col6\" >12.8127</td>\n",
       "            </tr>\n",
       "            <tr>\n",
       "                        <th id=\"T_5225f58a_456d_11ea_9fa3_5f387fd5122blevel0_row2\" class=\"row_heading level0 row2\" >65</th>\n",
       "                        <td id=\"T_5225f58a_456d_11ea_9fa3_5f387fd5122brow2_col0\" class=\"data row2 col0\" >19.7665</td>\n",
       "                        <td id=\"T_5225f58a_456d_11ea_9fa3_5f387fd5122brow2_col1\" class=\"data row2 col1\" >14.1935</td>\n",
       "                        <td id=\"T_5225f58a_456d_11ea_9fa3_5f387fd5122brow2_col2\" class=\"data row2 col2\" >13.8709</td>\n",
       "                        <td id=\"T_5225f58a_456d_11ea_9fa3_5f387fd5122brow2_col3\" class=\"data row2 col3\" >7.77419</td>\n",
       "                        <td id=\"T_5225f58a_456d_11ea_9fa3_5f387fd5122brow2_col4\" class=\"data row2 col4\" >17.3018</td>\n",
       "                        <td id=\"T_5225f58a_456d_11ea_9fa3_5f387fd5122brow2_col5\" class=\"data row2 col5\" >12.8602</td>\n",
       "                        <td id=\"T_5225f58a_456d_11ea_9fa3_5f387fd5122brow2_col6\" class=\"data row2 col6\" >14.2945</td>\n",
       "            </tr>\n",
       "            <tr>\n",
       "                        <th id=\"T_5225f58a_456d_11ea_9fa3_5f387fd5122blevel0_row3\" class=\"row_heading level0 row3\" >70</th>\n",
       "                        <td id=\"T_5225f58a_456d_11ea_9fa3_5f387fd5122brow3_col0\" class=\"data row3 col0\" >16.4483</td>\n",
       "                        <td id=\"T_5225f58a_456d_11ea_9fa3_5f387fd5122brow3_col1\" class=\"data row3 col1\" >10.2679</td>\n",
       "                        <td id=\"T_5225f58a_456d_11ea_9fa3_5f387fd5122brow3_col2\" class=\"data row3 col2\" >17.0833</td>\n",
       "                        <td id=\"T_5225f58a_456d_11ea_9fa3_5f387fd5122brow3_col3\" class=\"data row3 col3\" >11.3052</td>\n",
       "                        <td id=\"T_5225f58a_456d_11ea_9fa3_5f387fd5122brow3_col4\" class=\"data row3 col4\" >17.4631</td>\n",
       "                        <td id=\"T_5225f58a_456d_11ea_9fa3_5f387fd5122brow3_col5\" class=\"data row3 col5\" >9.52381</td>\n",
       "                        <td id=\"T_5225f58a_456d_11ea_9fa3_5f387fd5122brow3_col6\" class=\"data row3 col6\" >13.6819</td>\n",
       "            </tr>\n",
       "            <tr>\n",
       "                        <th id=\"T_5225f58a_456d_11ea_9fa3_5f387fd5122blevel0_row4\" class=\"row_heading level0 row4\" >74</th>\n",
       "                        <td id=\"T_5225f58a_456d_11ea_9fa3_5f387fd5122brow4_col0\" class=\"data row4 col0\" >14.4984</td>\n",
       "                        <td id=\"T_5225f58a_456d_11ea_9fa3_5f387fd5122brow4_col1\" class=\"data row4 col1\" >6.01852</td>\n",
       "                        <td id=\"T_5225f58a_456d_11ea_9fa3_5f387fd5122brow4_col2\" class=\"data row4 col2\" >9.12028</td>\n",
       "                        <td id=\"T_5225f58a_456d_11ea_9fa3_5f387fd5122brow4_col3\" class=\"data row4 col3\" >14.6914</td>\n",
       "                        <td id=\"T_5225f58a_456d_11ea_9fa3_5f387fd5122brow4_col4\" class=\"data row4 col4\" >16.2742</td>\n",
       "                        <td id=\"T_5225f58a_456d_11ea_9fa3_5f387fd5122brow4_col5\" class=\"data row4 col5\" >17.1296</td>\n",
       "                        <td id=\"T_5225f58a_456d_11ea_9fa3_5f387fd5122brow4_col6\" class=\"data row4 col6\" >12.9554</td>\n",
       "            </tr>\n",
       "            <tr>\n",
       "                        <th id=\"T_5225f58a_456d_11ea_9fa3_5f387fd5122blevel0_row5\" class=\"row_heading level0 row5\" >79</th>\n",
       "                        <td id=\"T_5225f58a_456d_11ea_9fa3_5f387fd5122brow5_col0\" class=\"data row5 col0\" >17.2561</td>\n",
       "                        <td id=\"T_5225f58a_456d_11ea_9fa3_5f387fd5122brow5_col1\" class=\"data row5 col1\" >1.69866</td>\n",
       "                        <td id=\"T_5225f58a_456d_11ea_9fa3_5f387fd5122brow5_col2\" class=\"data row5 col2\" >6.09756</td>\n",
       "                        <td id=\"T_5225f58a_456d_11ea_9fa3_5f387fd5122brow5_col3\" class=\"data row5 col3\" >10.9248</td>\n",
       "                        <td id=\"T_5225f58a_456d_11ea_9fa3_5f387fd5122brow5_col4\" class=\"data row5 col4\" >16.0945</td>\n",
       "                        <td id=\"T_5225f58a_456d_11ea_9fa3_5f387fd5122brow5_col5\" class=\"data row5 col5\" >7.31707</td>\n",
       "                        <td id=\"T_5225f58a_456d_11ea_9fa3_5f387fd5122brow5_col6\" class=\"data row5 col6\" >9.89811</td>\n",
       "            </tr>\n",
       "            <tr>\n",
       "                        <th id=\"T_5225f58a_456d_11ea_9fa3_5f387fd5122blevel0_row6\" class=\"row_heading level0 row6\" >86</th>\n",
       "                        <td id=\"T_5225f58a_456d_11ea_9fa3_5f387fd5122brow6_col0\" class=\"data row6 col0\" >22.3914</td>\n",
       "                        <td id=\"T_5225f58a_456d_11ea_9fa3_5f387fd5122brow6_col1\" class=\"data row6 col1\" >5.94869</td>\n",
       "                        <td id=\"T_5225f58a_456d_11ea_9fa3_5f387fd5122brow6_col2\" class=\"data row6 col2\" >10.3077</td>\n",
       "                        <td id=\"T_5225f58a_456d_11ea_9fa3_5f387fd5122brow6_col3\" class=\"data row6 col3\" >14.8077</td>\n",
       "                        <td id=\"T_5225f58a_456d_11ea_9fa3_5f387fd5122brow6_col4\" class=\"data row6 col4\" >16.4519</td>\n",
       "                        <td id=\"T_5225f58a_456d_11ea_9fa3_5f387fd5122brow6_col5\" class=\"data row6 col5\" >13.3333</td>\n",
       "                        <td id=\"T_5225f58a_456d_11ea_9fa3_5f387fd5122brow6_col6\" class=\"data row6 col6\" >13.8734</td>\n",
       "            </tr>\n",
       "            <tr>\n",
       "                        <th id=\"T_5225f58a_456d_11ea_9fa3_5f387fd5122blevel0_row7\" class=\"row_heading level0 row7\" >92</th>\n",
       "                        <td id=\"T_5225f58a_456d_11ea_9fa3_5f387fd5122brow7_col0\" class=\"data row7 col0\" >14.9659</td>\n",
       "                        <td id=\"T_5225f58a_456d_11ea_9fa3_5f387fd5122brow7_col1\" class=\"data row7 col1\" >11.9557</td>\n",
       "                        <td id=\"T_5225f58a_456d_11ea_9fa3_5f387fd5122brow7_col2\" class=\"data row7 col2\" >6.71765</td>\n",
       "                        <td id=\"T_5225f58a_456d_11ea_9fa3_5f387fd5122brow7_col3\" class=\"data row7 col3\" >18.7076</td>\n",
       "                        <td id=\"T_5225f58a_456d_11ea_9fa3_5f387fd5122brow7_col4\" class=\"data row7 col4\" >13.603</td>\n",
       "                        <td id=\"T_5225f58a_456d_11ea_9fa3_5f387fd5122brow7_col5\" class=\"data row7 col5\" >4.08163</td>\n",
       "                        <td id=\"T_5225f58a_456d_11ea_9fa3_5f387fd5122brow7_col6\" class=\"data row7 col6\" >11.6719</td>\n",
       "            </tr>\n",
       "            <tr>\n",
       "                        <th id=\"T_5225f58a_456d_11ea_9fa3_5f387fd5122blevel0_row8\" class=\"row_heading level0 row8\" >97</th>\n",
       "                        <td id=\"T_5225f58a_456d_11ea_9fa3_5f387fd5122brow8_col0\" class=\"data row8 col0\" >10.3741</td>\n",
       "                        <td id=\"T_5225f58a_456d_11ea_9fa3_5f387fd5122brow8_col1\" class=\"data row8 col1\" >13.3929</td>\n",
       "                        <td id=\"T_5225f58a_456d_11ea_9fa3_5f387fd5122brow8_col2\" class=\"data row8 col2\" >16.0714</td>\n",
       "                        <td id=\"T_5225f58a_456d_11ea_9fa3_5f387fd5122brow8_col3\" class=\"data row8 col3\" >9.82143</td>\n",
       "                        <td id=\"T_5225f58a_456d_11ea_9fa3_5f387fd5122brow8_col4\" class=\"data row8 col4\" >18.9966</td>\n",
       "                        <td id=\"T_5225f58a_456d_11ea_9fa3_5f387fd5122brow8_col5\" class=\"data row8 col5\" >11.6071</td>\n",
       "                        <td id=\"T_5225f58a_456d_11ea_9fa3_5f387fd5122brow8_col6\" class=\"data row8 col6\" >13.3773</td>\n",
       "            </tr>\n",
       "            <tr>\n",
       "                        <th id=\"T_5225f58a_456d_11ea_9fa3_5f387fd5122blevel0_row9\" class=\"row_heading level0 row9\" >125</th>\n",
       "                        <td id=\"T_5225f58a_456d_11ea_9fa3_5f387fd5122brow9_col0\" class=\"data row9 col0\" >19.5402</td>\n",
       "                        <td id=\"T_5225f58a_456d_11ea_9fa3_5f387fd5122brow9_col1\" class=\"data row9 col1\" >2.18388</td>\n",
       "                        <td id=\"T_5225f58a_456d_11ea_9fa3_5f387fd5122brow9_col2\" class=\"data row9 col2\" >7.47129</td>\n",
       "                        <td id=\"T_5225f58a_456d_11ea_9fa3_5f387fd5122brow9_col3\" class=\"data row9 col3\" >8.6494</td>\n",
       "                        <td id=\"T_5225f58a_456d_11ea_9fa3_5f387fd5122brow9_col4\" class=\"data row9 col4\" >22.9495</td>\n",
       "                        <td id=\"T_5225f58a_456d_11ea_9fa3_5f387fd5122brow9_col5\" class=\"data row9 col5\" >12.069</td>\n",
       "                        <td id=\"T_5225f58a_456d_11ea_9fa3_5f387fd5122brow9_col6\" class=\"data row9 col6\" >12.1439</td>\n",
       "            </tr>\n",
       "    </tbody></table>"
      ],
      "text/plain": [
       "<pandas.io.formats.style.Styler at 0x7f8b0c867ed0>"
      ]
     },
     "metadata": {},
     "output_type": "display_data"
    }
   ],
   "source": [
    "def highlight_max(s):\n",
    "    '''\n",
    "    highlight the maximum in a Series blue.\n",
    "    '''\n",
    "    is_max = s == s.max()\n",
    "    return ['background-color: lightblue' if v else '' for v in is_max]\n",
    "\n",
    "\n",
    "def highlight_min(s):\n",
    "    '''\n",
    "    highlight the minimum in a Series gold.\n",
    "    '''\n",
    "    is_max = s == s.min()\n",
    "    return ['background-color: gold' if v else '' for v in is_max]\n",
    "\n",
    "\n",
    "weight_shots = weight_grouped.mean()[['HIrate', 'HOrate', 'Drate', 'LSrate', 'GBrate', 'Trate']]\n",
    "weight_shots['AverageRate'] = weight_shots.mean(axis=1)\n",
    "display(weight_shots.style.apply(highlight_max).apply(highlight_min))"
   ]
  },
  {
   "cell_type": "markdown",
   "metadata": {},
   "source": [
    "The next table illustrates the various ways to earn points in a match (with the exception of opponent violations).  This table has the same highlighting as the previous one, but should be read vertically (top to bottom) first identifying the weight class of interest then locating its highest/lowest scores.   \n",
    "\n",
    "The scores in this table represent the average points earned per match by each action/technique for each weight class.  Similar to the table above this table has multiple possible interpretations.  For example, does an action/technique have a low value because it is executed poorly, defended well, ***or*** because it is rare and does not occur often?    \n",
    "\n",
    "Guts and GBc2 are clearly popular ways of scoring and account for almost identical (0.83 and 0.82 respectively) points per match.  Tc2 is obviously rare as you would expect most Throws to go for 4.  The same logic applies to all the leg attacks (HI, HO, D, LS) where it is less common to see a 4-point leg attack finish.    "
   ]
  },
  {
   "cell_type": "code",
   "execution_count": 59,
   "metadata": {
    "ExecuteTime": {
     "end_time": "2020-02-02T03:37:22.155567Z",
     "start_time": "2020-02-02T03:37:22.026763Z"
    },
    "hide_input": true
   },
   "outputs": [
    {
     "data": {
      "text/html": [
       "<style  type=\"text/css\" >\n",
       "    #T_5239bafc_456d_11ea_9fa3_5f387fd5122brow1_col8 {\n",
       "            background-color:  gold;\n",
       "            : ;\n",
       "        }    #T_5239bafc_456d_11ea_9fa3_5f387fd5122brow3_col2 {\n",
       "            background-color:  gold;\n",
       "            : ;\n",
       "        }    #T_5239bafc_456d_11ea_9fa3_5f387fd5122brow3_col4 {\n",
       "            background-color:  gold;\n",
       "            : ;\n",
       "        }    #T_5239bafc_456d_11ea_9fa3_5f387fd5122brow3_col5 {\n",
       "            background-color:  gold;\n",
       "            : ;\n",
       "        }    #T_5239bafc_456d_11ea_9fa3_5f387fd5122brow3_col6 {\n",
       "            background-color:  gold;\n",
       "            : ;\n",
       "        }    #T_5239bafc_456d_11ea_9fa3_5f387fd5122brow3_col9 {\n",
       "            background-color:  gold;\n",
       "            : ;\n",
       "        }    #T_5239bafc_456d_11ea_9fa3_5f387fd5122brow5_col5 {\n",
       "            background-color:  gold;\n",
       "            : ;\n",
       "        }    #T_5239bafc_456d_11ea_9fa3_5f387fd5122brow7_col0 {\n",
       "            background-color:  gold;\n",
       "            : ;\n",
       "        }    #T_5239bafc_456d_11ea_9fa3_5f387fd5122brow7_col1 {\n",
       "            background-color:  gold;\n",
       "            : ;\n",
       "        }    #T_5239bafc_456d_11ea_9fa3_5f387fd5122brow7_col4 {\n",
       "            background-color:  gold;\n",
       "            : ;\n",
       "        }    #T_5239bafc_456d_11ea_9fa3_5f387fd5122brow7_col9 {\n",
       "            background-color:  gold;\n",
       "            : ;\n",
       "        }    #T_5239bafc_456d_11ea_9fa3_5f387fd5122brow7_col10 {\n",
       "            background-color:  gold;\n",
       "            : ;\n",
       "        }    #T_5239bafc_456d_11ea_9fa3_5f387fd5122brow8_col2 {\n",
       "            : ;\n",
       "            background-color:  lightblue;\n",
       "        }    #T_5239bafc_456d_11ea_9fa3_5f387fd5122brow8_col3 {\n",
       "            : ;\n",
       "            background-color:  lightblue;\n",
       "        }    #T_5239bafc_456d_11ea_9fa3_5f387fd5122brow8_col4 {\n",
       "            : ;\n",
       "            background-color:  lightblue;\n",
       "        }    #T_5239bafc_456d_11ea_9fa3_5f387fd5122brow8_col5 {\n",
       "            : ;\n",
       "            background-color:  lightblue;\n",
       "        }    #T_5239bafc_456d_11ea_9fa3_5f387fd5122brow8_col6 {\n",
       "            : ;\n",
       "            background-color:  lightblue;\n",
       "        }    #T_5239bafc_456d_11ea_9fa3_5f387fd5122brow8_col7 {\n",
       "            : ;\n",
       "            background-color:  lightblue;\n",
       "        }    #T_5239bafc_456d_11ea_9fa3_5f387fd5122brow8_col9 {\n",
       "            : ;\n",
       "            background-color:  lightblue;\n",
       "        }    #T_5239bafc_456d_11ea_9fa3_5f387fd5122brow9_col3 {\n",
       "            background-color:  gold;\n",
       "            : ;\n",
       "        }    #T_5239bafc_456d_11ea_9fa3_5f387fd5122brow9_col7 {\n",
       "            background-color:  gold;\n",
       "            : ;\n",
       "        }    #T_5239bafc_456d_11ea_9fa3_5f387fd5122brow9_col8 {\n",
       "            background-color:  gold;\n",
       "            : ;\n",
       "        }    #T_5239bafc_456d_11ea_9fa3_5f387fd5122brow12_col0 {\n",
       "            : ;\n",
       "            background-color:  lightblue;\n",
       "        }    #T_5239bafc_456d_11ea_9fa3_5f387fd5122brow12_col1 {\n",
       "            : ;\n",
       "            background-color:  lightblue;\n",
       "        }    #T_5239bafc_456d_11ea_9fa3_5f387fd5122brow12_col7 {\n",
       "            : ;\n",
       "            background-color:  lightblue;\n",
       "        }    #T_5239bafc_456d_11ea_9fa3_5f387fd5122brow12_col8 {\n",
       "            : ;\n",
       "            background-color:  lightblue;\n",
       "        }    #T_5239bafc_456d_11ea_9fa3_5f387fd5122brow12_col10 {\n",
       "            : ;\n",
       "            background-color:  lightblue;\n",
       "        }</style><table id=\"T_5239bafc_456d_11ea_9fa3_5f387fd5122b\" ><thead>    <tr>        <th class=\"index_name level0\" >Weight</th>        <th class=\"col_heading level0 col0\" >57</th>        <th class=\"col_heading level0 col1\" >61</th>        <th class=\"col_heading level0 col2\" >65</th>        <th class=\"col_heading level0 col3\" >70</th>        <th class=\"col_heading level0 col4\" >74</th>        <th class=\"col_heading level0 col5\" >79</th>        <th class=\"col_heading level0 col6\" >86</th>        <th class=\"col_heading level0 col7\" >92</th>        <th class=\"col_heading level0 col8\" >97</th>        <th class=\"col_heading level0 col9\" >125</th>        <th class=\"col_heading level0 col10\" >AvgPoints</th>    </tr></thead><tbody>\n",
       "                <tr>\n",
       "                        <th id=\"T_5239bafc_456d_11ea_9fa3_5f387fd5122blevel0_row0\" class=\"row_heading level0 row0\" >HIc2</th>\n",
       "                        <td id=\"T_5239bafc_456d_11ea_9fa3_5f387fd5122brow0_col0\" class=\"data row0 col0\" >0.77</td>\n",
       "                        <td id=\"T_5239bafc_456d_11ea_9fa3_5f387fd5122brow0_col1\" class=\"data row0 col1\" >0.67</td>\n",
       "                        <td id=\"T_5239bafc_456d_11ea_9fa3_5f387fd5122brow0_col2\" class=\"data row0 col2\" >0.7</td>\n",
       "                        <td id=\"T_5239bafc_456d_11ea_9fa3_5f387fd5122brow0_col3\" class=\"data row0 col3\" >0.75</td>\n",
       "                        <td id=\"T_5239bafc_456d_11ea_9fa3_5f387fd5122brow0_col4\" class=\"data row0 col4\" >0.57</td>\n",
       "                        <td id=\"T_5239bafc_456d_11ea_9fa3_5f387fd5122brow0_col5\" class=\"data row0 col5\" >0.54</td>\n",
       "                        <td id=\"T_5239bafc_456d_11ea_9fa3_5f387fd5122brow0_col6\" class=\"data row0 col6\" >0.75</td>\n",
       "                        <td id=\"T_5239bafc_456d_11ea_9fa3_5f387fd5122brow0_col7\" class=\"data row0 col7\" >0.47</td>\n",
       "                        <td id=\"T_5239bafc_456d_11ea_9fa3_5f387fd5122brow0_col8\" class=\"data row0 col8\" >0.32</td>\n",
       "                        <td id=\"T_5239bafc_456d_11ea_9fa3_5f387fd5122brow0_col9\" class=\"data row0 col9\" >0.52</td>\n",
       "                        <td id=\"T_5239bafc_456d_11ea_9fa3_5f387fd5122brow0_col10\" class=\"data row0 col10\" >0.61</td>\n",
       "            </tr>\n",
       "            <tr>\n",
       "                        <th id=\"T_5239bafc_456d_11ea_9fa3_5f387fd5122blevel0_row1\" class=\"row_heading level0 row1\" >HIc4</th>\n",
       "                        <td id=\"T_5239bafc_456d_11ea_9fa3_5f387fd5122brow1_col0\" class=\"data row1 col0\" >0.1</td>\n",
       "                        <td id=\"T_5239bafc_456d_11ea_9fa3_5f387fd5122brow1_col1\" class=\"data row1 col1\" >0.04</td>\n",
       "                        <td id=\"T_5239bafc_456d_11ea_9fa3_5f387fd5122brow1_col2\" class=\"data row1 col2\" >0.1</td>\n",
       "                        <td id=\"T_5239bafc_456d_11ea_9fa3_5f387fd5122brow1_col3\" class=\"data row1 col3\" >0.05</td>\n",
       "                        <td id=\"T_5239bafc_456d_11ea_9fa3_5f387fd5122brow1_col4\" class=\"data row1 col4\" >0.04</td>\n",
       "                        <td id=\"T_5239bafc_456d_11ea_9fa3_5f387fd5122brow1_col5\" class=\"data row1 col5\" >0.05</td>\n",
       "                        <td id=\"T_5239bafc_456d_11ea_9fa3_5f387fd5122brow1_col6\" class=\"data row1 col6\" >0.05</td>\n",
       "                        <td id=\"T_5239bafc_456d_11ea_9fa3_5f387fd5122brow1_col7\" class=\"data row1 col7\" >0.1</td>\n",
       "                        <td id=\"T_5239bafc_456d_11ea_9fa3_5f387fd5122brow1_col8\" class=\"data row1 col8\" >0.04</td>\n",
       "                        <td id=\"T_5239bafc_456d_11ea_9fa3_5f387fd5122brow1_col9\" class=\"data row1 col9\" >0.09</td>\n",
       "                        <td id=\"T_5239bafc_456d_11ea_9fa3_5f387fd5122brow1_col10\" class=\"data row1 col10\" >0.06</td>\n",
       "            </tr>\n",
       "            <tr>\n",
       "                        <th id=\"T_5239bafc_456d_11ea_9fa3_5f387fd5122blevel0_row2\" class=\"row_heading level0 row2\" >HOc2</th>\n",
       "                        <td id=\"T_5239bafc_456d_11ea_9fa3_5f387fd5122brow2_col0\" class=\"data row2 col0\" >0.35</td>\n",
       "                        <td id=\"T_5239bafc_456d_11ea_9fa3_5f387fd5122brow2_col1\" class=\"data row2 col1\" >0.33</td>\n",
       "                        <td id=\"T_5239bafc_456d_11ea_9fa3_5f387fd5122brow2_col2\" class=\"data row2 col2\" >0.39</td>\n",
       "                        <td id=\"T_5239bafc_456d_11ea_9fa3_5f387fd5122brow2_col3\" class=\"data row2 col3\" >0.21</td>\n",
       "                        <td id=\"T_5239bafc_456d_11ea_9fa3_5f387fd5122brow2_col4\" class=\"data row2 col4\" >0.17</td>\n",
       "                        <td id=\"T_5239bafc_456d_11ea_9fa3_5f387fd5122brow2_col5\" class=\"data row2 col5\" >0.05</td>\n",
       "                        <td id=\"T_5239bafc_456d_11ea_9fa3_5f387fd5122brow2_col6\" class=\"data row2 col6\" >0.15</td>\n",
       "                        <td id=\"T_5239bafc_456d_11ea_9fa3_5f387fd5122brow2_col7\" class=\"data row2 col7\" >0.45</td>\n",
       "                        <td id=\"T_5239bafc_456d_11ea_9fa3_5f387fd5122brow2_col8\" class=\"data row2 col8\" >0.25</td>\n",
       "                        <td id=\"T_5239bafc_456d_11ea_9fa3_5f387fd5122brow2_col9\" class=\"data row2 col9\" >0.07</td>\n",
       "                        <td id=\"T_5239bafc_456d_11ea_9fa3_5f387fd5122brow2_col10\" class=\"data row2 col10\" >0.24</td>\n",
       "            </tr>\n",
       "            <tr>\n",
       "                        <th id=\"T_5239bafc_456d_11ea_9fa3_5f387fd5122blevel0_row3\" class=\"row_heading level0 row3\" >HOc4</th>\n",
       "                        <td id=\"T_5239bafc_456d_11ea_9fa3_5f387fd5122brow3_col0\" class=\"data row3 col0\" >0.11</td>\n",
       "                        <td id=\"T_5239bafc_456d_11ea_9fa3_5f387fd5122brow3_col1\" class=\"data row3 col1\" >0.08</td>\n",
       "                        <td id=\"T_5239bafc_456d_11ea_9fa3_5f387fd5122brow3_col2\" class=\"data row3 col2\" >0.04</td>\n",
       "                        <td id=\"T_5239bafc_456d_11ea_9fa3_5f387fd5122brow3_col3\" class=\"data row3 col3\" >0.06</td>\n",
       "                        <td id=\"T_5239bafc_456d_11ea_9fa3_5f387fd5122brow3_col4\" class=\"data row3 col4\" >0</td>\n",
       "                        <td id=\"T_5239bafc_456d_11ea_9fa3_5f387fd5122brow3_col5\" class=\"data row3 col5\" >0.02</td>\n",
       "                        <td id=\"T_5239bafc_456d_11ea_9fa3_5f387fd5122brow3_col6\" class=\"data row3 col6\" >0.03</td>\n",
       "                        <td id=\"T_5239bafc_456d_11ea_9fa3_5f387fd5122brow3_col7\" class=\"data row3 col7\" >0.06</td>\n",
       "                        <td id=\"T_5239bafc_456d_11ea_9fa3_5f387fd5122brow3_col8\" class=\"data row3 col8\" >0.07</td>\n",
       "                        <td id=\"T_5239bafc_456d_11ea_9fa3_5f387fd5122brow3_col9\" class=\"data row3 col9\" >0.02</td>\n",
       "                        <td id=\"T_5239bafc_456d_11ea_9fa3_5f387fd5122brow3_col10\" class=\"data row3 col10\" >0.05</td>\n",
       "            </tr>\n",
       "            <tr>\n",
       "                        <th id=\"T_5239bafc_456d_11ea_9fa3_5f387fd5122blevel0_row4\" class=\"row_heading level0 row4\" >Dc2</th>\n",
       "                        <td id=\"T_5239bafc_456d_11ea_9fa3_5f387fd5122brow4_col0\" class=\"data row4 col0\" >0.23</td>\n",
       "                        <td id=\"T_5239bafc_456d_11ea_9fa3_5f387fd5122brow4_col1\" class=\"data row4 col1\" >0.23</td>\n",
       "                        <td id=\"T_5239bafc_456d_11ea_9fa3_5f387fd5122brow4_col2\" class=\"data row4 col2\" >0.3</td>\n",
       "                        <td id=\"T_5239bafc_456d_11ea_9fa3_5f387fd5122brow4_col3\" class=\"data row4 col3\" >0.58</td>\n",
       "                        <td id=\"T_5239bafc_456d_11ea_9fa3_5f387fd5122brow4_col4\" class=\"data row4 col4\" >0.31</td>\n",
       "                        <td id=\"T_5239bafc_456d_11ea_9fa3_5f387fd5122brow4_col5\" class=\"data row4 col5\" >0.17</td>\n",
       "                        <td id=\"T_5239bafc_456d_11ea_9fa3_5f387fd5122brow4_col6\" class=\"data row4 col6\" >0.23</td>\n",
       "                        <td id=\"T_5239bafc_456d_11ea_9fa3_5f387fd5122brow4_col7\" class=\"data row4 col7\" >0.18</td>\n",
       "                        <td id=\"T_5239bafc_456d_11ea_9fa3_5f387fd5122brow4_col8\" class=\"data row4 col8\" >0.32</td>\n",
       "                        <td id=\"T_5239bafc_456d_11ea_9fa3_5f387fd5122brow4_col9\" class=\"data row4 col9\" >0.12</td>\n",
       "                        <td id=\"T_5239bafc_456d_11ea_9fa3_5f387fd5122brow4_col10\" class=\"data row4 col10\" >0.27</td>\n",
       "            </tr>\n",
       "            <tr>\n",
       "                        <th id=\"T_5239bafc_456d_11ea_9fa3_5f387fd5122blevel0_row5\" class=\"row_heading level0 row5\" >Dc4</th>\n",
       "                        <td id=\"T_5239bafc_456d_11ea_9fa3_5f387fd5122brow5_col0\" class=\"data row5 col0\" >0.08</td>\n",
       "                        <td id=\"T_5239bafc_456d_11ea_9fa3_5f387fd5122brow5_col1\" class=\"data row5 col1\" >0.08</td>\n",
       "                        <td id=\"T_5239bafc_456d_11ea_9fa3_5f387fd5122brow5_col2\" class=\"data row5 col2\" >0.09</td>\n",
       "                        <td id=\"T_5239bafc_456d_11ea_9fa3_5f387fd5122brow5_col3\" class=\"data row5 col3\" >0.11</td>\n",
       "                        <td id=\"T_5239bafc_456d_11ea_9fa3_5f387fd5122brow5_col4\" class=\"data row5 col4\" >0.09</td>\n",
       "                        <td id=\"T_5239bafc_456d_11ea_9fa3_5f387fd5122brow5_col5\" class=\"data row5 col5\" >0.02</td>\n",
       "                        <td id=\"T_5239bafc_456d_11ea_9fa3_5f387fd5122brow5_col6\" class=\"data row5 col6\" >0.06</td>\n",
       "                        <td id=\"T_5239bafc_456d_11ea_9fa3_5f387fd5122brow5_col7\" class=\"data row5 col7\" >0.06</td>\n",
       "                        <td id=\"T_5239bafc_456d_11ea_9fa3_5f387fd5122brow5_col8\" class=\"data row5 col8\" >0.11</td>\n",
       "                        <td id=\"T_5239bafc_456d_11ea_9fa3_5f387fd5122brow5_col9\" class=\"data row5 col9\" >0.05</td>\n",
       "                        <td id=\"T_5239bafc_456d_11ea_9fa3_5f387fd5122brow5_col10\" class=\"data row5 col10\" >0.08</td>\n",
       "            </tr>\n",
       "            <tr>\n",
       "                        <th id=\"T_5239bafc_456d_11ea_9fa3_5f387fd5122blevel0_row6\" class=\"row_heading level0 row6\" >LSc2</th>\n",
       "                        <td id=\"T_5239bafc_456d_11ea_9fa3_5f387fd5122brow6_col0\" class=\"data row6 col0\" >0.37</td>\n",
       "                        <td id=\"T_5239bafc_456d_11ea_9fa3_5f387fd5122brow6_col1\" class=\"data row6 col1\" >0.27</td>\n",
       "                        <td id=\"T_5239bafc_456d_11ea_9fa3_5f387fd5122brow6_col2\" class=\"data row6 col2\" >0.28</td>\n",
       "                        <td id=\"T_5239bafc_456d_11ea_9fa3_5f387fd5122brow6_col3\" class=\"data row6 col3\" >0.36</td>\n",
       "                        <td id=\"T_5239bafc_456d_11ea_9fa3_5f387fd5122brow6_col4\" class=\"data row6 col4\" >0.52</td>\n",
       "                        <td id=\"T_5239bafc_456d_11ea_9fa3_5f387fd5122brow6_col5\" class=\"data row6 col5\" >0.49</td>\n",
       "                        <td id=\"T_5239bafc_456d_11ea_9fa3_5f387fd5122brow6_col6\" class=\"data row6 col6\" >0.38</td>\n",
       "                        <td id=\"T_5239bafc_456d_11ea_9fa3_5f387fd5122brow6_col7\" class=\"data row6 col7\" >0.55</td>\n",
       "                        <td id=\"T_5239bafc_456d_11ea_9fa3_5f387fd5122brow6_col8\" class=\"data row6 col8\" >0.14</td>\n",
       "                        <td id=\"T_5239bafc_456d_11ea_9fa3_5f387fd5122brow6_col9\" class=\"data row6 col9\" >0.24</td>\n",
       "                        <td id=\"T_5239bafc_456d_11ea_9fa3_5f387fd5122brow6_col10\" class=\"data row6 col10\" >0.36</td>\n",
       "            </tr>\n",
       "            <tr>\n",
       "                        <th id=\"T_5239bafc_456d_11ea_9fa3_5f387fd5122blevel0_row7\" class=\"row_heading level0 row7\" >LSc4</th>\n",
       "                        <td id=\"T_5239bafc_456d_11ea_9fa3_5f387fd5122brow7_col0\" class=\"data row7 col0\" >0.02</td>\n",
       "                        <td id=\"T_5239bafc_456d_11ea_9fa3_5f387fd5122brow7_col1\" class=\"data row7 col1\" >0.02</td>\n",
       "                        <td id=\"T_5239bafc_456d_11ea_9fa3_5f387fd5122brow7_col2\" class=\"data row7 col2\" >0.05</td>\n",
       "                        <td id=\"T_5239bafc_456d_11ea_9fa3_5f387fd5122brow7_col3\" class=\"data row7 col3\" >0.05</td>\n",
       "                        <td id=\"T_5239bafc_456d_11ea_9fa3_5f387fd5122brow7_col4\" class=\"data row7 col4\" >0</td>\n",
       "                        <td id=\"T_5239bafc_456d_11ea_9fa3_5f387fd5122brow7_col5\" class=\"data row7 col5\" >0.05</td>\n",
       "                        <td id=\"T_5239bafc_456d_11ea_9fa3_5f387fd5122brow7_col6\" class=\"data row7 col6\" >0.08</td>\n",
       "                        <td id=\"T_5239bafc_456d_11ea_9fa3_5f387fd5122brow7_col7\" class=\"data row7 col7\" >0.08</td>\n",
       "                        <td id=\"T_5239bafc_456d_11ea_9fa3_5f387fd5122brow7_col8\" class=\"data row7 col8\" >0.07</td>\n",
       "                        <td id=\"T_5239bafc_456d_11ea_9fa3_5f387fd5122brow7_col9\" class=\"data row7 col9\" >0.02</td>\n",
       "                        <td id=\"T_5239bafc_456d_11ea_9fa3_5f387fd5122brow7_col10\" class=\"data row7 col10\" >0.04</td>\n",
       "            </tr>\n",
       "            <tr>\n",
       "                        <th id=\"T_5239bafc_456d_11ea_9fa3_5f387fd5122blevel0_row8\" class=\"row_heading level0 row8\" >GBc2</th>\n",
       "                        <td id=\"T_5239bafc_456d_11ea_9fa3_5f387fd5122brow8_col0\" class=\"data row8 col0\" >0.81</td>\n",
       "                        <td id=\"T_5239bafc_456d_11ea_9fa3_5f387fd5122brow8_col1\" class=\"data row8 col1\" >0.71</td>\n",
       "                        <td id=\"T_5239bafc_456d_11ea_9fa3_5f387fd5122brow8_col2\" class=\"data row8 col2\" >0.84</td>\n",
       "                        <td id=\"T_5239bafc_456d_11ea_9fa3_5f387fd5122brow8_col3\" class=\"data row8 col3\" >0.96</td>\n",
       "                        <td id=\"T_5239bafc_456d_11ea_9fa3_5f387fd5122brow8_col4\" class=\"data row8 col4\" >0.83</td>\n",
       "                        <td id=\"T_5239bafc_456d_11ea_9fa3_5f387fd5122brow8_col5\" class=\"data row8 col5\" >1</td>\n",
       "                        <td id=\"T_5239bafc_456d_11ea_9fa3_5f387fd5122brow8_col6\" class=\"data row8 col6\" >0.95</td>\n",
       "                        <td id=\"T_5239bafc_456d_11ea_9fa3_5f387fd5122brow8_col7\" class=\"data row8 col7\" >0.76</td>\n",
       "                        <td id=\"T_5239bafc_456d_11ea_9fa3_5f387fd5122brow8_col8\" class=\"data row8 col8\" >0.89</td>\n",
       "                        <td id=\"T_5239bafc_456d_11ea_9fa3_5f387fd5122brow8_col9\" class=\"data row8 col9\" >1.03</td>\n",
       "                        <td id=\"T_5239bafc_456d_11ea_9fa3_5f387fd5122brow8_col10\" class=\"data row8 col10\" >0.88</td>\n",
       "            </tr>\n",
       "            <tr>\n",
       "                        <th id=\"T_5239bafc_456d_11ea_9fa3_5f387fd5122blevel0_row9\" class=\"row_heading level0 row9\" >Tc2</th>\n",
       "                        <td id=\"T_5239bafc_456d_11ea_9fa3_5f387fd5122brow9_col0\" class=\"data row9 col0\" >0.1</td>\n",
       "                        <td id=\"T_5239bafc_456d_11ea_9fa3_5f387fd5122brow9_col1\" class=\"data row9 col1\" >0.1</td>\n",
       "                        <td id=\"T_5239bafc_456d_11ea_9fa3_5f387fd5122brow9_col2\" class=\"data row9 col2\" >0.06</td>\n",
       "                        <td id=\"T_5239bafc_456d_11ea_9fa3_5f387fd5122brow9_col3\" class=\"data row9 col3\" >0.02</td>\n",
       "                        <td id=\"T_5239bafc_456d_11ea_9fa3_5f387fd5122brow9_col4\" class=\"data row9 col4\" >0.15</td>\n",
       "                        <td id=\"T_5239bafc_456d_11ea_9fa3_5f387fd5122brow9_col5\" class=\"data row9 col5\" >0.07</td>\n",
       "                        <td id=\"T_5239bafc_456d_11ea_9fa3_5f387fd5122brow9_col6\" class=\"data row9 col6\" >0.12</td>\n",
       "                        <td id=\"T_5239bafc_456d_11ea_9fa3_5f387fd5122brow9_col7\" class=\"data row9 col7\" >0.02</td>\n",
       "                        <td id=\"T_5239bafc_456d_11ea_9fa3_5f387fd5122brow9_col8\" class=\"data row9 col8\" >0.04</td>\n",
       "                        <td id=\"T_5239bafc_456d_11ea_9fa3_5f387fd5122brow9_col9\" class=\"data row9 col9\" >0.03</td>\n",
       "                        <td id=\"T_5239bafc_456d_11ea_9fa3_5f387fd5122brow9_col10\" class=\"data row9 col10\" >0.07</td>\n",
       "            </tr>\n",
       "            <tr>\n",
       "                        <th id=\"T_5239bafc_456d_11ea_9fa3_5f387fd5122blevel0_row10\" class=\"row_heading level0 row10\" >Tc4</th>\n",
       "                        <td id=\"T_5239bafc_456d_11ea_9fa3_5f387fd5122brow10_col0\" class=\"data row10 col0\" >0.11</td>\n",
       "                        <td id=\"T_5239bafc_456d_11ea_9fa3_5f387fd5122brow10_col1\" class=\"data row10 col1\" >0.21</td>\n",
       "                        <td id=\"T_5239bafc_456d_11ea_9fa3_5f387fd5122brow10_col2\" class=\"data row10 col2\" >0.3</td>\n",
       "                        <td id=\"T_5239bafc_456d_11ea_9fa3_5f387fd5122brow10_col3\" class=\"data row10 col3\" >0.18</td>\n",
       "                        <td id=\"T_5239bafc_456d_11ea_9fa3_5f387fd5122brow10_col4\" class=\"data row10 col4\" >0.28</td>\n",
       "                        <td id=\"T_5239bafc_456d_11ea_9fa3_5f387fd5122brow10_col5\" class=\"data row10 col5\" >0.07</td>\n",
       "                        <td id=\"T_5239bafc_456d_11ea_9fa3_5f387fd5122brow10_col6\" class=\"data row10 col6\" >0.25</td>\n",
       "                        <td id=\"T_5239bafc_456d_11ea_9fa3_5f387fd5122brow10_col7\" class=\"data row10 col7\" >0.08</td>\n",
       "                        <td id=\"T_5239bafc_456d_11ea_9fa3_5f387fd5122brow10_col8\" class=\"data row10 col8\" >0.21</td>\n",
       "                        <td id=\"T_5239bafc_456d_11ea_9fa3_5f387fd5122brow10_col9\" class=\"data row10 col9\" >0.21</td>\n",
       "                        <td id=\"T_5239bafc_456d_11ea_9fa3_5f387fd5122brow10_col10\" class=\"data row10 col10\" >0.19</td>\n",
       "            </tr>\n",
       "            <tr>\n",
       "                        <th id=\"T_5239bafc_456d_11ea_9fa3_5f387fd5122blevel0_row11\" class=\"row_heading level0 row11\" >Exposure</th>\n",
       "                        <td id=\"T_5239bafc_456d_11ea_9fa3_5f387fd5122brow11_col0\" class=\"data row11 col0\" >0.61</td>\n",
       "                        <td id=\"T_5239bafc_456d_11ea_9fa3_5f387fd5122brow11_col1\" class=\"data row11 col1\" >0.75</td>\n",
       "                        <td id=\"T_5239bafc_456d_11ea_9fa3_5f387fd5122brow11_col2\" class=\"data row11 col2\" >0.79</td>\n",
       "                        <td id=\"T_5239bafc_456d_11ea_9fa3_5f387fd5122brow11_col3\" class=\"data row11 col3\" >0.42</td>\n",
       "                        <td id=\"T_5239bafc_456d_11ea_9fa3_5f387fd5122brow11_col4\" class=\"data row11 col4\" >0.65</td>\n",
       "                        <td id=\"T_5239bafc_456d_11ea_9fa3_5f387fd5122brow11_col5\" class=\"data row11 col5\" >0.88</td>\n",
       "                        <td id=\"T_5239bafc_456d_11ea_9fa3_5f387fd5122brow11_col6\" class=\"data row11 col6\" >0.48</td>\n",
       "                        <td id=\"T_5239bafc_456d_11ea_9fa3_5f387fd5122brow11_col7\" class=\"data row11 col7\" >0.47</td>\n",
       "                        <td id=\"T_5239bafc_456d_11ea_9fa3_5f387fd5122brow11_col8\" class=\"data row11 col8\" >0.25</td>\n",
       "                        <td id=\"T_5239bafc_456d_11ea_9fa3_5f387fd5122brow11_col9\" class=\"data row11 col9\" >0.21</td>\n",
       "                        <td id=\"T_5239bafc_456d_11ea_9fa3_5f387fd5122brow11_col10\" class=\"data row11 col10\" >0.55</td>\n",
       "            </tr>\n",
       "            <tr>\n",
       "                        <th id=\"T_5239bafc_456d_11ea_9fa3_5f387fd5122blevel0_row12\" class=\"row_heading level0 row12\" >Gut</th>\n",
       "                        <td id=\"T_5239bafc_456d_11ea_9fa3_5f387fd5122brow12_col0\" class=\"data row12 col0\" >0.98</td>\n",
       "                        <td id=\"T_5239bafc_456d_11ea_9fa3_5f387fd5122brow12_col1\" class=\"data row12 col1\" >1.1</td>\n",
       "                        <td id=\"T_5239bafc_456d_11ea_9fa3_5f387fd5122brow12_col2\" class=\"data row12 col2\" >0.52</td>\n",
       "                        <td id=\"T_5239bafc_456d_11ea_9fa3_5f387fd5122brow12_col3\" class=\"data row12 col3\" >0.63</td>\n",
       "                        <td id=\"T_5239bafc_456d_11ea_9fa3_5f387fd5122brow12_col4\" class=\"data row12 col4\" >0.63</td>\n",
       "                        <td id=\"T_5239bafc_456d_11ea_9fa3_5f387fd5122brow12_col5\" class=\"data row12 col5\" >0.83</td>\n",
       "                        <td id=\"T_5239bafc_456d_11ea_9fa3_5f387fd5122brow12_col6\" class=\"data row12 col6\" >0.83</td>\n",
       "                        <td id=\"T_5239bafc_456d_11ea_9fa3_5f387fd5122brow12_col7\" class=\"data row12 col7\" >0.76</td>\n",
       "                        <td id=\"T_5239bafc_456d_11ea_9fa3_5f387fd5122brow12_col8\" class=\"data row12 col8\" >1.68</td>\n",
       "                        <td id=\"T_5239bafc_456d_11ea_9fa3_5f387fd5122brow12_col9\" class=\"data row12 col9\" >0.97</td>\n",
       "                        <td id=\"T_5239bafc_456d_11ea_9fa3_5f387fd5122brow12_col10\" class=\"data row12 col10\" >0.89</td>\n",
       "            </tr>\n",
       "            <tr>\n",
       "                        <th id=\"T_5239bafc_456d_11ea_9fa3_5f387fd5122blevel0_row13\" class=\"row_heading level0 row13\" >LegLace</th>\n",
       "                        <td id=\"T_5239bafc_456d_11ea_9fa3_5f387fd5122brow13_col0\" class=\"data row13 col0\" >0.45</td>\n",
       "                        <td id=\"T_5239bafc_456d_11ea_9fa3_5f387fd5122brow13_col1\" class=\"data row13 col1\" >0.73</td>\n",
       "                        <td id=\"T_5239bafc_456d_11ea_9fa3_5f387fd5122brow13_col2\" class=\"data row13 col2\" >0.53</td>\n",
       "                        <td id=\"T_5239bafc_456d_11ea_9fa3_5f387fd5122brow13_col3\" class=\"data row13 col3\" >0.56</td>\n",
       "                        <td id=\"T_5239bafc_456d_11ea_9fa3_5f387fd5122brow13_col4\" class=\"data row13 col4\" >0.69</td>\n",
       "                        <td id=\"T_5239bafc_456d_11ea_9fa3_5f387fd5122brow13_col5\" class=\"data row13 col5\" >0.44</td>\n",
       "                        <td id=\"T_5239bafc_456d_11ea_9fa3_5f387fd5122brow13_col6\" class=\"data row13 col6\" >0.66</td>\n",
       "                        <td id=\"T_5239bafc_456d_11ea_9fa3_5f387fd5122brow13_col7\" class=\"data row13 col7\" >0.41</td>\n",
       "                        <td id=\"T_5239bafc_456d_11ea_9fa3_5f387fd5122brow13_col8\" class=\"data row13 col8\" >0.14</td>\n",
       "                        <td id=\"T_5239bafc_456d_11ea_9fa3_5f387fd5122brow13_col9\" class=\"data row13 col9\" >0.29</td>\n",
       "                        <td id=\"T_5239bafc_456d_11ea_9fa3_5f387fd5122brow13_col10\" class=\"data row13 col10\" >0.49</td>\n",
       "            </tr>\n",
       "            <tr>\n",
       "                        <th id=\"T_5239bafc_456d_11ea_9fa3_5f387fd5122blevel0_row14\" class=\"row_heading level0 row14\" >Turn</th>\n",
       "                        <td id=\"T_5239bafc_456d_11ea_9fa3_5f387fd5122brow14_col0\" class=\"data row14 col0\" >0.16</td>\n",
       "                        <td id=\"T_5239bafc_456d_11ea_9fa3_5f387fd5122brow14_col1\" class=\"data row14 col1\" >0.08</td>\n",
       "                        <td id=\"T_5239bafc_456d_11ea_9fa3_5f387fd5122brow14_col2\" class=\"data row14 col2\" >0.15</td>\n",
       "                        <td id=\"T_5239bafc_456d_11ea_9fa3_5f387fd5122brow14_col3\" class=\"data row14 col3\" >0.1</td>\n",
       "                        <td id=\"T_5239bafc_456d_11ea_9fa3_5f387fd5122brow14_col4\" class=\"data row14 col4\" >0.19</td>\n",
       "                        <td id=\"T_5239bafc_456d_11ea_9fa3_5f387fd5122brow14_col5\" class=\"data row14 col5\" >0.1</td>\n",
       "                        <td id=\"T_5239bafc_456d_11ea_9fa3_5f387fd5122brow14_col6\" class=\"data row14 col6\" >0.17</td>\n",
       "                        <td id=\"T_5239bafc_456d_11ea_9fa3_5f387fd5122brow14_col7\" class=\"data row14 col7\" >0.14</td>\n",
       "                        <td id=\"T_5239bafc_456d_11ea_9fa3_5f387fd5122brow14_col8\" class=\"data row14 col8\" >0.18</td>\n",
       "                        <td id=\"T_5239bafc_456d_11ea_9fa3_5f387fd5122brow14_col9\" class=\"data row14 col9\" >0.09</td>\n",
       "                        <td id=\"T_5239bafc_456d_11ea_9fa3_5f387fd5122brow14_col10\" class=\"data row14 col10\" >0.14</td>\n",
       "            </tr>\n",
       "            <tr>\n",
       "                        <th id=\"T_5239bafc_456d_11ea_9fa3_5f387fd5122blevel0_row15\" class=\"row_heading level0 row15\" >Pushout</th>\n",
       "                        <td id=\"T_5239bafc_456d_11ea_9fa3_5f387fd5122brow15_col0\" class=\"data row15 col0\" >0.35</td>\n",
       "                        <td id=\"T_5239bafc_456d_11ea_9fa3_5f387fd5122brow15_col1\" class=\"data row15 col1\" >0.22</td>\n",
       "                        <td id=\"T_5239bafc_456d_11ea_9fa3_5f387fd5122brow15_col2\" class=\"data row15 col2\" >0.26</td>\n",
       "                        <td id=\"T_5239bafc_456d_11ea_9fa3_5f387fd5122brow15_col3\" class=\"data row15 col3\" >0.36</td>\n",
       "                        <td id=\"T_5239bafc_456d_11ea_9fa3_5f387fd5122brow15_col4\" class=\"data row15 col4\" >0.42</td>\n",
       "                        <td id=\"T_5239bafc_456d_11ea_9fa3_5f387fd5122brow15_col5\" class=\"data row15 col5\" >0.27</td>\n",
       "                        <td id=\"T_5239bafc_456d_11ea_9fa3_5f387fd5122brow15_col6\" class=\"data row15 col6\" >0.42</td>\n",
       "                        <td id=\"T_5239bafc_456d_11ea_9fa3_5f387fd5122brow15_col7\" class=\"data row15 col7\" >0.15</td>\n",
       "                        <td id=\"T_5239bafc_456d_11ea_9fa3_5f387fd5122brow15_col8\" class=\"data row15 col8\" >0.2</td>\n",
       "                        <td id=\"T_5239bafc_456d_11ea_9fa3_5f387fd5122brow15_col9\" class=\"data row15 col9\" >0.43</td>\n",
       "                        <td id=\"T_5239bafc_456d_11ea_9fa3_5f387fd5122brow15_col10\" class=\"data row15 col10\" >0.31</td>\n",
       "            </tr>\n",
       "    </tbody></table>"
      ],
      "text/plain": [
       "<pandas.io.formats.style.Styler at 0x7f8b0c7db590>"
      ]
     },
     "metadata": {},
     "output_type": "display_data"
    }
   ],
   "source": [
    "def apply_points(row):\n",
    "    \"\"\"Multiples by 1, 2, or 4 based on the action to change numeric representation to points from action.\"\"\"\n",
    "    row['Pushout'] *= 1\n",
    "    row['HIc2'] *= 2\n",
    "    row['HOc2'] *= 2\n",
    "    row['Dc2'] *= 2\n",
    "    row['LSc2'] *= 2\n",
    "    row['GBc2'] *= 2\n",
    "    row['Tc2'] *= 2\n",
    "    row['Exposure'] *= 2\n",
    "    row['Gut'] *= 2\n",
    "    row['LegLace'] *= 2\n",
    "    row['Turn'] *= 2\n",
    "    row['HIc4'] *= 2\n",
    "    row['HOc4'] *= 2\n",
    "    row['Dc4'] *= 2\n",
    "    row['LSc4'] *= 2\n",
    "    row['Tc4'] *= 2\n",
    "    return row\n",
    "\n",
    "\n",
    "weight_actions = weight_grouped.mean()[[\n",
    "    'HIc2', 'HIc4', 'HOc2', 'HOc4', 'Dc2', 'Dc4', 'LSc2', 'LSc4', 'GBc2',\n",
    "    'Tc2', 'Tc4', 'Exposure', 'Gut', 'LegLace', 'Turn', 'Pushout']].T.apply(lambda row: apply_points(row))\n",
    "weight_actions['AvgPoints'] = weight_actions.mean(axis=1)\n",
    "display(weight_actions.round(2).style.apply(highlight_min).apply(highlight_max))"
   ]
  },
  {
   "cell_type": "markdown",
   "metadata": {},
   "source": [
    "## Madness Matches\n",
    "This section focuses on matches with abnormal outcomes.  This is sometimes statistically determined (i.e. matches with metric values outside their third standard deviation values, but sometimes can be determined visually using common sense. "
   ]
  },
  {
   "cell_type": "markdown",
   "metadata": {},
   "source": [
    "### Match OEJV (Jesse Vasquez vs Brandon Wright)\n",
    "<a href=\"http://www.veritaswrestlingsystems.com/matchdata/OEJV/\">Link to Match</a>\n",
    "\n",
    "This match went the distance as Vasquez and Wright put up 35 combined points.   \n",
    "A back and forth battle, the MoV never exceeded +/- 4 for either wrestler.  The deciding factor came when Wright took the lead with a go-behind and 4 succesive leg laces with less than a minute to go.  Vasquez managed a takedown and two gut wrenches to come within 1 point but was unable to take the lead in the last 5 seconds."
   ]
  },
  {
   "cell_type": "code",
   "execution_count": 60,
   "metadata": {
    "ExecuteTime": {
     "end_time": "2020-02-02T03:37:22.173216Z",
     "start_time": "2020-02-02T03:37:22.156755Z"
    },
    "scrolled": true
   },
   "outputs": [
    {
     "data": {
      "text/html": [
       "<div>\n",
       "<style scoped>\n",
       "    .dataframe tbody tr th:only-of-type {\n",
       "        vertical-align: middle;\n",
       "    }\n",
       "\n",
       "    .dataframe tbody tr th {\n",
       "        vertical-align: top;\n",
       "    }\n",
       "\n",
       "    .dataframe thead th {\n",
       "        text-align: right;\n",
       "    }\n",
       "</style>\n",
       "<table border=\"1\" class=\"dataframe\">\n",
       "  <thead>\n",
       "    <tr style=\"text-align: right;\">\n",
       "      <th></th>\n",
       "      <th>APM</th>\n",
       "      <th>Drate</th>\n",
       "      <th>Da</th>\n",
       "      <th>Date</th>\n",
       "      <th>Dc2</th>\n",
       "      <th>Dc4</th>\n",
       "      <th>Duration</th>\n",
       "      <th>Exposure</th>\n",
       "      <th>Focus</th>\n",
       "      <th>FocusPoints</th>\n",
       "      <th>...</th>\n",
       "      <th>Tc4</th>\n",
       "      <th>Turn</th>\n",
       "      <th>Violation</th>\n",
       "      <th>VS</th>\n",
       "      <th>Weight</th>\n",
       "      <th>PassiveDiff</th>\n",
       "      <th>NumResult</th>\n",
       "      <th>BinaryResult</th>\n",
       "      <th>BinaryResultText</th>\n",
       "      <th>ResultType</th>\n",
       "    </tr>\n",
       "  </thead>\n",
       "  <tbody>\n",
       "    <tr>\n",
       "      <th>1325</th>\n",
       "      <td>30.0</td>\n",
       "      <td>100.0</td>\n",
       "      <td>1</td>\n",
       "      <td>2019-04-26</td>\n",
       "      <td>1</td>\n",
       "      <td>0</td>\n",
       "      <td>360.45</td>\n",
       "      <td>2</td>\n",
       "      <td>Jesse Vasquez</td>\n",
       "      <td>17</td>\n",
       "      <td>...</td>\n",
       "      <td>0</td>\n",
       "      <td>0</td>\n",
       "      <td>0</td>\n",
       "      <td>45.9</td>\n",
       "      <td>65</td>\n",
       "      <td>0</td>\n",
       "      <td>0.9</td>\n",
       "      <td>0</td>\n",
       "      <td>Loss</td>\n",
       "      <td>Decision</td>\n",
       "    </tr>\n",
       "  </tbody>\n",
       "</table>\n",
       "<p>1 rows × 85 columns</p>\n",
       "</div>"
      ],
      "text/plain": [
       "       APM  Drate  Da        Date  Dc2  Dc4  Duration  Exposure  \\\n",
       "1325  30.0  100.0   1  2019-04-26    1    0    360.45         2   \n",
       "\n",
       "              Focus  FocusPoints  ... Tc4  Turn  Violation    VS  Weight  \\\n",
       "1325  Jesse Vasquez           17  ...   0     0          0  45.9      65   \n",
       "\n",
       "      PassiveDiff  NumResult  BinaryResult  BinaryResultText  ResultType  \n",
       "1325            0        0.9             0              Loss    Decision  \n",
       "\n",
       "[1 rows x 85 columns]"
      ]
     },
     "metadata": {},
     "output_type": "display_data"
    }
   ],
   "source": [
    "display(df[df['Focus'] == 'Jesse Vasquez'])"
   ]
  },
  {
   "cell_type": "markdown",
   "metadata": {},
   "source": [
    "## Veritas Bites\n",
    "This section emphasizes Veritas Score which accounts for the match result, NPF, and APM and puts all of these KPMs plus over 70 other data points from each match to into a formula that outputs a numeric representation of overall match performance. Veritas Score scales based on the degree of victory. "
   ]
  },
  {
   "cell_type": "markdown",
   "metadata": {},
   "source": [
    "### Overall Event \n",
    "\n",
    "The event average a VS of 18.3 with a standard deviation of 14.6.    \n",
    "Most matches fell between 5.5 - 31.1 VS."
   ]
  },
  {
   "cell_type": "code",
   "execution_count": 61,
   "metadata": {
    "ExecuteTime": {
     "end_time": "2020-02-02T03:37:22.298599Z",
     "start_time": "2020-02-02T03:37:22.174328Z"
    },
    "scrolled": false
   },
   "outputs": [
    {
     "data": {
      "text/html": [
       "<div>\n",
       "<style scoped>\n",
       "    .dataframe tbody tr th:only-of-type {\n",
       "        vertical-align: middle;\n",
       "    }\n",
       "\n",
       "    .dataframe tbody tr th {\n",
       "        vertical-align: top;\n",
       "    }\n",
       "\n",
       "    .dataframe thead th {\n",
       "        text-align: right;\n",
       "    }\n",
       "</style>\n",
       "<table border=\"1\" class=\"dataframe\">\n",
       "  <thead>\n",
       "    <tr style=\"text-align: right;\">\n",
       "      <th></th>\n",
       "      <th>count</th>\n",
       "      <th>mean</th>\n",
       "      <th>std</th>\n",
       "      <th>min</th>\n",
       "      <th>25%</th>\n",
       "      <th>50%</th>\n",
       "      <th>75%</th>\n",
       "      <th>max</th>\n",
       "    </tr>\n",
       "  </thead>\n",
       "  <tbody>\n",
       "    <tr>\n",
       "      <th>VS</th>\n",
       "      <td>1133.0</td>\n",
       "      <td>18.42</td>\n",
       "      <td>15.13</td>\n",
       "      <td>-13.0</td>\n",
       "      <td>5.11</td>\n",
       "      <td>16.12</td>\n",
       "      <td>31.98</td>\n",
       "      <td>63.5</td>\n",
       "    </tr>\n",
       "  </tbody>\n",
       "</table>\n",
       "</div>"
      ],
      "text/plain": [
       "     count   mean    std   min   25%    50%    75%   max\n",
       "VS  1133.0  18.42  15.13 -13.0  5.11  16.12  31.98  63.5"
      ]
     },
     "metadata": {},
     "output_type": "display_data"
    },
    {
     "data": {
      "image/png": "[encoded data removed]",
      "text/plain": [
       "<Figure size 432x288 with 1 Axes>"
      ]
     },
     "metadata": {},
     "output_type": "display_data"
    }
   ],
   "source": [
    "display(df['VS'].describe().round(2).to_frame().T)\n",
    "\n",
    "vs = sns.violinplot(x='VS', orient='v', data=df)\n",
    "vs.set_title('Veritas Score Distribution')\n",
    "s.set(xlabel='', ylabel='VS score')\n",
    "sns.despine()"
   ]
  },
  {
   "cell_type": "markdown",
   "metadata": {},
   "source": [
    "### High Value\n",
    "\n",
    "Match X4HH had the highest VS (63.5) in a Jason Ness WinTF over Dom Demas."
   ]
  },
  {
   "cell_type": "code",
   "execution_count": 62,
   "metadata": {
    "ExecuteTime": {
     "end_time": "2020-02-02T03:37:22.315735Z",
     "start_time": "2020-02-02T03:37:22.299784Z"
    },
    "scrolled": false
   },
   "outputs": [
    {
     "data": {
      "text/html": [
       "<div>\n",
       "<style scoped>\n",
       "    .dataframe tbody tr th:only-of-type {\n",
       "        vertical-align: middle;\n",
       "    }\n",
       "\n",
       "    .dataframe tbody tr th {\n",
       "        vertical-align: top;\n",
       "    }\n",
       "\n",
       "    .dataframe thead th {\n",
       "        text-align: right;\n",
       "    }\n",
       "</style>\n",
       "<table border=\"1\" class=\"dataframe\">\n",
       "  <thead>\n",
       "    <tr style=\"text-align: right;\">\n",
       "      <th></th>\n",
       "      <th>APM</th>\n",
       "      <th>Drate</th>\n",
       "      <th>Da</th>\n",
       "      <th>Date</th>\n",
       "      <th>Dc2</th>\n",
       "      <th>Dc4</th>\n",
       "      <th>Duration</th>\n",
       "      <th>Exposure</th>\n",
       "      <th>Focus</th>\n",
       "      <th>FocusPoints</th>\n",
       "      <th>...</th>\n",
       "      <th>Tc4</th>\n",
       "      <th>Turn</th>\n",
       "      <th>Violation</th>\n",
       "      <th>VS</th>\n",
       "      <th>Weight</th>\n",
       "      <th>PassiveDiff</th>\n",
       "      <th>NumResult</th>\n",
       "      <th>BinaryResult</th>\n",
       "      <th>BinaryResultText</th>\n",
       "      <th>ResultType</th>\n",
       "    </tr>\n",
       "  </thead>\n",
       "  <tbody>\n",
       "    <tr>\n",
       "      <th>1431</th>\n",
       "      <td>28.0</td>\n",
       "      <td>0.0</td>\n",
       "      <td>1</td>\n",
       "      <td>2019-04-26</td>\n",
       "      <td>0</td>\n",
       "      <td>0</td>\n",
       "      <td>264.58</td>\n",
       "      <td>0</td>\n",
       "      <td>Jason Ness</td>\n",
       "      <td>15</td>\n",
       "      <td>...</td>\n",
       "      <td>2</td>\n",
       "      <td>0</td>\n",
       "      <td>0</td>\n",
       "      <td>63.5</td>\n",
       "      <td>65</td>\n",
       "      <td>0</td>\n",
       "      <td>1.5</td>\n",
       "      <td>1</td>\n",
       "      <td>Win</td>\n",
       "      <td>Tech</td>\n",
       "    </tr>\n",
       "  </tbody>\n",
       "</table>\n",
       "<p>1 rows × 85 columns</p>\n",
       "</div>"
      ],
      "text/plain": [
       "       APM  Drate  Da        Date  Dc2  Dc4  Duration  Exposure       Focus  \\\n",
       "1431  28.0    0.0   1  2019-04-26    0    0    264.58         0  Jason Ness   \n",
       "\n",
       "      FocusPoints  ... Tc4  Turn  Violation    VS  Weight  PassiveDiff  \\\n",
       "1431           15  ...   2     0          0  63.5      65            0   \n",
       "\n",
       "      NumResult  BinaryResult  BinaryResultText  ResultType  \n",
       "1431        1.5             1               Win        Tech  \n",
       "\n",
       "[1 rows x 85 columns]"
      ]
     },
     "metadata": {},
     "output_type": "display_data"
    }
   ],
   "source": [
    "display(df[df['VS'] == df['VS'].max()])"
   ]
  },
  {
   "cell_type": "markdown",
   "metadata": {},
   "source": [
    "### Low Value \n",
    "\n",
    "Match 9AOY* had the lowest VS (-13) in a LossTF Donald Mcneil fell to Wynn Michalak."
   ]
  },
  {
   "cell_type": "code",
   "execution_count": 63,
   "metadata": {
    "ExecuteTime": {
     "end_time": "2020-02-02T03:37:22.341853Z",
     "start_time": "2020-02-02T03:37:22.317221Z"
    },
    "scrolled": true
   },
   "outputs": [
    {
     "data": {
      "text/html": [
       "<div>\n",
       "<style scoped>\n",
       "    .dataframe tbody tr th:only-of-type {\n",
       "        vertical-align: middle;\n",
       "    }\n",
       "\n",
       "    .dataframe tbody tr th {\n",
       "        vertical-align: top;\n",
       "    }\n",
       "\n",
       "    .dataframe thead th {\n",
       "        text-align: right;\n",
       "    }\n",
       "</style>\n",
       "<table border=\"1\" class=\"dataframe\">\n",
       "  <thead>\n",
       "    <tr style=\"text-align: right;\">\n",
       "      <th></th>\n",
       "      <th>APM</th>\n",
       "      <th>Drate</th>\n",
       "      <th>Da</th>\n",
       "      <th>Date</th>\n",
       "      <th>Dc2</th>\n",
       "      <th>Dc4</th>\n",
       "      <th>Duration</th>\n",
       "      <th>Exposure</th>\n",
       "      <th>Focus</th>\n",
       "      <th>FocusPoints</th>\n",
       "      <th>...</th>\n",
       "      <th>Tc4</th>\n",
       "      <th>Turn</th>\n",
       "      <th>Violation</th>\n",
       "      <th>VS</th>\n",
       "      <th>Weight</th>\n",
       "      <th>PassiveDiff</th>\n",
       "      <th>NumResult</th>\n",
       "      <th>BinaryResult</th>\n",
       "      <th>BinaryResultText</th>\n",
       "      <th>ResultType</th>\n",
       "    </tr>\n",
       "  </thead>\n",
       "  <tbody>\n",
       "    <tr>\n",
       "      <th>634</th>\n",
       "      <td>6.0</td>\n",
       "      <td>0.0</td>\n",
       "      <td>0</td>\n",
       "      <td>2019-04-26</td>\n",
       "      <td>0</td>\n",
       "      <td>0</td>\n",
       "      <td>89.02</td>\n",
       "      <td>0</td>\n",
       "      <td>Donald Mcneil</td>\n",
       "      <td>4</td>\n",
       "      <td>...</td>\n",
       "      <td>0</td>\n",
       "      <td>0</td>\n",
       "      <td>0</td>\n",
       "      <td>-13.0</td>\n",
       "      <td>97</td>\n",
       "      <td>0</td>\n",
       "      <td>0.0</td>\n",
       "      <td>0</td>\n",
       "      <td>Loss</td>\n",
       "      <td>Tech</td>\n",
       "    </tr>\n",
       "  </tbody>\n",
       "</table>\n",
       "<p>1 rows × 85 columns</p>\n",
       "</div>"
      ],
      "text/plain": [
       "     APM  Drate  Da        Date  Dc2  Dc4  Duration  Exposure          Focus  \\\n",
       "634  6.0    0.0   0  2019-04-26    0    0     89.02         0  Donald Mcneil   \n",
       "\n",
       "     FocusPoints  ... Tc4  Turn  Violation    VS  Weight  PassiveDiff  \\\n",
       "634            4  ...   0     0          0 -13.0      97            0   \n",
       "\n",
       "     NumResult  BinaryResult  BinaryResultText  ResultType  \n",
       "634        0.0             0              Loss        Tech  \n",
       "\n",
       "[1 rows x 85 columns]"
      ]
     },
     "metadata": {},
     "output_type": "display_data"
    }
   ],
   "source": [
    "display(df[df['VS'] == df['VS'].min()])"
   ]
  },
  {
   "cell_type": "markdown",
   "metadata": {},
   "source": [
    "<small>Prepared, analyzed, and edited by Nicholas Anthony.</small>"
   ]
  }
 ],
 "metadata": {
  "hide_input": true,
  "kernelspec": {
   "display_name": "Python 3",
   "language": "python",
   "name": "python3"
  },
  "language_info": {
   "codemirror_mode": {
    "name": "ipython",
    "version": 3
   },
   "file_extension": ".py",
   "mimetype": "text/x-python",
   "name": "python",
   "nbconvert_exporter": "python",
   "pygments_lexer": "ipython3",
   "version": "3.7.5"
  },
  "toc": {
   "base_numbering": 1,
   "nav_menu": {},
   "number_sections": false,
   "sideBar": true,
   "skip_h1_title": true,
   "title_cell": "Table of Contents",
   "title_sidebar": "Contents",
   "toc_cell": true,
   "toc_position": {
    "height": "756px",
    "left": "24px",
    "top": "148px",
    "width": "308.719px"
   },
   "toc_section_display": true,
   "toc_window_display": true
  },
  "varInspector": {
   "cols": {
    "lenName": 16,
    "lenType": 16,
    "lenVar": 40
   },
   "kernels_config": {
    "python": {
     "delete_cmd_postfix": "",
     "delete_cmd_prefix": "del ",
     "library": "var_list.py",
     "varRefreshCmd": "print(var_dic_list())"
    },
    "r": {
     "delete_cmd_postfix": ") ",
     "delete_cmd_prefix": "rm(",
     "library": "var_list.r",
     "varRefreshCmd": "cat(var_dic_list()) "
    }
   },
   "types_to_exclude": [
    "module",
    "function",
    "builtin_function_or_method",
    "instance",
    "_Feature"
   ],
   "window_display": false
  }
 },
 "nbformat": 4,
 "nbformat_minor": 2
}
