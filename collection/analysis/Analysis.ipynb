{
 "cells": [
  {
   "cell_type": "code",
   "execution_count": 3,
   "metadata": {},
   "outputs": [],
   "source": [
    "import pandas as pd\n",
    "import numpy as np\n",
    "import matplotlib.pyplot as plt\n",
    "pwd = !pwd"
   ]
  },
  {
   "cell_type": "code",
   "execution_count": 4,
   "metadata": {},
   "outputs": [
    {
     "data": {
      "text/html": [
       "<div>\n",
       "<style scoped>\n",
       "    .dataframe tbody tr th:only-of-type {\n",
       "        vertical-align: middle;\n",
       "    }\n",
       "\n",
       "    .dataframe tbody tr th {\n",
       "        vertical-align: top;\n",
       "    }\n",
       "\n",
       "    .dataframe thead th {\n",
       "        text-align: right;\n",
       "    }\n",
       "</style>\n",
       "<table border=\"1\" class=\"dataframe\">\n",
       "  <thead>\n",
       "    <tr style=\"text-align: right;\">\n",
       "      <th></th>\n",
       "      <th>name</th>\n",
       "      <th>rating</th>\n",
       "      <th>team_id</th>\n",
       "    </tr>\n",
       "  </thead>\n",
       "  <tbody>\n",
       "    <tr>\n",
       "      <th>0</th>\n",
       "      <td>Robert Rehm</td>\n",
       "      <td>968</td>\n",
       "      <td>USA</td>\n",
       "    </tr>\n",
       "    <tr>\n",
       "      <th>1</th>\n",
       "      <td>Paul Glynn</td>\n",
       "      <td>984</td>\n",
       "      <td>USA</td>\n",
       "    </tr>\n",
       "    <tr>\n",
       "      <th>2</th>\n",
       "      <td>Blaize Cabell</td>\n",
       "      <td>959</td>\n",
       "      <td>USA</td>\n",
       "    </tr>\n",
       "    <tr>\n",
       "      <th>3</th>\n",
       "      <td>Ben Whitford</td>\n",
       "      <td>1038</td>\n",
       "      <td>USA</td>\n",
       "    </tr>\n",
       "    <tr>\n",
       "      <th>4</th>\n",
       "      <td>Johnni DiJulius</td>\n",
       "      <td>993</td>\n",
       "      <td>USA</td>\n",
       "    </tr>\n",
       "  </tbody>\n",
       "</table>\n",
       "</div>"
      ],
      "text/plain": [
       "              name  rating team_id\n",
       "0      Robert Rehm     968     USA\n",
       "1       Paul Glynn     984     USA\n",
       "2    Blaize Cabell     959     USA\n",
       "3     Ben Whitford    1038     USA\n",
       "4  Johnni DiJulius     993     USA"
      ]
     },
     "execution_count": 4,
     "metadata": {},
     "output_type": "execute_result"
    }
   ],
   "source": [
    "matches = pd.read_csv(pwd[0][:-8]+'/stats/matchdata.csv')\n",
    "events = pd.read_csv(pwd[0][:-8]+'/stats/events.csv')\n",
    "ts = pd.read_csv(pwd[0][:-8]+'/stats/timeseries.csv')\n",
    "wrestlers = pd.read_csv(pwd[0][:-8]+'/stats/wrestlers.csv')\n",
    "wrestlers.head()"
   ]
  },
  {
   "cell_type": "code",
   "execution_count": 5,
   "metadata": {},
   "outputs": [],
   "source": [
    "# calculates effective wins and assigns row-wise\n",
    "for person in matches.focus_id.unique():\n",
    "    group = matches[matches['focus_id']==person]\n",
    "    ew = group.num_result.mean() * len(group.index)\n",
    "    for i, row in wrestlers.iterrows():\n",
    "        if row['name'] == person:\n",
    "            wrestlers.at[i, 'ew'] = round(ew, 2)"
   ]
  },
  {
   "cell_type": "code",
   "execution_count": 6,
   "metadata": {
    "scrolled": true
   },
   "outputs": [
    {
     "data": {
      "text/html": [
       "<div>\n",
       "<style scoped>\n",
       "    .dataframe tbody tr th:only-of-type {\n",
       "        vertical-align: middle;\n",
       "    }\n",
       "\n",
       "    .dataframe tbody tr th {\n",
       "        vertical-align: top;\n",
       "    }\n",
       "\n",
       "    .dataframe thead th {\n",
       "        text-align: right;\n",
       "    }\n",
       "</style>\n",
       "<table border=\"1\" class=\"dataframe\">\n",
       "  <thead>\n",
       "    <tr style=\"text-align: right;\">\n",
       "      <th></th>\n",
       "      <th>name</th>\n",
       "      <th>rating</th>\n",
       "      <th>team_id</th>\n",
       "      <th>ew</th>\n",
       "    </tr>\n",
       "  </thead>\n",
       "  <tbody>\n",
       "    <tr>\n",
       "      <th>332</th>\n",
       "      <td>Jason Nolf</td>\n",
       "      <td>1130</td>\n",
       "      <td>USA</td>\n",
       "      <td>15.45</td>\n",
       "    </tr>\n",
       "    <tr>\n",
       "      <th>312</th>\n",
       "      <td>Nathan Jackson</td>\n",
       "      <td>1108</td>\n",
       "      <td>USA</td>\n",
       "      <td>14.75</td>\n",
       "    </tr>\n",
       "    <tr>\n",
       "      <th>109</th>\n",
       "      <td>Tyler Graff</td>\n",
       "      <td>1160</td>\n",
       "      <td>USA</td>\n",
       "      <td>14.65</td>\n",
       "    </tr>\n",
       "    <tr>\n",
       "      <th>98</th>\n",
       "      <td>Garrett Ryan</td>\n",
       "      <td>1105</td>\n",
       "      <td>USA</td>\n",
       "      <td>14.50</td>\n",
       "    </tr>\n",
       "    <tr>\n",
       "      <th>213</th>\n",
       "      <td>Jaydin Eierman</td>\n",
       "      <td>1105</td>\n",
       "      <td>USA</td>\n",
       "      <td>14.05</td>\n",
       "    </tr>\n",
       "  </tbody>\n",
       "</table>\n",
       "</div>"
      ],
      "text/plain": [
       "               name  rating team_id     ew\n",
       "332      Jason Nolf    1130     USA  15.45\n",
       "312  Nathan Jackson    1108     USA  14.75\n",
       "109     Tyler Graff    1160     USA  14.65\n",
       "98     Garrett Ryan    1105     USA  14.50\n",
       "213  Jaydin Eierman    1105     USA  14.05"
      ]
     },
     "execution_count": 6,
     "metadata": {},
     "output_type": "execute_result"
    }
   ],
   "source": [
    "wrestlers.sort_values('ew', ascending=False).head()"
   ]
  },
  {
   "cell_type": "markdown",
   "metadata": {},
   "source": [
    "# Start here"
   ]
  },
  {
   "cell_type": "code",
   "execution_count": 185,
   "metadata": {},
   "outputs": [
    {
     "name": "stdout",
     "output_type": "stream",
     "text": [
      "Be sure to follow spelling as seen on the official site.\n",
      "Enter wrestler: Zain Retherford\n"
     ]
    }
   ],
   "source": [
    "# sample for a singluar athlete report page\n",
    "print('Be sure to follow spelling as seen on the official site.')\n",
    "athlete = input('Enter wrestler: ')\n",
    "fm = matches[matches.focus_id==athlete]"
   ]
  },
  {
   "cell_type": "code",
   "execution_count": 186,
   "metadata": {},
   "outputs": [
    {
     "data": {
      "image/png": "[encoded data removed]",
      "text/plain": [
       "<Figure size 432x288 with 1 Axes>"
      ]
     },
     "metadata": {
      "needs_background": "light"
     },
     "output_type": "display_data"
    }
   ],
   "source": [
    "# results graph\n",
    "pin_count = len(fm[fm.result=='WinF'])\n",
    "tech_count = len(fm[fm.result=='WinTF'])\n",
    "decision_count = len(fm[fm.result=='WinD'])\n",
    "loss_decision_count = len(fm[fm.result=='LossD'])\n",
    "loss_tech_count = len(fm[fm.result=='LossTF'])\n",
    "loss_pin_count = len(fm[fm.result=='LossF'])\n",
    "\n",
    "focus_results = (pin_count, tech_count, decision_count)\n",
    "opp_results = (loss_decision_count, loss_tech_count, loss_pin_count)\n",
    "\n",
    "ind = np.arange(len(focus_results))\n",
    "width = 0.30\n",
    "\n",
    "fig, ax = plt.subplots()\n",
    "p1 = ax.bar(ind - width/2, focus_results, width, color='blue')\n",
    "p2 = ax.bar(ind + width/2, opp_results, width, color='red')\n",
    "ax.set_xticks(ind)\n",
    "ax.set_xticklabels(('Decision', 'Tech', 'Fall'))\n",
    "plt.show()"
   ]
  },
  {
   "cell_type": "code",
   "execution_count": 191,
   "metadata": {},
   "outputs": [
    {
     "data": {
      "image/png": "[encoded data removed]",
      "text/plain": [
       "<Figure size 432x288 with 1 Axes>"
      ]
     },
     "metadata": {
      "needs_background": "light"
     },
     "output_type": "display_data"
    }
   ],
   "source": [
    "# npf time graph\n",
    "# use this graph with the results graph\n",
    "# add results line for comparison?\n",
    "plt.plot(list(range(1,len(fm)+1)), fm.num_result)\n",
    "plt.plot(list(range(1,len(fm)+1)), fm.npf)\n",
    "plt.xticks(range(1, len(fm)+1), [str(i) for i in range(1, len(fm)+1)])\n",
    "plt.yticks(np.arange(0,2.25,step=0.25))\n",
    "plt.show()"
   ]
  },
  {
   "cell_type": "code",
   "execution_count": 184,
   "metadata": {},
   "outputs": [
    {
     "data": {
      "image/png": "[encoded data removed]",
      "text/plain": [
       "<Figure size 432x432 with 3 Axes>"
      ]
     },
     "metadata": {
      "needs_background": "light"
     },
     "output_type": "display_data"
    }
   ],
   "source": [
    "# shot chart\n",
    "labels = ['Head Inside', 'Head Outside', 'Double', 'Lowshot', 'Counter', 'Throw']\n",
    "colors = ['plum', 'lightgreen', 'lightcyan', 'lightsalmon', 'mistyrose', 'wheat']\n",
    "rates = [fm.hi_rate.mean(), fm.ho_rate.mean(), fm.d_rate.mean(), fm.ls_rate.mean(), fm.gb_rate.mean(), fm.t_rate.mean()]\n",
    "opp_rates = [fm.opp_hi_rate.mean(), fm.opp_ho_rate.mean(), fm.opp_d_rate.mean(), fm.opp_ls_rate.mean(), fm.gb_rate.mean(), fm.opp_t_rate.mean()]\n",
    "explode = (0.2, 0.2, 0.2, 0.2, 0.2, 0.2)  # only \"explode\" the 2nd slice \n",
    "\n",
    "# Make figure and axes\n",
    "fig, axs = plt.subplots(1, 3)\n",
    "\n",
    "# A standard pie plot\n",
    "axs[0].pie(rates, labels=labels, autopct='%1.1f%%', explode=explode, shadow=True, startangle=45,\n",
    "          pctdistance=1.5, labeldistance=2.0, colors=colors)\n",
    "axs[0].set_title('Focus Rates', y=1.5)\n",
    "axs[1].axis('off')\n",
    "axs[2].pie(rates, labels=labels, autopct='%1.1f%%', explode=explode, shadow=True, startangle=45,\n",
    "          pctdistance=1.5, labeldistance=2.0, colors=colors)\n",
    "axs[2].set_title('Opponent Rates', y=1.5)\n",
    "axs[2].legend(axs,labels=labels,\n",
    "          title=\"Shot Effeciency Chart\",\n",
    "          loc='upper center',bbox_to_anchor=(2.5, 1.25), ncol=1)\n",
    "fig = plt.gcf()\n",
    "fig.set_size_inches(6,6)\n",
    "plt.show()"
   ]
  },
  {
   "cell_type": "code",
   "execution_count": 30,
   "metadata": {},
   "outputs": [
    {
     "data": {
      "text/plain": [
       "Index(['apm', 'd_rate', 'da', 'date', 'dc2', 'dc4', 'duration', 'exposure',\n",
       "       'focus_id', 'focus_score', 'focus_team_id', 'gb_rate', 'gba', 'gbc2',\n",
       "       'gut', 'hi_rate', 'hia', 'hic2', 'hic4', 'ho_rate', 'hoa', 'hoc2',\n",
       "       'hoc4', 'leg_lace', 'ls_rate', 'lsa', 'lsc2', 'lsc4', 'matchID', 'mov',\n",
       "       'npf', 'opp_apm', 'opp_d_rate', 'opp_da', 'opp_dc2', 'opp_dc4',\n",
       "       'opp_exposure', 'opp_gb_rate', 'opp_gba', 'opp_gbc2', 'opp_gbc4',\n",
       "       'opp_gut', 'opp_hi_rate', 'opp_hia', 'opp_hic2', 'opp_hic4',\n",
       "       'opp_ho_rate', 'opp_hoa', 'opp_hoc2', 'opp_hoc4', 'opp_leg_lace',\n",
       "       'opp_ls_rate', 'opp_lsa', 'opp_lsc2', 'opp_lsc4', 'opp_npf',\n",
       "       'opp_passive', 'opp_pushout', 'opp_recovery', 'opp_score', 'opp_t_rate',\n",
       "       'opp_ta', 'opp_tc2', 'opp_tc4', 'opp_team_id', 'opp_turn',\n",
       "       'opp_violation', 'opp_vs', 'opponent_id', 'passive', 'pushout',\n",
       "       'recovery', 'result', 't_rate', 'ta', 'tc2', 'tc4', 'turn', 'violation',\n",
       "       'vs', 'weight', 'passive_dif', 'num_result'],\n",
       "      dtype='object')"
      ]
     },
     "execution_count": 30,
     "metadata": {},
     "output_type": "execute_result"
    }
   ],
   "source": [
    "fm.columns"
   ]
  },
  {
   "cell_type": "code",
   "execution_count": 62,
   "metadata": {},
   "outputs": [
    {
     "data": {
      "text/plain": [
       "11.11111111111111"
      ]
     },
     "execution_count": 62,
     "metadata": {},
     "output_type": "execute_result"
    }
   ],
   "source": []
  },
  {
   "cell_type": "code",
   "execution_count": null,
   "metadata": {},
   "outputs": [],
   "source": []
  }
 ],
 "metadata": {
  "kernelspec": {
   "display_name": "Python 3",
   "language": "python",
   "name": "python3"
  },
  "language_info": {
   "codemirror_mode": {
    "name": "ipython",
    "version": 3
   },
   "file_extension": ".py",
   "mimetype": "text/x-python",
   "name": "python",
   "nbconvert_exporter": "python",
   "pygments_lexer": "ipython3",
   "version": "3.5.3"
  }
 },
 "nbformat": 4,
 "nbformat_minor": 2
}
